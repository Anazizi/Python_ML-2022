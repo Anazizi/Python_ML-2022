{
 "cells": [
  {
   "cell_type": "markdown",
   "id": "913f51b2-bcea-4c4f-9328-b492bcd4be21",
   "metadata": {},
   "source": [
    "## Classical NLP - With NLTK/SpaCy"
   ]
  },
  {
   "cell_type": "markdown",
   "id": "9bd965e3-e4eb-4cac-91eb-f001d47f6e23",
   "metadata": {},
   "source": [
    "Natural Language Processing, or NLP for short, is broadly defined as the automatic manipulation of natural language, like speech and text, by software.\n",
    "The study of natural language processing has been around for more than 50 years and grew out of the field of linguistics with the rise of computers. \n",
    "\n",
    "As machine learning practitioners interested in working with text data, we are concerned with the tools and methods from the field of Natural Language Processing.\n",
    "\n"
   ]
  },
  {
   "cell_type": "markdown",
   "id": "86090393-0fad-43a1-ba35-6d6e8394d280",
   "metadata": {},
   "source": [
    "Text is an extremely rich source of information. Each minute, people send hundreds of millions of new emails and text messages. There’s a veritable mountain of text data waiting to be mined for insights. But data scientists who want to glean meaning from all of that text data face a challenge: it is difficult to analyze and process because it exists in **unstructured form**."
   ]
  },
  {
   "cell_type": "markdown",
   "id": "f6c290ae-e974-462f-a0c9-284615fa2531",
   "metadata": {},
   "source": [
    "In this tutorial, we’ll take a look at how we can transform all of that unstructured text data into something more useful for analysis and natural language processing, using the helpful Python package spaCy [(documentation)](https://spacy.io/), NLTK [(docs)](https://www.nltk.org/) and scikit learn.\n",
    "\n",
    "Once we’ve done this, we’ll be able to derive meaningful patterns and themes from text data. This is useful in a wide variety of data science applications: \n",
    "* spam filtering\n",
    "* support tickets\n",
    "* social media analysis\n",
    "* contextual advertising\n",
    "* reviewing customer feedback\n",
    "* and more."
   ]
  },
  {
   "cell_type": "markdown",
   "id": "c0a2db28-fff9-4f34-bfba-245bfaecd615",
   "metadata": {},
   "source": [
    "### Text tokenization"
   ]
  },
  {
   "cell_type": "markdown",
   "id": "c4f4e1e3-c5bb-4ceb-a6ec-2ae3086d41cd",
   "metadata": {},
   "source": [
    "Tokenization is the process of breaking text into pieces, called tokens, and ignoring characters like punctuation marks (,. “ ‘) and spaces. spaCy‘s tokenizer takes input in form of unicode text and outputs a sequence of token objects:"
   ]
  },
  {
   "cell_type": "code",
   "execution_count": 1,
   "id": "ccdc3d25-e9d6-4cf2-bcc5-3e65c3153f4c",
   "metadata": {},
   "outputs": [
    {
     "data": {
      "text/plain": [
       "['When',\n",
       " 'learning',\n",
       " 'data',\n",
       " 'science',\n",
       " ',',\n",
       " 'you',\n",
       " 'should',\n",
       " \"n't\",\n",
       " 'get',\n",
       " 'discouraged',\n",
       " '!',\n",
       " 'Challenges',\n",
       " 'and',\n",
       " 'setbacks',\n",
       " 'are',\n",
       " \"n't\",\n",
       " 'failures',\n",
       " ',',\n",
       " 'they',\n",
       " \"'re\",\n",
       " 'just',\n",
       " 'part',\n",
       " 'of',\n",
       " 'the',\n",
       " 'journey',\n",
       " '.',\n",
       " 'You',\n",
       " \"'ve\",\n",
       " 'got',\n",
       " 'this',\n",
       " '!']"
      ]
     },
     "execution_count": 1,
     "metadata": {},
     "output_type": "execute_result"
    }
   ],
   "source": [
    "import nltk\n",
    "\n",
    "text = \"\"\"When learning data science, you shouldn't get discouraged!\n",
    "Challenges and setbacks aren't failures, they're just part of the journey. You've got this!\"\"\"\n",
    "\n",
    "text_tokens = nltk.word_tokenize(text)\n",
    "text_tokens"
   ]
  },
  {
   "cell_type": "markdown",
   "id": "07152a14-0ac7-408a-bcf0-627409fe205a",
   "metadata": {},
   "source": [
    "### Cleaning Text Data: Removing Stopwords\n"
   ]
  },
  {
   "cell_type": "markdown",
   "id": "0794cf6a-9988-44c3-b8ea-25b15b08ae3d",
   "metadata": {},
   "source": [
    "Most text data that we work with is going to contain a lot of words that aren’t actually useful to us. These words, called stopwords, are useful in human speech, but they don’t have much to contribute to data analysis. Removing stopwords helps us eliminate noise and distraction from our text data, and also speeds up the time analysis takes (since there are fewer words to process).\n",
    "\n",
    "Let’s take a look at the stopwords spaCy includes by default:"
   ]
  },
  {
   "cell_type": "code",
   "execution_count": 2,
   "id": "bfcbdb54-c1c9-4d9b-b7f5-6795503658f0",
   "metadata": {},
   "outputs": [
    {
     "data": {
      "text/plain": [
       "['i', 'me', 'my', 'myself', 'we']"
      ]
     },
     "execution_count": 2,
     "metadata": {},
     "output_type": "execute_result"
    }
   ],
   "source": [
    "stopwords=nltk.corpus.stopwords.words(\"english\") + nltk.corpus.stopwords.words(\"italian\") + nltk.corpus.stopwords.words(\"spanish\")\n",
    "stopwords[:5]"
   ]
  },
  {
   "cell_type": "markdown",
   "id": "1bf6983d-44c7-4f6b-ab2a-e38969201714",
   "metadata": {},
   "source": [
    "**Removing Stopwords:**"
   ]
  },
  {
   "cell_type": "code",
   "execution_count": 3,
   "id": "bdba88a6-ace7-4d4c-9989-4919836290b9",
   "metadata": {},
   "outputs": [
    {
     "data": {
      "text/plain": [
       "['you', 'should', 'and', 'are', 'they', 'just', 'of', 'the', 'this']"
      ]
     },
     "execution_count": 3,
     "metadata": {},
     "output_type": "execute_result"
    }
   ],
   "source": [
    "[t for t in text_tokens if t in stopwords]"
   ]
  },
  {
   "cell_type": "markdown",
   "id": "292c850a-6e75-4fc0-b781-38801f9e645c",
   "metadata": {},
   "source": [
    "### Lexicon Normalization"
   ]
  },
  {
   "cell_type": "markdown",
   "id": "13592f80-dc28-4536-9e9a-3875d8dcb943",
   "metadata": {},
   "source": [
    "In NLP, a lexicon is the set of words composing all known words. We will usually keep it as small as possible, but this changes depending on the problam we are trying to solve. One of the methods to keep a lexicon small is to normalize it using stemming/lemmatization, both ways of processing words that reduces them to their roots."
   ]
  },
  {
   "cell_type": "markdown",
   "id": "7e9d2982-ca72-434a-a936-bb9a593f9f96",
   "metadata": {},
   "source": [
    "while words like connect, connection, connecting, connected, etc. aren’t exactly the same, they all have the same essential meaning: connect. The differences in spelling have grammatical functions in spoken language, but for machine processing, those differences can be confusing, so we need a way to change all the words that are forms of the word connect into the word connect itself."
   ]
  },
  {
   "cell_type": "code",
   "execution_count": 4,
   "id": "e4809c21-345c-4bba-ba97-2af9e949708c",
   "metadata": {},
   "outputs": [],
   "source": [
    "from nltk.stem import PorterStemmer\n",
    "from nltk.tokenize import word_tokenize"
   ]
  },
  {
   "cell_type": "code",
   "execution_count": 5,
   "id": "06c2a1b7-7732-4c49-a8c5-99b184c7191f",
   "metadata": {},
   "outputs": [
    {
     "name": "stdout",
     "output_type": "stream",
     "text": [
      "program  :  program\n",
      "programs  :  program\n",
      "programmer  :  programm\n",
      "programming  :  program\n",
      "programmers  :  programm\n"
     ]
    }
   ],
   "source": [
    "ps = PorterStemmer()\n",
    "words = [\"program\", \"programs\", \"programmer\", \"programming\", \"programmers\"]\n",
    " \n",
    "for w in words:\n",
    "    print(w, \" : \", ps.stem(w))"
   ]
  },
  {
   "cell_type": "markdown",
   "id": "71b3dc0e-12c3-4fc9-8fd5-b6b848fb9202",
   "metadata": {},
   "source": [
    "### Part of Speech (POS) Tagging"
   ]
  },
  {
   "cell_type": "markdown",
   "id": "61bd99b8-8cde-4dfd-8651-6a63a5975664",
   "metadata": {},
   "source": [
    "A word’s part of speech defines its function within a sentence. A noun, for example, identifies an object. An adjective describes an object. A verb describes action. Identifying and tagging each word’s part of speech in the context of a sentence is called Part-of-Speech Tagging, or POS Tagging."
   ]
  },
  {
   "cell_type": "code",
   "execution_count": 6,
   "id": "f2fa6eb0-0c68-4d29-9db9-44f78fb210fa",
   "metadata": {},
   "outputs": [
    {
     "name": "stderr",
     "output_type": "stream",
     "text": [
      "[nltk_data] Downloading package averaged_perceptron_tagger to\n",
      "[nltk_data]     /Users/idodavid/nltk_data...\n",
      "[nltk_data]   Package averaged_perceptron_tagger is already up-to-\n",
      "[nltk_data]       date!\n"
     ]
    },
    {
     "data": {
      "text/plain": [
       "True"
      ]
     },
     "execution_count": 6,
     "metadata": {},
     "output_type": "execute_result"
    }
   ],
   "source": [
    "nltk.download('averaged_perceptron_tagger')"
   ]
  },
  {
   "cell_type": "code",
   "execution_count": 7,
   "id": "c939b952-ee2b-4d3f-97cb-05843c948309",
   "metadata": {},
   "outputs": [],
   "source": [
    "from nltk import pos_tag"
   ]
  },
  {
   "cell_type": "code",
   "execution_count": 8,
   "id": "4659bafc-5ba0-48bb-8e5d-b3bbfdfdce7d",
   "metadata": {},
   "outputs": [
    {
     "name": "stdout",
     "output_type": "stream",
     "text": [
      "learn ('learn', 'NN')\n",
      "about ('about', 'IN')\n",
      "natural ('natural', 'JJ')\n",
      "language ('language', 'NN')\n",
      "processing ('processing', 'NN')\n",
      "is ('is', 'VBZ')\n",
      "easy ('easy', 'JJ')\n",
      "and ('and', 'CC')\n",
      "fun ('fun', 'NN')\n"
     ]
    }
   ],
   "source": [
    "text =\"learn about natural language processing is easy and fun\"\n",
    "tokens =  nltk.word_tokenize(text)\n",
    "tokens_tag = pos_tag(tokens)\n",
    "for token, token_tag in zip(tokens, tokens_tag):\n",
    "    print(token, token_tag)"
   ]
  },
  {
   "cell_type": "markdown",
   "id": "df86a9ab-af93-4196-b9ac-d86c8bc30971",
   "metadata": {},
   "source": [
    "### More NLP tools"
   ]
  },
  {
   "cell_type": "markdown",
   "id": "a77ad1f5-8273-4a14-8fd9-71006de129d3",
   "metadata": {},
   "source": [
    "* Entity Detection - Entity detection, also called entity recognition, is a more advanced form of language processing that identifies important elements like places, people, organizations, and languages within an input string of text. This is really helpful for quickly extracting information from text, since you can quickly pick out important topics or indentify key sections of text.\n",
    "* Dependency Parsing - Depenency parsing is a language processing technique that allows us to better determine the meaning of a sentence by analyzing how it’s constructed to determine how the individual words relate to each other:\n",
    "![alt](https://www.dataquest.io/wp-content/uploads/2019/04/text-expressions-python-chart-1.png)\n",
    "* Word Vector Representation - A word vector is a numeric representation of a word that commuicates its relationship to other words, Also known as embedding vector"
   ]
  },
  {
   "cell_type": "markdown",
   "id": "f7166f51-6890-487e-8598-79afc9e2d399",
   "metadata": {},
   "source": [
    "## The Bag of words model"
   ]
  },
  {
   "cell_type": "markdown",
   "id": "630d8e90-fc24-4238-9762-bd940af13cf2",
   "metadata": {},
   "source": [
    "The Bag of Words (BoW) model is the simplest form of text representation in numbers. Like the term itself, we can represent a sentence as a bag of words vector (a string of numbers).\n",
    "\n",
    "Let’s recall the three types of movie reviews we saw earlier:\n",
    "\n",
    "* Review 1: This movie is very scary and long\n",
    "* Review 2: This movie is not scary and is slow\n",
    "* Review 3: This movie is spooky and good\n",
    "\n",
    "We will first build a vocabulary from all the unique words in the above three reviews. The vocabulary consists of these 11 words: ‘This’, ‘movie’, ‘is’, ‘very’, ‘scary’, ‘and’, ‘long’, ‘not’,  ‘slow’, ‘spooky’,  ‘good’.\n",
    "\n",
    "We can now take each of these words and mark their occurrence in the three movie reviews above with 1s and 0s. This will give us 3 vectors for 3 reviews:\n",
    "\n"
   ]
  },
  {
   "cell_type": "markdown",
   "id": "f12a99d9-1d6e-4b72-85e4-207a5e637362",
   "metadata": {},
   "source": [
    "![alt](https://cdn.analyticsvidhya.com/wp-content/uploads/2020/02/BoWBag-of-Words-model-2.png)"
   ]
  },
  {
   "cell_type": "markdown",
   "id": "8df28236-a96b-4d37-90a9-57277255373f",
   "metadata": {},
   "source": [
    "Drawbacks of using a Bag-of-Words (BoW) Model:\n",
    "    \n",
    "In the above example, we can have vectors of length 11. However, we start facing issues when we come across new sentences:\n",
    "\n",
    "* Out of Vocabulary words (OOV) - If the new sentences contain new words, then our vocabulary size would increase and thereby, the length of the vectors would increase too.\n",
    "* Sparsity - the vectors contain many 0s, thereby resulting in a sparse matrix \n",
    "* We are retaining no information on the grammar of the sentences nor on the ordering of the words in the text"
   ]
  },
  {
   "cell_type": "markdown",
   "id": "8c93f03a-4ba0-4d27-b053-d3bf6d534796",
   "metadata": {},
   "source": [
    "## Term Frequency and Inverse Document Frequency (TF-IDF)\n"
   ]
  },
  {
   "cell_type": "markdown",
   "id": "bd2b641d-dbe6-4786-bb01-0e1abcda8e59",
   "metadata": {},
   "source": [
    "Term frequency–inverse document frequency, is a numerical statistic that is intended to reflect how important a word is to a document in a collection or corpus.\n",
    "* Term frequency - The number of times a word appeared in the text\n",
    "* Inverse document frequency - A measure of how unique is a given word "
   ]
  },
  {
   "cell_type": "markdown",
   "id": "5f49b42f-2db1-4672-af10-248e2226f280",
   "metadata": {},
   "source": [
    "### Term Frequency (TF)"
   ]
  },
  {
   "cell_type": "markdown",
   "id": "a64de1eb-66c8-48c6-8d63-f1f0ccb1b101",
   "metadata": {},
   "source": [
    "The number of times the token “t” appears in the document “d”:"
   ]
  },
  {
   "cell_type": "markdown",
   "id": "e75a8fcd-f60a-4bb2-b069-b30ab72477d5",
   "metadata": {},
   "source": [
    "![alt](https://cdn.analyticsvidhya.com/wp-content/uploads/2020/02/tf.jpg)"
   ]
  },
  {
   "cell_type": "markdown",
   "id": "d3a0f684-899b-460c-9d35-3456849372a9",
   "metadata": {},
   "source": [
    "![alt](https://cdn.analyticsvidhya.com/wp-content/uploads/2020/02/TF-matrix-1.png)"
   ]
  },
  {
   "cell_type": "markdown",
   "id": "82a87327-ad39-4ce6-8907-4510f622f343",
   "metadata": {},
   "source": [
    "### Inverse Document Frequency (IDF)\n"
   ]
  },
  {
   "cell_type": "markdown",
   "id": "955448df-1915-44b4-855a-eb229d36d761",
   "metadata": {},
   "source": [
    "IDF is a measure of how important a term is. We need the IDF value because computing just the TF alone is not sufficient to understand the importance of words:"
   ]
  },
  {
   "cell_type": "markdown",
   "id": "c64d58ec-43fe-491c-a811-bc7ea573dff3",
   "metadata": {},
   "source": [
    "![alt](https://cdn.analyticsvidhya.com/wp-content/uploads/2020/02/idf.jpg)"
   ]
  },
  {
   "cell_type": "markdown",
   "id": "78e5f689-b793-459e-a371-28d5d25755ed",
   "metadata": {},
   "source": [
    "![alt](https://cdn.analyticsvidhya.com/wp-content/uploads/2020/02/IDF-matrix.png)"
   ]
  },
  {
   "cell_type": "markdown",
   "id": "abba309e-529f-4151-beb8-6b42ea0ff4ad",
   "metadata": {},
   "source": [
    "# Text classification"
   ]
  },
  {
   "cell_type": "code",
   "execution_count": 9,
   "id": "a591f6ee-ca7b-491f-a3aa-fc9130c67e97",
   "metadata": {},
   "outputs": [],
   "source": [
    "import pandas as pd"
   ]
  },
  {
   "cell_type": "code",
   "execution_count": 10,
   "id": "e85cf184-9e95-4c85-afc5-fda54409b7d1",
   "metadata": {},
   "outputs": [],
   "source": [
    "bad = pd.read_csv('data/bad_tweets.txt', names = ['id','tweet'], sep='\\t')\n",
    "good = pd.read_csv('data/good_tweets.txt', names = ['id','tweet'], sep='\\t')"
   ]
  },
  {
   "cell_type": "code",
   "execution_count": 11,
   "id": "b776f422-0dbc-4be5-a281-945794b4d0a4",
   "metadata": {},
   "outputs": [
    {
     "data": {
      "text/plain": [
       "((3490, 2), (3522, 2))"
      ]
     },
     "execution_count": 11,
     "metadata": {},
     "output_type": "execute_result"
    }
   ],
   "source": [
    "bad.shape, good.shape"
   ]
  },
  {
   "cell_type": "code",
   "execution_count": 12,
   "id": "b2d7d977-b192-4d91-b039-2b7a6930641b",
   "metadata": {},
   "outputs": [
    {
     "data": {
      "text/html": [
       "<div>\n",
       "<style scoped>\n",
       "    .dataframe tbody tr th:only-of-type {\n",
       "        vertical-align: middle;\n",
       "    }\n",
       "\n",
       "    .dataframe tbody tr th {\n",
       "        vertical-align: top;\n",
       "    }\n",
       "\n",
       "    .dataframe thead th {\n",
       "        text-align: right;\n",
       "    }\n",
       "</style>\n",
       "<table border=\"1\" class=\"dataframe\">\n",
       "  <thead>\n",
       "    <tr style=\"text-align: right;\">\n",
       "      <th></th>\n",
       "      <th>id</th>\n",
       "      <th>tweet</th>\n",
       "    </tr>\n",
       "  </thead>\n",
       "  <tbody>\n",
       "    <tr>\n",
       "      <th>0</th>\n",
       "      <td>100068216876965888</td>\n",
       "      <td>Social Media - Impact of Social Media on Small...</td>\n",
       "    </tr>\n",
       "    <tr>\n",
       "      <th>1</th>\n",
       "      <td>100523164500631552</td>\n",
       "      <td>Local Business Blogging - What to Blog About h...</td>\n",
       "    </tr>\n",
       "    <tr>\n",
       "      <th>2</th>\n",
       "      <td>100991945391878144</td>\n",
       "      <td>13 Hot Facebook Marketing Tips From the Top Pr...</td>\n",
       "    </tr>\n",
       "    <tr>\n",
       "      <th>3</th>\n",
       "      <td>101021386058903553</td>\n",
       "      <td>Short of blog ideas? \"Local Business Blogging ...</td>\n",
       "    </tr>\n",
       "    <tr>\n",
       "      <th>4</th>\n",
       "      <td>101417008050094080</td>\n",
       "      <td>Eleven Books That Will Rock Your World http://...</td>\n",
       "    </tr>\n",
       "  </tbody>\n",
       "</table>\n",
       "</div>"
      ],
      "text/plain": [
       "                   id                                              tweet\n",
       "0  100068216876965888  Social Media - Impact of Social Media on Small...\n",
       "1  100523164500631552  Local Business Blogging - What to Blog About h...\n",
       "2  100991945391878144  13 Hot Facebook Marketing Tips From the Top Pr...\n",
       "3  101021386058903553  Short of blog ideas? \"Local Business Blogging ...\n",
       "4  101417008050094080  Eleven Books That Will Rock Your World http://..."
      ]
     },
     "execution_count": 12,
     "metadata": {},
     "output_type": "execute_result"
    }
   ],
   "source": [
    "bad.head()"
   ]
  },
  {
   "cell_type": "markdown",
   "id": "f80f7b0e-0ffe-407c-8b5a-e3534b109f7c",
   "metadata": {},
   "source": [
    "## Data exploration"
   ]
  },
  {
   "cell_type": "code",
   "execution_count": 13,
   "id": "fb34ac39-c218-4f1a-baa3-49170faccc7d",
   "metadata": {},
   "outputs": [
    {
     "data": {
      "text/html": [
       "        <script type=\"text/javascript\">\n",
       "        window.PlotlyConfig = {MathJaxConfig: 'local'};\n",
       "        if (window.MathJax) {MathJax.Hub.Config({SVG: {font: \"STIX-Web\"}});}\n",
       "        if (typeof require !== 'undefined') {\n",
       "        require.undef(\"plotly\");\n",
       "        requirejs.config({\n",
       "            paths: {\n",
       "                'plotly': ['https://cdn.plot.ly/plotly-2.2.0.min']\n",
       "            }\n",
       "        });\n",
       "        require(['plotly'], function(Plotly) {\n",
       "            window._Plotly = Plotly;\n",
       "        });\n",
       "        }\n",
       "        </script>\n",
       "        "
      ]
     },
     "metadata": {},
     "output_type": "display_data"
    }
   ],
   "source": [
    "from pandas import * \n",
    "import cufflinks as cf; cf.go_offline()"
   ]
  },
  {
   "cell_type": "code",
   "execution_count": 14,
   "id": "bce0e36a-8289-44ba-9d4c-6c541c34d585",
   "metadata": {},
   "outputs": [],
   "source": [
    "set_option('display.max_colwidth',200)"
   ]
  },
  {
   "cell_type": "code",
   "execution_count": 15,
   "id": "cbaa3435-25f8-4439-9218-cba4611cba90",
   "metadata": {},
   "outputs": [
    {
     "data": {
      "text/html": [
       "<div>\n",
       "<style scoped>\n",
       "    .dataframe tbody tr th:only-of-type {\n",
       "        vertical-align: middle;\n",
       "    }\n",
       "\n",
       "    .dataframe tbody tr th {\n",
       "        vertical-align: top;\n",
       "    }\n",
       "\n",
       "    .dataframe thead th {\n",
       "        text-align: right;\n",
       "    }\n",
       "</style>\n",
       "<table border=\"1\" class=\"dataframe\">\n",
       "  <thead>\n",
       "    <tr style=\"text-align: right;\">\n",
       "      <th></th>\n",
       "      <th>id</th>\n",
       "      <th>tweet</th>\n",
       "      <th>cls</th>\n",
       "    </tr>\n",
       "  </thead>\n",
       "  <tbody>\n",
       "    <tr>\n",
       "      <th>1548</th>\n",
       "      <td>395683493340266496</td>\n",
       "      <td>@travelgirl1971 Thanks Nancy!!!!</td>\n",
       "      <td>1</td>\n",
       "    </tr>\n",
       "    <tr>\n",
       "      <th>806</th>\n",
       "      <td>278522975601434624</td>\n",
       "      <td>RT @NaDiah_Ash: I love my relationship with my bed. No commitment needed, we just sleep together every night</td>\n",
       "      <td>1</td>\n",
       "    </tr>\n",
       "    <tr>\n",
       "      <th>757</th>\n",
       "      <td>277773012760162304</td>\n",
       "      <td>@emma_moat hey there stranger</td>\n",
       "      <td>1</td>\n",
       "    </tr>\n",
       "    <tr>\n",
       "      <th>1647</th>\n",
       "      <td>397053347175604224</td>\n",
       "      <td>@travelgirl1971 A little word of advice. Skippers older right? You should watch how much human food you give him.</td>\n",
       "      <td>1</td>\n",
       "    </tr>\n",
       "    <tr>\n",
       "      <th>2581</th>\n",
       "      <td>411335024214958080</td>\n",
       "      <td>@introvertedwife Nope I haven't seen it. It's also been awhile since the US version aired. It's a good show for your supernatural fare.</td>\n",
       "      <td>1</td>\n",
       "    </tr>\n",
       "  </tbody>\n",
       "</table>\n",
       "</div>"
      ],
      "text/plain": [
       "                      id  \\\n",
       "1548  395683493340266496   \n",
       "806   278522975601434624   \n",
       "757   277773012760162304   \n",
       "1647  397053347175604224   \n",
       "2581  411335024214958080   \n",
       "\n",
       "                                                                                                                                        tweet  \\\n",
       "1548                                                                                                         @travelgirl1971 Thanks Nancy!!!!   \n",
       "806                              RT @NaDiah_Ash: I love my relationship with my bed. No commitment needed, we just sleep together every night   \n",
       "757                                                                                                             @emma_moat hey there stranger   \n",
       "1647                        @travelgirl1971 A little word of advice. Skippers older right? You should watch how much human food you give him.   \n",
       "2581  @introvertedwife Nope I haven't seen it. It's also been awhile since the US version aired. It's a good show for your supernatural fare.   \n",
       "\n",
       "      cls  \n",
       "1548    1  \n",
       "806     1  \n",
       "757     1  \n",
       "1647    1  \n",
       "2581    1  "
      ]
     },
     "execution_count": 15,
     "metadata": {},
     "output_type": "execute_result"
    }
   ],
   "source": [
    "good['cls'] = 1\n",
    "good.sample(5)"
   ]
  },
  {
   "cell_type": "code",
   "execution_count": 16,
   "id": "38ff7158-5e0b-47b6-b2c4-a28526f6fb1e",
   "metadata": {},
   "outputs": [
    {
     "data": {
      "text/html": [
       "<div>\n",
       "<style scoped>\n",
       "    .dataframe tbody tr th:only-of-type {\n",
       "        vertical-align: middle;\n",
       "    }\n",
       "\n",
       "    .dataframe tbody tr th {\n",
       "        vertical-align: top;\n",
       "    }\n",
       "\n",
       "    .dataframe thead th {\n",
       "        text-align: right;\n",
       "    }\n",
       "</style>\n",
       "<table border=\"1\" class=\"dataframe\">\n",
       "  <thead>\n",
       "    <tr style=\"text-align: right;\">\n",
       "      <th></th>\n",
       "      <th>id</th>\n",
       "      <th>tweet</th>\n",
       "      <th>cls</th>\n",
       "    </tr>\n",
       "  </thead>\n",
       "  <tbody>\n",
       "    <tr>\n",
       "      <th>283</th>\n",
       "      <td>164344444395601920</td>\n",
       "      <td>Getting Results with Wordpress.Join us for this FREE teleseminar on 2/2/12 at 2:00 p.m. http://t.co/6aZ1lAak</td>\n",
       "      <td>0</td>\n",
       "    </tr>\n",
       "    <tr>\n",
       "      <th>2962</th>\n",
       "      <td>468069016821460992</td>\n",
       "      <td>$50 Amazon Gift Card Giveaway! @CouponQueenofTX #CouponQueenofTX #giveaways http://t.co/9PHHsBjr2M</td>\n",
       "      <td>0</td>\n",
       "    </tr>\n",
       "    <tr>\n",
       "      <th>3483</th>\n",
       "      <td>94481580722098177</td>\n",
       "      <td>Quick and Easy Tips | Ways to Reduce Stress | | Control Type 2 Diabetes with Natural Remedies for .. http://bit.ly/okWehN #diabetes</td>\n",
       "      <td>0</td>\n",
       "    </tr>\n",
       "    <tr>\n",
       "      <th>3219</th>\n",
       "      <td>468767327941447680</td>\n",
       "      <td>The Summer Beat Goes On with @SOLREPUBLIC! Enter to win MasterTracks headphones ($200 Value)! @greenmommy2 http://t.co/0hvUDzbOa3</td>\n",
       "      <td>0</td>\n",
       "    </tr>\n",
       "    <tr>\n",
       "      <th>2951</th>\n",
       "      <td>468062637792571393</td>\n",
       "      <td>#Win a Farberware Cookware Set ($150 value) from @TeflonBrand at @She_Scribes #giveaway http://t.co/goPdxHzBg0</td>\n",
       "      <td>0</td>\n",
       "    </tr>\n",
       "  </tbody>\n",
       "</table>\n",
       "</div>"
      ],
      "text/plain": [
       "                      id  \\\n",
       "283   164344444395601920   \n",
       "2962  468069016821460992   \n",
       "3483   94481580722098177   \n",
       "3219  468767327941447680   \n",
       "2951  468062637792571393   \n",
       "\n",
       "                                                                                                                                    tweet  \\\n",
       "283                          Getting Results with Wordpress.Join us for this FREE teleseminar on 2/2/12 at 2:00 p.m. http://t.co/6aZ1lAak   \n",
       "2962                                   $50 Amazon Gift Card Giveaway! @CouponQueenofTX #CouponQueenofTX #giveaways http://t.co/9PHHsBjr2M   \n",
       "3483  Quick and Easy Tips | Ways to Reduce Stress | | Control Type 2 Diabetes with Natural Remedies for .. http://bit.ly/okWehN #diabetes   \n",
       "3219    The Summer Beat Goes On with @SOLREPUBLIC! Enter to win MasterTracks headphones ($200 Value)! @greenmommy2 http://t.co/0hvUDzbOa3   \n",
       "2951                       #Win a Farberware Cookware Set ($150 value) from @TeflonBrand at @She_Scribes #giveaway http://t.co/goPdxHzBg0   \n",
       "\n",
       "      cls  \n",
       "283     0  \n",
       "2962    0  \n",
       "3483    0  \n",
       "3219    0  \n",
       "2951    0  "
      ]
     },
     "execution_count": 16,
     "metadata": {},
     "output_type": "execute_result"
    }
   ],
   "source": [
    "bad['cls'] = 0\n",
    "bad.sample(5)"
   ]
  },
  {
   "cell_type": "code",
   "execution_count": 17,
   "id": "4563228e-8888-4582-88c2-6e6176af5590",
   "metadata": {},
   "outputs": [
    {
     "data": {
      "text/plain": [
       "1    3522\n",
       "0    3490\n",
       "Name: cls, dtype: int64"
      ]
     },
     "execution_count": 17,
     "metadata": {},
     "output_type": "execute_result"
    }
   ],
   "source": [
    "df = good.append(bad, ignore_index = True)\n",
    "df.cls.value_counts()"
   ]
  },
  {
   "cell_type": "markdown",
   "id": "a2bf81ba-7056-4e7b-ac3b-97f65523878d",
   "metadata": {},
   "source": [
    "## Content based model"
   ]
  },
  {
   "cell_type": "code",
   "execution_count": 18,
   "id": "c3fed506-42e4-420f-a13b-141f56eb0d42",
   "metadata": {},
   "outputs": [
    {
     "name": "stdout",
     "output_type": "stream",
     "text": [
      "Requirement already satisfied: ttp in /Users/idodavid/miniforge3/lib/python3.9/site-packages (0.8.4)\n"
     ]
    }
   ],
   "source": [
    "!pip install ttp"
   ]
  },
  {
   "cell_type": "code",
   "execution_count": 19,
   "id": "e936efcc-7eaf-4530-aacc-2320a19b2ce5",
   "metadata": {},
   "outputs": [
    {
     "name": "stdout",
     "output_type": "stream",
     "text": [
      "Requirement already satisfied: emoji in /Users/idodavid/miniforge3/lib/python3.9/site-packages (1.7.0)\n"
     ]
    }
   ],
   "source": [
    "!pip install emoji"
   ]
  },
  {
   "cell_type": "code",
   "execution_count": 20,
   "id": "b1922201-fc91-4c42-8c0a-fceeb8ebf11a",
   "metadata": {},
   "outputs": [],
   "source": [
    "import string\n",
    "import emoji\n",
    "import re as regex"
   ]
  },
  {
   "cell_type": "code",
   "execution_count": 21,
   "id": "f84aaa93-f83b-47c1-a75d-202186459170",
   "metadata": {},
   "outputs": [],
   "source": [
    "specialChars = ''.join([\",\", \":\", \"\\\"\", \"=\", \"&\", \";\", \"%\", \"$\",\"@\", \"%\", \"^\", \"*\", \"(\", \")\", \"{\", \"}\",'–','“', '”'\n",
    "                      \"[\", \"]\", \"|\", \"/\", \"\\\\\", \">\", \"<\", \"-\",\"!\", \"?\", \".\", \"'\",\"--\", \"---\", \"#\", '‘', '’', '…'])  \n",
    "space_chars = ['.',',',';', '&', '?','!']\n",
    "def remove_by_regex(tweets, regexp):\n",
    "    return tweets.replace(regexp, \"\")\n",
    "\n",
    "def remove_urls(tweets):\n",
    "    return remove_by_regex(tweets, regex.compile(r\"http\\S+\"))\n",
    "\n",
    "def remove_special_chars(tweets): \n",
    "    return tweets.apply(lambda tweet: ''.join([c for c in tweet if c not in specialChars]))\n",
    "\n",
    "def remove_usernames(tweets):\n",
    "    return remove_by_regex(tweets, regex.compile(r\"@[^\\s]+[\\s]?\"))\n",
    "\n",
    "def remove_numbers(tweets):\n",
    "    return remove_by_regex(tweets, regex.compile(r\"\\s?[0-9]+\\.?[0-9]*\"))\n",
    "\n",
    "def remove_emojis(tweets):\n",
    "    return tweets.apply(lambda tweet: ''.join(c for c in tweet if c not in emoji.UNICODE_EMOJI))\n",
    "\n",
    "def add_spaces(tweets):\n",
    "    def add_spaces_int(tweet):\n",
    "        for char in space_chars:\n",
    "            tweet = tweet.replace(char, char + ' ')\n",
    "        return tweet\n",
    "    return tweets.apply(lambda tweet: add_spaces_int(tweet))\n",
    "\n",
    "def leave_language_only(tweets):\n",
    "    for f in [remove_urls, remove_emojis, add_spaces, remove_numbers, remove_usernames, remove_special_chars]:\n",
    "        tweets = f(tweets)\n",
    "    return tweets"
   ]
  },
  {
   "cell_type": "code",
   "execution_count": 22,
   "id": "01c2d6ad-94a5-4270-a193-d992b8ce0ea8",
   "metadata": {},
   "outputs": [
    {
     "name": "stdout",
     "output_type": "stream",
     "text": [
      "<class 'pandas.core.frame.DataFrame'>\n",
      "RangeIndex: 7012 entries, 0 to 7011\n",
      "Data columns (total 4 columns):\n",
      " #   Column         Non-Null Count  Dtype \n",
      "---  ------         --------------  ----- \n",
      " 0   id             7012 non-null   int64 \n",
      " 1   tweet          7012 non-null   object\n",
      " 2   cls            7012 non-null   int64 \n",
      " 3   pureTextTweet  7012 non-null   object\n",
      "dtypes: int64(2), object(2)\n",
      "memory usage: 219.2+ KB\n"
     ]
    }
   ],
   "source": [
    "df['pureTextTweet'] = leave_language_only(df.tweet.str.lower())\n",
    "df.info()"
   ]
  },
  {
   "cell_type": "code",
   "execution_count": 23,
   "id": "04c0a471-b95b-4200-b2d6-b50f47607272",
   "metadata": {},
   "outputs": [
    {
     "data": {
      "text/html": [
       "<div>\n",
       "<style scoped>\n",
       "    .dataframe tbody tr th:only-of-type {\n",
       "        vertical-align: middle;\n",
       "    }\n",
       "\n",
       "    .dataframe tbody tr th {\n",
       "        vertical-align: top;\n",
       "    }\n",
       "\n",
       "    .dataframe thead th {\n",
       "        text-align: right;\n",
       "    }\n",
       "</style>\n",
       "<table border=\"1\" class=\"dataframe\">\n",
       "  <thead>\n",
       "    <tr style=\"text-align: right;\">\n",
       "      <th></th>\n",
       "      <th>tweet</th>\n",
       "      <th>pureTextTweet</th>\n",
       "    </tr>\n",
       "  </thead>\n",
       "  <tbody>\n",
       "    <tr>\n",
       "      <th>4128</th>\n",
       "      <td>Test passed? Japan's earthquake causes quick response near Fukushima (+ ... -   http://t.co/HWYTNf2C</td>\n",
       "      <td>test passed  japans earthquake causes quick response near fukushima +</td>\n",
       "    </tr>\n",
       "  </tbody>\n",
       "</table>\n",
       "</div>"
      ],
      "text/plain": [
       "                                                                                                     tweet  \\\n",
       "4128  Test passed? Japan's earthquake causes quick response near Fukushima (+ ... -   http://t.co/HWYTNf2C   \n",
       "\n",
       "                                                                      pureTextTweet  \n",
       "4128  test passed  japans earthquake causes quick response near fukushima +          "
      ]
     },
     "execution_count": 23,
     "metadata": {},
     "output_type": "execute_result"
    }
   ],
   "source": [
    "df[['tweet','pureTextTweet']].sample()"
   ]
  },
  {
   "cell_type": "code",
   "execution_count": 24,
   "id": "4c307ba3-e6d2-444d-a372-e6d4d67cf36d",
   "metadata": {},
   "outputs": [
    {
     "name": "stderr",
     "output_type": "stream",
     "text": [
      "[nltk_data] Downloading package stopwords to\n",
      "[nltk_data]     /Users/idodavid/nltk_data...\n",
      "[nltk_data]   Package stopwords is already up-to-date!\n",
      "[nltk_data] Downloading package punkt to /Users/idodavid/nltk_data...\n",
      "[nltk_data]   Package punkt is already up-to-date!\n"
     ]
    },
    {
     "data": {
      "text/plain": [
       "True"
      ]
     },
     "execution_count": 24,
     "metadata": {},
     "output_type": "execute_result"
    }
   ],
   "source": [
    "import nltk\n",
    "nltk.download('stopwords')\n",
    "nltk.download('punkt')"
   ]
  },
  {
   "cell_type": "code",
   "execution_count": 25,
   "id": "360a9440-6617-40d6-bd9b-8fe231ef527c",
   "metadata": {},
   "outputs": [
    {
     "data": {
      "text/plain": [
       "['i', 'me', 'my', 'myself', 'we']"
      ]
     },
     "execution_count": 25,
     "metadata": {},
     "output_type": "execute_result"
    }
   ],
   "source": [
    "stopwords=nltk.corpus.stopwords.words(\"english\") + nltk.corpus.stopwords.words(\"italian\") + nltk.corpus.stopwords.words(\"spanish\")\n",
    "stopwords[:5]"
   ]
  },
  {
   "cell_type": "code",
   "execution_count": 26,
   "id": "c47b8d8a-9966-4f00-9438-46752b936aa4",
   "metadata": {},
   "outputs": [
    {
     "data": {
      "text/plain": [
       "['what',\n",
       " 'a',\n",
       " 'great',\n",
       " 'tip',\n",
       " 'ali',\n",
       " 'no',\n",
       " 'more',\n",
       " 'leaving',\n",
       " 'things',\n",
       " 'behind',\n",
       " 'and',\n",
       " 'having',\n",
       " 'to',\n",
       " 'call',\n",
       " 'the',\n",
       " 'hotel',\n",
       " 'in',\n",
       " 'a',\n",
       " 'panic']"
      ]
     },
     "execution_count": 26,
     "metadata": {},
     "output_type": "execute_result"
    }
   ],
   "source": [
    "nltk.word_tokenize(df.pureTextTweet.iloc[0])"
   ]
  },
  {
   "cell_type": "code",
   "execution_count": 27,
   "id": "6fbcf46e-81cd-4e89-90e0-a5e8520b6b98",
   "metadata": {},
   "outputs": [
    {
     "data": {
      "text/html": [
       "<div>\n",
       "<style scoped>\n",
       "    .dataframe tbody tr th:only-of-type {\n",
       "        vertical-align: middle;\n",
       "    }\n",
       "\n",
       "    .dataframe tbody tr th {\n",
       "        vertical-align: top;\n",
       "    }\n",
       "\n",
       "    .dataframe thead th {\n",
       "        text-align: right;\n",
       "    }\n",
       "</style>\n",
       "<table border=\"1\" class=\"dataframe\">\n",
       "  <thead>\n",
       "    <tr style=\"text-align: right;\">\n",
       "      <th></th>\n",
       "      <th>word</th>\n",
       "      <th>wordCount</th>\n",
       "      <th>wordImportance</th>\n",
       "    </tr>\n",
       "  </thead>\n",
       "  <tbody>\n",
       "    <tr>\n",
       "      <th>0</th>\n",
       "      <td>rt</td>\n",
       "      <td>1338</td>\n",
       "      <td>0.007189</td>\n",
       "    </tr>\n",
       "    <tr>\n",
       "      <th>1</th>\n",
       "      <td>win</td>\n",
       "      <td>507</td>\n",
       "      <td>0.018972</td>\n",
       "    </tr>\n",
       "    <tr>\n",
       "      <th>2</th>\n",
       "      <td>giveaway</td>\n",
       "      <td>452</td>\n",
       "      <td>0.021281</td>\n",
       "    </tr>\n",
       "    <tr>\n",
       "      <th>3</th>\n",
       "      <td>enter</td>\n",
       "      <td>299</td>\n",
       "      <td>0.032170</td>\n",
       "    </tr>\n",
       "    <tr>\n",
       "      <th>4</th>\n",
       "      <td>im</td>\n",
       "      <td>279</td>\n",
       "      <td>0.034476</td>\n",
       "    </tr>\n",
       "  </tbody>\n",
       "</table>\n",
       "</div>"
      ],
      "text/plain": [
       "       word  wordCount  wordImportance\n",
       "0        rt       1338        0.007189\n",
       "1       win        507        0.018972\n",
       "2  giveaway        452        0.021281\n",
       "3     enter        299        0.032170\n",
       "4        im        279        0.034476"
      ]
     },
     "execution_count": 27,
     "metadata": {},
     "output_type": "execute_result"
    }
   ],
   "source": [
    "all_words = [word for tweet in df.pureTextTweet for word in nltk.word_tokenize(tweet) if word.lower() not in stopwords] # Words without stop words\n",
    "words_df = DataFrame(data = all_words, columns = ['word']).word.value_counts().reset_index()\n",
    "words_df.columns = ['word','wordCount']\n",
    "words_df['wordImportance'] = len(words_df) / words_df.wordCount / words_df.wordCount.max()\n",
    "words_df.head()"
   ]
  },
  {
   "cell_type": "code",
   "execution_count": 28,
   "id": "51a89834-d06b-4b7c-a367-57f3dd9a5e45",
   "metadata": {},
   "outputs": [
    {
     "data": {
      "application/vnd.plotly.v1+json": {
       "config": {
        "linkText": "Export to plot.ly",
        "plotlyServerURL": "https://plot.ly",
        "showLink": true
       },
       "data": [
        {
         "marker": {
          "color": "rgba(255, 153, 51, 0.6)",
          "line": {
           "color": "rgba(255, 153, 51, 1.0)",
           "width": 1
          }
         },
         "name": "wordCount",
         "orientation": "v",
         "text": "",
         "type": "bar",
         "x": [
          "rt",
          "win",
          "giveaway",
          "enter",
          "im",
          "via",
          "amp",
          "new",
          "um",
          "gift",
          "get",
          "card",
          "vã­deo",
          "gostei",
          "like",
          "good",
          "one",
          "dont",
          "today",
          "blogboost"
         ],
         "y": [
          1338,
          507,
          452,
          299,
          279,
          273,
          259,
          234,
          221,
          217,
          213,
          203,
          201,
          200,
          185,
          184,
          181,
          176,
          169,
          145
         ]
        }
       ],
       "layout": {
        "autosize": true,
        "legend": {
         "bgcolor": "#F5F6F9",
         "font": {
          "color": "#4D5663"
         }
        },
        "paper_bgcolor": "#F5F6F9",
        "plot_bgcolor": "#F5F6F9",
        "template": {
         "data": {
          "bar": [
           {
            "error_x": {
             "color": "#2a3f5f"
            },
            "error_y": {
             "color": "#2a3f5f"
            },
            "marker": {
             "line": {
              "color": "#E5ECF6",
              "width": 0.5
             },
             "pattern": {
              "fillmode": "overlay",
              "size": 10,
              "solidity": 0.2
             }
            },
            "type": "bar"
           }
          ],
          "barpolar": [
           {
            "marker": {
             "line": {
              "color": "#E5ECF6",
              "width": 0.5
             },
             "pattern": {
              "fillmode": "overlay",
              "size": 10,
              "solidity": 0.2
             }
            },
            "type": "barpolar"
           }
          ],
          "carpet": [
           {
            "aaxis": {
             "endlinecolor": "#2a3f5f",
             "gridcolor": "white",
             "linecolor": "white",
             "minorgridcolor": "white",
             "startlinecolor": "#2a3f5f"
            },
            "baxis": {
             "endlinecolor": "#2a3f5f",
             "gridcolor": "white",
             "linecolor": "white",
             "minorgridcolor": "white",
             "startlinecolor": "#2a3f5f"
            },
            "type": "carpet"
           }
          ],
          "choropleth": [
           {
            "colorbar": {
             "outlinewidth": 0,
             "ticks": ""
            },
            "type": "choropleth"
           }
          ],
          "contour": [
           {
            "colorbar": {
             "outlinewidth": 0,
             "ticks": ""
            },
            "colorscale": [
             [
              0,
              "#0d0887"
             ],
             [
              0.1111111111111111,
              "#46039f"
             ],
             [
              0.2222222222222222,
              "#7201a8"
             ],
             [
              0.3333333333333333,
              "#9c179e"
             ],
             [
              0.4444444444444444,
              "#bd3786"
             ],
             [
              0.5555555555555556,
              "#d8576b"
             ],
             [
              0.6666666666666666,
              "#ed7953"
             ],
             [
              0.7777777777777778,
              "#fb9f3a"
             ],
             [
              0.8888888888888888,
              "#fdca26"
             ],
             [
              1,
              "#f0f921"
             ]
            ],
            "type": "contour"
           }
          ],
          "contourcarpet": [
           {
            "colorbar": {
             "outlinewidth": 0,
             "ticks": ""
            },
            "type": "contourcarpet"
           }
          ],
          "heatmap": [
           {
            "colorbar": {
             "outlinewidth": 0,
             "ticks": ""
            },
            "colorscale": [
             [
              0,
              "#0d0887"
             ],
             [
              0.1111111111111111,
              "#46039f"
             ],
             [
              0.2222222222222222,
              "#7201a8"
             ],
             [
              0.3333333333333333,
              "#9c179e"
             ],
             [
              0.4444444444444444,
              "#bd3786"
             ],
             [
              0.5555555555555556,
              "#d8576b"
             ],
             [
              0.6666666666666666,
              "#ed7953"
             ],
             [
              0.7777777777777778,
              "#fb9f3a"
             ],
             [
              0.8888888888888888,
              "#fdca26"
             ],
             [
              1,
              "#f0f921"
             ]
            ],
            "type": "heatmap"
           }
          ],
          "heatmapgl": [
           {
            "colorbar": {
             "outlinewidth": 0,
             "ticks": ""
            },
            "colorscale": [
             [
              0,
              "#0d0887"
             ],
             [
              0.1111111111111111,
              "#46039f"
             ],
             [
              0.2222222222222222,
              "#7201a8"
             ],
             [
              0.3333333333333333,
              "#9c179e"
             ],
             [
              0.4444444444444444,
              "#bd3786"
             ],
             [
              0.5555555555555556,
              "#d8576b"
             ],
             [
              0.6666666666666666,
              "#ed7953"
             ],
             [
              0.7777777777777778,
              "#fb9f3a"
             ],
             [
              0.8888888888888888,
              "#fdca26"
             ],
             [
              1,
              "#f0f921"
             ]
            ],
            "type": "heatmapgl"
           }
          ],
          "histogram": [
           {
            "marker": {
             "pattern": {
              "fillmode": "overlay",
              "size": 10,
              "solidity": 0.2
             }
            },
            "type": "histogram"
           }
          ],
          "histogram2d": [
           {
            "colorbar": {
             "outlinewidth": 0,
             "ticks": ""
            },
            "colorscale": [
             [
              0,
              "#0d0887"
             ],
             [
              0.1111111111111111,
              "#46039f"
             ],
             [
              0.2222222222222222,
              "#7201a8"
             ],
             [
              0.3333333333333333,
              "#9c179e"
             ],
             [
              0.4444444444444444,
              "#bd3786"
             ],
             [
              0.5555555555555556,
              "#d8576b"
             ],
             [
              0.6666666666666666,
              "#ed7953"
             ],
             [
              0.7777777777777778,
              "#fb9f3a"
             ],
             [
              0.8888888888888888,
              "#fdca26"
             ],
             [
              1,
              "#f0f921"
             ]
            ],
            "type": "histogram2d"
           }
          ],
          "histogram2dcontour": [
           {
            "colorbar": {
             "outlinewidth": 0,
             "ticks": ""
            },
            "colorscale": [
             [
              0,
              "#0d0887"
             ],
             [
              0.1111111111111111,
              "#46039f"
             ],
             [
              0.2222222222222222,
              "#7201a8"
             ],
             [
              0.3333333333333333,
              "#9c179e"
             ],
             [
              0.4444444444444444,
              "#bd3786"
             ],
             [
              0.5555555555555556,
              "#d8576b"
             ],
             [
              0.6666666666666666,
              "#ed7953"
             ],
             [
              0.7777777777777778,
              "#fb9f3a"
             ],
             [
              0.8888888888888888,
              "#fdca26"
             ],
             [
              1,
              "#f0f921"
             ]
            ],
            "type": "histogram2dcontour"
           }
          ],
          "mesh3d": [
           {
            "colorbar": {
             "outlinewidth": 0,
             "ticks": ""
            },
            "type": "mesh3d"
           }
          ],
          "parcoords": [
           {
            "line": {
             "colorbar": {
              "outlinewidth": 0,
              "ticks": ""
             }
            },
            "type": "parcoords"
           }
          ],
          "pie": [
           {
            "automargin": true,
            "type": "pie"
           }
          ],
          "scatter": [
           {
            "marker": {
             "colorbar": {
              "outlinewidth": 0,
              "ticks": ""
             }
            },
            "type": "scatter"
           }
          ],
          "scatter3d": [
           {
            "line": {
             "colorbar": {
              "outlinewidth": 0,
              "ticks": ""
             }
            },
            "marker": {
             "colorbar": {
              "outlinewidth": 0,
              "ticks": ""
             }
            },
            "type": "scatter3d"
           }
          ],
          "scattercarpet": [
           {
            "marker": {
             "colorbar": {
              "outlinewidth": 0,
              "ticks": ""
             }
            },
            "type": "scattercarpet"
           }
          ],
          "scattergeo": [
           {
            "marker": {
             "colorbar": {
              "outlinewidth": 0,
              "ticks": ""
             }
            },
            "type": "scattergeo"
           }
          ],
          "scattergl": [
           {
            "marker": {
             "colorbar": {
              "outlinewidth": 0,
              "ticks": ""
             }
            },
            "type": "scattergl"
           }
          ],
          "scattermapbox": [
           {
            "marker": {
             "colorbar": {
              "outlinewidth": 0,
              "ticks": ""
             }
            },
            "type": "scattermapbox"
           }
          ],
          "scatterpolar": [
           {
            "marker": {
             "colorbar": {
              "outlinewidth": 0,
              "ticks": ""
             }
            },
            "type": "scatterpolar"
           }
          ],
          "scatterpolargl": [
           {
            "marker": {
             "colorbar": {
              "outlinewidth": 0,
              "ticks": ""
             }
            },
            "type": "scatterpolargl"
           }
          ],
          "scatterternary": [
           {
            "marker": {
             "colorbar": {
              "outlinewidth": 0,
              "ticks": ""
             }
            },
            "type": "scatterternary"
           }
          ],
          "surface": [
           {
            "colorbar": {
             "outlinewidth": 0,
             "ticks": ""
            },
            "colorscale": [
             [
              0,
              "#0d0887"
             ],
             [
              0.1111111111111111,
              "#46039f"
             ],
             [
              0.2222222222222222,
              "#7201a8"
             ],
             [
              0.3333333333333333,
              "#9c179e"
             ],
             [
              0.4444444444444444,
              "#bd3786"
             ],
             [
              0.5555555555555556,
              "#d8576b"
             ],
             [
              0.6666666666666666,
              "#ed7953"
             ],
             [
              0.7777777777777778,
              "#fb9f3a"
             ],
             [
              0.8888888888888888,
              "#fdca26"
             ],
             [
              1,
              "#f0f921"
             ]
            ],
            "type": "surface"
           }
          ],
          "table": [
           {
            "cells": {
             "fill": {
              "color": "#EBF0F8"
             },
             "line": {
              "color": "white"
             }
            },
            "header": {
             "fill": {
              "color": "#C8D4E3"
             },
             "line": {
              "color": "white"
             }
            },
            "type": "table"
           }
          ]
         },
         "layout": {
          "annotationdefaults": {
           "arrowcolor": "#2a3f5f",
           "arrowhead": 0,
           "arrowwidth": 1
          },
          "autotypenumbers": "strict",
          "coloraxis": {
           "colorbar": {
            "outlinewidth": 0,
            "ticks": ""
           }
          },
          "colorscale": {
           "diverging": [
            [
             0,
             "#8e0152"
            ],
            [
             0.1,
             "#c51b7d"
            ],
            [
             0.2,
             "#de77ae"
            ],
            [
             0.3,
             "#f1b6da"
            ],
            [
             0.4,
             "#fde0ef"
            ],
            [
             0.5,
             "#f7f7f7"
            ],
            [
             0.6,
             "#e6f5d0"
            ],
            [
             0.7,
             "#b8e186"
            ],
            [
             0.8,
             "#7fbc41"
            ],
            [
             0.9,
             "#4d9221"
            ],
            [
             1,
             "#276419"
            ]
           ],
           "sequential": [
            [
             0,
             "#0d0887"
            ],
            [
             0.1111111111111111,
             "#46039f"
            ],
            [
             0.2222222222222222,
             "#7201a8"
            ],
            [
             0.3333333333333333,
             "#9c179e"
            ],
            [
             0.4444444444444444,
             "#bd3786"
            ],
            [
             0.5555555555555556,
             "#d8576b"
            ],
            [
             0.6666666666666666,
             "#ed7953"
            ],
            [
             0.7777777777777778,
             "#fb9f3a"
            ],
            [
             0.8888888888888888,
             "#fdca26"
            ],
            [
             1,
             "#f0f921"
            ]
           ],
           "sequentialminus": [
            [
             0,
             "#0d0887"
            ],
            [
             0.1111111111111111,
             "#46039f"
            ],
            [
             0.2222222222222222,
             "#7201a8"
            ],
            [
             0.3333333333333333,
             "#9c179e"
            ],
            [
             0.4444444444444444,
             "#bd3786"
            ],
            [
             0.5555555555555556,
             "#d8576b"
            ],
            [
             0.6666666666666666,
             "#ed7953"
            ],
            [
             0.7777777777777778,
             "#fb9f3a"
            ],
            [
             0.8888888888888888,
             "#fdca26"
            ],
            [
             1,
             "#f0f921"
            ]
           ]
          },
          "colorway": [
           "#636efa",
           "#EF553B",
           "#00cc96",
           "#ab63fa",
           "#FFA15A",
           "#19d3f3",
           "#FF6692",
           "#B6E880",
           "#FF97FF",
           "#FECB52"
          ],
          "font": {
           "color": "#2a3f5f"
          },
          "geo": {
           "bgcolor": "white",
           "lakecolor": "white",
           "landcolor": "#E5ECF6",
           "showlakes": true,
           "showland": true,
           "subunitcolor": "white"
          },
          "hoverlabel": {
           "align": "left"
          },
          "hovermode": "closest",
          "mapbox": {
           "style": "light"
          },
          "paper_bgcolor": "white",
          "plot_bgcolor": "#E5ECF6",
          "polar": {
           "angularaxis": {
            "gridcolor": "white",
            "linecolor": "white",
            "ticks": ""
           },
           "bgcolor": "#E5ECF6",
           "radialaxis": {
            "gridcolor": "white",
            "linecolor": "white",
            "ticks": ""
           }
          },
          "scene": {
           "xaxis": {
            "backgroundcolor": "#E5ECF6",
            "gridcolor": "white",
            "gridwidth": 2,
            "linecolor": "white",
            "showbackground": true,
            "ticks": "",
            "zerolinecolor": "white"
           },
           "yaxis": {
            "backgroundcolor": "#E5ECF6",
            "gridcolor": "white",
            "gridwidth": 2,
            "linecolor": "white",
            "showbackground": true,
            "ticks": "",
            "zerolinecolor": "white"
           },
           "zaxis": {
            "backgroundcolor": "#E5ECF6",
            "gridcolor": "white",
            "gridwidth": 2,
            "linecolor": "white",
            "showbackground": true,
            "ticks": "",
            "zerolinecolor": "white"
           }
          },
          "shapedefaults": {
           "line": {
            "color": "#2a3f5f"
           }
          },
          "ternary": {
           "aaxis": {
            "gridcolor": "white",
            "linecolor": "white",
            "ticks": ""
           },
           "baxis": {
            "gridcolor": "white",
            "linecolor": "white",
            "ticks": ""
           },
           "bgcolor": "#E5ECF6",
           "caxis": {
            "gridcolor": "white",
            "linecolor": "white",
            "ticks": ""
           }
          },
          "title": {
           "x": 0.05
          },
          "xaxis": {
           "automargin": true,
           "gridcolor": "white",
           "linecolor": "white",
           "ticks": "",
           "title": {
            "standoff": 15
           },
           "zerolinecolor": "white",
           "zerolinewidth": 2
          },
          "yaxis": {
           "automargin": true,
           "gridcolor": "white",
           "linecolor": "white",
           "ticks": "",
           "title": {
            "standoff": 15
           },
           "zerolinecolor": "white",
           "zerolinewidth": 2
          }
         }
        },
        "title": {
         "font": {
          "color": "#4D5663"
         },
         "text": "Most frequent words in Corpus"
        },
        "xaxis": {
         "autorange": true,
         "gridcolor": "#E1E5ED",
         "range": [
          -0.5,
          19.5
         ],
         "showgrid": true,
         "tickfont": {
          "color": "#4D5663"
         },
         "title": {
          "font": {
           "color": "#4D5663"
          },
          "text": "Word"
         },
         "type": "category",
         "zerolinecolor": "#E1E5ED"
        },
        "yaxis": {
         "autorange": true,
         "gridcolor": "#E1E5ED",
         "range": [
          0,
          1408.421052631579
         ],
         "showgrid": true,
         "tickfont": {
          "color": "#4D5663"
         },
         "title": {
          "font": {
           "color": "#4D5663"
          },
          "text": "Count"
         },
         "type": "linear",
         "zerolinecolor": "#E1E5ED"
        }
       }
      },
      "image/png": "[encoded data removed]",
      "text/html": [
       "<div>                            <div id=\"53b1b486-7f35-44fb-960c-537726e667fe\" class=\"plotly-graph-div\" style=\"height:525px; width:100%;\"></div>            <script type=\"text/javascript\">                require([\"plotly\"], function(Plotly) {                    window.PLOTLYENV=window.PLOTLYENV || {};\n",
       "                    window.PLOTLYENV.BASE_URL='https://plot.ly';                                    if (document.getElementById(\"53b1b486-7f35-44fb-960c-537726e667fe\")) {                    Plotly.newPlot(                        \"53b1b486-7f35-44fb-960c-537726e667fe\",                        [{\"marker\":{\"color\":\"rgba(255, 153, 51, 0.6)\",\"line\":{\"color\":\"rgba(255, 153, 51, 1.0)\",\"width\":1}},\"name\":\"wordCount\",\"orientation\":\"v\",\"text\":\"\",\"type\":\"bar\",\"x\":[\"rt\",\"win\",\"giveaway\",\"enter\",\"im\",\"via\",\"amp\",\"new\",\"um\",\"gift\",\"get\",\"card\",\"v\\u00e3\\u00addeo\",\"gostei\",\"like\",\"good\",\"one\",\"dont\",\"today\",\"blogboost\"],\"y\":[1338,507,452,299,279,273,259,234,221,217,213,203,201,200,185,184,181,176,169,145]}],                        {\"legend\":{\"bgcolor\":\"#F5F6F9\",\"font\":{\"color\":\"#4D5663\"}},\"paper_bgcolor\":\"#F5F6F9\",\"plot_bgcolor\":\"#F5F6F9\",\"template\":{\"data\":{\"bar\":[{\"error_x\":{\"color\":\"#2a3f5f\"},\"error_y\":{\"color\":\"#2a3f5f\"},\"marker\":{\"line\":{\"color\":\"#E5ECF6\",\"width\":0.5},\"pattern\":{\"fillmode\":\"overlay\",\"size\":10,\"solidity\":0.2}},\"type\":\"bar\"}],\"barpolar\":[{\"marker\":{\"line\":{\"color\":\"#E5ECF6\",\"width\":0.5},\"pattern\":{\"fillmode\":\"overlay\",\"size\":10,\"solidity\":0.2}},\"type\":\"barpolar\"}],\"carpet\":[{\"aaxis\":{\"endlinecolor\":\"#2a3f5f\",\"gridcolor\":\"white\",\"linecolor\":\"white\",\"minorgridcolor\":\"white\",\"startlinecolor\":\"#2a3f5f\"},\"baxis\":{\"endlinecolor\":\"#2a3f5f\",\"gridcolor\":\"white\",\"linecolor\":\"white\",\"minorgridcolor\":\"white\",\"startlinecolor\":\"#2a3f5f\"},\"type\":\"carpet\"}],\"choropleth\":[{\"colorbar\":{\"outlinewidth\":0,\"ticks\":\"\"},\"type\":\"choropleth\"}],\"contour\":[{\"colorbar\":{\"outlinewidth\":0,\"ticks\":\"\"},\"colorscale\":[[0.0,\"#0d0887\"],[0.1111111111111111,\"#46039f\"],[0.2222222222222222,\"#7201a8\"],[0.3333333333333333,\"#9c179e\"],[0.4444444444444444,\"#bd3786\"],[0.5555555555555556,\"#d8576b\"],[0.6666666666666666,\"#ed7953\"],[0.7777777777777778,\"#fb9f3a\"],[0.8888888888888888,\"#fdca26\"],[1.0,\"#f0f921\"]],\"type\":\"contour\"}],\"contourcarpet\":[{\"colorbar\":{\"outlinewidth\":0,\"ticks\":\"\"},\"type\":\"contourcarpet\"}],\"heatmap\":[{\"colorbar\":{\"outlinewidth\":0,\"ticks\":\"\"},\"colorscale\":[[0.0,\"#0d0887\"],[0.1111111111111111,\"#46039f\"],[0.2222222222222222,\"#7201a8\"],[0.3333333333333333,\"#9c179e\"],[0.4444444444444444,\"#bd3786\"],[0.5555555555555556,\"#d8576b\"],[0.6666666666666666,\"#ed7953\"],[0.7777777777777778,\"#fb9f3a\"],[0.8888888888888888,\"#fdca26\"],[1.0,\"#f0f921\"]],\"type\":\"heatmap\"}],\"heatmapgl\":[{\"colorbar\":{\"outlinewidth\":0,\"ticks\":\"\"},\"colorscale\":[[0.0,\"#0d0887\"],[0.1111111111111111,\"#46039f\"],[0.2222222222222222,\"#7201a8\"],[0.3333333333333333,\"#9c179e\"],[0.4444444444444444,\"#bd3786\"],[0.5555555555555556,\"#d8576b\"],[0.6666666666666666,\"#ed7953\"],[0.7777777777777778,\"#fb9f3a\"],[0.8888888888888888,\"#fdca26\"],[1.0,\"#f0f921\"]],\"type\":\"heatmapgl\"}],\"histogram\":[{\"marker\":{\"pattern\":{\"fillmode\":\"overlay\",\"size\":10,\"solidity\":0.2}},\"type\":\"histogram\"}],\"histogram2d\":[{\"colorbar\":{\"outlinewidth\":0,\"ticks\":\"\"},\"colorscale\":[[0.0,\"#0d0887\"],[0.1111111111111111,\"#46039f\"],[0.2222222222222222,\"#7201a8\"],[0.3333333333333333,\"#9c179e\"],[0.4444444444444444,\"#bd3786\"],[0.5555555555555556,\"#d8576b\"],[0.6666666666666666,\"#ed7953\"],[0.7777777777777778,\"#fb9f3a\"],[0.8888888888888888,\"#fdca26\"],[1.0,\"#f0f921\"]],\"type\":\"histogram2d\"}],\"histogram2dcontour\":[{\"colorbar\":{\"outlinewidth\":0,\"ticks\":\"\"},\"colorscale\":[[0.0,\"#0d0887\"],[0.1111111111111111,\"#46039f\"],[0.2222222222222222,\"#7201a8\"],[0.3333333333333333,\"#9c179e\"],[0.4444444444444444,\"#bd3786\"],[0.5555555555555556,\"#d8576b\"],[0.6666666666666666,\"#ed7953\"],[0.7777777777777778,\"#fb9f3a\"],[0.8888888888888888,\"#fdca26\"],[1.0,\"#f0f921\"]],\"type\":\"histogram2dcontour\"}],\"mesh3d\":[{\"colorbar\":{\"outlinewidth\":0,\"ticks\":\"\"},\"type\":\"mesh3d\"}],\"parcoords\":[{\"line\":{\"colorbar\":{\"outlinewidth\":0,\"ticks\":\"\"}},\"type\":\"parcoords\"}],\"pie\":[{\"automargin\":true,\"type\":\"pie\"}],\"scatter\":[{\"marker\":{\"colorbar\":{\"outlinewidth\":0,\"ticks\":\"\"}},\"type\":\"scatter\"}],\"scatter3d\":[{\"line\":{\"colorbar\":{\"outlinewidth\":0,\"ticks\":\"\"}},\"marker\":{\"colorbar\":{\"outlinewidth\":0,\"ticks\":\"\"}},\"type\":\"scatter3d\"}],\"scattercarpet\":[{\"marker\":{\"colorbar\":{\"outlinewidth\":0,\"ticks\":\"\"}},\"type\":\"scattercarpet\"}],\"scattergeo\":[{\"marker\":{\"colorbar\":{\"outlinewidth\":0,\"ticks\":\"\"}},\"type\":\"scattergeo\"}],\"scattergl\":[{\"marker\":{\"colorbar\":{\"outlinewidth\":0,\"ticks\":\"\"}},\"type\":\"scattergl\"}],\"scattermapbox\":[{\"marker\":{\"colorbar\":{\"outlinewidth\":0,\"ticks\":\"\"}},\"type\":\"scattermapbox\"}],\"scatterpolar\":[{\"marker\":{\"colorbar\":{\"outlinewidth\":0,\"ticks\":\"\"}},\"type\":\"scatterpolar\"}],\"scatterpolargl\":[{\"marker\":{\"colorbar\":{\"outlinewidth\":0,\"ticks\":\"\"}},\"type\":\"scatterpolargl\"}],\"scatterternary\":[{\"marker\":{\"colorbar\":{\"outlinewidth\":0,\"ticks\":\"\"}},\"type\":\"scatterternary\"}],\"surface\":[{\"colorbar\":{\"outlinewidth\":0,\"ticks\":\"\"},\"colorscale\":[[0.0,\"#0d0887\"],[0.1111111111111111,\"#46039f\"],[0.2222222222222222,\"#7201a8\"],[0.3333333333333333,\"#9c179e\"],[0.4444444444444444,\"#bd3786\"],[0.5555555555555556,\"#d8576b\"],[0.6666666666666666,\"#ed7953\"],[0.7777777777777778,\"#fb9f3a\"],[0.8888888888888888,\"#fdca26\"],[1.0,\"#f0f921\"]],\"type\":\"surface\"}],\"table\":[{\"cells\":{\"fill\":{\"color\":\"#EBF0F8\"},\"line\":{\"color\":\"white\"}},\"header\":{\"fill\":{\"color\":\"#C8D4E3\"},\"line\":{\"color\":\"white\"}},\"type\":\"table\"}]},\"layout\":{\"annotationdefaults\":{\"arrowcolor\":\"#2a3f5f\",\"arrowhead\":0,\"arrowwidth\":1},\"autotypenumbers\":\"strict\",\"coloraxis\":{\"colorbar\":{\"outlinewidth\":0,\"ticks\":\"\"}},\"colorscale\":{\"diverging\":[[0,\"#8e0152\"],[0.1,\"#c51b7d\"],[0.2,\"#de77ae\"],[0.3,\"#f1b6da\"],[0.4,\"#fde0ef\"],[0.5,\"#f7f7f7\"],[0.6,\"#e6f5d0\"],[0.7,\"#b8e186\"],[0.8,\"#7fbc41\"],[0.9,\"#4d9221\"],[1,\"#276419\"]],\"sequential\":[[0.0,\"#0d0887\"],[0.1111111111111111,\"#46039f\"],[0.2222222222222222,\"#7201a8\"],[0.3333333333333333,\"#9c179e\"],[0.4444444444444444,\"#bd3786\"],[0.5555555555555556,\"#d8576b\"],[0.6666666666666666,\"#ed7953\"],[0.7777777777777778,\"#fb9f3a\"],[0.8888888888888888,\"#fdca26\"],[1.0,\"#f0f921\"]],\"sequentialminus\":[[0.0,\"#0d0887\"],[0.1111111111111111,\"#46039f\"],[0.2222222222222222,\"#7201a8\"],[0.3333333333333333,\"#9c179e\"],[0.4444444444444444,\"#bd3786\"],[0.5555555555555556,\"#d8576b\"],[0.6666666666666666,\"#ed7953\"],[0.7777777777777778,\"#fb9f3a\"],[0.8888888888888888,\"#fdca26\"],[1.0,\"#f0f921\"]]},\"colorway\":[\"#636efa\",\"#EF553B\",\"#00cc96\",\"#ab63fa\",\"#FFA15A\",\"#19d3f3\",\"#FF6692\",\"#B6E880\",\"#FF97FF\",\"#FECB52\"],\"font\":{\"color\":\"#2a3f5f\"},\"geo\":{\"bgcolor\":\"white\",\"lakecolor\":\"white\",\"landcolor\":\"#E5ECF6\",\"showlakes\":true,\"showland\":true,\"subunitcolor\":\"white\"},\"hoverlabel\":{\"align\":\"left\"},\"hovermode\":\"closest\",\"mapbox\":{\"style\":\"light\"},\"paper_bgcolor\":\"white\",\"plot_bgcolor\":\"#E5ECF6\",\"polar\":{\"angularaxis\":{\"gridcolor\":\"white\",\"linecolor\":\"white\",\"ticks\":\"\"},\"bgcolor\":\"#E5ECF6\",\"radialaxis\":{\"gridcolor\":\"white\",\"linecolor\":\"white\",\"ticks\":\"\"}},\"scene\":{\"xaxis\":{\"backgroundcolor\":\"#E5ECF6\",\"gridcolor\":\"white\",\"gridwidth\":2,\"linecolor\":\"white\",\"showbackground\":true,\"ticks\":\"\",\"zerolinecolor\":\"white\"},\"yaxis\":{\"backgroundcolor\":\"#E5ECF6\",\"gridcolor\":\"white\",\"gridwidth\":2,\"linecolor\":\"white\",\"showbackground\":true,\"ticks\":\"\",\"zerolinecolor\":\"white\"},\"zaxis\":{\"backgroundcolor\":\"#E5ECF6\",\"gridcolor\":\"white\",\"gridwidth\":2,\"linecolor\":\"white\",\"showbackground\":true,\"ticks\":\"\",\"zerolinecolor\":\"white\"}},\"shapedefaults\":{\"line\":{\"color\":\"#2a3f5f\"}},\"ternary\":{\"aaxis\":{\"gridcolor\":\"white\",\"linecolor\":\"white\",\"ticks\":\"\"},\"baxis\":{\"gridcolor\":\"white\",\"linecolor\":\"white\",\"ticks\":\"\"},\"bgcolor\":\"#E5ECF6\",\"caxis\":{\"gridcolor\":\"white\",\"linecolor\":\"white\",\"ticks\":\"\"}},\"title\":{\"x\":0.05},\"xaxis\":{\"automargin\":true,\"gridcolor\":\"white\",\"linecolor\":\"white\",\"ticks\":\"\",\"title\":{\"standoff\":15},\"zerolinecolor\":\"white\",\"zerolinewidth\":2},\"yaxis\":{\"automargin\":true,\"gridcolor\":\"white\",\"linecolor\":\"white\",\"ticks\":\"\",\"title\":{\"standoff\":15},\"zerolinecolor\":\"white\",\"zerolinewidth\":2}}},\"title\":{\"font\":{\"color\":\"#4D5663\"},\"text\":\"Most frequent words in Corpus\"},\"xaxis\":{\"gridcolor\":\"#E1E5ED\",\"showgrid\":true,\"tickfont\":{\"color\":\"#4D5663\"},\"title\":{\"font\":{\"color\":\"#4D5663\"},\"text\":\"Word\"},\"zerolinecolor\":\"#E1E5ED\"},\"yaxis\":{\"gridcolor\":\"#E1E5ED\",\"showgrid\":true,\"tickfont\":{\"color\":\"#4D5663\"},\"title\":{\"font\":{\"color\":\"#4D5663\"},\"text\":\"Count\"},\"zerolinecolor\":\"#E1E5ED\"}},                        {\"showLink\": true, \"linkText\": \"Export to plot.ly\", \"plotlyServerURL\": \"https://plot.ly\", \"responsive\": true}                    ).then(function(){\n",
       "                            \n",
       "var gd = document.getElementById('53b1b486-7f35-44fb-960c-537726e667fe');\n",
       "var x = new MutationObserver(function (mutations, observer) {{\n",
       "        var display = window.getComputedStyle(gd).display;\n",
       "        if (!display || display === 'none') {{\n",
       "            console.log([gd, 'removed!']);\n",
       "            Plotly.purge(gd);\n",
       "            observer.disconnect();\n",
       "        }}\n",
       "}});\n",
       "\n",
       "// Listen for the removal of the full notebook cells\n",
       "var notebookContainer = gd.closest('#notebook-container');\n",
       "if (notebookContainer) {{\n",
       "    x.observe(notebookContainer, {childList: true});\n",
       "}}\n",
       "\n",
       "// Listen for the clearing of the current output cell\n",
       "var outputEl = gd.closest('.output');\n",
       "if (outputEl) {{\n",
       "    x.observe(outputEl, {childList: true});\n",
       "}}\n",
       "\n",
       "                        })                };                });            </script>        </div>"
      ]
     },
     "metadata": {},
     "output_type": "display_data"
    }
   ],
   "source": [
    "words_df.set_index('word').wordCount.head(20).iplot(kind = 'bar', title = 'Most frequent words in Corpus', yTitle = 'Count', xTitle = 'Word')"
   ]
  },
  {
   "cell_type": "code",
   "execution_count": 29,
   "id": "6adf9243-97b2-473e-8dd5-df3dfa04006f",
   "metadata": {},
   "outputs": [
    {
     "name": "stdout",
     "output_type": "stream",
     "text": [
      "Total of 51154 words, 12870 unique words\n"
     ]
    }
   ],
   "source": [
    "print(\"Total of {} words, {} unique words\".format(len(all_words), len(words_df)))"
   ]
  },
  {
   "cell_type": "markdown",
   "id": "76a6a66e-1939-4621-9892-53d529fcbadf",
   "metadata": {},
   "source": [
    "to reduce the corpus size more, we probably don't care about words that appear to little. Let's drop any word which have under 5 appearnces:"
   ]
  },
  {
   "cell_type": "code",
   "execution_count": 30,
   "id": "0da329ba-b7b6-4522-b0f0-c0f0c6560c72",
   "metadata": {},
   "outputs": [
    {
     "name": "stdout",
     "output_type": "stream",
     "text": [
      "Using words with 5 or more appearnces will reduce the corpus size to: 2030\n"
     ]
    }
   ],
   "source": [
    "print (\"Using words with 5 or more appearnces will reduce the corpus size to: {}\".format(sum(words_df.wordCount >= 5)))"
   ]
  },
  {
   "cell_type": "code",
   "execution_count": 31,
   "id": "9b787fb9-d30f-434e-9faa-7613888b2fab",
   "metadata": {},
   "outputs": [],
   "source": [
    "words_df = words_df[words_df.wordCount >= 5]"
   ]
  },
  {
   "cell_type": "markdown",
   "id": "4b3d2569-c180-4bf5-9fc7-fe0474f2621c",
   "metadata": {},
   "source": [
    "### Bag of words (One-hot-encoding)"
   ]
  },
  {
   "cell_type": "code",
   "execution_count": 32,
   "id": "d0ee007e-a732-48ee-b557-d129eb364b39",
   "metadata": {},
   "outputs": [],
   "source": [
    "from sklearn.feature_extraction.text import CountVectorizer\n",
    "from sklearn.feature_extraction.text import TfidfVectorizer"
   ]
  },
  {
   "cell_type": "code",
   "execution_count": 33,
   "id": "eeedd261-bb3b-4a75-b7ee-5a95b61fe38a",
   "metadata": {},
   "outputs": [
    {
     "data": {
      "text/plain": [
       "(7012, 2030)"
      ]
     },
     "execution_count": 33,
     "metadata": {},
     "output_type": "execute_result"
    }
   ],
   "source": [
    "clean_vocab = set(words_df.word)\n",
    "count_vect = CountVectorizer(vocabulary = clean_vocab, tokenizer=nltk.word_tokenize)\n",
    "clean_bow_counts = count_vect.fit_transform(df.pureTextTweet)\n",
    "clean_bow_counts.shape"
   ]
  },
  {
   "cell_type": "code",
   "execution_count": 34,
   "id": "8c5fa40e-ddc9-4e5a-872f-a8f457467884",
   "metadata": {},
   "outputs": [
    {
     "data": {
      "text/plain": [
       "'thk you including my post social mediaimpact of social media on small business  in ideas for a digital wrld'"
      ]
     },
     "execution_count": 34,
     "metadata": {},
     "output_type": "execute_result"
    }
   ],
   "source": [
    "df.iloc[1].pureTextTweet"
   ]
  },
  {
   "cell_type": "code",
   "execution_count": 35,
   "id": "b59181d7-38a4-4e0b-8666-f1cc511b4106",
   "metadata": {},
   "outputs": [
    {
     "name": "stdout",
     "output_type": "stream",
     "text": [
      "  (0, 236)\t1\n",
      "  (0, 470)\t1\n",
      "  (0, 851)\t1\n",
      "  (0, 866)\t1\n",
      "  (0, 1083)\t1\n",
      "  (0, 1326)\t1\n",
      "  (0, 1563)\t1\n",
      "  (0, 1572)\t2\n"
     ]
    }
   ],
   "source": [
    "print(clean_bow_counts[1])"
   ]
  },
  {
   "cell_type": "code",
   "execution_count": 36,
   "id": "fd3266b7-cc68-4919-8dd0-a96207906067",
   "metadata": {},
   "outputs": [
    {
     "name": "stdout",
     "output_type": "stream",
     "text": [
      "business\n",
      "digital\n",
      "ideas\n",
      "including\n"
     ]
    }
   ],
   "source": [
    "rev_dict = {v:k for k,v in count_vect.vocabulary_.items()}\n",
    "print(rev_dict[236])\n",
    "print(rev_dict[470])\n",
    "print(rev_dict[851])\n",
    "print(rev_dict[866])"
   ]
  },
  {
   "cell_type": "code",
   "execution_count": 37,
   "id": "e9dee3d8-3ec0-4dc3-befd-e97c23404569",
   "metadata": {},
   "outputs": [
    {
     "data": {
      "text/plain": [
       "34842"
      ]
     },
     "execution_count": 37,
     "metadata": {},
     "output_type": "execute_result"
    }
   ],
   "source": [
    "clean_bow_counts.sum()"
   ]
  },
  {
   "cell_type": "code",
   "execution_count": 39,
   "id": "101a1f98-ccf6-419f-84b4-ebbe59182886",
   "metadata": {},
   "outputs": [
    {
     "data": {
      "text/plain": [
       "(7012, 2030)"
      ]
     },
     "execution_count": 39,
     "metadata": {},
     "output_type": "execute_result"
    }
   ],
   "source": [
    "tf_idf_vectorizer = TfidfVectorizer(vocabulary = clean_vocab)\n",
    "bow_tfidf = tf_idf_vectorizer.fit_transform(df.pureTextTweet)\n",
    "bow_tfidf.shape"
   ]
  },
  {
   "cell_type": "code",
   "execution_count": 40,
   "id": "3e71c985-7758-4966-a518-6901c15969d7",
   "metadata": {},
   "outputs": [
    {
     "data": {
      "text/plain": [
       "13836.301529255948"
      ]
     },
     "execution_count": 40,
     "metadata": {},
     "output_type": "execute_result"
    }
   ],
   "source": [
    "bow_tfidf.sum()"
   ]
  },
  {
   "cell_type": "markdown",
   "id": "2ca616d2-c667-47a1-a0c9-82204220d545",
   "metadata": {},
   "source": [
    "## Classification"
   ]
  },
  {
   "cell_type": "code",
   "execution_count": 41,
   "id": "27a4313f-77db-4ced-ab53-6bfe4910cc83",
   "metadata": {},
   "outputs": [],
   "source": [
    "import numpy as np\n",
    "from sklearn.model_selection import train_test_split, cross_val_score\n",
    "from sklearn.metrics import roc_auc_score, precision_score, recall_score, accuracy_score"
   ]
  },
  {
   "cell_type": "code",
   "execution_count": 42,
   "id": "8e21c928-8ed3-4375-8105-8fea4c7927c7",
   "metadata": {},
   "outputs": [],
   "source": [
    "from sklearn.linear_model import LogisticRegression"
   ]
  },
  {
   "cell_type": "code",
   "execution_count": 43,
   "id": "1b6624d5-92f3-4569-a298-78f15a2dea59",
   "metadata": {},
   "outputs": [],
   "source": [
    "%%capture\n",
    "search_grid = np.logspace(-2, 4, num=50, endpoint=True, base=10.0)\n",
    "auc_by_alpha = []\n",
    "for alpha in search_grid:\n",
    "    model = LogisticRegression(penalty='l2', C=alpha)\n",
    "    avg_score = cross_val_score(model, clean_bow_counts, y = df.cls, cv = 10, scoring = 'roc_auc').mean()\n",
    "    auc_by_alpha.append((alpha,avg_score))"
   ]
  },
  {
   "cell_type": "code",
   "execution_count": 44,
   "id": "7d4d1489-e599-4026-9329-c74859741563",
   "metadata": {},
   "outputs": [
    {
     "data": {
      "application/vnd.plotly.v1+json": {
       "config": {
        "linkText": "Export to plot.ly",
        "plotlyServerURL": "https://plot.ly",
        "showLink": true
       },
       "data": [
        {
         "line": {
          "color": "rgba(255, 153, 51, 1.0)",
          "dash": "solid",
          "shape": "linear",
          "width": 3
         },
         "mode": "lines",
         "name": "AUC",
         "text": "",
         "type": "scatter",
         "x": [
          0.01,
          0.013257113655901088,
          0.017575106248547922,
          0.023299518105153717,
          0.030888435964774818,
          0.040949150623804255,
          0.054286754393238594,
          0.07196856730011521,
          0.09540954763499938,
          0.12648552168552957,
          0.16768329368110083,
          0.22229964825261944,
          0.29470517025518095,
          0.3906939937054617,
          0.517947467923121,
          0.6866488450043002,
          0.9102981779915218,
          1.2067926406393288,
          1.5998587196060574,
          2.1209508879201904,
          2.8117686979742307,
          3.727593720314938,
          4.941713361323833,
          6.551285568595509
         ],
         "y": [
          0.83678451737867,
          0.8449667607848331,
          0.8530464637845373,
          0.8609599764733794,
          0.8686678203221447,
          0.8760356507260729,
          0.8830769969217815,
          0.8893631110132552,
          0.8947691260099309,
          0.8993905836420899,
          0.9031028037042667,
          0.9061996129905022,
          0.9085674830574387,
          0.9103725627081385,
          0.9113918420663284,
          0.9120628317856765,
          0.9121847770883589,
          0.9119984070690181,
          0.9111645661106712,
          0.9101947133176207,
          0.9086732241764299,
          0.9070394679677856,
          0.9050860025461805,
          0.9029844903340326
         ]
        }
       ],
       "layout": {
        "autosize": true,
        "legend": {
         "bgcolor": "#F5F6F9",
         "font": {
          "color": "#4D5663"
         }
        },
        "paper_bgcolor": "#F5F6F9",
        "plot_bgcolor": "#F5F6F9",
        "shapes": [
         {
          "line": {
           "color": "#db4052",
           "dash": "solid",
           "width": 1
          },
          "type": "line",
          "x0": 0,
          "x1": 1,
          "xref": "paper",
          "y0": [
           0,
           0
          ],
          "y1": [
           0,
           0
          ],
          "yref": "y"
         }
        ],
        "title": {
         "font": {
          "color": "#4D5663"
         },
         "text": "BOW Counts - AUC as a function of learning rate (alpha)"
        },
        "xaxis": {
         "autorange": true,
         "gridcolor": "#E1E5ED",
         "range": [
          0.01,
          6.551285568595509
         ],
         "showgrid": true,
         "tickfont": {
          "color": "#4D5663"
         },
         "title": {
          "font": {
           "color": "#4D5663"
          },
          "text": "alpha"
         },
         "type": "linear",
         "zerolinecolor": "#E1E5ED"
        },
        "yaxis": {
         "autorange": true,
         "gridcolor": "#E1E5ED",
         "range": [
          0.8325956140614651,
          0.9163736804055638
         ],
         "showgrid": true,
         "tickfont": {
          "color": "#4D5663"
         },
         "title": {
          "font": {
           "color": "#4D5663"
          },
          "text": "AUC"
         },
         "type": "linear",
         "zerolinecolor": "#E1E5ED"
        }
       }
      },
      "image/png": "[encoded data removed]",
      "text/html": [
       "<div>                            <div id=\"08d36027-4234-4e7c-9052-e51851ead3b2\" class=\"plotly-graph-div\" style=\"height:525px; width:100%;\"></div>            <script type=\"text/javascript\">                require([\"plotly\"], function(Plotly) {                    window.PLOTLYENV=window.PLOTLYENV || {};\n",
       "                    window.PLOTLYENV.BASE_URL='https://plot.ly';                                    if (document.getElementById(\"08d36027-4234-4e7c-9052-e51851ead3b2\")) {                    Plotly.newPlot(                        \"08d36027-4234-4e7c-9052-e51851ead3b2\",                        [{\"line\":{\"color\":\"rgba(255, 153, 51, 1.0)\",\"dash\":\"solid\",\"shape\":\"linear\",\"width\":3},\"mode\":\"lines\",\"name\":\"AUC\",\"text\":\"\",\"type\":\"scatter\",\"x\":[0.01,0.013257113655901088,0.017575106248547922,0.023299518105153717,0.030888435964774818,0.040949150623804255,0.054286754393238594,0.07196856730011521,0.09540954763499938,0.12648552168552957,0.16768329368110083,0.22229964825261944,0.29470517025518095,0.3906939937054617,0.517947467923121,0.6866488450043002,0.9102981779915218,1.2067926406393288,1.5998587196060574,2.1209508879201904,2.8117686979742307,3.727593720314938,4.941713361323833,6.551285568595509],\"y\":[0.83678451737867,0.8449667607848331,0.8530464637845373,0.8609599764733794,0.8686678203221447,0.8760356507260729,0.8830769969217815,0.8893631110132552,0.8947691260099309,0.8993905836420899,0.9031028037042667,0.9061996129905022,0.9085674830574387,0.9103725627081385,0.9113918420663284,0.9120628317856765,0.9121847770883589,0.9119984070690181,0.9111645661106712,0.9101947133176207,0.9086732241764299,0.9070394679677856,0.9050860025461805,0.9029844903340326]}],                        {\"legend\":{\"bgcolor\":\"#F5F6F9\",\"font\":{\"color\":\"#4D5663\"}},\"paper_bgcolor\":\"#F5F6F9\",\"plot_bgcolor\":\"#F5F6F9\",\"shapes\":[{\"line\":{\"color\":\"#db4052\",\"dash\":\"solid\",\"width\":1},\"type\":\"line\",\"x0\":0,\"x1\":1,\"xref\":\"paper\",\"y0\":[0,0],\"y1\":[0,0],\"yref\":\"y\"}],\"title\":\"BOW Counts - AUC as a function of learning rate (alpha)\",\"titlefont\":{\"color\":\"#4D5663\"},\"xaxis\":{\"gridcolor\":\"#E1E5ED\",\"showgrid\":true,\"tickfont\":{\"color\":\"#4D5663\"},\"title\":\"alpha\",\"titlefont\":{\"color\":\"#4D5663\"},\"zerolinecolor\":\"#E1E5ED\"},\"yaxis\":{\"gridcolor\":\"#E1E5ED\",\"showgrid\":true,\"tickfont\":{\"color\":\"#4D5663\"},\"title\":\"AUC\",\"titlefont\":{\"color\":\"#4D5663\"},\"zerolinecolor\":\"#E1E5ED\"}},                        {\"showLink\": true, \"linkText\": \"Export to plot.ly\", \"plotlyServerURL\": \"https://plot.ly\", \"responsive\": true}                    ).then(function(){\n",
       "                            \n",
       "var gd = document.getElementById('08d36027-4234-4e7c-9052-e51851ead3b2');\n",
       "var x = new MutationObserver(function (mutations, observer) {{\n",
       "        var display = window.getComputedStyle(gd).display;\n",
       "        if (!display || display === 'none') {{\n",
       "            console.log([gd, 'removed!']);\n",
       "            Plotly.purge(gd);\n",
       "            observer.disconnect();\n",
       "        }}\n",
       "}});\n",
       "\n",
       "// Listen for the removal of the full notebook cells\n",
       "var notebookContainer = gd.closest('#notebook-container');\n",
       "if (notebookContainer) {{\n",
       "    x.observe(notebookContainer, {childList: true});\n",
       "}}\n",
       "\n",
       "// Listen for the clearing of the current output cell\n",
       "var outputEl = gd.closest('.output');\n",
       "if (outputEl) {{\n",
       "    x.observe(outputEl, {childList: true});\n",
       "}}\n",
       "\n",
       "                        })                };                });            </script>        </div>"
      ]
     },
     "metadata": {},
     "output_type": "display_data"
    }
   ],
   "source": [
    "cv_results = DataFrame(auc_by_alpha, columns = ['alpha', 'AUC'])\n",
    "cv_results.query('alpha < 8').set_index('alpha').AUC.iplot(title = 'BOW Counts - AUC as a function of learning rate (alpha)', xTitle = 'alpha', yTitle = 'AUC', width = 3, hline=(0,0))"
   ]
  },
  {
   "cell_type": "code",
   "execution_count": 45,
   "id": "dbb984ca-50e9-4301-9889-87d91e8e4377",
   "metadata": {},
   "outputs": [
    {
     "name": "stdout",
     "output_type": "stream",
     "text": [
      "0.9102981779915218 0.9121847770883589\n"
     ]
    }
   ],
   "source": [
    "opt_alpha, max_auc = cv_results.loc[cv_results.AUC.idxmax()]\n",
    "print(opt_alpha, max_auc)"
   ]
  },
  {
   "cell_type": "markdown",
   "id": "bc2aa366-ff9c-4ef9-8ee2-efcdba0474ca",
   "metadata": {},
   "source": [
    "### Optimal Model"
   ]
  },
  {
   "cell_type": "markdown",
   "id": "5b159d04-f88c-4cd4-ae97-699aaa822b32",
   "metadata": {},
   "source": [
    "Let's use the optimal model regularization parameter and train a model on the **entire dataset**:"
   ]
  },
  {
   "cell_type": "code",
   "execution_count": 46,
   "id": "47e01934-810a-4493-a6d4-f3f2100cb53f",
   "metadata": {},
   "outputs": [
    {
     "data": {
      "text/plain": [
       "LogisticRegression(C=0.9102981779915218)"
      ]
     },
     "execution_count": 46,
     "metadata": {},
     "output_type": "execute_result"
    }
   ],
   "source": [
    "model = LogisticRegression(penalty='l2', C=opt_alpha)\n",
    "model.fit(clean_bow_counts, df.cls)"
   ]
  },
  {
   "cell_type": "code",
   "execution_count": 47,
   "id": "2e3e9fa5-4e5c-469a-a303-f38b72928cd1",
   "metadata": {},
   "outputs": [],
   "source": [
    "df['predicted_class'] = model.predict(clean_bow_counts)\n",
    "df[['class_0_prob','class_1_prob']] = model.predict_proba(clean_bow_counts)\n",
    "df['prediction_certainty'] = df.apply(lambda row: row.class_0_prob if row.predicted_class == 0 else row.class_1_prob, axis=1)"
   ]
  },
  {
   "cell_type": "code",
   "execution_count": 48,
   "id": "cfb64459-ddfb-4c94-b64b-accc78e392a5",
   "metadata": {},
   "outputs": [
    {
     "data": {
      "text/plain": [
       "0.9298345693097547"
      ]
     },
     "execution_count": 48,
     "metadata": {},
     "output_type": "execute_result"
    }
   ],
   "source": [
    "accuracy_score(df.predicted_class, df.cls) # Training accuracy, for sanity only"
   ]
  },
  {
   "cell_type": "markdown",
   "id": "da14aa07-ecd3-402d-854b-5ab2ff945809",
   "metadata": {},
   "source": [
    "### Feature importance"
   ]
  },
  {
   "cell_type": "code",
   "execution_count": 49,
   "id": "1a38c403-0643-4da2-b2cb-7155fbeecf53",
   "metadata": {},
   "outputs": [
    {
     "data": {
      "text/html": [
       "<div>\n",
       "<style scoped>\n",
       "    .dataframe tbody tr th:only-of-type {\n",
       "        vertical-align: middle;\n",
       "    }\n",
       "\n",
       "    .dataframe tbody tr th {\n",
       "        vertical-align: top;\n",
       "    }\n",
       "\n",
       "    .dataframe thead th {\n",
       "        text-align: right;\n",
       "    }\n",
       "</style>\n",
       "<table border=\"1\" class=\"dataframe\">\n",
       "  <thead>\n",
       "    <tr style=\"text-align: right;\">\n",
       "      <th></th>\n",
       "      <th>word</th>\n",
       "      <th>weight</th>\n",
       "      <th>absW</th>\n",
       "    </tr>\n",
       "  </thead>\n",
       "  <tbody>\n",
       "    <tr>\n",
       "      <th>724</th>\n",
       "      <td>giveaway</td>\n",
       "      <td>-3.126004</td>\n",
       "      <td>3.126004</td>\n",
       "    </tr>\n",
       "    <tr>\n",
       "      <th>1862</th>\n",
       "      <td>via</td>\n",
       "      <td>-2.341556</td>\n",
       "      <td>2.341556</td>\n",
       "    </tr>\n",
       "    <tr>\n",
       "      <th>181</th>\n",
       "      <td>blogboost</td>\n",
       "      <td>-2.315541</td>\n",
       "      <td>2.315541</td>\n",
       "    </tr>\n",
       "    <tr>\n",
       "      <th>774</th>\n",
       "      <td>haha</td>\n",
       "      <td>2.046584</td>\n",
       "      <td>2.046584</td>\n",
       "    </tr>\n",
       "    <tr>\n",
       "      <th>1382</th>\n",
       "      <td>quote</td>\n",
       "      <td>-1.991966</td>\n",
       "      <td>1.991966</td>\n",
       "    </tr>\n",
       "  </tbody>\n",
       "</table>\n",
       "</div>"
      ],
      "text/plain": [
       "           word    weight      absW\n",
       "724    giveaway -3.126004  3.126004\n",
       "1862        via -2.341556  2.341556\n",
       "181   blogboost -2.315541  2.315541\n",
       "774        haha  2.046584  2.046584\n",
       "1382      quote -1.991966  1.991966"
      ]
     },
     "execution_count": 49,
     "metadata": {},
     "output_type": "execute_result"
    }
   ],
   "source": [
    "weights = model.coef_.flatten()\n",
    "words = [rev_dict[i] for i in range(len(weights))]\n",
    "feature_weights = DataFrame({'word': words, 'weight': weights, 'absW': abs(weights)})\n",
    "feature_weights.sort_values(by = 'absW', ascending = False, inplace = True)\n",
    "feature_weights.head(5)"
   ]
  },
  {
   "cell_type": "code",
   "execution_count": 50,
   "id": "65895d6d-9ab2-4e70-8c94-05d148c87302",
   "metadata": {},
   "outputs": [
    {
     "data": {
      "application/vnd.plotly.v1+json": {
       "config": {
        "linkText": "Export to plot.ly",
        "plotlyServerURL": "https://plot.ly",
        "showLink": true
       },
       "data": [
        {
         "marker": {
          "color": "rgba(255, 153, 51, 0.6)",
          "line": {
           "color": "rgba(255, 153, 51, 1.0)",
           "width": 1
          }
         },
         "name": "weight",
         "orientation": "v",
         "text": "",
         "type": "bar",
         "x": [
          "giveaway",
          "via",
          "blogboost",
          "haha",
          "quote",
          "thank",
          "lol",
          "hahaha",
          "vã­deo",
          "gostei",
          "getglue",
          "pack",
          "win",
          "tonight",
          "fox",
          "learn",
          "nikeplus",
          "😒",
          "shit",
          "system",
          "company",
          "yeah",
          "thanks",
          "oh",
          "dies",
          "recipes",
          "womens",
          "join",
          "followers",
          "cant",
          "almost",
          "program",
          "im",
          "mens",
          "instagram",
          "download",
          "experimental",
          "—",
          "😂😂😂😂",
          "fedupmovie",
          "ebook",
          "fuck",
          "nope",
          "power",
          "😘",
          "edition",
          "black",
          "amas",
          "birthday",
          "bowl",
          "got",
          "grt",
          "calendar",
          "ok",
          "guide",
          "guess",
          "light",
          "ass",
          "men",
          "😍"
         ],
         "y": [
          -3.126003799397236,
          -2.341555682598171,
          -2.3155410573568136,
          2.046584431590899,
          -1.9919658583823752,
          1.9874328368300391,
          1.9725441592542683,
          1.931175808700739,
          -1.9093273548212628,
          -1.9058198600219396,
          1.8871676910229693,
          -1.8787351072136151,
          -1.854459135722773,
          1.8472899621092445,
          -1.8241356084528375,
          -1.7751815622090379,
          -1.7622569594298865,
          1.747209201254654,
          1.7457328325057313,
          -1.7078083009722564,
          -1.7030715431533419,
          1.6795191226462942,
          1.6702314165388197,
          1.6587716376456876,
          -1.6346261943985025,
          -1.5871837704080465,
          -1.5689245391591842,
          -1.552817166242223,
          1.5287443794271358,
          1.5208295997124548,
          1.504392592298489,
          -1.4973620210479746,
          1.4775689668397372,
          -1.4588365163865673,
          -1.4571288602081458,
          -1.442662687874166,
          -1.4417581617498498,
          -1.4357643798407222,
          1.4330930170447587,
          -1.4275677792070545,
          -1.4248353514570669,
          1.4243688893353776,
          1.3913775536207735,
          -1.3826911664556922,
          1.3819660970243148,
          -1.381011337800545,
          -1.3797184262908266,
          1.3728371897035299,
          1.372223717723707,
          -1.368207282989978,
          1.3654725843956712,
          -1.3565226535321753,
          -1.3513435145525117,
          1.350575086651731,
          -1.3483848915593732,
          1.3433714760756639,
          -1.3378235683137538,
          1.3350226468284199,
          -1.3291419562804605,
          1.3235262037815592
         ]
        }
       ],
       "layout": {
        "autosize": true,
        "legend": {
         "bgcolor": "#F5F6F9",
         "font": {
          "color": "#4D5663"
         }
        },
        "paper_bgcolor": "#F5F6F9",
        "plot_bgcolor": "#F5F6F9",
        "shapes": [
         {
          "line": {
           "color": "#db4052",
           "dash": "solid",
           "width": 1
          },
          "type": "line",
          "x0": 0,
          "x1": 1,
          "xref": "paper",
          "y0": [
           0,
           0
          ],
          "y1": [
           0,
           0
          ],
          "yref": "y"
         }
        ],
        "title": {
         "font": {
          "color": "#4D5663"
         },
         "text": "Signicance of word to \"Good Tweet\" classification"
        },
        "xaxis": {
         "autorange": true,
         "gridcolor": "#E1E5ED",
         "range": [
          -0.5,
          59.5
         ],
         "showgrid": true,
         "tickfont": {
          "color": "#4D5663"
         },
         "title": {
          "font": {
           "color": "#4D5663"
          },
          "text": ""
         },
         "type": "category",
         "zerolinecolor": "#E1E5ED"
        },
        "yaxis": {
         "autorange": true,
         "gridcolor": "#E1E5ED",
         "range": [
          -3.41336981222991,
          2.3339504444235732
         ],
         "showgrid": true,
         "tickfont": {
          "color": "#4D5663"
         },
         "title": {
          "font": {
           "color": "#4D5663"
          },
          "text": ""
         },
         "type": "linear",
         "zerolinecolor": "#E1E5ED"
        }
       }
      },
      "image/png": "[encoded data removed]",
      "text/html": [
       "<div>                            <div id=\"0336b05a-f461-4252-bc95-1e774e32cd24\" class=\"plotly-graph-div\" style=\"height:525px; width:100%;\"></div>            <script type=\"text/javascript\">                require([\"plotly\"], function(Plotly) {                    window.PLOTLYENV=window.PLOTLYENV || {};\n",
       "                    window.PLOTLYENV.BASE_URL='https://plot.ly';                                    if (document.getElementById(\"0336b05a-f461-4252-bc95-1e774e32cd24\")) {                    Plotly.newPlot(                        \"0336b05a-f461-4252-bc95-1e774e32cd24\",                        [{\"marker\":{\"color\":\"rgba(255, 153, 51, 0.6)\",\"line\":{\"color\":\"rgba(255, 153, 51, 1.0)\",\"width\":1}},\"name\":\"weight\",\"orientation\":\"v\",\"text\":\"\",\"type\":\"bar\",\"x\":[\"giveaway\",\"via\",\"blogboost\",\"haha\",\"quote\",\"thank\",\"lol\",\"hahaha\",\"v\\u00e3\\u00addeo\",\"gostei\",\"getglue\",\"pack\",\"win\",\"tonight\",\"fox\",\"learn\",\"nikeplus\",\"\\ud83d\\ude12\",\"shit\",\"system\",\"company\",\"yeah\",\"thanks\",\"oh\",\"dies\",\"recipes\",\"womens\",\"join\",\"followers\",\"cant\",\"almost\",\"program\",\"im\",\"mens\",\"instagram\",\"download\",\"experimental\",\"\\u2014\",\"\\ud83d\\ude02\\ud83d\\ude02\\ud83d\\ude02\\ud83d\\ude02\",\"fedupmovie\",\"ebook\",\"fuck\",\"nope\",\"power\",\"\\ud83d\\ude18\",\"edition\",\"black\",\"amas\",\"birthday\",\"bowl\",\"got\",\"grt\",\"calendar\",\"ok\",\"guide\",\"guess\",\"light\",\"ass\",\"men\",\"\\ud83d\\ude0d\"],\"y\":[-3.126003799397236,-2.341555682598171,-2.3155410573568136,2.046584431590899,-1.9919658583823752,1.9874328368300391,1.9725441592542683,1.931175808700739,-1.9093273548212628,-1.9058198600219396,1.8871676910229693,-1.8787351072136151,-1.854459135722773,1.8472899621092445,-1.8241356084528375,-1.7751815622090379,-1.7622569594298865,1.747209201254654,1.7457328325057313,-1.7078083009722564,-1.7030715431533419,1.6795191226462942,1.6702314165388197,1.6587716376456876,-1.6346261943985025,-1.5871837704080465,-1.5689245391591842,-1.552817166242223,1.5287443794271358,1.5208295997124548,1.504392592298489,-1.4973620210479746,1.4775689668397372,-1.4588365163865673,-1.4571288602081458,-1.442662687874166,-1.4417581617498498,-1.4357643798407222,1.4330930170447587,-1.4275677792070545,-1.4248353514570669,1.4243688893353776,1.3913775536207735,-1.3826911664556922,1.3819660970243148,-1.381011337800545,-1.3797184262908266,1.3728371897035299,1.372223717723707,-1.368207282989978,1.3654725843956712,-1.3565226535321753,-1.3513435145525117,1.350575086651731,-1.3483848915593732,1.3433714760756639,-1.3378235683137538,1.3350226468284199,-1.3291419562804605,1.3235262037815592]}],                        {\"legend\":{\"bgcolor\":\"#F5F6F9\",\"font\":{\"color\":\"#4D5663\"}},\"paper_bgcolor\":\"#F5F6F9\",\"plot_bgcolor\":\"#F5F6F9\",\"shapes\":[{\"line\":{\"color\":\"#db4052\",\"dash\":\"solid\",\"width\":1},\"type\":\"line\",\"x0\":0,\"x1\":1,\"xref\":\"paper\",\"y0\":[0,0],\"y1\":[0,0],\"yref\":\"y\"}],\"title\":\"Signicance of word to \\\"Good Tweet\\\" classification\",\"titlefont\":{\"color\":\"#4D5663\"},\"xaxis\":{\"gridcolor\":\"#E1E5ED\",\"showgrid\":true,\"tickfont\":{\"color\":\"#4D5663\"},\"title\":\"\",\"titlefont\":{\"color\":\"#4D5663\"},\"zerolinecolor\":\"#E1E5ED\"},\"yaxis\":{\"gridcolor\":\"#E1E5ED\",\"showgrid\":true,\"tickfont\":{\"color\":\"#4D5663\"},\"title\":\"\",\"titlefont\":{\"color\":\"#4D5663\"},\"zerolinecolor\":\"#E1E5ED\"}},                        {\"showLink\": true, \"linkText\": \"Export to plot.ly\", \"plotlyServerURL\": \"https://plot.ly\", \"responsive\": true}                    ).then(function(){\n",
       "                            \n",
       "var gd = document.getElementById('0336b05a-f461-4252-bc95-1e774e32cd24');\n",
       "var x = new MutationObserver(function (mutations, observer) {{\n",
       "        var display = window.getComputedStyle(gd).display;\n",
       "        if (!display || display === 'none') {{\n",
       "            console.log([gd, 'removed!']);\n",
       "            Plotly.purge(gd);\n",
       "            observer.disconnect();\n",
       "        }}\n",
       "}});\n",
       "\n",
       "// Listen for the removal of the full notebook cells\n",
       "var notebookContainer = gd.closest('#notebook-container');\n",
       "if (notebookContainer) {{\n",
       "    x.observe(notebookContainer, {childList: true});\n",
       "}}\n",
       "\n",
       "// Listen for the clearing of the current output cell\n",
       "var outputEl = gd.closest('.output');\n",
       "if (outputEl) {{\n",
       "    x.observe(outputEl, {childList: true});\n",
       "}}\n",
       "\n",
       "                        })                };                });            </script>        </div>"
      ]
     },
     "metadata": {},
     "output_type": "display_data"
    }
   ],
   "source": [
    "feature_weights.set_index('word').weight.head(60).iplot(kind = 'bar', title = 'Signicance of word to \"Good Tweet\" classification', hline=(0,0))\n"
   ]
  },
  {
   "cell_type": "markdown",
   "id": "cdd228d8-6684-4029-8cc4-356cfa995b65",
   "metadata": {},
   "source": [
    "So we see that giveaway, via and blogboost are all highly indicative of a bot generated tweet, while haha is the most signifcant indication of a good tweet. "
   ]
  },
  {
   "cell_type": "markdown",
   "id": "ede7cf48-5052-444c-9cf6-7ec8e9fbb76e",
   "metadata": {},
   "source": [
    "<span style='background :yellow' > Class discussion: Suggests methods to verify that the results presented are indeed correct and there's no bug in the process of extraction feature importance</span>"
   ]
  },
  {
   "cell_type": "code",
   "execution_count": 51,
   "id": "8eb51df9-0808-478b-9225-c011dd46a7af",
   "metadata": {
    "tags": []
   },
   "outputs": [
    {
     "data": {
      "text/plain": [
       "1    79\n",
       "Name: cls, dtype: int64"
      ]
     },
     "execution_count": 51,
     "metadata": {},
     "output_type": "execute_result"
    }
   ],
   "source": [
    "df[df.tweet.apply(lambda x: 'haha' in x)].cls.value_counts()"
   ]
  },
  {
   "cell_type": "markdown",
   "id": "61ef4af9-8379-4585-ae9a-29456196a4b7",
   "metadata": {},
   "source": [
    "## Improving the initial model"
   ]
  },
  {
   "cell_type": "markdown",
   "id": "d3d00e73-78c5-4c90-b835-39f7e61bc7d1",
   "metadata": {},
   "source": [
    "To understand to imidiate steps to improve the model, let's look at the most significant errors, i.e., all the examples on which the model was very confident at the wrong class."
   ]
  },
  {
   "cell_type": "code",
   "execution_count": 52,
   "id": "9cd1e88c-61e0-493c-8b6b-041e618487fb",
   "metadata": {},
   "outputs": [],
   "source": [
    "df['is_pred_error'] = df.cls != df.predicted_class"
   ]
  },
  {
   "cell_type": "code",
   "execution_count": 53,
   "id": "75380318-b91b-4cf0-8347-beed20a55532",
   "metadata": {},
   "outputs": [
    {
     "data": {
      "text/html": [
       "<div>\n",
       "<style scoped>\n",
       "    .dataframe tbody tr th:only-of-type {\n",
       "        vertical-align: middle;\n",
       "    }\n",
       "\n",
       "    .dataframe tbody tr th {\n",
       "        vertical-align: top;\n",
       "    }\n",
       "\n",
       "    .dataframe thead th {\n",
       "        text-align: right;\n",
       "    }\n",
       "</style>\n",
       "<table border=\"1\" class=\"dataframe\">\n",
       "  <thead>\n",
       "    <tr style=\"text-align: right;\">\n",
       "      <th></th>\n",
       "      <th>id</th>\n",
       "      <th>tweet</th>\n",
       "      <th>cls</th>\n",
       "      <th>pureTextTweet</th>\n",
       "      <th>predicted_class</th>\n",
       "      <th>class_0_prob</th>\n",
       "      <th>class_1_prob</th>\n",
       "      <th>prediction_certainty</th>\n",
       "      <th>is_pred_error</th>\n",
       "    </tr>\n",
       "  </thead>\n",
       "  <tbody>\n",
       "    <tr>\n",
       "      <th>3766</th>\n",
       "      <td>154434078588940288</td>\n",
       "      <td>Winter has arrived in South Florida and I'm not liking it!Temps to go down to 30's tonight.Hope farmers able to harvest strawberries in time</td>\n",
       "      <td>0</td>\n",
       "      <td>winter has arrived in south florida and im not liking it temps to go down tos tonight hope farmers able to harvest strawberries in time</td>\n",
       "      <td>1</td>\n",
       "      <td>0.018740</td>\n",
       "      <td>0.981260</td>\n",
       "      <td>0.981260</td>\n",
       "      <td>True</td>\n",
       "    </tr>\n",
       "    <tr>\n",
       "      <th>12</th>\n",
       "      <td>123977435187380224</td>\n",
       "      <td>Become a Better Blogger | 5 Blogging Tips - Internet Marketing for Small Business Port St. Lucie http://t.co/wVQksMDo #blogboost #tlcclub</td>\n",
       "      <td>1</td>\n",
       "      <td>become a better blogger  blogging tips  internet marketing for small business port st  lucie  blogboost tlcclub</td>\n",
       "      <td>0</td>\n",
       "      <td>0.980979</td>\n",
       "      <td>0.019021</td>\n",
       "      <td>0.980979</td>\n",
       "      <td>True</td>\n",
       "    </tr>\n",
       "    <tr>\n",
       "      <th>10</th>\n",
       "      <td>123031911647035392</td>\n",
       "      <td>New: Viral Marketing – 7 Avenues of Distribution http://t.co/aDS0lXpi #blogboost #tlcclub</td>\n",
       "      <td>1</td>\n",
       "      <td>new viral marketing  avenues of distribution  blogboost tlcclub</td>\n",
       "      <td>0</td>\n",
       "      <td>0.964973</td>\n",
       "      <td>0.035027</td>\n",
       "      <td>0.964973</td>\n",
       "      <td>True</td>\n",
       "    </tr>\n",
       "    <tr>\n",
       "      <th>3785</th>\n",
       "      <td>158349659075649536</td>\n",
       "      <td>http://t.co/MDjarFJc Perhaps I'm not stretching my mind far enough, but can't think of any one human who has a universal appeal because...</td>\n",
       "      <td>0</td>\n",
       "      <td>perhaps im not stretching my mind far enough  but cant think of any one human who has a universal appeal because</td>\n",
       "      <td>1</td>\n",
       "      <td>0.039015</td>\n",
       "      <td>0.960985</td>\n",
       "      <td>0.960985</td>\n",
       "      <td>True</td>\n",
       "    </tr>\n",
       "    <tr>\n",
       "      <th>965</th>\n",
       "      <td>299941819742035968</td>\n",
       "      <td>Just an insane lego contraption: http://t.co/WdHJHZGC via @youtube</td>\n",
       "      <td>1</td>\n",
       "      <td>just an insane lego contraption  via</td>\n",
       "      <td>0</td>\n",
       "      <td>0.949431</td>\n",
       "      <td>0.050569</td>\n",
       "      <td>0.949431</td>\n",
       "      <td>True</td>\n",
       "    </tr>\n",
       "    <tr>\n",
       "      <th>6149</th>\n",
       "      <td>457009180650381313</td>\n",
       "      <td>I just joined #naturebox and can't wait to start snacking. Get $10 off these awesome snacks too:  http://t.co/V3BLDmHKYg by @NatureBox</td>\n",
       "      <td>0</td>\n",
       "      <td>i just joined naturebox and cant wait to start snacking  get  off these awesome snacks too   by</td>\n",
       "      <td>1</td>\n",
       "      <td>0.051379</td>\n",
       "      <td>0.948621</td>\n",
       "      <td>0.948621</td>\n",
       "      <td>True</td>\n",
       "    </tr>\n",
       "    <tr>\n",
       "      <th>13</th>\n",
       "      <td>124916408063754240</td>\n",
       "      <td>More Customer Service tips and strategies in my 7 day e-course http://t.co/eCtk1qyP</td>\n",
       "      <td>1</td>\n",
       "      <td>more customer service tips and strategies in my day ecourse</td>\n",
       "      <td>0</td>\n",
       "      <td>0.946557</td>\n",
       "      <td>0.053443</td>\n",
       "      <td>0.946557</td>\n",
       "      <td>True</td>\n",
       "    </tr>\n",
       "    <tr>\n",
       "      <th>6188</th>\n",
       "      <td>462646619478196224</td>\n",
       "      <td>RT @ArielRebel: Ok so we're gonna talk about porn instead. If this photo get 200RTs, ill tweet another NEW one that you haven't see! http:/…</td>\n",
       "      <td>0</td>\n",
       "      <td>rt ok so were gonna talk about porn instead  if this photo getrts  ill tweet another new one that you havent see</td>\n",
       "      <td>1</td>\n",
       "      <td>0.066266</td>\n",
       "      <td>0.933734</td>\n",
       "      <td>0.933734</td>\n",
       "      <td>True</td>\n",
       "    </tr>\n",
       "    <tr>\n",
       "      <th>5507</th>\n",
       "      <td>294785642804699136</td>\n",
       "      <td>Extraordinary Life I really didn't know what I  even wanted anymore - what I needed was Kristen and her Go</td>\n",
       "      <td>0</td>\n",
       "      <td>extraordinary life i really didnt know what i  even wanted anymore  what i needed was kristen and her go</td>\n",
       "      <td>1</td>\n",
       "      <td>0.073918</td>\n",
       "      <td>0.926082</td>\n",
       "      <td>0.926082</td>\n",
       "      <td>True</td>\n",
       "    </tr>\n",
       "    <tr>\n",
       "      <th>5766</th>\n",
       "      <td>4027156720</td>\n",
       "      <td>Astonished to see that some people still just want traffic and they have no idea about conversion.</td>\n",
       "      <td>0</td>\n",
       "      <td>astonished to see that some people still just want traffic and they have no idea about conversion</td>\n",
       "      <td>1</td>\n",
       "      <td>0.075346</td>\n",
       "      <td>0.924654</td>\n",
       "      <td>0.924654</td>\n",
       "      <td>True</td>\n",
       "    </tr>\n",
       "  </tbody>\n",
       "</table>\n",
       "</div>"
      ],
      "text/plain": [
       "                      id  \\\n",
       "3766  154434078588940288   \n",
       "12    123977435187380224   \n",
       "10    123031911647035392   \n",
       "3785  158349659075649536   \n",
       "965   299941819742035968   \n",
       "6149  457009180650381313   \n",
       "13    124916408063754240   \n",
       "6188  462646619478196224   \n",
       "5507  294785642804699136   \n",
       "5766          4027156720   \n",
       "\n",
       "                                                                                                                                             tweet  \\\n",
       "3766  Winter has arrived in South Florida and I'm not liking it!Temps to go down to 30's tonight.Hope farmers able to harvest strawberries in time   \n",
       "12       Become a Better Blogger | 5 Blogging Tips - Internet Marketing for Small Business Port St. Lucie http://t.co/wVQksMDo #blogboost #tlcclub   \n",
       "10                                                       New: Viral Marketing – 7 Avenues of Distribution http://t.co/aDS0lXpi #blogboost #tlcclub   \n",
       "3785    http://t.co/MDjarFJc Perhaps I'm not stretching my mind far enough, but can't think of any one human who has a universal appeal because...   \n",
       "965                                                                             Just an insane lego contraption: http://t.co/WdHJHZGC via @youtube   \n",
       "6149        I just joined #naturebox and can't wait to start snacking. Get $10 off these awesome snacks too:  http://t.co/V3BLDmHKYg by @NatureBox   \n",
       "13                                                             More Customer Service tips and strategies in my 7 day e-course http://t.co/eCtk1qyP   \n",
       "6188  RT @ArielRebel: Ok so we're gonna talk about porn instead. If this photo get 200RTs, ill tweet another NEW one that you haven't see! http:/…   \n",
       "5507                                    Extraordinary Life I really didn't know what I  even wanted anymore - what I needed was Kristen and her Go   \n",
       "5766                                            Astonished to see that some people still just want traffic and they have no idea about conversion.   \n",
       "\n",
       "      cls  \\\n",
       "3766    0   \n",
       "12      1   \n",
       "10      1   \n",
       "3785    0   \n",
       "965     1   \n",
       "6149    0   \n",
       "13      1   \n",
       "6188    0   \n",
       "5507    0   \n",
       "5766    0   \n",
       "\n",
       "                                                                                                                                pureTextTweet  \\\n",
       "3766  winter has arrived in south florida and im not liking it temps to go down tos tonight hope farmers able to harvest strawberries in time   \n",
       "12                            become a better blogger  blogging tips  internet marketing for small business port st  lucie  blogboost tlcclub   \n",
       "10                                                                            new viral marketing  avenues of distribution  blogboost tlcclub   \n",
       "3785                      perhaps im not stretching my mind far enough  but cant think of any one human who has a universal appeal because      \n",
       "965                                                                                                     just an insane lego contraption  via    \n",
       "6149                                         i just joined naturebox and cant wait to start snacking  get  off these awesome snacks too   by    \n",
       "13                                                                               more customer service tips and strategies in my day ecourse    \n",
       "6188                       rt ok so were gonna talk about porn instead  if this photo getrts  ill tweet another new one that you havent see     \n",
       "5507                                 extraordinary life i really didnt know what i  even wanted anymore  what i needed was kristen and her go   \n",
       "5766                                       astonished to see that some people still just want traffic and they have no idea about conversion    \n",
       "\n",
       "      predicted_class  class_0_prob  class_1_prob  prediction_certainty  \\\n",
       "3766                1      0.018740      0.981260              0.981260   \n",
       "12                  0      0.980979      0.019021              0.980979   \n",
       "10                  0      0.964973      0.035027              0.964973   \n",
       "3785                1      0.039015      0.960985              0.960985   \n",
       "965                 0      0.949431      0.050569              0.949431   \n",
       "6149                1      0.051379      0.948621              0.948621   \n",
       "13                  0      0.946557      0.053443              0.946557   \n",
       "6188                1      0.066266      0.933734              0.933734   \n",
       "5507                1      0.073918      0.926082              0.926082   \n",
       "5766                1      0.075346      0.924654              0.924654   \n",
       "\n",
       "      is_pred_error  \n",
       "3766           True  \n",
       "12             True  \n",
       "10             True  \n",
       "3785           True  \n",
       "965            True  \n",
       "6149           True  \n",
       "13             True  \n",
       "6188           True  \n",
       "5507           True  \n",
       "5766           True  "
      ]
     },
     "execution_count": 53,
     "metadata": {},
     "output_type": "execute_result"
    }
   ],
   "source": [
    "df[df.is_pred_error].sort_values(by='prediction_certainty', ascending=False).head(10)"
   ]
  },
  {
   "cell_type": "markdown",
   "id": "6580bfbc-0d8a-44f6-b8d0-246145985a8b",
   "metadata": {},
   "source": [
    "We can see some patterns:\n",
    "* What makes good/bad is not clear, and sometimes seems erroneous\n",
    "* Bad tweets often contain dollars, hashtags, @s and links - are those captured in the vocabulary we've created? * "
   ]
  },
  {
   "cell_type": "markdown",
   "id": "6984473d-976b-401c-aa6f-f6e2ac7cf45d",
   "metadata": {},
   "source": [
    "<span style='background :yellow' > Class discussion: Suggests methods to verify that the characters discussed above are in the corpus and are available for the classifier</span>"
   ]
  },
  {
   "cell_type": "code",
   "execution_count": 54,
   "id": "3b7c57a0-f60a-4600-92f4-aa84b8a8d595",
   "metadata": {
    "tags": []
   },
   "outputs": [],
   "source": [
    "for c in ['@', '#', '$','http']: \n",
    "    for token in clean_vocab:\n",
    "        if c in token:\n",
    "            print(token, c)"
   ]
  },
  {
   "cell_type": "markdown",
   "id": "f9cd32ac-2087-4436-a5ac-22c4b233c244",
   "metadata": {
    "tags": []
   },
   "source": [
    "<span style='background :yellow' > Class discussion: Suggests methods to include the missing information to the classifier</span>"
   ]
  },
  {
   "cell_type": "code",
   "execution_count": 55,
   "id": "84fba14c-8491-420c-9b41-afb2ef018cdb",
   "metadata": {
    "tags": []
   },
   "outputs": [
    {
     "data": {
      "text/plain": [
       "['I',\n",
       " 'just',\n",
       " 'joined',\n",
       " '#',\n",
       " 'naturebox',\n",
       " 'and',\n",
       " 'ca',\n",
       " \"n't\",\n",
       " 'wait',\n",
       " 'to',\n",
       " 'start',\n",
       " 'snacking',\n",
       " '.',\n",
       " 'Get',\n",
       " '$',\n",
       " '10',\n",
       " 'off',\n",
       " 'these',\n",
       " 'awesome',\n",
       " 'snacks',\n",
       " 'too',\n",
       " ':',\n",
       " 'http',\n",
       " ':',\n",
       " '//t.co/V3BLDmHKYg',\n",
       " 'by',\n",
       " '@',\n",
       " 'NatureBox']"
      ]
     },
     "execution_count": 55,
     "metadata": {},
     "output_type": "execute_result"
    }
   ],
   "source": [
    "nltk.word_tokenize(\"I just joined #naturebox and can't wait to start snacking. Get $10 off these awesome snacks too: http://t.co/V3BLDmHKYg by @NatureBox\t\")"
   ]
  },
  {
   "cell_type": "markdown",
   "id": "79b836bb-6da4-4a09-8284-e75721fb0227",
   "metadata": {
    "tags": []
   },
   "source": [
    "We have several options:\n",
    "* Working on the original text without \"cleaning it\", or doing a better clean up job to not clean relevant information\n",
    "* Add some ad-hoc features to the the bag-of-words vector"
   ]
  },
  {
   "cell_type": "markdown",
   "id": "8e7fc0b7-7f94-4ef6-bd61-f28289337bdf",
   "metadata": {},
   "source": [
    "## Working on the original text"
   ]
  },
  {
   "cell_type": "code",
   "execution_count": 56,
   "id": "a506ad89-89fd-411c-83f4-f39c4dcfebfc",
   "metadata": {},
   "outputs": [
    {
     "data": {
      "text/html": [
       "<div>\n",
       "<style scoped>\n",
       "    .dataframe tbody tr th:only-of-type {\n",
       "        vertical-align: middle;\n",
       "    }\n",
       "\n",
       "    .dataframe tbody tr th {\n",
       "        vertical-align: top;\n",
       "    }\n",
       "\n",
       "    .dataframe thead th {\n",
       "        text-align: right;\n",
       "    }\n",
       "</style>\n",
       "<table border=\"1\" class=\"dataframe\">\n",
       "  <thead>\n",
       "    <tr style=\"text-align: right;\">\n",
       "      <th></th>\n",
       "      <th>word</th>\n",
       "      <th>wordCount</th>\n",
       "      <th>wordImportance</th>\n",
       "    </tr>\n",
       "  </thead>\n",
       "  <tbody>\n",
       "    <tr>\n",
       "      <th>0</th>\n",
       "      <td>:</td>\n",
       "      <td>6015</td>\n",
       "      <td>0.000499</td>\n",
       "    </tr>\n",
       "    <tr>\n",
       "      <th>1</th>\n",
       "      <td>@</td>\n",
       "      <td>5005</td>\n",
       "      <td>0.000600</td>\n",
       "    </tr>\n",
       "    <tr>\n",
       "      <th>2</th>\n",
       "      <td>http</td>\n",
       "      <td>3765</td>\n",
       "      <td>0.000797</td>\n",
       "    </tr>\n",
       "    <tr>\n",
       "      <th>3</th>\n",
       "      <td>!</td>\n",
       "      <td>2964</td>\n",
       "      <td>0.001013</td>\n",
       "    </tr>\n",
       "    <tr>\n",
       "      <th>4</th>\n",
       "      <td>#</td>\n",
       "      <td>2670</td>\n",
       "      <td>0.001124</td>\n",
       "    </tr>\n",
       "  </tbody>\n",
       "</table>\n",
       "</div>"
      ],
      "text/plain": [
       "   word  wordCount  wordImportance\n",
       "0     :       6015        0.000499\n",
       "1     @       5005        0.000600\n",
       "2  http       3765        0.000797\n",
       "3     !       2964        0.001013\n",
       "4     #       2670        0.001124"
      ]
     },
     "execution_count": 56,
     "metadata": {},
     "output_type": "execute_result"
    }
   ],
   "source": [
    "df['original_lower_cased_tweet'] = df.tweet.str.lower()\n",
    "all_words = [word for tweet in df.original_lower_cased_tweet for word in nltk.word_tokenize(tweet) if word not in stopwords] # Words without stop words\n",
    "words_df = DataFrame(data = all_words, columns = ['word']).word.value_counts().reset_index()\n",
    "words_df.columns = ['word','wordCount']\n",
    "words_df['wordImportance'] = len(words_df) / words_df.wordCount / words_df.wordCount.max()\n",
    "words_df.head()"
   ]
  },
  {
   "cell_type": "code",
   "execution_count": 57,
   "id": "8e070f39-5eb6-4bc6-8819-8494d74c7994",
   "metadata": {},
   "outputs": [
    {
     "name": "stdout",
     "output_type": "stream",
     "text": [
      "Total of 93949 words, 18057 unique words\n",
      "Using words with 5 or more appearnces will reduce the corpus size to: 2420\n"
     ]
    }
   ],
   "source": [
    "print(\"Total of {} words, {} unique words\".format(len(all_words), len(words_df)))\n",
    "print (\"Using words with 5 or more appearnces will reduce the corpus size to: {}\".format(sum(words_df.wordCount >= 5)))"
   ]
  },
  {
   "cell_type": "code",
   "execution_count": 58,
   "id": "5f925972-95ab-4a65-897d-697797a2e14e",
   "metadata": {},
   "outputs": [
    {
     "data": {
      "text/plain": [
       "(7012, 2420)"
      ]
     },
     "execution_count": 58,
     "metadata": {},
     "output_type": "execute_result"
    }
   ],
   "source": [
    "vocab = set(words_df[words_df.wordCount >= 5].word)\n",
    "count_vect = CountVectorizer(vocabulary = vocab, tokenizer=nltk.word_tokenize)\n",
    "bow_counts = count_vect.fit_transform(df.original_lower_cased_tweet)\n",
    "bow_counts.shape"
   ]
  },
  {
   "cell_type": "code",
   "execution_count": 59,
   "id": "1355f0cf-7540-499c-b732-f7be20633d0e",
   "metadata": {},
   "outputs": [
    {
     "data": {
      "text/plain": [
       "'@mprasanth thk you 4 including my post social media-impact of social media on small business http://t.co/kvhd52x in ideas for a digital wrld'"
      ]
     },
     "execution_count": 59,
     "metadata": {},
     "output_type": "execute_result"
    }
   ],
   "source": [
    "df.iloc[1].original_lower_cased_tweet"
   ]
  },
  {
   "cell_type": "code",
   "execution_count": 60,
   "id": "520521fc-3068-44a6-a679-946432863b7c",
   "metadata": {},
   "outputs": [
    {
     "name": "stdout",
     "output_type": "stream",
     "text": [
      "  (0, 151)\t1\n",
      "  (0, 180)\t1\n",
      "  (0, 184)\t1\n",
      "  (0, 445)\t1\n",
      "  (0, 700)\t1\n",
      "  (0, 1097)\t1\n",
      "  (0, 1114)\t1\n",
      "  (0, 1129)\t1\n",
      "  (0, 1377)\t1\n",
      "  (0, 1651)\t1\n",
      "  (0, 1908)\t1\n",
      "  (0, 1917)\t2\n"
     ]
    }
   ],
   "source": [
    "print(bow_counts[1])"
   ]
  },
  {
   "cell_type": "code",
   "execution_count": 61,
   "id": "fdc07438-3019-4509-9aa4-1cd08146b134",
   "metadata": {},
   "outputs": [
    {
     "name": "stdout",
     "output_type": "stream",
     "text": [
      "4\n",
      ":\n",
      "@\n",
      "business\n",
      "digital\n",
      "http\n",
      "ideas\n"
     ]
    }
   ],
   "source": [
    "rev_dict = {v:k for k,v in count_vect.vocabulary_.items()}\n",
    "print(rev_dict[151])\n",
    "print(rev_dict[180])\n",
    "print(rev_dict[184])\n",
    "print(rev_dict[445])\n",
    "print(rev_dict[700])\n",
    "print(rev_dict[1097])\n",
    "print(rev_dict[1114])"
   ]
  },
  {
   "cell_type": "markdown",
   "id": "7d4ecb1a-75ea-4c68-8970-9452e5f84331",
   "metadata": {},
   "source": [
    "## Classification"
   ]
  },
  {
   "cell_type": "code",
   "execution_count": 62,
   "id": "0263d915-69ad-440e-af69-0e7f45ca19fc",
   "metadata": {},
   "outputs": [],
   "source": [
    "import numpy as np\n",
    "from sklearn.model_selection import train_test_split, cross_val_score\n",
    "from sklearn.metrics import roc_auc_score, precision_score, recall_score, accuracy_score"
   ]
  },
  {
   "cell_type": "code",
   "execution_count": 63,
   "id": "223df2d0-2b9e-473f-acb2-3309ff53e25c",
   "metadata": {},
   "outputs": [],
   "source": [
    "from sklearn.linear_model import LogisticRegression"
   ]
  },
  {
   "cell_type": "code",
   "execution_count": 64,
   "id": "26bef4e1-1ebf-4ec7-aab0-bfee6fd9b516",
   "metadata": {},
   "outputs": [],
   "source": [
    "%%capture\n",
    "search_grid = np.logspace(-2, 4, num=50, endpoint=True, base=10.0)\n",
    "auc_by_alpha = []\n",
    "for alpha in search_grid:\n",
    "    model = LogisticRegression(penalty='l2', C=alpha)\n",
    "    avg_score = cross_val_score(model, bow_counts, y = df.cls, cv = 10, scoring = 'roc_auc').mean()\n",
    "    auc_by_alpha.append((alpha,avg_score))"
   ]
  },
  {
   "cell_type": "code",
   "execution_count": 65,
   "id": "f4ec1615-cdf8-4e49-896f-69231290d017",
   "metadata": {},
   "outputs": [
    {
     "data": {
      "application/vnd.plotly.v1+json": {
       "config": {
        "linkText": "Export to plot.ly",
        "plotlyServerURL": "https://plot.ly",
        "showLink": true
       },
       "data": [
        {
         "line": {
          "color": "rgba(255, 153, 51, 1.0)",
          "dash": "solid",
          "shape": "linear",
          "width": 3
         },
         "mode": "lines",
         "name": "AUC",
         "text": "",
         "type": "scatter",
         "x": [
          0.01,
          0.013257113655901088,
          0.017575106248547922,
          0.023299518105153717,
          0.030888435964774818,
          0.040949150623804255,
          0.054286754393238594,
          0.07196856730011521,
          0.09540954763499938,
          0.12648552168552957,
          0.16768329368110083,
          0.22229964825261944,
          0.29470517025518095,
          0.3906939937054617,
          0.517947467923121,
          0.6866488450043002,
          0.9102981779915218,
          1.2067926406393288,
          1.5998587196060574,
          2.1209508879201904,
          2.8117686979742307,
          3.727593720314938,
          4.941713361323833,
          6.551285568595509
         ],
         "y": [
          0.9381010606072906,
          0.9412049008535479,
          0.9440328525930752,
          0.946768098968614,
          0.9494464589050648,
          0.9519163390010232,
          0.9542088193742911,
          0.9564891656341986,
          0.9585654733881507,
          0.9605247591256282,
          0.9624522337468371,
          0.9640090944510898,
          0.9654667077009697,
          0.9667543926320521,
          0.9677802048566709,
          0.9686209361097193,
          0.9693038224255757,
          0.9696468428798812,
          0.9698858171170046,
          0.9698508398780371,
          0.9696654499039601,
          0.9693385598417021,
          0.9689141080029252,
          0.9683181067351848
         ]
        }
       ],
       "layout": {
        "autosize": true,
        "legend": {
         "bgcolor": "#F5F6F9",
         "font": {
          "color": "#4D5663"
         }
        },
        "paper_bgcolor": "#F5F6F9",
        "plot_bgcolor": "#F5F6F9",
        "shapes": [
         {
          "line": {
           "color": "#db4052",
           "dash": "solid",
           "width": 1
          },
          "type": "line",
          "x0": 0,
          "x1": 1,
          "xref": "paper",
          "y0": [
           0,
           0
          ],
          "y1": [
           0,
           0
          ],
          "yref": "y"
         }
        ],
        "title": {
         "font": {
          "color": "#4D5663"
         },
         "text": "BOW Counts - AUC as a function of learning rate (alpha)"
        },
        "xaxis": {
         "autorange": true,
         "gridcolor": "#E1E5ED",
         "range": [
          0.01,
          6.551285568595509
         ],
         "showgrid": true,
         "tickfont": {
          "color": "#4D5663"
         },
         "title": {
          "font": {
           "color": "#4D5663"
          },
          "text": "alpha"
         },
         "type": "linear",
         "zerolinecolor": "#E1E5ED"
        },
        "yaxis": {
         "autorange": true,
         "gridcolor": "#E1E5ED",
         "range": [
          0.9363352408011953,
          0.9716516369230999
         ],
         "showgrid": true,
         "tickfont": {
          "color": "#4D5663"
         },
         "title": {
          "font": {
           "color": "#4D5663"
          },
          "text": "AUC"
         },
         "type": "linear",
         "zerolinecolor": "#E1E5ED"
        }
       }
      },
      "image/png": "[encoded data removed]",
      "text/html": [
       "<div>                            <div id=\"bc885094-87a3-45f3-a44d-c171537a4c08\" class=\"plotly-graph-div\" style=\"height:525px; width:100%;\"></div>            <script type=\"text/javascript\">                require([\"plotly\"], function(Plotly) {                    window.PLOTLYENV=window.PLOTLYENV || {};\n",
       "                    window.PLOTLYENV.BASE_URL='https://plot.ly';                                    if (document.getElementById(\"bc885094-87a3-45f3-a44d-c171537a4c08\")) {                    Plotly.newPlot(                        \"bc885094-87a3-45f3-a44d-c171537a4c08\",                        [{\"line\":{\"color\":\"rgba(255, 153, 51, 1.0)\",\"dash\":\"solid\",\"shape\":\"linear\",\"width\":3},\"mode\":\"lines\",\"name\":\"AUC\",\"text\":\"\",\"type\":\"scatter\",\"x\":[0.01,0.013257113655901088,0.017575106248547922,0.023299518105153717,0.030888435964774818,0.040949150623804255,0.054286754393238594,0.07196856730011521,0.09540954763499938,0.12648552168552957,0.16768329368110083,0.22229964825261944,0.29470517025518095,0.3906939937054617,0.517947467923121,0.6866488450043002,0.9102981779915218,1.2067926406393288,1.5998587196060574,2.1209508879201904,2.8117686979742307,3.727593720314938,4.941713361323833,6.551285568595509],\"y\":[0.9381010606072906,0.9412049008535479,0.9440328525930752,0.946768098968614,0.9494464589050648,0.9519163390010232,0.9542088193742911,0.9564891656341986,0.9585654733881507,0.9605247591256282,0.9624522337468371,0.9640090944510898,0.9654667077009697,0.9667543926320521,0.9677802048566709,0.9686209361097193,0.9693038224255757,0.9696468428798812,0.9698858171170046,0.9698508398780371,0.9696654499039601,0.9693385598417021,0.9689141080029252,0.9683181067351848]}],                        {\"legend\":{\"bgcolor\":\"#F5F6F9\",\"font\":{\"color\":\"#4D5663\"}},\"paper_bgcolor\":\"#F5F6F9\",\"plot_bgcolor\":\"#F5F6F9\",\"shapes\":[{\"line\":{\"color\":\"#db4052\",\"dash\":\"solid\",\"width\":1},\"type\":\"line\",\"x0\":0,\"x1\":1,\"xref\":\"paper\",\"y0\":[0,0],\"y1\":[0,0],\"yref\":\"y\"}],\"title\":\"BOW Counts - AUC as a function of learning rate (alpha)\",\"titlefont\":{\"color\":\"#4D5663\"},\"xaxis\":{\"gridcolor\":\"#E1E5ED\",\"showgrid\":true,\"tickfont\":{\"color\":\"#4D5663\"},\"title\":\"alpha\",\"titlefont\":{\"color\":\"#4D5663\"},\"zerolinecolor\":\"#E1E5ED\"},\"yaxis\":{\"gridcolor\":\"#E1E5ED\",\"showgrid\":true,\"tickfont\":{\"color\":\"#4D5663\"},\"title\":\"AUC\",\"titlefont\":{\"color\":\"#4D5663\"},\"zerolinecolor\":\"#E1E5ED\"}},                        {\"showLink\": true, \"linkText\": \"Export to plot.ly\", \"plotlyServerURL\": \"https://plot.ly\", \"responsive\": true}                    ).then(function(){\n",
       "                            \n",
       "var gd = document.getElementById('bc885094-87a3-45f3-a44d-c171537a4c08');\n",
       "var x = new MutationObserver(function (mutations, observer) {{\n",
       "        var display = window.getComputedStyle(gd).display;\n",
       "        if (!display || display === 'none') {{\n",
       "            console.log([gd, 'removed!']);\n",
       "            Plotly.purge(gd);\n",
       "            observer.disconnect();\n",
       "        }}\n",
       "}});\n",
       "\n",
       "// Listen for the removal of the full notebook cells\n",
       "var notebookContainer = gd.closest('#notebook-container');\n",
       "if (notebookContainer) {{\n",
       "    x.observe(notebookContainer, {childList: true});\n",
       "}}\n",
       "\n",
       "// Listen for the clearing of the current output cell\n",
       "var outputEl = gd.closest('.output');\n",
       "if (outputEl) {{\n",
       "    x.observe(outputEl, {childList: true});\n",
       "}}\n",
       "\n",
       "                        })                };                });            </script>        </div>"
      ]
     },
     "metadata": {},
     "output_type": "display_data"
    }
   ],
   "source": [
    "cv_results = DataFrame(auc_by_alpha, columns = ['alpha', 'AUC'])\n",
    "cv_results.query('alpha < 8').set_index('alpha').AUC.iplot(title = 'BOW Counts - AUC as a function of learning rate (alpha)', xTitle = 'alpha', yTitle = 'AUC', width = 3, hline=(0,0))"
   ]
  },
  {
   "cell_type": "code",
   "execution_count": 66,
   "id": "88e4042c-8a37-439b-8d22-731a627d2e2a",
   "metadata": {},
   "outputs": [
    {
     "name": "stdout",
     "output_type": "stream",
     "text": [
      "1.5998587196060574 0.9698858171170046\n"
     ]
    }
   ],
   "source": [
    "opt_alpha, max_auc = cv_results.loc[cv_results.AUC.idxmax()]\n",
    "print(opt_alpha, max_auc)"
   ]
  },
  {
   "cell_type": "markdown",
   "id": "ec419313-203e-4aaf-aa1d-29066ef21e8a",
   "metadata": {},
   "source": [
    "### Optimal Model"
   ]
  },
  {
   "cell_type": "markdown",
   "id": "c1f71e50-cddd-4d80-a61a-c1f66466b6a1",
   "metadata": {},
   "source": [
    "Let's use the optimal model regularization parameter and train a model on the **entire dataset**:"
   ]
  },
  {
   "cell_type": "code",
   "execution_count": 67,
   "id": "4e0f7cda-e0a1-4343-b15b-db900aac8e94",
   "metadata": {},
   "outputs": [
    {
     "data": {
      "text/plain": [
       "LogisticRegression(C=1.5998587196060574, max_iter=10000)"
      ]
     },
     "execution_count": 67,
     "metadata": {},
     "output_type": "execute_result"
    }
   ],
   "source": [
    "model = LogisticRegression(penalty='l2', C=opt_alpha, max_iter=10000)\n",
    "model.fit(bow_counts, df.cls)"
   ]
  },
  {
   "cell_type": "code",
   "execution_count": 68,
   "id": "3217f7bf-e459-4e0b-87b7-5092fd8839cf",
   "metadata": {},
   "outputs": [],
   "source": [
    "df['predicted_class'] = model.predict(bow_counts)\n",
    "df[['class_0_prob','class_1_prob']] = model.predict_proba(bow_counts)\n",
    "df['prediction_certainty'] = df.apply(lambda row: row.class_0_prob if row.predicted_class == 0 else row.class_1_prob, axis=1)"
   ]
  },
  {
   "cell_type": "code",
   "execution_count": 69,
   "id": "bfcbddbe-c400-4f4c-b758-b92c10dc73f5",
   "metadata": {},
   "outputs": [
    {
     "data": {
      "text/plain": [
       "0.9801768397033657"
      ]
     },
     "execution_count": 69,
     "metadata": {},
     "output_type": "execute_result"
    }
   ],
   "source": [
    "accuracy_score(df.predicted_class, df.cls)"
   ]
  },
  {
   "cell_type": "markdown",
   "id": "abd16f7d-f65e-41ad-b76b-78205bc4cf86",
   "metadata": {},
   "source": [
    "### Feature importance"
   ]
  },
  {
   "cell_type": "code",
   "execution_count": 70,
   "id": "b848b1b5-011f-4e6a-9ef1-b8be50836f09",
   "metadata": {},
   "outputs": [
    {
     "data": {
      "text/html": [
       "<div>\n",
       "<style scoped>\n",
       "    .dataframe tbody tr th:only-of-type {\n",
       "        vertical-align: middle;\n",
       "    }\n",
       "\n",
       "    .dataframe tbody tr th {\n",
       "        vertical-align: top;\n",
       "    }\n",
       "\n",
       "    .dataframe thead th {\n",
       "        text-align: right;\n",
       "    }\n",
       "</style>\n",
       "<table border=\"1\" class=\"dataframe\">\n",
       "  <thead>\n",
       "    <tr style=\"text-align: right;\">\n",
       "      <th></th>\n",
       "      <th>word</th>\n",
       "      <th>weight</th>\n",
       "      <th>absW</th>\n",
       "    </tr>\n",
       "  </thead>\n",
       "  <tbody>\n",
       "    <tr>\n",
       "      <th>1195</th>\n",
       "      <td>justinbieber</td>\n",
       "      <td>4.357349</td>\n",
       "      <td>4.357349</td>\n",
       "    </tr>\n",
       "    <tr>\n",
       "      <th>19</th>\n",
       "      <td>-</td>\n",
       "      <td>-4.246647</td>\n",
       "      <td>4.246647</td>\n",
       "    </tr>\n",
       "    <tr>\n",
       "      <th>2121</th>\n",
       "      <td>tmr15</td>\n",
       "      <td>3.552262</td>\n",
       "      <td>3.552262</td>\n",
       "    </tr>\n",
       "    <tr>\n",
       "      <th>1165</th>\n",
       "      <td>jasyla_</td>\n",
       "      <td>3.345459</td>\n",
       "      <td>3.345459</td>\n",
       "    </tr>\n",
       "    <tr>\n",
       "      <th>962</th>\n",
       "      <td>getglue</td>\n",
       "      <td>3.032820</td>\n",
       "      <td>3.032820</td>\n",
       "    </tr>\n",
       "  </tbody>\n",
       "</table>\n",
       "</div>"
      ],
      "text/plain": [
       "              word    weight      absW\n",
       "1195  justinbieber  4.357349  4.357349\n",
       "19               - -4.246647  4.246647\n",
       "2121         tmr15  3.552262  3.552262\n",
       "1165       jasyla_  3.345459  3.345459\n",
       "962        getglue  3.032820  3.032820"
      ]
     },
     "execution_count": 70,
     "metadata": {},
     "output_type": "execute_result"
    }
   ],
   "source": [
    "weights = model.coef_.flatten()\n",
    "words = [rev_dict[i] for i in range(len(weights))]\n",
    "feature_weights = DataFrame({'word': words, 'weight': weights, 'absW': abs(weights)})\n",
    "feature_weights.sort_values(by = 'absW', ascending = False, inplace = True)\n",
    "feature_weights.head(5)"
   ]
  },
  {
   "cell_type": "code",
   "execution_count": 71,
   "id": "4f1f066d-5b54-4a02-9860-909f260e13bb",
   "metadata": {},
   "outputs": [
    {
     "data": {
      "application/vnd.plotly.v1+json": {
       "config": {
        "linkText": "Export to plot.ly",
        "plotlyServerURL": "https://plot.ly",
        "showLink": true
       },
       "data": [
        {
         "marker": {
          "color": "rgba(255, 153, 51, 0.6)",
          "line": {
           "color": "rgba(255, 153, 51, 1.0)",
           "width": 1
          }
         },
         "name": "weight",
         "orientation": "v",
         "text": "",
         "type": "bar",
         "x": [
          "justinbieber",
          "-",
          "tmr15",
          "jasyla_",
          "getglue",
          "imagecomics",
          "giveaway",
          "familyfocusblog",
          "high_times_mag",
          "quote",
          "http",
          "gypsylullaby7",
          "create",
          "vrzone",
          "menshealthmag",
          "blogboost",
          "bossypally",
          "learn",
          "wonderfulvap",
          "gaming",
          "ao",
          "$",
          "tonight",
          "em",
          "muhreeuh24",
          "vertigo_comics",
          "http…",
          "via",
          "sneakersaddict",
          "com",
          "biz",
          "nikeplus",
          "anafielle",
          "win",
          "pokemon",
          "conniegreen",
          "marthagiffen",
          "10",
          "oh",
          "um",
          "bed",
          "rocket2guns",
          "30",
          "walkingdead_amc",
          "w/",
          "income",
          "hannahelliott",
          "amp",
          "vote",
          "aww",
          "takes",
          "local",
          "yvonneajones",
          "_vidyala",
          "playboy",
          "{",
          "april",
          "cancer",
          "est",
          "😍"
         ],
         "y": [
          4.3573485352248635,
          -4.246647274175835,
          3.5522621807163195,
          3.3454586022916573,
          3.032819925131642,
          -2.822921740668817,
          -2.7149479130017684,
          -2.6284095521367004,
          -2.5845850861107267,
          -2.2972059710256265,
          -2.2870779253010425,
          2.233519350685316,
          -2.2003017024662457,
          -2.1984515726668894,
          -2.157288482606811,
          -1.9733391362921173,
          1.9326954582484586,
          -1.9258033946640256,
          -1.9167309182522618,
          1.9014974189137366,
          -1.8618661827361684,
          -1.8370147725325894,
          1.812525719588401,
          -1.803781735239067,
          1.7798448604692307,
          -1.777684190757175,
          -1.74792803977367,
          -1.7307175500300314,
          -1.7248843013973374,
          -1.7233418570700392,
          -1.718636879375972,
          -1.7081535492393571,
          1.6913970123968605,
          -1.6807779041904594,
          1.6694938338694763,
          -1.6571826520525104,
          -1.6384918545086589,
          -1.6306239878214503,
          1.6264374916811304,
          -1.6139324532780495,
          1.6116420154662112,
          -1.6115598513374343,
          -1.6067674263743703,
          -1.6058335781513116,
          1.5952125356788653,
          -1.5844119051296424,
          -1.5783042721838925,
          1.5686217268943288,
          1.5647570374082609,
          1.5568862149838014,
          -1.556648728717914,
          -1.5524883645462841,
          -1.533177388903179,
          1.5251807768925734,
          -1.5112652242643234,
          -1.5019913776229963,
          -1.4931370426122463,
          1.4900496077964023,
          -1.484044085940111,
          1.4791845403763548
         ]
        }
       ],
       "layout": {
        "autosize": true,
        "legend": {
         "bgcolor": "#F5F6F9",
         "font": {
          "color": "#4D5663"
         }
        },
        "paper_bgcolor": "#F5F6F9",
        "plot_bgcolor": "#F5F6F9",
        "shapes": [
         {
          "line": {
           "color": "#db4052",
           "dash": "solid",
           "width": 1
          },
          "type": "line",
          "x0": 0,
          "x1": 1,
          "xref": "paper",
          "y0": [
           0,
           0
          ],
          "y1": [
           0,
           0
          ],
          "yref": "y"
         }
        ],
        "title": {
         "font": {
          "color": "#4D5663"
         },
         "text": "Signicance of word to \"Good Tweet\" classification"
        },
        "xaxis": {
         "autorange": true,
         "gridcolor": "#E1E5ED",
         "range": [
          -0.5,
          59.5
         ],
         "showgrid": true,
         "tickfont": {
          "color": "#4D5663"
         },
         "title": {
          "font": {
           "color": "#4D5663"
          },
          "text": ""
         },
         "type": "category",
         "zerolinecolor": "#E1E5ED"
        },
        "yaxis": {
         "autorange": true,
         "gridcolor": "#E1E5ED",
         "range": [
          -4.724647041364763,
          4.8353483024137915
         ],
         "showgrid": true,
         "tickfont": {
          "color": "#4D5663"
         },
         "title": {
          "font": {
           "color": "#4D5663"
          },
          "text": ""
         },
         "type": "linear",
         "zerolinecolor": "#E1E5ED"
        }
       }
      },
      "image/png": "[encoded data removed]",
      "text/html": [
       "<div>                            <div id=\"e49e93b8-7e83-49f7-87bf-8f4842df82f8\" class=\"plotly-graph-div\" style=\"height:525px; width:100%;\"></div>            <script type=\"text/javascript\">                require([\"plotly\"], function(Plotly) {                    window.PLOTLYENV=window.PLOTLYENV || {};\n",
       "                    window.PLOTLYENV.BASE_URL='https://plot.ly';                                    if (document.getElementById(\"e49e93b8-7e83-49f7-87bf-8f4842df82f8\")) {                    Plotly.newPlot(                        \"e49e93b8-7e83-49f7-87bf-8f4842df82f8\",                        [{\"marker\":{\"color\":\"rgba(255, 153, 51, 0.6)\",\"line\":{\"color\":\"rgba(255, 153, 51, 1.0)\",\"width\":1}},\"name\":\"weight\",\"orientation\":\"v\",\"text\":\"\",\"type\":\"bar\",\"x\":[\"justinbieber\",\"-\",\"tmr15\",\"jasyla_\",\"getglue\",\"imagecomics\",\"giveaway\",\"familyfocusblog\",\"high_times_mag\",\"quote\",\"http\",\"gypsylullaby7\",\"create\",\"vrzone\",\"menshealthmag\",\"blogboost\",\"bossypally\",\"learn\",\"wonderfulvap\",\"gaming\",\"ao\",\"$\",\"tonight\",\"em\",\"muhreeuh24\",\"vertigo_comics\",\"http\\u2026\",\"via\",\"sneakersaddict\",\"com\",\"biz\",\"nikeplus\",\"anafielle\",\"win\",\"pokemon\",\"conniegreen\",\"marthagiffen\",\"10\",\"oh\",\"um\",\"bed\",\"rocket2guns\",\"30\",\"walkingdead_amc\",\"w/\",\"income\",\"hannahelliott\",\"amp\",\"vote\",\"aww\",\"takes\",\"local\",\"yvonneajones\",\"_vidyala\",\"playboy\",\"{\",\"april\",\"cancer\",\"est\",\"\\ud83d\\ude0d\"],\"y\":[4.3573485352248635,-4.246647274175835,3.5522621807163195,3.3454586022916573,3.032819925131642,-2.822921740668817,-2.7149479130017684,-2.6284095521367004,-2.5845850861107267,-2.2972059710256265,-2.2870779253010425,2.233519350685316,-2.2003017024662457,-2.1984515726668894,-2.157288482606811,-1.9733391362921173,1.9326954582484586,-1.9258033946640256,-1.9167309182522618,1.9014974189137366,-1.8618661827361684,-1.8370147725325894,1.812525719588401,-1.803781735239067,1.7798448604692307,-1.777684190757175,-1.74792803977367,-1.7307175500300314,-1.7248843013973374,-1.7233418570700392,-1.718636879375972,-1.7081535492393571,1.6913970123968605,-1.6807779041904594,1.6694938338694763,-1.6571826520525104,-1.6384918545086589,-1.6306239878214503,1.6264374916811304,-1.6139324532780495,1.6116420154662112,-1.6115598513374343,-1.6067674263743703,-1.6058335781513116,1.5952125356788653,-1.5844119051296424,-1.5783042721838925,1.5686217268943288,1.5647570374082609,1.5568862149838014,-1.556648728717914,-1.5524883645462841,-1.533177388903179,1.5251807768925734,-1.5112652242643234,-1.5019913776229963,-1.4931370426122463,1.4900496077964023,-1.484044085940111,1.4791845403763548]}],                        {\"legend\":{\"bgcolor\":\"#F5F6F9\",\"font\":{\"color\":\"#4D5663\"}},\"paper_bgcolor\":\"#F5F6F9\",\"plot_bgcolor\":\"#F5F6F9\",\"shapes\":[{\"line\":{\"color\":\"#db4052\",\"dash\":\"solid\",\"width\":1},\"type\":\"line\",\"x0\":0,\"x1\":1,\"xref\":\"paper\",\"y0\":[0,0],\"y1\":[0,0],\"yref\":\"y\"}],\"title\":\"Signicance of word to \\\"Good Tweet\\\" classification\",\"titlefont\":{\"color\":\"#4D5663\"},\"xaxis\":{\"gridcolor\":\"#E1E5ED\",\"showgrid\":true,\"tickfont\":{\"color\":\"#4D5663\"},\"title\":\"\",\"titlefont\":{\"color\":\"#4D5663\"},\"zerolinecolor\":\"#E1E5ED\"},\"yaxis\":{\"gridcolor\":\"#E1E5ED\",\"showgrid\":true,\"tickfont\":{\"color\":\"#4D5663\"},\"title\":\"\",\"titlefont\":{\"color\":\"#4D5663\"},\"zerolinecolor\":\"#E1E5ED\"}},                        {\"showLink\": true, \"linkText\": \"Export to plot.ly\", \"plotlyServerURL\": \"https://plot.ly\", \"responsive\": true}                    ).then(function(){\n",
       "                            \n",
       "var gd = document.getElementById('e49e93b8-7e83-49f7-87bf-8f4842df82f8');\n",
       "var x = new MutationObserver(function (mutations, observer) {{\n",
       "        var display = window.getComputedStyle(gd).display;\n",
       "        if (!display || display === 'none') {{\n",
       "            console.log([gd, 'removed!']);\n",
       "            Plotly.purge(gd);\n",
       "            observer.disconnect();\n",
       "        }}\n",
       "}});\n",
       "\n",
       "// Listen for the removal of the full notebook cells\n",
       "var notebookContainer = gd.closest('#notebook-container');\n",
       "if (notebookContainer) {{\n",
       "    x.observe(notebookContainer, {childList: true});\n",
       "}}\n",
       "\n",
       "// Listen for the clearing of the current output cell\n",
       "var outputEl = gd.closest('.output');\n",
       "if (outputEl) {{\n",
       "    x.observe(outputEl, {childList: true});\n",
       "}}\n",
       "\n",
       "                        })                };                });            </script>        </div>"
      ]
     },
     "metadata": {},
     "output_type": "display_data"
    }
   ],
   "source": [
    "feature_weights.set_index('word').weight.head(60).iplot(kind = 'bar', title = 'Signicance of word to \"Good Tweet\" classification', hline=(0,0))\n"
   ]
  },
  {
   "cell_type": "markdown",
   "id": "d1302468-0097-409c-909b-5879b9f262e1",
   "metadata": {},
   "source": [
    "## Hand crafted features"
   ]
  },
  {
   "cell_type": "code",
   "execution_count": 72,
   "id": "ad2443ca-bcc2-48aa-941f-85c7500ca2e5",
   "metadata": {},
   "outputs": [],
   "source": [
    "def extract_featurs(tweet):\n",
    "    return pd.Series({'has_at': '@' in tweet,\n",
    "                      'has_url': 'http' in tweet,\n",
    "                      'has_giveaway': 'giveaway' in tweet,\n",
    "                      'has_blogboost': 'blog_boost' in tweet,\n",
    "                      'has_dollar': '$' in tweet,\n",
    "                      'has_hashtags': '#' in tweet })"
   ]
  },
  {
   "cell_type": "code",
   "execution_count": 73,
   "id": "263466a1-2bbf-4095-bc6c-6e80d0cde470",
   "metadata": {},
   "outputs": [
    {
     "data": {
      "text/html": [
       "<div>\n",
       "<style scoped>\n",
       "    .dataframe tbody tr th:only-of-type {\n",
       "        vertical-align: middle;\n",
       "    }\n",
       "\n",
       "    .dataframe tbody tr th {\n",
       "        vertical-align: top;\n",
       "    }\n",
       "\n",
       "    .dataframe thead th {\n",
       "        text-align: right;\n",
       "    }\n",
       "</style>\n",
       "<table border=\"1\" class=\"dataframe\">\n",
       "  <thead>\n",
       "    <tr style=\"text-align: right;\">\n",
       "      <th></th>\n",
       "      <th>has_at</th>\n",
       "      <th>has_url</th>\n",
       "      <th>has_giveaway</th>\n",
       "      <th>has_blogboost</th>\n",
       "      <th>has_dollar</th>\n",
       "      <th>has_hashtags</th>\n",
       "    </tr>\n",
       "  </thead>\n",
       "  <tbody>\n",
       "    <tr>\n",
       "      <th>0</th>\n",
       "      <td>True</td>\n",
       "      <td>False</td>\n",
       "      <td>False</td>\n",
       "      <td>False</td>\n",
       "      <td>False</td>\n",
       "      <td>False</td>\n",
       "    </tr>\n",
       "    <tr>\n",
       "      <th>1</th>\n",
       "      <td>True</td>\n",
       "      <td>True</td>\n",
       "      <td>False</td>\n",
       "      <td>False</td>\n",
       "      <td>False</td>\n",
       "      <td>False</td>\n",
       "    </tr>\n",
       "    <tr>\n",
       "      <th>2</th>\n",
       "      <td>True</td>\n",
       "      <td>False</td>\n",
       "      <td>False</td>\n",
       "      <td>False</td>\n",
       "      <td>False</td>\n",
       "      <td>False</td>\n",
       "    </tr>\n",
       "    <tr>\n",
       "      <th>3</th>\n",
       "      <td>True</td>\n",
       "      <td>False</td>\n",
       "      <td>False</td>\n",
       "      <td>False</td>\n",
       "      <td>False</td>\n",
       "      <td>False</td>\n",
       "    </tr>\n",
       "    <tr>\n",
       "      <th>4</th>\n",
       "      <td>True</td>\n",
       "      <td>False</td>\n",
       "      <td>False</td>\n",
       "      <td>False</td>\n",
       "      <td>False</td>\n",
       "      <td>False</td>\n",
       "    </tr>\n",
       "  </tbody>\n",
       "</table>\n",
       "</div>"
      ],
      "text/plain": [
       "   has_at  has_url  has_giveaway  has_blogboost  has_dollar  has_hashtags\n",
       "0    True    False         False          False       False         False\n",
       "1    True     True         False          False       False         False\n",
       "2    True    False         False          False       False         False\n",
       "3    True    False         False          False       False         False\n",
       "4    True    False         False          False       False         False"
      ]
     },
     "execution_count": 73,
     "metadata": {},
     "output_type": "execute_result"
    }
   ],
   "source": [
    "features = df.original_lower_cased_tweet.apply(extract_featurs)\n",
    "features.head()"
   ]
  },
  {
   "cell_type": "code",
   "execution_count": 74,
   "id": "79eec941-cf4c-4090-a5d7-17c81f812ae6",
   "metadata": {},
   "outputs": [],
   "source": [
    "%%capture\n",
    "search_grid = np.logspace(-2, 4, num=50, endpoint=True, base=10.0)\n",
    "auc_by_alpha = []\n",
    "for alpha in search_grid:\n",
    "    model = LogisticRegression(penalty='l2', C=alpha)\n",
    "    avg_score = cross_val_score(model, features, y = df.cls, cv = 10, scoring = 'roc_auc').mean()\n",
    "    auc_by_alpha.append((alpha,avg_score))"
   ]
  },
  {
   "cell_type": "code",
   "execution_count": 75,
   "id": "cfd363a6-7594-4221-831a-0a4f9c7736d6",
   "metadata": {},
   "outputs": [
    {
     "data": {
      "application/vnd.plotly.v1+json": {
       "config": {
        "linkText": "Export to plot.ly",
        "plotlyServerURL": "https://plot.ly",
        "showLink": true
       },
       "data": [
        {
         "line": {
          "color": "rgba(255, 153, 51, 1.0)",
          "dash": "solid",
          "shape": "linear",
          "width": 3
         },
         "mode": "lines",
         "name": "AUC",
         "text": "",
         "type": "scatter",
         "x": [
          0.01,
          0.013257113655901088,
          0.017575106248547922,
          0.023299518105153717,
          0.030888435964774818,
          0.040949150623804255,
          0.054286754393238594,
          0.07196856730011521,
          0.09540954763499938,
          0.12648552168552957,
          0.16768329368110083,
          0.22229964825261944,
          0.29470517025518095,
          0.3906939937054617,
          0.517947467923121,
          0.6866488450043002,
          0.9102981779915218,
          1.2067926406393288,
          1.5998587196060574,
          2.1209508879201904,
          2.8117686979742307,
          3.727593720314938,
          4.941713361323833,
          6.551285568595509
         ],
         "y": [
          0.8982388978627724,
          0.8986125303191415,
          0.8992401351641531,
          0.899593417268868,
          0.8996080695220587,
          0.8996080695220587,
          0.8952751718053937,
          0.8952963131112254,
          0.895281716201767,
          0.8962535728991335,
          0.8987989810480922,
          0.8993459293208883,
          0.8981045578699896,
          0.8981615388546208,
          0.8981615388546208,
          0.8981615388546208,
          0.8974045057730891,
          0.8974045057730891,
          0.8974378803498018,
          0.8974647428139851,
          0.8974647428139851,
          0.8974647428139851,
          0.8974647428139851,
          0.8974647428139851
         ]
        }
       ],
       "layout": {
        "autosize": true,
        "legend": {
         "bgcolor": "#F5F6F9",
         "font": {
          "color": "#4D5663"
         }
        },
        "paper_bgcolor": "#F5F6F9",
        "plot_bgcolor": "#F5F6F9",
        "shapes": [
         {
          "line": {
           "color": "#db4052",
           "dash": "solid",
           "width": 1
          },
          "type": "line",
          "x0": 0,
          "x1": 1,
          "xref": "paper",
          "y0": [
           0,
           0
          ],
          "y1": [
           0,
           0
          ],
          "yref": "y"
         }
        ],
        "title": {
         "font": {
          "color": "#4D5663"
         },
         "text": "BOW Counts - AUC as a function of learning rate (alpha)"
        },
        "xaxis": {
         "autorange": true,
         "gridcolor": "#E1E5ED",
         "range": [
          0.01,
          6.551285568595509
         ],
         "showgrid": true,
         "tickfont": {
          "color": "#4D5663"
         },
         "title": {
          "font": {
           "color": "#4D5663"
          },
          "text": "alpha"
         },
         "type": "linear",
         "zerolinecolor": "#E1E5ED"
        },
        "yaxis": {
         "autorange": true,
         "gridcolor": "#E1E5ED",
         "range": [
          0.895034455265579,
          0.8998487860618735
         ],
         "showgrid": true,
         "tickfont": {
          "color": "#4D5663"
         },
         "title": {
          "font": {
           "color": "#4D5663"
          },
          "text": "AUC"
         },
         "type": "linear",
         "zerolinecolor": "#E1E5ED"
        }
       }
      },
      "image/png": "[encoded data removed]",
      "text/html": [
       "<div>                            <div id=\"55fac326-f39f-4937-81b4-801cd932e985\" class=\"plotly-graph-div\" style=\"height:525px; width:100%;\"></div>            <script type=\"text/javascript\">                require([\"plotly\"], function(Plotly) {                    window.PLOTLYENV=window.PLOTLYENV || {};\n",
       "                    window.PLOTLYENV.BASE_URL='https://plot.ly';                                    if (document.getElementById(\"55fac326-f39f-4937-81b4-801cd932e985\")) {                    Plotly.newPlot(                        \"55fac326-f39f-4937-81b4-801cd932e985\",                        [{\"line\":{\"color\":\"rgba(255, 153, 51, 1.0)\",\"dash\":\"solid\",\"shape\":\"linear\",\"width\":3},\"mode\":\"lines\",\"name\":\"AUC\",\"text\":\"\",\"type\":\"scatter\",\"x\":[0.01,0.013257113655901088,0.017575106248547922,0.023299518105153717,0.030888435964774818,0.040949150623804255,0.054286754393238594,0.07196856730011521,0.09540954763499938,0.12648552168552957,0.16768329368110083,0.22229964825261944,0.29470517025518095,0.3906939937054617,0.517947467923121,0.6866488450043002,0.9102981779915218,1.2067926406393288,1.5998587196060574,2.1209508879201904,2.8117686979742307,3.727593720314938,4.941713361323833,6.551285568595509],\"y\":[0.8982388978627724,0.8986125303191415,0.8992401351641531,0.899593417268868,0.8996080695220587,0.8996080695220587,0.8952751718053937,0.8952963131112254,0.895281716201767,0.8962535728991335,0.8987989810480922,0.8993459293208883,0.8981045578699896,0.8981615388546208,0.8981615388546208,0.8981615388546208,0.8974045057730891,0.8974045057730891,0.8974378803498018,0.8974647428139851,0.8974647428139851,0.8974647428139851,0.8974647428139851,0.8974647428139851]}],                        {\"legend\":{\"bgcolor\":\"#F5F6F9\",\"font\":{\"color\":\"#4D5663\"}},\"paper_bgcolor\":\"#F5F6F9\",\"plot_bgcolor\":\"#F5F6F9\",\"shapes\":[{\"line\":{\"color\":\"#db4052\",\"dash\":\"solid\",\"width\":1},\"type\":\"line\",\"x0\":0,\"x1\":1,\"xref\":\"paper\",\"y0\":[0,0],\"y1\":[0,0],\"yref\":\"y\"}],\"title\":\"BOW Counts - AUC as a function of learning rate (alpha)\",\"titlefont\":{\"color\":\"#4D5663\"},\"xaxis\":{\"gridcolor\":\"#E1E5ED\",\"showgrid\":true,\"tickfont\":{\"color\":\"#4D5663\"},\"title\":\"alpha\",\"titlefont\":{\"color\":\"#4D5663\"},\"zerolinecolor\":\"#E1E5ED\"},\"yaxis\":{\"gridcolor\":\"#E1E5ED\",\"showgrid\":true,\"tickfont\":{\"color\":\"#4D5663\"},\"title\":\"AUC\",\"titlefont\":{\"color\":\"#4D5663\"},\"zerolinecolor\":\"#E1E5ED\"}},                        {\"showLink\": true, \"linkText\": \"Export to plot.ly\", \"plotlyServerURL\": \"https://plot.ly\", \"responsive\": true}                    ).then(function(){\n",
       "                            \n",
       "var gd = document.getElementById('55fac326-f39f-4937-81b4-801cd932e985');\n",
       "var x = new MutationObserver(function (mutations, observer) {{\n",
       "        var display = window.getComputedStyle(gd).display;\n",
       "        if (!display || display === 'none') {{\n",
       "            console.log([gd, 'removed!']);\n",
       "            Plotly.purge(gd);\n",
       "            observer.disconnect();\n",
       "        }}\n",
       "}});\n",
       "\n",
       "// Listen for the removal of the full notebook cells\n",
       "var notebookContainer = gd.closest('#notebook-container');\n",
       "if (notebookContainer) {{\n",
       "    x.observe(notebookContainer, {childList: true});\n",
       "}}\n",
       "\n",
       "// Listen for the clearing of the current output cell\n",
       "var outputEl = gd.closest('.output');\n",
       "if (outputEl) {{\n",
       "    x.observe(outputEl, {childList: true});\n",
       "}}\n",
       "\n",
       "                        })                };                });            </script>        </div>"
      ]
     },
     "metadata": {},
     "output_type": "display_data"
    }
   ],
   "source": [
    "cv_results = DataFrame(auc_by_alpha, columns = ['alpha', 'AUC'])\n",
    "cv_results.query('alpha < 8').set_index('alpha').AUC.iplot(title = 'BOW Counts - AUC as a function of learning rate (alpha)', xTitle = 'alpha', yTitle = 'AUC', width = 3, hline=(0,0))"
   ]
  },
  {
   "cell_type": "code",
   "execution_count": 76,
   "id": "b566af02-cc46-46c1-bc13-a2f487c9469f",
   "metadata": {},
   "outputs": [
    {
     "name": "stdout",
     "output_type": "stream",
     "text": [
      "0.030888435964774818 0.8996080695220587\n"
     ]
    }
   ],
   "source": [
    "opt_alpha, max_auc = cv_results.loc[cv_results.AUC.idxmax()]\n",
    "print(opt_alpha, max_auc)"
   ]
  },
  {
   "cell_type": "markdown",
   "id": "07043468-5bb2-456f-b8d1-9c7be1e52e2d",
   "metadata": {},
   "source": [
    "So we can see that very good results can be achieved by very few features."
   ]
  },
  {
   "cell_type": "markdown",
   "id": "92ec2f2a-7bd7-481a-b5ac-44efb7744447",
   "metadata": {},
   "source": [
    "## Using Words + additinal featurs"
   ]
  },
  {
   "cell_type": "code",
   "execution_count": 78,
   "id": "e8c0e035-f825-4639-8412-2c77f987640a",
   "metadata": {},
   "outputs": [],
   "source": [
    "from scipy.sparse import coo_matrix, hstack\n",
    "\n",
    "train_features_spares_matrix = coo_matrix(features)\n",
    "train_united_features = hstack((clean_bow_counts ,train_features_spares_matrix))"
   ]
  },
  {
   "cell_type": "code",
   "execution_count": 79,
   "id": "b73f5dba-1608-4467-a0ce-a5e7635448c9",
   "metadata": {},
   "outputs": [],
   "source": [
    "%%capture\n",
    "search_grid = np.logspace(-2, 4, num=50, endpoint=True, base=10.0)\n",
    "auc_by_alpha = []\n",
    "for alpha in search_grid:\n",
    "    model = LogisticRegression(penalty='l2', C=alpha)\n",
    "    avg_score = cross_val_score(model, train_united_features, y = df.cls, cv = 10, scoring = 'roc_auc').mean()\n",
    "    auc_by_alpha.append((alpha,avg_score))"
   ]
  },
  {
   "cell_type": "code",
   "execution_count": 80,
   "id": "1ff04e64-4d43-4045-9142-a72401ec83a4",
   "metadata": {},
   "outputs": [
    {
     "data": {
      "application/vnd.plotly.v1+json": {
       "config": {
        "linkText": "Export to plot.ly",
        "plotlyServerURL": "https://plot.ly",
        "showLink": true
       },
       "data": [
        {
         "line": {
          "color": "rgba(255, 153, 51, 1.0)",
          "dash": "solid",
          "shape": "linear",
          "width": 3
         },
         "mode": "lines",
         "name": "AUC",
         "text": "",
         "type": "scatter",
         "x": [
          0.01,
          0.013257113655901088,
          0.017575106248547922,
          0.023299518105153717,
          0.030888435964774818,
          0.040949150623804255,
          0.054286754393238594,
          0.07196856730011521,
          0.09540954763499938,
          0.12648552168552957,
          0.16768329368110083,
          0.22229964825261944,
          0.29470517025518095,
          0.3906939937054617,
          0.517947467923121,
          0.6866488450043002,
          0.9102981779915218,
          1.2067926406393288,
          1.5998587196060574,
          2.1209508879201904,
          2.8117686979742307,
          3.727593720314938,
          4.941713361323833,
          6.551285568595509
         ],
         "y": [
          0.9235744169353298,
          0.9255517654835161,
          0.9276512461194819,
          0.9298717842524205,
          0.9319733172184682,
          0.9340121249816443,
          0.9360898209408877,
          0.9381869863640422,
          0.9401174726066971,
          0.9421414021297743,
          0.9440733273094756,
          0.945933831402329,
          0.9474338494812816,
          0.9485069782912363,
          0.949229396174051,
          0.9495388229827025,
          0.9496188592439161,
          0.9494596307134102,
          0.9488067591485034,
          0.9477887826740172,
          0.9466269978165052,
          0.9453632490497483,
          0.9438555335799943,
          0.9422152306689876
         ]
        }
       ],
       "layout": {
        "autosize": true,
        "legend": {
         "bgcolor": "#F5F6F9",
         "font": {
          "color": "#4D5663"
         }
        },
        "paper_bgcolor": "#F5F6F9",
        "plot_bgcolor": "#F5F6F9",
        "shapes": [
         {
          "line": {
           "color": "#db4052",
           "dash": "solid",
           "width": 1
          },
          "type": "line",
          "x0": 0,
          "x1": 1,
          "xref": "paper",
          "y0": [
           0,
           0
          ],
          "y1": [
           0,
           0
          ],
          "yref": "y"
         }
        ],
        "title": {
         "font": {
          "color": "#4D5663"
         },
         "text": "BOW Counts - AUC as a function of learning rate (alpha)"
        },
        "xaxis": {
         "autorange": true,
         "gridcolor": "#E1E5ED",
         "range": [
          0.01,
          6.551285568595509
         ],
         "showgrid": true,
         "tickfont": {
          "color": "#4D5663"
         },
         "title": {
          "font": {
           "color": "#4D5663"
          },
          "text": "alpha"
         },
         "type": "linear",
         "zerolinecolor": "#E1E5ED"
        },
        "yaxis": {
         "autorange": true,
         "gridcolor": "#E1E5ED",
         "range": [
          0.9221275034737417,
          0.9510657727055042
         ],
         "showgrid": true,
         "tickfont": {
          "color": "#4D5663"
         },
         "title": {
          "font": {
           "color": "#4D5663"
          },
          "text": "AUC"
         },
         "type": "linear",
         "zerolinecolor": "#E1E5ED"
        }
       }
      },
      "image/png": "[encoded data removed]",
      "text/html": [
       "<div>                            <div id=\"d18653b9-076a-46e5-9dc5-9de014057f61\" class=\"plotly-graph-div\" style=\"height:525px; width:100%;\"></div>            <script type=\"text/javascript\">                require([\"plotly\"], function(Plotly) {                    window.PLOTLYENV=window.PLOTLYENV || {};\n",
       "                    window.PLOTLYENV.BASE_URL='https://plot.ly';                                    if (document.getElementById(\"d18653b9-076a-46e5-9dc5-9de014057f61\")) {                    Plotly.newPlot(                        \"d18653b9-076a-46e5-9dc5-9de014057f61\",                        [{\"line\":{\"color\":\"rgba(255, 153, 51, 1.0)\",\"dash\":\"solid\",\"shape\":\"linear\",\"width\":3},\"mode\":\"lines\",\"name\":\"AUC\",\"text\":\"\",\"type\":\"scatter\",\"x\":[0.01,0.013257113655901088,0.017575106248547922,0.023299518105153717,0.030888435964774818,0.040949150623804255,0.054286754393238594,0.07196856730011521,0.09540954763499938,0.12648552168552957,0.16768329368110083,0.22229964825261944,0.29470517025518095,0.3906939937054617,0.517947467923121,0.6866488450043002,0.9102981779915218,1.2067926406393288,1.5998587196060574,2.1209508879201904,2.8117686979742307,3.727593720314938,4.941713361323833,6.551285568595509],\"y\":[0.9235744169353298,0.9255517654835161,0.9276512461194819,0.9298717842524205,0.9319733172184682,0.9340121249816443,0.9360898209408877,0.9381869863640422,0.9401174726066971,0.9421414021297743,0.9440733273094756,0.945933831402329,0.9474338494812816,0.9485069782912363,0.949229396174051,0.9495388229827025,0.9496188592439161,0.9494596307134102,0.9488067591485034,0.9477887826740172,0.9466269978165052,0.9453632490497483,0.9438555335799943,0.9422152306689876]}],                        {\"legend\":{\"bgcolor\":\"#F5F6F9\",\"font\":{\"color\":\"#4D5663\"}},\"paper_bgcolor\":\"#F5F6F9\",\"plot_bgcolor\":\"#F5F6F9\",\"shapes\":[{\"line\":{\"color\":\"#db4052\",\"dash\":\"solid\",\"width\":1},\"type\":\"line\",\"x0\":0,\"x1\":1,\"xref\":\"paper\",\"y0\":[0,0],\"y1\":[0,0],\"yref\":\"y\"}],\"title\":\"BOW Counts - AUC as a function of learning rate (alpha)\",\"titlefont\":{\"color\":\"#4D5663\"},\"xaxis\":{\"gridcolor\":\"#E1E5ED\",\"showgrid\":true,\"tickfont\":{\"color\":\"#4D5663\"},\"title\":\"alpha\",\"titlefont\":{\"color\":\"#4D5663\"},\"zerolinecolor\":\"#E1E5ED\"},\"yaxis\":{\"gridcolor\":\"#E1E5ED\",\"showgrid\":true,\"tickfont\":{\"color\":\"#4D5663\"},\"title\":\"AUC\",\"titlefont\":{\"color\":\"#4D5663\"},\"zerolinecolor\":\"#E1E5ED\"}},                        {\"showLink\": true, \"linkText\": \"Export to plot.ly\", \"plotlyServerURL\": \"https://plot.ly\", \"responsive\": true}                    ).then(function(){\n",
       "                            \n",
       "var gd = document.getElementById('d18653b9-076a-46e5-9dc5-9de014057f61');\n",
       "var x = new MutationObserver(function (mutations, observer) {{\n",
       "        var display = window.getComputedStyle(gd).display;\n",
       "        if (!display || display === 'none') {{\n",
       "            console.log([gd, 'removed!']);\n",
       "            Plotly.purge(gd);\n",
       "            observer.disconnect();\n",
       "        }}\n",
       "}});\n",
       "\n",
       "// Listen for the removal of the full notebook cells\n",
       "var notebookContainer = gd.closest('#notebook-container');\n",
       "if (notebookContainer) {{\n",
       "    x.observe(notebookContainer, {childList: true});\n",
       "}}\n",
       "\n",
       "// Listen for the clearing of the current output cell\n",
       "var outputEl = gd.closest('.output');\n",
       "if (outputEl) {{\n",
       "    x.observe(outputEl, {childList: true});\n",
       "}}\n",
       "\n",
       "                        })                };                });            </script>        </div>"
      ]
     },
     "metadata": {},
     "output_type": "display_data"
    }
   ],
   "source": [
    "cv_results = DataFrame(auc_by_alpha, columns = ['alpha', 'AUC'])\n",
    "cv_results.query('alpha < 8').set_index('alpha').AUC.iplot(title = 'BOW Counts - AUC as a function of learning rate (alpha)', xTitle = 'alpha', yTitle = 'AUC', width = 3, hline=(0,0))"
   ]
  },
  {
   "cell_type": "code",
   "execution_count": 81,
   "id": "10cd0d05-ed95-466d-b338-04186e94edc3",
   "metadata": {},
   "outputs": [
    {
     "name": "stdout",
     "output_type": "stream",
     "text": [
      "0.9102981779915218 0.9496188592439161\n"
     ]
    }
   ],
   "source": [
    "opt_alpha, max_auc = cv_results.loc[cv_results.AUC.idxmax()]\n",
    "print(opt_alpha, max_auc)"
   ]
  },
  {
   "cell_type": "markdown",
   "id": "fe81767b-ba5f-46b2-b02c-5a12ebdf77cb",
   "metadata": {},
   "source": [
    "And we can see that by including the missing information we are getting some same benfits of using the non-cleaned vocabulary"
   ]
  }
 ],
 "metadata": {
  "kernelspec": {
   "display_name": "Python 3",
   "language": "python",
   "name": "python3"
  },
  "language_info": {
   "codemirror_mode": {
    "name": "ipython",
    "version": 3
   },
   "file_extension": ".py",
   "mimetype": "text/x-python",
   "name": "python",
   "nbconvert_exporter": "python",
   "pygments_lexer": "ipython3",
   "version": "3.8.8"
  }
 },
 "nbformat": 4,
 "nbformat_minor": 5
}
