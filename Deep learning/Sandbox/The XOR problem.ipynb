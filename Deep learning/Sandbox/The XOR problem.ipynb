{
 "cells": [
  {
   "cell_type": "markdown",
   "id": "f90e0b5c-2821-4fdc-8142-a03e6b58374d",
   "metadata": {},
   "source": [
    "# The XOR problem"
   ]
  },
  {
   "cell_type": "markdown",
   "id": "e136b9f9-1be9-47e0-ba2f-16c8fa5901de",
   "metadata": {},
   "source": [
    "## Exercises"
   ]
  },
  {
   "cell_type": "markdown",
   "id": "94d175cd-5cba-42ae-816e-496d1b5fe629",
   "metadata": {},
   "source": [
    "### Learning rate"
   ]
  },
  {
   "cell_type": "markdown",
   "id": "ad5b1581-8b17-4531-a020-0d83698f63e1",
   "metadata": {},
   "source": [
    "#### Taks 1"
   ]
  },
  {
   "cell_type": "markdown",
   "id": "c6cc7051-e65c-4ab2-9922-7dd78af24c17",
   "metadata": {},
   "source": [
    "Notice the Learning rate menu at the top-right of Playground. The given Learning rate—3—is very high. Observe how that high Learning rate affects your model by clicking the \"Step\" button 10 or 20 times. After each early iteration, notice how the model visualization changes dramatically. You might even see some instability after the model appears to have converged. Also notice the lines running from x1 and x2 to the model visualization. The weights of these lines indicate the weights of those features in the model. That is, a thick line indicates a high weight."
   ]
  },
  {
   "cell_type": "markdown",
   "id": "6b866425-7d1b-460c-b504-6f28873ba6b5",
   "metadata": {},
   "source": [
    "#### Task 2"
   ]
  },
  {
   "cell_type": "markdown",
   "id": "87bb25f3-1a65-462d-a43b-10c17ab5f62a",
   "metadata": {},
   "source": [
    "Do the following:\n",
    "\n",
    "* Press the Reset button.\n",
    "* Lower the Learning rate.\n",
    "* Press the Step button a bunch of times.\n",
    "* How did the lower learning rate impact convergence? Examine both the number of steps needed for the model to converge, and also how smoothly and steadily the model converges. Experiment with even lower values of learning rate. Can you find a learning rate too slow to be useful? (You'll find a discussion just below the exercise.)"
   ]
  },
  {
   "cell_type": "markdown",
   "id": "3cfaf073-b853-4dc4-82d2-03253215691a",
   "metadata": {},
   "source": [
    "### Traning and test set"
   ]
  },
  {
   "cell_type": "markdown",
   "id": "03f9887f-a4c2-43d1-ae85-ddb3b483bd85",
   "metadata": {},
   "source": [
    "#### Task 1"
   ]
  },
  {
   "cell_type": "markdown",
   "id": "a91b2032-caa8-4cba-901e-0f22f2c29e89",
   "metadata": {},
   "source": [
    "Task 1: Run Playground with the given settings:\n",
    "* XOR problem\n",
    "* Training % - 50%)\n",
    "* Noise: Maximum\n",
    "* Batch size = 1\n",
    "* 0 Hidden layers\n",
    "* Linear activation\n",
    "\n",
    "To run, simply:\n",
    "\n",
    "* Click the Run/Pause button\n",
    "* Watch the Test loss and Training loss values change.\n",
    "* When the Test loss and Training loss values stop changing or only change once in a while, press the Run/Pause button again to pause Playground."
   ]
  },
  {
   "cell_type": "markdown",
   "id": "f616ef01-200f-4d8a-a2f4-0e9de0435747",
   "metadata": {},
   "source": [
    "#### Task 2"
   ]
  },
  {
   "cell_type": "markdown",
   "id": "e963221a-fee3-4a90-a696-84b94b49fef9",
   "metadata": {},
   "source": [
    "Task 2: Do the following:\n",
    "\n",
    "* Press the Reset button. \n",
    "* Modify the Learning rate.\n",
    "* Press the Run/Pause button: \n",
    "* Let Playground run for at least 150 epochs.\n",
    "* Is the delta between Test loss and Training loss lower or higher with this new Learning rate? What happens if you modify both Learning rate and batch size?"
   ]
  },
  {
   "cell_type": "markdown",
   "id": "a94457e7-b9c2-4ab4-beeb-c3d33c23ac2b",
   "metadata": {},
   "source": [
    "#### Task 3"
   ]
  },
  {
   "cell_type": "markdown",
   "id": "e6694588-d6ee-40eb-ab06-7aacf5fdea89",
   "metadata": {},
   "source": [
    "A slider labeled Training data percentage lets you control the proportion of training data to test data. For example, when set to 90%, then 90% of the data is used for the training set and the remaining 10% is used for the test set.\n",
    "\n",
    "Do the following:\n",
    "\n",
    "* Reduce the \"Training data percentage\" from 50% to 10%.\n",
    "* Experiment with Learning rate and Batch size, taking notes on your findings.\n",
    "* Does altering the training data percentage change the optimal learning settings that you discovered in Task 2? If so, why?"
   ]
  },
  {
   "cell_type": "markdown",
   "id": "7fb4042e-0984-49ea-8831-b99c468807ce",
   "metadata": {},
   "source": [
    "### Feature crosses"
   ]
  },
  {
   "cell_type": "markdown",
   "id": "ce5be125-e37f-4954-9451-2c524e3322c7",
   "metadata": {},
   "source": [
    "#### Task 1"
   ]
  },
  {
   "cell_type": "markdown",
   "id": "544888b5-987b-44f4-8b40-2414b9b93988",
   "metadata": {},
   "source": [
    "Try to create a model that separates the blue dots from the orange dots by manually changing the weights of the following three input features:\n",
    "\n",
    "* x1\n",
    "* x2\n",
    "* x1 * x2 (a feature cross)\n",
    "\n",
    "To manually change a weight:\n",
    "\n",
    "* Click on a line that connects FEATURES to OUTPUT. An input form will appear.\n",
    "* Type a floating-point value into that input form.\n",
    "* Press Enter.\n",
    "* Note that the interface for this exercise does not contain a Step button. That's because this exercise does not iteratively train a model. Rather, you will manually enter the \"final\" weights for the model."
   ]
  },
  {
   "cell_type": "markdown",
   "id": "1d4cba1e-1e9f-4475-8b2b-89d45c525675",
   "metadata": {},
   "source": [
    "#### Task 2"
   ]
  },
  {
   "cell_type": "markdown",
   "id": "19eab02a-ca8b-4aca-8e0a-290a1f2679b8",
   "metadata": {},
   "source": [
    "Run this linear model as given. Spend a minute or two (but no longer) trying different learning rate settings to see if you can find any improvements. Can a linear model produce effective results for this data set?"
   ]
  },
  {
   "cell_type": "markdown",
   "id": "749b4cd0-eb7a-4d8d-9913-0453a762da9a",
   "metadata": {},
   "source": [
    "#### Task 3"
   ]
  },
  {
   "cell_type": "markdown",
   "id": "6ed91566-40f4-4742-9ddf-48cebef850b4",
   "metadata": {},
   "source": [
    "Now try adding in cross-product features, such as x1x2, trying to optimize performance.\n",
    "\n",
    "* Which features help most?\n",
    "* What is the best performance that you can get?"
   ]
  },
  {
   "cell_type": "markdown",
   "id": "535191e1-ed8b-425f-887e-036a2055d1a9",
   "metadata": {},
   "source": [
    "#### Task 4"
   ]
  },
  {
   "cell_type": "markdown",
   "id": "03851eac-9bd9-419c-ae8a-f6cd46abf8b2",
   "metadata": {},
   "source": [
    "When you have a good model, examine the model output surface (shown by the background color).\n",
    "\n",
    "* Does it look like a linear model?\n",
    "* How would you describe the model?"
   ]
  },
  {
   "cell_type": "markdown",
   "id": "c9eff042-c6ed-400c-95a7-9c0ec41d5bef",
   "metadata": {},
   "source": [
    "### L2 regularization"
   ]
  },
  {
   "cell_type": "markdown",
   "id": "6faae6fd-b674-4a08-8b03-0a79c41d40ff",
   "metadata": {},
   "source": [
    "#### Task 1"
   ]
  },
  {
   "cell_type": "markdown",
   "id": "9f1461d7-22a1-47fe-b226-03a2cea2af70",
   "metadata": {},
   "source": [
    "Run the model as given for at least 500 epochs. Note the following:\n",
    "\n",
    "* Test loss.\n",
    "* The delta between Test loss and Training loss.\n",
    "* The learned weights of the features and the feature crosses. (The relative thickness of each line running from FEATURES to OUTPUT represents the learned weight for that feature or feature cross. You can find the exact weight values by hovering over each line.)"
   ]
  },
  {
   "cell_type": "markdown",
   "id": "9df28661-4057-49e1-8947-cf64d932728f",
   "metadata": {},
   "source": [
    "#### Task 2"
   ]
  },
  {
   "cell_type": "markdown",
   "id": "d586fc5f-9cda-42ca-9dc2-fcf3e8011fb0",
   "metadata": {},
   "source": [
    "(Consider doing this Task in a separate tab.) Increase the regularization rate from 0 to 0.3. Then, run the model for at least 500 epochs and find answers to the following questions:\n",
    "* How does the Test loss in Task 2 differ from the Test loss in Task 1?\n",
    "* How does the delta between Test loss and Training loss in Task 2 differ from that of Task 1?\n",
    "* How do the learned weights of each feature and feature cross differ from Task 2 to Task 1?\n",
    "* What do your results say about model complexity?"
   ]
  },
  {
   "cell_type": "markdown",
   "id": "11cd4879-5ff3-4557-a310-77c200e31790",
   "metadata": {},
   "source": [
    "#### Task 3"
   ]
  },
  {
   "cell_type": "markdown",
   "id": "1d803049-0a85-47d5-a5f4-128519393b79",
   "metadata": {},
   "source": [
    "Experiment with regularization rate, trying to find the optimum value."
   ]
  },
  {
   "cell_type": "markdown",
   "id": "755f8759-5008-4807-8154-691a666860e0",
   "metadata": {},
   "source": [
    "### L1 regularization"
   ]
  },
  {
   "cell_type": "markdown",
   "id": "fcf1a237-d1c5-4070-8868-c941a29b56d8",
   "metadata": {},
   "source": [
    "#### Task 1"
   ]
  },
  {
   "cell_type": "markdown",
   "id": "3d3a84ca-5b02-421e-bbd4-473aaf19f520",
   "metadata": {},
   "source": [
    "This exercise contains a small, slightly noisy, training data set. In this kind of setting, overfitting is a real concern. Regularization might help, but which form of regularization?\n",
    "\n",
    "This exercise consists of five related tasks. To simplify comparisons across the five tasks, run each task in a separate tab. Notice that the thicknesses of the lines connecting FEATURES and OUTPUT represent the relative weights of each feature.\n",
    "\n",
    "|Task | Regularization | Type |Regularization Rate (lambda)|\n",
    "| --- | --- | --- | --- |\n",
    "|1 | L2 | 0.1 |\n",
    "|2 | L2 | 0.3 |\n",
    "|3 |L1 | 0.1 |\n",
    "|4 | L1 |0.3 |\n",
    "| 5 | L1 | experiment|"
   ]
  },
  {
   "cell_type": "markdown",
   "id": "e7385d90-8502-4b65-8035-c055f231c599",
   "metadata": {},
   "source": [
    "Questions:\n",
    "\n",
    "* How does switching from L2 to L1 regularization influence the delta between test loss and training loss?\n",
    "* How does switching from L2 to L1 regularization influence the learned weights?\n",
    "* How does increasing the L1 regularization rate (lambda) influence the learned weights?"
   ]
  },
  {
   "cell_type": "markdown",
   "id": "0896a347-ebdc-471a-84d5-8ca05647dd49",
   "metadata": {},
   "source": [
    "### Training NNs"
   ]
  },
  {
   "cell_type": "markdown",
   "id": "58062d87-4dce-4447-a2da-784c214ed876",
   "metadata": {},
   "source": [
    "#### Task 1"
   ]
  },
  {
   "cell_type": "markdown",
   "id": "793a6ed8-7009-4a43-9cac-cb2b0475feaa",
   "metadata": {},
   "source": [
    "Set the folloing params:\n",
    "* XOR problem\n",
    "* 1 hidden layer with 1 neuron\n",
    "* 50% traning data\n",
    "* Noise level: 35\n",
    "* Batch size: 10\n",
    "* Learning rate: 0.01\n",
    "* Activation: Linear\n",
    "* Regularization: L2\n",
    "* Regularization Rate: 0\n",
    "\n",
    "The model as given combines our two input features into a single neuron. Will this model learn any nonlinearities? Run it to confirm your guess."
   ]
  },
  {
   "cell_type": "markdown",
   "id": "c6d74416-95df-4e9b-af4d-7c89f9f80053",
   "metadata": {},
   "source": [
    "#### Task 2"
   ]
  },
  {
   "cell_type": "markdown",
   "id": "3d7aaed6-a51a-44f3-b338-a23adeb74e93",
   "metadata": {},
   "source": [
    "Task 2: Try increasing the number of neurons in the hidden layer from 1 to 2, and also try changing from a Linear activation to a nonlinear activation like ReLU. Can you create a model that can learn nonlinearities? Can it model the data effectively?"
   ]
  },
  {
   "cell_type": "markdown",
   "id": "910f311d-a2ba-4027-afa0-daf431d55cf5",
   "metadata": {},
   "source": [
    "### Task 3"
   ]
  },
  {
   "cell_type": "markdown",
   "id": "b59186ca-43ec-413f-bfcd-99bf63a83d0d",
   "metadata": {},
   "source": [
    "Task 3: Try increasing the number of neurons in the hidden layer from 2 to 3, using a nonlinear activation like ReLU. Can it model the data effectively? How does model quality vary from run to run?"
   ]
  },
  {
   "cell_type": "markdown",
   "id": "55faa6cd-9d78-48fb-afad-c41dcc9fea1c",
   "metadata": {},
   "source": [
    "#### Task 4"
   ]
  },
  {
   "cell_type": "markdown",
   "id": "70345c2d-6d85-4273-8b56-74eb2423dc1b",
   "metadata": {},
   "source": [
    "Continue experimenting by adding or removing hidden layers and neurons per layer. Also feel free to change learning rates, regularization, and other learning settings. What is the smallest number of neurons and layers you can use that gives test loss of 0.177 or lower?\n",
    "\n",
    "Does increasing the model size improve the fit, or how quickly it converges? Does this change how often it converges to a good model? For example, try the following architecture:\n",
    "\n",
    "* First hidden layer with 3 neurons.\n",
    "* Second hidden layer with 3 neurons.\n",
    "* Third hidden layer with 2 neurons.\n"
   ]
  },
  {
   "cell_type": "markdown",
   "id": "eaa8a821-c725-402b-965e-d953eaef58f0",
   "metadata": {},
   "source": [
    "### Nueral net initialization"
   ]
  },
  {
   "cell_type": "markdown",
   "id": "353a8a93-7a1a-4f59-ae17-ebcb96c59a8a",
   "metadata": {},
   "source": [
    "Set the folloing params:\n",
    "* XOR problem\n",
    "* 1 hidden layer with 3 neurons\n",
    "* 50% traning data\n",
    "* Noise level: 35\n",
    "* Batch size: 10\n",
    "* Learning rate: 0.01\n",
    "* Activation: ReLu\n",
    "* Regularization: L2\n",
    "* Regularization Rate: 0\n",
    "\n",
    "The model as given combines our two input features into a single neuron. Will this model learn any nonlinearities? Run it to confirm your guess."
   ]
  },
  {
   "cell_type": "markdown",
   "id": "db3f429e-4699-457e-a9cf-33027035209b",
   "metadata": {},
   "source": [
    "#### Task 1"
   ]
  },
  {
   "cell_type": "markdown",
   "id": "6bf5ad2d-cdd4-42b2-9f75-74082f508b9a",
   "metadata": {},
   "source": [
    "Run the model as given four or five times. Before each trial, hit the Reset the network button to get a new random initialization. (The Reset the network button is the circular reset arrow just to the left of the Play button.) Let each trial run for at least 500 steps to ensure convergence. What shape does each model output converge to? What does this say about the role of initialization in non-convex optimization?"
   ]
  },
  {
   "cell_type": "markdown",
   "id": "fdeb0a58-bf9b-4f18-9f77-1d7a9061a5cc",
   "metadata": {},
   "source": [
    "#### Task 2"
   ]
  },
  {
   "cell_type": "markdown",
   "id": "b0bfe12e-de74-4daf-bb40-87861d9ad35b",
   "metadata": {},
   "source": [
    "Try making the model slightly more complex by adding a layer and a couple of extra nodes. Repeat the trials from Task 1. Does this add any additional stability to the results?"
   ]
  },
  {
   "cell_type": "markdown",
   "id": "e91d1f79-99d3-4113-ad92-e93cc17c0664",
   "metadata": {},
   "source": [
    "### The noisy spiral dataset"
   ]
  },
  {
   "cell_type": "markdown",
   "id": "7c5a0052-0cad-48ef-932c-815f4b3bf395",
   "metadata": {},
   "source": [
    "Set the folloing params:\n",
    "* Noisy spiral problem\n",
    "* 2 hidden layers, 3 neurons in the first and 2 in the second\n",
    "* 50% traning data\n",
    "* Noise level: Max\n",
    "* Batch size: 10\n",
    "* Learning rate: 0.1\n",
    "* Activation: ReLu\n",
    "* Regularization: None\n",
    "* Regularization Rate: 0\n",
    "\n",
    "The model as given combines our two input features into a single neuron. Will this model learn any nonlinearities? Run it to confirm your guess."
   ]
  },
  {
   "cell_type": "markdown",
   "id": "4767a708-0787-4049-91b0-4ee7dd3d0be0",
   "metadata": {},
   "source": [
    "#### Task 1"
   ]
  },
  {
   "cell_type": "markdown",
   "id": "ad080c31-115f-4f2f-a733-d5401de49ec4",
   "metadata": {},
   "source": [
    "Train the best model you can, using just X1 and X2. Feel free to add or remove layers and neurons, change learning settings like learning rate, regularization rate, and batch size. What is the best test loss you can get? How smooth is the model output surface?"
   ]
  },
  {
   "cell_type": "markdown",
   "id": "044ba9ce-014b-4a4c-9f4e-9fe14cdad482",
   "metadata": {},
   "source": [
    "#### Task 2"
   ]
  },
  {
   "cell_type": "markdown",
   "id": "4cea24f9-b0f6-4a54-9aaf-d32f3c696f1a",
   "metadata": {},
   "source": [
    "Even with Neural Nets, some amount of feature engineering is often needed to achieve best performance. Try adding in additional cross product features or other transformations like sin(X1) and sin(X2). Do you get a better model? Is the model output surface any smoother?"
   ]
  },
  {
   "cell_type": "markdown",
   "id": "e236e48a-930d-41ac-b7ae-1e43a06a7236",
   "metadata": {},
   "source": [
    "## Training NNs - Best practices"
   ]
  },
  {
   "cell_type": "markdown",
   "id": "4b945de2-53ca-4844-9475-653360b42047",
   "metadata": {},
   "source": [
    "### Failure Cases\n",
    "There are a number of common ways for backpropagation to go wrong.\n",
    "\n",
    "#### Vanishing Gradients\n",
    "* The gradients for the lower layers (closer to the input) can become very small. In deep networks, computing these gradients can involve taking the product of many small terms.\n",
    "\n",
    "* When the gradients vanish toward 0 for the lower layers, these layers train very slowly, or not at all.\n",
    "\n",
    "* The ReLU activation function can help prevent vanishing gradients.\n",
    "\n",
    "#### Exploding Gradients\n",
    "* If the weights in a network are very large, then the gradients for the lower layers involve products of many large terms. In this case you can have exploding gradients: gradients that get too large to converge.\n",
    "\n",
    "* Batch normalization can help prevent exploding gradients, as can lowering the learning rate.\n",
    "\n",
    "#### Dead ReLU Units\n",
    "* Once the weighted sum for a ReLU unit falls below 0, the ReLU unit can get stuck. It outputs 0 activation, contributing nothing to the network's output, and gradients can no longer flow through it during backpropagation. With a source of gradients cut off, the input to the ReLU may not ever change enough to bring the weighted sum back above 0.\n",
    "\n",
    "* Lowering the learning rate can help keep ReLU units from dying.\n",
    "\n",
    "#### Dropout Regularization\n",
    "Yet another form of regularization, called Dropout, is useful for neural networks. It works by randomly \"dropping out\" unit activations in a network for a single gradient step. The more you drop out, the stronger the regularization:\n",
    "\n",
    "* 0.0 = No dropout regularization.\n",
    "* 1.0 = Drop out everything. The model learns nothing.\n",
    "* Values between 0.0 and 1.0 = More useful."
   ]
  },
  {
   "cell_type": "markdown",
   "id": "06ce2871-cfe7-4c49-9adb-8c13ce3e704e",
   "metadata": {},
   "source": [
    "## Solving the XOR problem with Keras"
   ]
  },
  {
   "cell_type": "markdown",
   "id": "7d1619bf-40b3-4ea3-a999-d2269cb00b51",
   "metadata": {},
   "source": [
    "First, you'll need to install tensorflow:\n",
    "* Create a python3.6 environment using anaconda: `conda create -n ts_py36 python=3.6`\n",
    "* Activate the new env: `conda activate ts_py36` (You'll might need to `conda init` and close + open the shell\n",
    "* Install tensorflow: `pip install tensorflow`"
   ]
  },
  {
   "cell_type": "markdown",
   "id": "d6c271e9-5fc3-428d-9e0a-37eb0f11ed01",
   "metadata": {},
   "source": [
    "Or, use google colab:\n",
    "\n",
    "https://www.youtube.com/watch?v=inN8seMm7UI"
   ]
  },
  {
   "cell_type": "markdown",
   "id": "5f745aa9-b3ed-41e4-8a8e-a456f8ee0805",
   "metadata": {},
   "source": [
    "### XOR dataset creation"
   ]
  },
  {
   "cell_type": "code",
   "execution_count": 44,
   "id": "46459b2b-c57a-43ed-a4f2-a14f07dea302",
   "metadata": {},
   "outputs": [],
   "source": [
    "def get_xor_label(x,y):\n",
    "    return 'A' if x*y>0 else 'B'"
   ]
  },
  {
   "cell_type": "code",
   "execution_count": 28,
   "id": "5990ba04-1c58-40c6-919d-b84dc8bfeaa4",
   "metadata": {},
   "outputs": [],
   "source": [
    "noise = 0.4\n",
    "n_examples = 500\n",
    "x_values = np.random.uniform(-1, 1, n_examples)\n",
    "x_noise = np.random.uniform(-1, 1, n_examples) * noise\n",
    "y_values = np.random.uniform(-1, 1, n_examples)\n",
    "y_noise = np.random.uniform(-1, 1, n_examples) * noise"
   ]
  },
  {
   "cell_type": "code",
   "execution_count": 45,
   "id": "b5285f32-faf6-440d-a9ae-0149ed42a721",
   "metadata": {},
   "outputs": [
    {
     "data": {
      "text/html": [
       "<div>\n",
       "<style scoped>\n",
       "    .dataframe tbody tr th:only-of-type {\n",
       "        vertical-align: middle;\n",
       "    }\n",
       "\n",
       "    .dataframe tbody tr th {\n",
       "        vertical-align: top;\n",
       "    }\n",
       "\n",
       "    .dataframe thead th {\n",
       "        text-align: right;\n",
       "    }\n",
       "</style>\n",
       "<table border=\"1\" class=\"dataframe\">\n",
       "  <thead>\n",
       "    <tr style=\"text-align: right;\">\n",
       "      <th></th>\n",
       "      <th>x</th>\n",
       "      <th>y</th>\n",
       "      <th>label</th>\n",
       "      <th>target</th>\n",
       "    </tr>\n",
       "  </thead>\n",
       "  <tbody>\n",
       "    <tr>\n",
       "      <th>0</th>\n",
       "      <td>-0.188570</td>\n",
       "      <td>1.018872</td>\n",
       "      <td>B</td>\n",
       "      <td>0</td>\n",
       "    </tr>\n",
       "    <tr>\n",
       "      <th>1</th>\n",
       "      <td>0.625680</td>\n",
       "      <td>0.009039</td>\n",
       "      <td>A</td>\n",
       "      <td>1</td>\n",
       "    </tr>\n",
       "    <tr>\n",
       "      <th>2</th>\n",
       "      <td>0.964239</td>\n",
       "      <td>0.926335</td>\n",
       "      <td>A</td>\n",
       "      <td>1</td>\n",
       "    </tr>\n",
       "    <tr>\n",
       "      <th>3</th>\n",
       "      <td>-0.451338</td>\n",
       "      <td>0.039755</td>\n",
       "      <td>B</td>\n",
       "      <td>0</td>\n",
       "    </tr>\n",
       "    <tr>\n",
       "      <th>4</th>\n",
       "      <td>0.391683</td>\n",
       "      <td>-0.251109</td>\n",
       "      <td>B</td>\n",
       "      <td>0</td>\n",
       "    </tr>\n",
       "  </tbody>\n",
       "</table>\n",
       "</div>"
      ],
      "text/plain": [
       "          x         y label  target\n",
       "0 -0.188570  1.018872     B       0\n",
       "1  0.625680  0.009039     A       1\n",
       "2  0.964239  0.926335     A       1\n",
       "3 -0.451338  0.039755     B       0\n",
       "4  0.391683 -0.251109     B       0"
      ]
     },
     "execution_count": 45,
     "metadata": {},
     "output_type": "execute_result"
    }
   ],
   "source": [
    "noisy_xor_df = pd.DataFrame({'x': x_values + x_noise, 'y': y_values + y_noise})\n",
    "noisy_xor_df['label'] = noisy_xor_df.apply(lambda row: get_xor_label(row.x, row.y), axis=1)\n",
    "noisy_xor_df['target'] = noisy_xor_df.label.map({'A':1,'B':0})\n",
    "noisy_xor_df.head()"
   ]
  },
  {
   "cell_type": "code",
   "execution_count": 47,
   "id": "5519a99c-2ebd-47ad-ad10-223de57ec7aa",
   "metadata": {},
   "outputs": [
    {
     "data": {
      "application/vnd.plotly.v1+json": {
       "config": {
        "linkText": "Export to plot.ly",
        "plotlyServerURL": "https://plot.ly",
        "showLink": true
       },
       "data": [
        {
         "marker": {
          "color": "rgba(255, 153, 51, 1.0)",
          "line": {
           "width": 1.3
          },
          "opacity": 0.8,
          "size": 12,
          "symbol": "circle"
         },
         "mode": "markers",
         "name": "B",
         "textfont": {
          "color": "#4D5663"
         },
         "type": "scatter",
         "x": [
          -0.18857041779897998,
          -0.45133774386740794,
          0.391683356213709,
          0.41784313661979955,
          -1.1869727537028623,
          0.4784680443788901,
          0.5709586041894853,
          0.5130860309223408,
          -0.33644351010724455,
          0.6338703309466527,
          0.949249330322238,
          0.9417902111254484,
          0.6156759348962706,
          0.611126252786113,
          -0.21115970747208368,
          0.16359544936126502,
          0.15103009740593193,
          -0.623571914818117,
          0.7826291531812943,
          -0.2707527582875402,
          -0.5341832702759679,
          0.4833363595662592,
          0.7461778312623203,
          -0.5108909648164668,
          -0.2997956658816462,
          -0.9044596915266494,
          -0.045780655859379765,
          -0.8811614930744477,
          -0.4131747814731012,
          0.5335713712162313,
          -0.23912518611758884,
          -0.007295425516537141,
          -0.6660293788300258,
          0.13244116867507755,
          0.3371134189691768,
          0.0698512540793747,
          -0.5804430452818022,
          -0.6211683207270537,
          -0.9919357851033915,
          0.6399607156228558,
          -0.1529544513458811,
          -0.5047132169567177,
          -1.2202139410822705,
          0.20728620877223164,
          -0.566384851059613,
          -0.7285037209562778,
          -0.6261622653793133,
          -0.8960201175571025,
          -1.0272440636006768,
          1.0277385785151778,
          0.9700244973622721,
          0.3030657596546565,
          0.34974100781180417,
          0.6185207285491611,
          0.05454313095845953,
          0.8542108541397501,
          0.9750738871848819,
          -0.6952426302163588,
          -0.4912758698114329,
          0.0860144534921988,
          -0.29694988704594283,
          1.1312840238197464,
          -0.2313021847867916,
          0.49126656684649445,
          1.033950522996053,
          0.4031553416806368,
          -0.5033162550625321,
          0.5683204605510126,
          1.2748530222354686,
          0.6541539449687929,
          1.0230294207375765,
          -0.7062198043041616,
          0.5573191740290128,
          -0.2242531318322768,
          -0.4926367277659579,
          0.3408983021032246,
          0.642772222473377,
          -0.04377281863133453,
          1.0033079518338326,
          -1.0492827114263397,
          -0.8686846765692453,
          -0.9029460741930132,
          -0.4510012068992356,
          0.651362338431837,
          0.7698389166362916,
          -1.0294305691619088,
          -0.12571405253383594,
          -0.19886042050129887,
          -0.1925753391064,
          1.0720726389843556,
          0.6461886400541612,
          -0.10836006961180096,
          -0.17196688055679318,
          0.8630016928362816,
          0.5190850729541326,
          -0.8901431850275316,
          -0.06246343792178859,
          -0.39798471577891886,
          0.3300732899495049,
          0.24250412994009696,
          0.21339201873698316,
          0.34550120450215466,
          0.02451253697031716,
          -0.07726561953386538,
          1.1129805825350743,
          1.066893567547952,
          -0.531255528631893,
          -0.012740343409266108,
          -1.0522629339021177,
          -0.6910579407321025,
          -0.42013357061282586,
          -0.5537760366231834,
          -1.0053435698962088,
          -0.5728085656760337,
          0.7421754070562452,
          -0.6684714062386723,
          -0.20875336710961806,
          0.43384144850527134,
          -0.3670325554938598,
          0.3615497057621393,
          0.20351271156277398,
          -0.8731383585412985,
          1.0368624359072645,
          0.18977647912425682,
          -0.10879291328251345,
          0.8034752083892179,
          -0.9104378670457821,
          -0.319643278316972,
          0.7228718113291809,
          -0.4891911130701292,
          -0.13591539332940036,
          -0.3875514485927919,
          -1.2763720627172637,
          0.5553354333390543,
          -0.6328084008077288,
          0.5505910128306577,
          0.7462635597096678,
          -0.7486647857335138,
          -0.04132242345787129,
          -0.42157976135676845,
          -0.16960200277901843,
          -0.526574053088431,
          0.8523217258115868,
          -0.25653964314977806,
          -0.7293354029814958,
          -1.3007150380240742,
          0.7063803728404593,
          -0.3035820575963636,
          0.6609463753515077,
          0.45072847711287783,
          -0.5494840990347931,
          0.21177217953323058,
          0.05637139564663753,
          0.169033472046775,
          -1.0455831735220127,
          -0.09790754252252998,
          -1.2423777396027613,
          -0.9052751444277958,
          0.3528209545588411,
          -0.576343770772936,
          0.5071221748402014,
          0.23783605763828108,
          0.5076185526788601,
          -0.36286399808458836,
          0.20518663672166915,
          -1.050819963697645,
          -0.8316192510873894,
          0.8610992003899149,
          0.027403322869599234,
          0.4019568896907137,
          -1.0258747918649973,
          -0.7420027832018194,
          0.6182373928485765,
          0.38025149521793483,
          0.25292152221871067,
          -0.7665022484250662,
          -0.46627683259156105,
          0.9701388203197536,
          -0.41014930697554103,
          -0.01239343261970012,
          -0.7317011589749185,
          0.11711492239512614,
          1.0441501368276191,
          0.20256782978989848,
          0.633671320640107,
          0.9192457971717614,
          -0.9824582851010473,
          -0.9854209306364707,
          0.16865529403737628,
          0.6700353730582199,
          0.3253303621146227,
          -0.6546139226302894,
          0.687464233564991,
          0.8902289651472868,
          0.8219603954079358,
          -0.48884704807623425,
          0.21537493867665808,
          -0.5176718763706103,
          -0.05296982233257569,
          0.772884331841933,
          -0.7986025558270096,
          -0.7652802998464432,
          -0.6186891981550595,
          0.6738023197720078,
          0.6393871096347237,
          0.5453346506255148,
          0.519539272554078,
          0.38255908518271486,
          1.0007980254464919,
          0.8121409421858814,
          0.21436633254917709,
          0.3357862161310361,
          1.1653027332573433,
          -0.03906115577103647,
          1.009073638787683,
          0.8631978631404177,
          0.2089473444098723,
          0.023105875311243473,
          -0.7077998115610578,
          -0.373623703404094,
          0.18475259725758264,
          1.128025687122863,
          0.3980344535300875,
          0.6734581124798287,
          0.9999632699247354,
          0.0003291374106995648,
          -0.377560812243803,
          0.12564147421310645,
          -0.23462946887564426,
          -0.7232351656279461,
          -1.1250088884565106,
          0.08875685319969268,
          -0.4948004034208352,
          -0.729452009148109,
          -0.6257420109564242,
          0.6092889997301635,
          -0.7984920765276646,
          -0.3439302387770783,
          -0.41013430330989353,
          -0.6010336671136846
         ],
         "y": [
          1.0188723488932343,
          0.039754879286628575,
          -0.25110879729531915,
          -0.7005279560216213,
          0.5277527671919237,
          -0.030933827345101278,
          -0.1269713388120131,
          -0.02210242989575964,
          0.9128332066928644,
          -0.147673375254029,
          -0.797192615647656,
          -1.0184110411383371,
          -0.1091346124327705,
          -0.0625188989294635,
          0.033773828148231155,
          -0.031048413361188798,
          -1.1354565660897562,
          0.10910737708624246,
          -0.3342622292832049,
          0.23728614128657952,
          0.2813227069425005,
          -0.9772393290908304,
          -0.5350643086855555,
          0.32486315332322113,
          0.08321685450256285,
          0.6970443794423574,
          0.8906967256731563,
          0.49709922720945443,
          0.642962000678306,
          -0.3271516445707706,
          0.3581673270736775,
          0.1734192988026022,
          0.5155944927406877,
          -0.9129319932645266,
          -1.0475370500635128,
          -0.7259084029650643,
          0.0946173095318481,
          0.29444222278281745,
          0.4863451036173436,
          -0.13703682691134528,
          0.603239096477563,
          0.29021205439688436,
          0.6419565848087873,
          -0.23999643745374355,
          0.0751894953682567,
          0.11205682891098051,
          0.8629380091408566,
          0.23860743544022311,
          0.3981473326053705,
          -0.1350050020768165,
          -0.47822342265574536,
          -0.21043533140194232,
          -0.9233785226686917,
          -0.07556356005597076,
          -0.9800958116293518,
          -0.721261024646516,
          -0.8948293471335784,
          0.26605858138415883,
          0.10133028959263175,
          -0.23528099139925446,
          0.4746336204067868,
          -0.09879098370550259,
          0.4095175769052095,
          -0.3067641459146824,
          -0.7804925516907926,
          -0.5089523382992787,
          0.030831066634396942,
          -0.4197800329639549,
          -0.29335977307169026,
          -0.8555160147659531,
          -0.33075430835018427,
          0.3679487092104833,
          -0.6693653396891526,
          0.31794025806230897,
          0.40601916458302556,
          -0.45213498191807955,
          -1.0037925525203562,
          0.85859268287674,
          -0.0016533704410653279,
          0.5404405188283405,
          0.32490973021650127,
          0.038944249569079895,
          0.3832464428915756,
          -0.22193811018221576,
          -0.011631611654852894,
          0.4175659025550962,
          0.35028000905971346,
          0.5432505261852889,
          0.7133105906881501,
          -0.3554178630849665,
          -0.6727038778296877,
          0.7548741991882144,
          0.38779871995362547,
          -1.053720189935569,
          -0.7646384790762127,
          0.0009865125078880599,
          0.15891261465722115,
          1.1424333903213977,
          -0.06642544287252616,
          -0.5142126925766923,
          -0.008588490812860039,
          -1.3400857860719229,
          -0.13021367529732464,
          0.36141611374852045,
          -0.29130397001866615,
          -0.8703707592492951,
          0.8241807227253668,
          0.15335246918058892,
          0.23512453900482705,
          0.3169651248538988,
          1.103778010684611,
          0.2525260329606189,
          0.25126045661559276,
          0.9251409092401955,
          -0.8790569837804633,
          0.6251710245795046,
          0.08248039212815,
          -0.3789734477432771,
          0.44897942971747873,
          -1.0847806823105202,
          -0.5964083904489413,
          0.1348190028637422,
          -0.2892890687474411,
          -0.3446716177612109,
          0.03072238181832182,
          -0.9175278879292068,
          0.3735250372935646,
          0.13048164323836786,
          -0.12893092090516595,
          0.6298498989151069,
          0.848599997313625,
          0.29058665793696403,
          0.6872953165068686,
          -1.1061208294416713,
          1.0783694323275843,
          -0.063363386912136,
          -0.32776251169124504,
          0.5830825326620901,
          0.1959869495917157,
          0.11656169929950455,
          0.7793112013369545,
          0.08919399334771771,
          -0.44533072701026494,
          0.49424692087538347,
          0.8074881820954676,
          0.41432534381565544,
          -0.15071158805460763,
          0.2319074002697746,
          -0.4822253002858985,
          -0.3800486736074361,
          0.448245005461142,
          -0.9699767298168961,
          -1.0081697052401737,
          -0.35694236717598204,
          0.01907542458251856,
          0.7371737165802262,
          1.0841216726964142,
          0.6476968930797171,
          -0.42729995578124136,
          1.1637038493419403,
          -0.5578829824645024,
          -0.9652785956511731,
          -0.6983355821374769,
          0.1464447574275905,
          -0.50355787022085,
          0.3628995145427001,
          0.21171681664151792,
          -0.14739480875475558,
          -0.6166087421368589,
          -0.15464553576037837,
          0.5843015831216841,
          0.08368834869400799,
          -0.20426379242309006,
          -0.9272849309876386,
          -0.976969887124413,
          0.08901119257060253,
          1.074534644365661,
          -0.9853196023687576,
          0.8125489515905433,
          0.7639185541154083,
          0.7129878590695159,
          -0.005140348759230917,
          -0.006491491662564575,
          -0.21280137834970075,
          -0.1355935325136172,
          -0.2528686749147876,
          1.1539017594818672,
          0.7177947213228115,
          -0.1311559727570913,
          -0.08743012531308714,
          -1.1660575968550044,
          0.21606551862341986,
          -0.7414766250416642,
          -0.6135727064558791,
          -0.08659658092951183,
          0.3894057751130524,
          -0.8765872671417015,
          0.3299839232614078,
          0.9642731205127739,
          -1.236008072893014,
          0.6862599985372544,
          0.053348178137363034,
          0.7500752242631976,
          -0.6335374534078655,
          -0.8589510708865116,
          -0.4014100422199864,
          -0.7697372375217661,
          -0.1955594699115651,
          -0.4134168431352991,
          -0.8083651342720879,
          -0.7251496756494726,
          -0.06403716020119077,
          -0.30734978311717914,
          0.9060521458870275,
          -0.5681384726729035,
          -0.4985893920462444,
          -0.36448897866577085,
          -1.2486251034596079,
          0.23908305609860495,
          0.4822931880267487,
          -0.007908164451053745,
          -1.3123775385504441,
          -0.8837184270088283,
          -0.1022162941584917,
          -0.4669106032770545,
          -0.4306381787835424,
          0.1336876126990975,
          -1.1639751312680944,
          0.5930265239128166,
          0.23499433120097984,
          0.9934609822689869,
          -1.2586019024306567,
          0.7577992306342096,
          0.5339053093169899,
          0.8082586106676841,
          -0.6466353220579861,
          0.3709782910151297,
          0.882249244869717,
          0.698293333061858,
          0.7002796005792616
         ]
        },
        {
         "marker": {
          "color": "rgba(55, 128, 191, 1.0)",
          "line": {
           "width": 1.3
          },
          "opacity": 0.8,
          "size": 12,
          "symbol": "circle"
         },
         "mode": "markers",
         "name": "A",
         "textfont": {
          "color": "#4D5663"
         },
         "type": "scatter",
         "x": [
          0.6256798083114578,
          0.9642394591042072,
          0.5314518953893527,
          -0.38627541599377124,
          -0.23376342429919045,
          -0.28529953579111134,
          -0.6259464783971289,
          -1.2684995327935265,
          -0.16782774079504004,
          -0.5412193595005852,
          0.23803624619701322,
          -0.5642505619822369,
          0.20969897428494205,
          -0.3303854111572417,
          0.5890928460380259,
          0.10274507263407644,
          -0.004626595388055044,
          -0.46124257749495107,
          -0.6335840335210459,
          0.49797759287281107,
          -0.9096507332368018,
          -1.0160586038452504,
          0.2746892560551042,
          0.104535775650619,
          0.10846081856587159,
          -0.7756901352330102,
          -0.6800016946430344,
          0.27672120562122154,
          -0.96183947274739,
          -0.924855296472724,
          -0.737398131864976,
          -0.47884988291278596,
          -0.7030346736417594,
          -0.3226105119017141,
          -0.5223316471039555,
          1.003833731220395,
          1.2150238228099424,
          -0.17332676421295712,
          0.6242315692077385,
          0.784200563921799,
          0.5482670196307542,
          0.40357226826436665,
          0.5245770434610003,
          -0.003604534566111234,
          -0.5463846648150806,
          0.18239015547939882,
          -0.7174036915165368,
          0.6551712775095175,
          -0.39992825065906096,
          0.5548819832783616,
          -0.417767515908922,
          0.0655025395023547,
          -1.0047636876024366,
          -0.119464191544217,
          0.8536074775072494,
          -1.3202129966123517,
          -0.24290070022567778,
          -0.5273725708761774,
          -0.20318995744289814,
          -1.0424874776173079,
          0.9683048494456555,
          0.6121415901176217,
          0.10601331711226858,
          0.49383920350840954,
          -0.016203718704573156,
          0.5686176375303388,
          -0.5100946403043091,
          0.5494869407723153,
          -1.2719044620795719,
          -0.25530859588108684,
          -0.12751519530531233,
          -1.1506292861587237,
          -0.3499931755148898,
          -0.6624559352996285,
          0.0025995502577218013,
          0.1133879020930812,
          0.6534976558588171,
          -0.7656411278060219,
          0.11885056577676253,
          0.431988568751894,
          -0.777892176618905,
          -0.6230504008070106,
          0.5129090877124249,
          0.8502956975598601,
          0.7068207763026002,
          0.17771495660225903,
          0.7201986595456709,
          0.7502797225690383,
          1.054886897827171,
          0.21328748409377285,
          -0.19083099337064385,
          0.15011638040578673,
          -0.7875874398928036,
          -0.8132063134880098,
          0.02570475499176314,
          0.22099835209656718,
          -0.8116565966780165,
          -1.103844418911347,
          0.5961239358381437,
          0.20726616508873058,
          -0.572139993966571,
          -1.1270395147076726,
          0.28737821919083967,
          1.1207805445621668,
          0.6828773663947634,
          -0.8443401746835508,
          -0.29681180831570775,
          0.3405074182783413,
          0.5261213637251556,
          0.8111826403185709,
          -0.39801538692994526,
          0.07910305269551952,
          -0.23742189897072663,
          -1.3056698633468653,
          -0.7440103039618737,
          0.44900517822297203,
          -0.6299699468367623,
          0.7649353323319047,
          0.5039003333785386,
          0.13464706751806188,
          1.1496185122899192,
          1.2669332703959337,
          0.818657458335099,
          -0.5588586648687623,
          0.21382382229315602,
          -0.49378153866285185,
          0.6386765353167476,
          -0.36241880400062676,
          0.6469846338008751,
          1.027191115624611,
          0.6412619979559382,
          0.3849943076564223,
          0.26423257432111763,
          -0.20482938769052117,
          -1.075825917576149,
          0.24196587663152136,
          1.1439487504231474,
          0.14056316790612433,
          -0.17481461336408088,
          -0.6756341283652765,
          0.3794442294011461,
          -0.24158418594544484,
          -0.015094057093105694,
          -0.012094909077734972,
          -0.3144113606350906,
          0.37239297309546865,
          0.0474143881182604,
          0.31694191600406635,
          0.991715491452971,
          0.8262015569879018,
          0.4690945430514246,
          0.4052053746328257,
          1.014950648128248,
          0.022885805016495786,
          0.12195767663151663,
          -0.7204072175362144,
          -1.0711115464338645,
          0.040032019681375396,
          -0.7150547517467656,
          0.715719139001695,
          0.8623882236126024,
          -0.026771998969880306,
          0.06945256670728964,
          -0.13579701131312608,
          0.8787925015989563,
          0.09711066466074725,
          0.1734265510370417,
          -0.1791501056106967,
          1.0832093583971947,
          0.8005317356167676,
          0.04245530859545417,
          1.1394346724748128,
          -0.3079083403667011,
          -0.05284751605588245,
          0.8224117611473141,
          -0.4463403633190363,
          0.07594732018614203,
          -0.696162583827571,
          -0.5694848725993502,
          -0.20801726209775762,
          1.238175087295743,
          -0.05720852676638677,
          0.5314491646281583,
          -0.5588851262218213,
          -0.11500692453159748,
          0.6984326314819631,
          -0.036053863905263384,
          0.3594873957929957,
          1.147344608432107,
          0.11582517013333393,
          -1.2328148356007813,
          -0.6248771850923469,
          -0.2632619541328748,
          0.23784433075167977,
          -0.9729705481128497,
          -0.8120543578736712,
          -0.12752621486247556,
          -0.4650698411081081,
          -0.03576316127073276,
          0.890719188735187,
          -0.9603179571392177,
          0.19057817431418922,
          0.02518460348054985,
          0.5727560873065599,
          0.758343011145405,
          -0.047425192344418526,
          0.16483330304932764,
          1.0668081915521292,
          -0.3880180249380818,
          0.3558279617037381,
          0.5281648946342131,
          -0.7029765726552385,
          0.5362180022151692,
          0.1472728200299951,
          0.37558733549473267,
          0.28432009167679584,
          -0.6252868541607162,
          0.5358829305470894,
          1.1960538859205865,
          -0.4272857799612776,
          -0.11579249426249416,
          0.3112601510626508,
          -0.596270264555014,
          -0.7881916223291848,
          0.2111891741044719,
          0.42777165744616863,
          0.8896509978690462,
          1.3450198353363758,
          0.42176204772286463,
          0.26877057251210634,
          -0.5080012409288626,
          0.48719529267632505,
          -0.1425268136091462,
          -0.8000669097875159,
          -0.7403079448279385,
          -0.6842602912143363,
          0.6059580726037385,
          0.6392501643947509,
          0.8116431280492533,
          -0.061455631407977496,
          0.2962310956086411,
          -0.2865227211887593,
          -0.4698205939705593,
          -0.872112050537242,
          0.6427089347962502,
          -1.0899558495079786,
          0.7132791234856264,
          -0.21536532510442075,
          0.24818415246118594,
          0.7128154814037231,
          0.4961242880930642,
          -0.3097178086675775,
          -0.7354647236118232,
          -0.5197380988622079,
          -0.030183488122582425,
          0.6420622458777812,
          -0.2353209176636264,
          -0.11935188114677456,
          -0.4024335208079207,
          -0.3676163479736013
         ],
         "y": [
          0.009039219979808444,
          0.926334589159351,
          0.15796262615124051,
          -0.5826560368820504,
          -0.37230820629835826,
          -0.9638730671389708,
          -0.39099747847930266,
          -0.143135739615176,
          -0.04751305511564907,
          -0.4857997886352602,
          0.12038427381988365,
          -0.7592102965057329,
          0.635490747090832,
          -0.5867849865649779,
          0.27350867068962503,
          0.26202772309025146,
          -0.5624772666047005,
          -1.0210523188929932,
          -0.13211892914721002,
          1.0880615321546996,
          -0.006704244692145089,
          -0.23132967668808602,
          0.8081575819997734,
          0.3887153708540083,
          0.5368510470966562,
          -0.7412709873322642,
          -0.6523673866125574,
          0.4550437904829724,
          -0.9056233160486107,
          -0.6988949368174868,
          -0.3207110913776615,
          -0.4099999093719581,
          -0.825288729360574,
          -0.14408378826804666,
          -0.7752029478064287,
          0.861256336537085,
          0.20670537539030023,
          -0.8188420029195556,
          0.1750764829408598,
          0.5970123157633895,
          0.31641249085904644,
          0.7283729105721439,
          0.5100880322266959,
          -0.7147687415997412,
          -0.4528820618996641,
          0.5515915247886284,
          -0.47261473069334997,
          0.22650644922455226,
          -0.8122866590929263,
          0.49417499725483316,
          -0.8637520302376542,
          0.6317847311016803,
          -0.3620772418976692,
          -0.881669365887438,
          0.03616847943849838,
          -0.5951141250448599,
          -0.24314200237433145,
          -0.6218094941965184,
          -0.9516409068788518,
          -0.32743412880898815,
          0.34376475359097225,
          0.4067552810890014,
          0.3030444361014618,
          0.29994835259578145,
          -0.7929006449723409,
          0.7041978022691338,
          -0.08691595395322546,
          0.6920396188795402,
          -0.8420659901088262,
          -1.0193535471578004,
          -0.3114795977250171,
          -0.26472608721891494,
          -0.9685725381493957,
          -0.4498701753246352,
          0.2746711390127058,
          0.09096808670499298,
          0.40882046539367695,
          -0.6986728578708585,
          0.266435112479139,
          1.2378385326629442,
          -0.6416510261381534,
          -0.43218900064118115,
          0.8245443224858572,
          1.0270074760519405,
          0.9558325686692827,
          0.14757603658577384,
          0.15017315326409403,
          0.49478649097403304,
          0.7546011487366184,
          0.8324948098332192,
          -1.365379939279367,
          0.38409852045476156,
          -0.7658726457507752,
          -0.7194526479472805,
          1.0224684751670756,
          0.8627694193796722,
          -1.0685006999397602,
          -0.02918969613495137,
          0.2263001305356787,
          0.08004450301349925,
          -0.012198739584871915,
          -1.1256687521890691,
          0.6571587386241978,
          0.5594564364790902,
          1.172758539813242,
          -0.4870773696814964,
          -0.856043932129088,
          0.5561848445416079,
          1.080108741193098,
          0.8475468656602658,
          -0.5539203217602493,
          0.7156659365356102,
          -0.613119078322509,
          -0.18391191254258926,
          -0.37408082788454244,
          0.9366282553459887,
          -1.1422357348844474,
          0.36184903503207266,
          0.08160789270463159,
          0.3688533770706152,
          0.3664943545635615,
          0.4090683917252099,
          1.2518344229240168,
          -0.6419779416699803,
          0.8041747770843458,
          -0.1281055042114473,
          0.09340456974077153,
          -0.29697977930532615,
          1.1015861049881055,
          0.3624365842591957,
          0.5551718025034063,
          1.219182708339839,
          0.4108019239544245,
          -0.695596697054385,
          -0.8672020172786943,
          0.5718553570415956,
          0.07322044781893769,
          0.756406658812727,
          -1.1029112532798822,
          -0.3367784789664516,
          0.0782149246422999,
          -0.2322696189869714,
          -1.0705132850248673,
          -0.7164377354919997,
          -0.6361282961816254,
          1.0355254015293862,
          0.8996927796389693,
          1.142442757362256,
          0.06368648616364876,
          0.07227039360706042,
          0.9930963247244141,
          0.8710210474754123,
          0.7773190487486981,
          0.07270535533136818,
          0.5982427877864387,
          -0.641070240028423,
          -1.1021685153574963,
          0.19731478160389915,
          -0.0002555663041159395,
          0.4200939430782265,
          0.1957484294036612,
          -0.6403066346154449,
          0.9555719567890113,
          -0.20573837021050223,
          0.5602221722826926,
          0.5409866249765846,
          0.4089135273853674,
          -0.12158751905531986,
          1.0555161047156825,
          0.2677122870392419,
          0.43064238398879245,
          0.24955914982217547,
          -0.1018629208399272,
          -0.20572367275376285,
          0.32514237632137855,
          -0.9293219744778045,
          0.5544082367499208,
          -0.07473577360483392,
          -0.5815048484409175,
          -0.7041100059936932,
          0.06235219894435372,
          -0.12353300729241706,
          0.011057381200887784,
          -0.2032277771203872,
          -0.6134358722132405,
          0.39754016314686474,
          -0.7662295036039412,
          0.2259763375475401,
          0.8288506379391756,
          0.4578450612430441,
          -0.4067947126308292,
          -0.339234013427938,
          -0.428605639895255,
          0.0754069373753859,
          -0.6693540709004059,
          -0.44762227606380445,
          -0.6571748337308523,
          -0.21101331633969217,
          -0.2977539591939228,
          0.35046096808431365,
          -1.1279663205452388,
          0.480099509131367,
          0.9771322747891956,
          0.11736475766024243,
          0.6677033739655642,
          -0.13244338514904974,
          0.527060676429117,
          0.332761991728489,
          -0.9424378379511016,
          0.25622956460817264,
          0.27660467528387317,
          -0.335428625999116,
          0.4498294272639475,
          0.18904814693288174,
          0.8884260530673889,
          0.37545481284144644,
          -0.578520594980781,
          0.10016944493832519,
          0.1314465300395244,
          -0.10191954651035454,
          -0.17173034503808138,
          0.3872799155733859,
          -0.05120534790499881,
          -0.5033638957515093,
          0.08246623556471,
          0.1871657187264017,
          0.16835624733524768,
          0.8396345467564703,
          0.1589702387121376,
          0.5436759461156095,
          -0.7557281667530512,
          0.6039828638797369,
          -0.056036081445936026,
          -0.7989882442052204,
          -0.9697137610124311,
          -1.0197936123616878,
          0.9887384107397581,
          1.2326420756591938,
          0.8275197116055628,
          -0.0854102227517351,
          0.656542357836612,
          -0.7278583368777936,
          -0.8539963418136595,
          -0.5628527282201019,
          1.0429584642812628e-05,
          -0.6383369978524107,
          0.9567081669906045,
          -0.12551864087362521,
          0.05145267253520275,
          0.10734409744259477,
          0.6385358780243384,
          -0.2844590976176422,
          -0.766346951441025,
          -0.11415520907338803,
          -1.0495502105875847,
          0.6283566806816394,
          -0.8215217938376731,
          -0.571645922858437,
          -0.4666894350916292,
          -0.7893740086928046
         ]
        }
       ],
       "layout": {
        "autosize": true,
        "legend": {
         "bgcolor": "#FFFFFF",
         "font": {
          "color": "#4D5663"
         }
        },
        "paper_bgcolor": "#FFFFFF",
        "plot_bgcolor": "#FFFFFF",
        "template": {
         "data": {
          "bar": [
           {
            "error_x": {
             "color": "#2a3f5f"
            },
            "error_y": {
             "color": "#2a3f5f"
            },
            "marker": {
             "line": {
              "color": "#E5ECF6",
              "width": 0.5
             },
             "pattern": {
              "fillmode": "overlay",
              "size": 10,
              "solidity": 0.2
             }
            },
            "type": "bar"
           }
          ],
          "barpolar": [
           {
            "marker": {
             "line": {
              "color": "#E5ECF6",
              "width": 0.5
             },
             "pattern": {
              "fillmode": "overlay",
              "size": 10,
              "solidity": 0.2
             }
            },
            "type": "barpolar"
           }
          ],
          "carpet": [
           {
            "aaxis": {
             "endlinecolor": "#2a3f5f",
             "gridcolor": "white",
             "linecolor": "white",
             "minorgridcolor": "white",
             "startlinecolor": "#2a3f5f"
            },
            "baxis": {
             "endlinecolor": "#2a3f5f",
             "gridcolor": "white",
             "linecolor": "white",
             "minorgridcolor": "white",
             "startlinecolor": "#2a3f5f"
            },
            "type": "carpet"
           }
          ],
          "choropleth": [
           {
            "colorbar": {
             "outlinewidth": 0,
             "ticks": ""
            },
            "type": "choropleth"
           }
          ],
          "contour": [
           {
            "colorbar": {
             "outlinewidth": 0,
             "ticks": ""
            },
            "colorscale": [
             [
              0,
              "#0d0887"
             ],
             [
              0.1111111111111111,
              "#46039f"
             ],
             [
              0.2222222222222222,
              "#7201a8"
             ],
             [
              0.3333333333333333,
              "#9c179e"
             ],
             [
              0.4444444444444444,
              "#bd3786"
             ],
             [
              0.5555555555555556,
              "#d8576b"
             ],
             [
              0.6666666666666666,
              "#ed7953"
             ],
             [
              0.7777777777777778,
              "#fb9f3a"
             ],
             [
              0.8888888888888888,
              "#fdca26"
             ],
             [
              1,
              "#f0f921"
             ]
            ],
            "type": "contour"
           }
          ],
          "contourcarpet": [
           {
            "colorbar": {
             "outlinewidth": 0,
             "ticks": ""
            },
            "type": "contourcarpet"
           }
          ],
          "heatmap": [
           {
            "colorbar": {
             "outlinewidth": 0,
             "ticks": ""
            },
            "colorscale": [
             [
              0,
              "#0d0887"
             ],
             [
              0.1111111111111111,
              "#46039f"
             ],
             [
              0.2222222222222222,
              "#7201a8"
             ],
             [
              0.3333333333333333,
              "#9c179e"
             ],
             [
              0.4444444444444444,
              "#bd3786"
             ],
             [
              0.5555555555555556,
              "#d8576b"
             ],
             [
              0.6666666666666666,
              "#ed7953"
             ],
             [
              0.7777777777777778,
              "#fb9f3a"
             ],
             [
              0.8888888888888888,
              "#fdca26"
             ],
             [
              1,
              "#f0f921"
             ]
            ],
            "type": "heatmap"
           }
          ],
          "heatmapgl": [
           {
            "colorbar": {
             "outlinewidth": 0,
             "ticks": ""
            },
            "colorscale": [
             [
              0,
              "#0d0887"
             ],
             [
              0.1111111111111111,
              "#46039f"
             ],
             [
              0.2222222222222222,
              "#7201a8"
             ],
             [
              0.3333333333333333,
              "#9c179e"
             ],
             [
              0.4444444444444444,
              "#bd3786"
             ],
             [
              0.5555555555555556,
              "#d8576b"
             ],
             [
              0.6666666666666666,
              "#ed7953"
             ],
             [
              0.7777777777777778,
              "#fb9f3a"
             ],
             [
              0.8888888888888888,
              "#fdca26"
             ],
             [
              1,
              "#f0f921"
             ]
            ],
            "type": "heatmapgl"
           }
          ],
          "histogram": [
           {
            "marker": {
             "pattern": {
              "fillmode": "overlay",
              "size": 10,
              "solidity": 0.2
             }
            },
            "type": "histogram"
           }
          ],
          "histogram2d": [
           {
            "colorbar": {
             "outlinewidth": 0,
             "ticks": ""
            },
            "colorscale": [
             [
              0,
              "#0d0887"
             ],
             [
              0.1111111111111111,
              "#46039f"
             ],
             [
              0.2222222222222222,
              "#7201a8"
             ],
             [
              0.3333333333333333,
              "#9c179e"
             ],
             [
              0.4444444444444444,
              "#bd3786"
             ],
             [
              0.5555555555555556,
              "#d8576b"
             ],
             [
              0.6666666666666666,
              "#ed7953"
             ],
             [
              0.7777777777777778,
              "#fb9f3a"
             ],
             [
              0.8888888888888888,
              "#fdca26"
             ],
             [
              1,
              "#f0f921"
             ]
            ],
            "type": "histogram2d"
           }
          ],
          "histogram2dcontour": [
           {
            "colorbar": {
             "outlinewidth": 0,
             "ticks": ""
            },
            "colorscale": [
             [
              0,
              "#0d0887"
             ],
             [
              0.1111111111111111,
              "#46039f"
             ],
             [
              0.2222222222222222,
              "#7201a8"
             ],
             [
              0.3333333333333333,
              "#9c179e"
             ],
             [
              0.4444444444444444,
              "#bd3786"
             ],
             [
              0.5555555555555556,
              "#d8576b"
             ],
             [
              0.6666666666666666,
              "#ed7953"
             ],
             [
              0.7777777777777778,
              "#fb9f3a"
             ],
             [
              0.8888888888888888,
              "#fdca26"
             ],
             [
              1,
              "#f0f921"
             ]
            ],
            "type": "histogram2dcontour"
           }
          ],
          "mesh3d": [
           {
            "colorbar": {
             "outlinewidth": 0,
             "ticks": ""
            },
            "type": "mesh3d"
           }
          ],
          "parcoords": [
           {
            "line": {
             "colorbar": {
              "outlinewidth": 0,
              "ticks": ""
             }
            },
            "type": "parcoords"
           }
          ],
          "pie": [
           {
            "automargin": true,
            "type": "pie"
           }
          ],
          "scatter": [
           {
            "marker": {
             "colorbar": {
              "outlinewidth": 0,
              "ticks": ""
             }
            },
            "type": "scatter"
           }
          ],
          "scatter3d": [
           {
            "line": {
             "colorbar": {
              "outlinewidth": 0,
              "ticks": ""
             }
            },
            "marker": {
             "colorbar": {
              "outlinewidth": 0,
              "ticks": ""
             }
            },
            "type": "scatter3d"
           }
          ],
          "scattercarpet": [
           {
            "marker": {
             "colorbar": {
              "outlinewidth": 0,
              "ticks": ""
             }
            },
            "type": "scattercarpet"
           }
          ],
          "scattergeo": [
           {
            "marker": {
             "colorbar": {
              "outlinewidth": 0,
              "ticks": ""
             }
            },
            "type": "scattergeo"
           }
          ],
          "scattergl": [
           {
            "marker": {
             "colorbar": {
              "outlinewidth": 0,
              "ticks": ""
             }
            },
            "type": "scattergl"
           }
          ],
          "scattermapbox": [
           {
            "marker": {
             "colorbar": {
              "outlinewidth": 0,
              "ticks": ""
             }
            },
            "type": "scattermapbox"
           }
          ],
          "scatterpolar": [
           {
            "marker": {
             "colorbar": {
              "outlinewidth": 0,
              "ticks": ""
             }
            },
            "type": "scatterpolar"
           }
          ],
          "scatterpolargl": [
           {
            "marker": {
             "colorbar": {
              "outlinewidth": 0,
              "ticks": ""
             }
            },
            "type": "scatterpolargl"
           }
          ],
          "scatterternary": [
           {
            "marker": {
             "colorbar": {
              "outlinewidth": 0,
              "ticks": ""
             }
            },
            "type": "scatterternary"
           }
          ],
          "surface": [
           {
            "colorbar": {
             "outlinewidth": 0,
             "ticks": ""
            },
            "colorscale": [
             [
              0,
              "#0d0887"
             ],
             [
              0.1111111111111111,
              "#46039f"
             ],
             [
              0.2222222222222222,
              "#7201a8"
             ],
             [
              0.3333333333333333,
              "#9c179e"
             ],
             [
              0.4444444444444444,
              "#bd3786"
             ],
             [
              0.5555555555555556,
              "#d8576b"
             ],
             [
              0.6666666666666666,
              "#ed7953"
             ],
             [
              0.7777777777777778,
              "#fb9f3a"
             ],
             [
              0.8888888888888888,
              "#fdca26"
             ],
             [
              1,
              "#f0f921"
             ]
            ],
            "type": "surface"
           }
          ],
          "table": [
           {
            "cells": {
             "fill": {
              "color": "#EBF0F8"
             },
             "line": {
              "color": "white"
             }
            },
            "header": {
             "fill": {
              "color": "#C8D4E3"
             },
             "line": {
              "color": "white"
             }
            },
            "type": "table"
           }
          ]
         },
         "layout": {
          "annotationdefaults": {
           "arrowcolor": "#2a3f5f",
           "arrowhead": 0,
           "arrowwidth": 1
          },
          "autotypenumbers": "strict",
          "coloraxis": {
           "colorbar": {
            "outlinewidth": 0,
            "ticks": ""
           }
          },
          "colorscale": {
           "diverging": [
            [
             0,
             "#8e0152"
            ],
            [
             0.1,
             "#c51b7d"
            ],
            [
             0.2,
             "#de77ae"
            ],
            [
             0.3,
             "#f1b6da"
            ],
            [
             0.4,
             "#fde0ef"
            ],
            [
             0.5,
             "#f7f7f7"
            ],
            [
             0.6,
             "#e6f5d0"
            ],
            [
             0.7,
             "#b8e186"
            ],
            [
             0.8,
             "#7fbc41"
            ],
            [
             0.9,
             "#4d9221"
            ],
            [
             1,
             "#276419"
            ]
           ],
           "sequential": [
            [
             0,
             "#0d0887"
            ],
            [
             0.1111111111111111,
             "#46039f"
            ],
            [
             0.2222222222222222,
             "#7201a8"
            ],
            [
             0.3333333333333333,
             "#9c179e"
            ],
            [
             0.4444444444444444,
             "#bd3786"
            ],
            [
             0.5555555555555556,
             "#d8576b"
            ],
            [
             0.6666666666666666,
             "#ed7953"
            ],
            [
             0.7777777777777778,
             "#fb9f3a"
            ],
            [
             0.8888888888888888,
             "#fdca26"
            ],
            [
             1,
             "#f0f921"
            ]
           ],
           "sequentialminus": [
            [
             0,
             "#0d0887"
            ],
            [
             0.1111111111111111,
             "#46039f"
            ],
            [
             0.2222222222222222,
             "#7201a8"
            ],
            [
             0.3333333333333333,
             "#9c179e"
            ],
            [
             0.4444444444444444,
             "#bd3786"
            ],
            [
             0.5555555555555556,
             "#d8576b"
            ],
            [
             0.6666666666666666,
             "#ed7953"
            ],
            [
             0.7777777777777778,
             "#fb9f3a"
            ],
            [
             0.8888888888888888,
             "#fdca26"
            ],
            [
             1,
             "#f0f921"
            ]
           ]
          },
          "colorway": [
           "#636efa",
           "#EF553B",
           "#00cc96",
           "#ab63fa",
           "#FFA15A",
           "#19d3f3",
           "#FF6692",
           "#B6E880",
           "#FF97FF",
           "#FECB52"
          ],
          "font": {
           "color": "#2a3f5f"
          },
          "geo": {
           "bgcolor": "white",
           "lakecolor": "white",
           "landcolor": "#E5ECF6",
           "showlakes": true,
           "showland": true,
           "subunitcolor": "white"
          },
          "hoverlabel": {
           "align": "left"
          },
          "hovermode": "closest",
          "mapbox": {
           "style": "light"
          },
          "paper_bgcolor": "white",
          "plot_bgcolor": "#E5ECF6",
          "polar": {
           "angularaxis": {
            "gridcolor": "white",
            "linecolor": "white",
            "ticks": ""
           },
           "bgcolor": "#E5ECF6",
           "radialaxis": {
            "gridcolor": "white",
            "linecolor": "white",
            "ticks": ""
           }
          },
          "scene": {
           "xaxis": {
            "backgroundcolor": "#E5ECF6",
            "gridcolor": "white",
            "gridwidth": 2,
            "linecolor": "white",
            "showbackground": true,
            "ticks": "",
            "zerolinecolor": "white"
           },
           "yaxis": {
            "backgroundcolor": "#E5ECF6",
            "gridcolor": "white",
            "gridwidth": 2,
            "linecolor": "white",
            "showbackground": true,
            "ticks": "",
            "zerolinecolor": "white"
           },
           "zaxis": {
            "backgroundcolor": "#E5ECF6",
            "gridcolor": "white",
            "gridwidth": 2,
            "linecolor": "white",
            "showbackground": true,
            "ticks": "",
            "zerolinecolor": "white"
           }
          },
          "shapedefaults": {
           "line": {
            "color": "#2a3f5f"
           }
          },
          "ternary": {
           "aaxis": {
            "gridcolor": "white",
            "linecolor": "white",
            "ticks": ""
           },
           "baxis": {
            "gridcolor": "white",
            "linecolor": "white",
            "ticks": ""
           },
           "bgcolor": "#E5ECF6",
           "caxis": {
            "gridcolor": "white",
            "linecolor": "white",
            "ticks": ""
           }
          },
          "title": {
           "x": 0.05
          },
          "xaxis": {
           "automargin": true,
           "gridcolor": "white",
           "linecolor": "white",
           "ticks": "",
           "title": {
            "standoff": 15
           },
           "zerolinecolor": "white",
           "zerolinewidth": 2
          },
          "yaxis": {
           "automargin": true,
           "gridcolor": "white",
           "linecolor": "white",
           "ticks": "",
           "title": {
            "standoff": 15
           },
           "zerolinecolor": "white",
           "zerolinewidth": 2
          }
         }
        },
        "title": {
         "font": {
          "color": "#4D5663"
         }
        },
        "xaxis": {
         "autorange": true,
         "gridcolor": "#E1E5ED",
         "range": [
          -1.4874216747973459,
          1.51222851352137
         ],
         "showgrid": true,
         "tickfont": {
          "color": "#4D5663"
         },
         "title": {
          "font": {
           "color": "#4D5663"
          },
          "text": ""
         },
         "type": "linear",
         "zerolinecolor": "#E1E5ED"
        },
        "yaxis": {
         "autorange": true,
         "gridcolor": "#E1E5ED",
         "range": [
          -1.6591488983021958,
          1.5456033819468455
         ],
         "showgrid": true,
         "tickfont": {
          "color": "#4D5663"
         },
         "title": {
          "font": {
           "color": "#4D5663"
          },
          "text": ""
         },
         "type": "linear",
         "zerolinecolor": "#E1E5ED"
        }
       }
      },
      "image/png": "[encoded data removed]",
      "text/html": [
       "<div>                            <div id=\"e7c6df84-b2d2-43aa-bbe7-14c167f429b9\" class=\"plotly-graph-div\" style=\"height:525px; width:100%;\"></div>            <script type=\"text/javascript\">                require([\"plotly\"], function(Plotly) {                    window.PLOTLYENV=window.PLOTLYENV || {};\n",
       "                    window.PLOTLYENV.BASE_URL='https://plot.ly';                                    if (document.getElementById(\"e7c6df84-b2d2-43aa-bbe7-14c167f429b9\")) {                    Plotly.newPlot(                        \"e7c6df84-b2d2-43aa-bbe7-14c167f429b9\",                        [{\"marker\":{\"color\":\"rgba(255, 153, 51, 1.0)\",\"line\":{\"width\":1.3},\"opacity\":0.8,\"size\":12,\"symbol\":\"circle\"},\"mode\":\"markers\",\"name\":\"B\",\"textfont\":{\"color\":\"#4D5663\"},\"x\":[-0.18857041779897998,-0.45133774386740794,0.391683356213709,0.41784313661979955,-1.1869727537028623,0.4784680443788901,0.5709586041894853,0.5130860309223408,-0.33644351010724455,0.6338703309466527,0.949249330322238,0.9417902111254484,0.6156759348962706,0.611126252786113,-0.21115970747208368,0.16359544936126502,0.15103009740593193,-0.623571914818117,0.7826291531812943,-0.2707527582875402,-0.5341832702759679,0.4833363595662592,0.7461778312623203,-0.5108909648164668,-0.2997956658816462,-0.9044596915266494,-0.045780655859379765,-0.8811614930744477,-0.4131747814731012,0.5335713712162313,-0.23912518611758884,-0.007295425516537141,-0.6660293788300258,0.13244116867507755,0.3371134189691768,0.0698512540793747,-0.5804430452818022,-0.6211683207270537,-0.9919357851033915,0.6399607156228558,-0.1529544513458811,-0.5047132169567177,-1.2202139410822705,0.20728620877223164,-0.566384851059613,-0.7285037209562778,-0.6261622653793133,-0.8960201175571025,-1.0272440636006768,1.0277385785151778,0.9700244973622721,0.3030657596546565,0.34974100781180417,0.6185207285491611,0.05454313095845953,0.8542108541397501,0.9750738871848819,-0.6952426302163588,-0.4912758698114329,0.0860144534921988,-0.29694988704594283,1.1312840238197464,-0.2313021847867916,0.49126656684649445,1.033950522996053,0.4031553416806368,-0.5033162550625321,0.5683204605510126,1.2748530222354686,0.6541539449687929,1.0230294207375765,-0.7062198043041616,0.5573191740290128,-0.2242531318322768,-0.4926367277659579,0.3408983021032246,0.642772222473377,-0.04377281863133453,1.0033079518338326,-1.0492827114263397,-0.8686846765692453,-0.9029460741930132,-0.4510012068992356,0.651362338431837,0.7698389166362916,-1.0294305691619088,-0.12571405253383594,-0.19886042050129887,-0.1925753391064,1.0720726389843556,0.6461886400541612,-0.10836006961180096,-0.17196688055679318,0.8630016928362816,0.5190850729541326,-0.8901431850275316,-0.06246343792178859,-0.39798471577891886,0.3300732899495049,0.24250412994009696,0.21339201873698316,0.34550120450215466,0.02451253697031716,-0.07726561953386538,1.1129805825350743,1.066893567547952,-0.531255528631893,-0.012740343409266108,-1.0522629339021177,-0.6910579407321025,-0.42013357061282586,-0.5537760366231834,-1.0053435698962088,-0.5728085656760337,0.7421754070562452,-0.6684714062386723,-0.20875336710961806,0.43384144850527134,-0.3670325554938598,0.3615497057621393,0.20351271156277398,-0.8731383585412985,1.0368624359072645,0.18977647912425682,-0.10879291328251345,0.8034752083892179,-0.9104378670457821,-0.319643278316972,0.7228718113291809,-0.4891911130701292,-0.13591539332940036,-0.3875514485927919,-1.2763720627172637,0.5553354333390543,-0.6328084008077288,0.5505910128306577,0.7462635597096678,-0.7486647857335138,-0.04132242345787129,-0.42157976135676845,-0.16960200277901843,-0.526574053088431,0.8523217258115868,-0.25653964314977806,-0.7293354029814958,-1.3007150380240742,0.7063803728404593,-0.3035820575963636,0.6609463753515077,0.45072847711287783,-0.5494840990347931,0.21177217953323058,0.05637139564663753,0.169033472046775,-1.0455831735220127,-0.09790754252252998,-1.2423777396027613,-0.9052751444277958,0.3528209545588411,-0.576343770772936,0.5071221748402014,0.23783605763828108,0.5076185526788601,-0.36286399808458836,0.20518663672166915,-1.050819963697645,-0.8316192510873894,0.8610992003899149,0.027403322869599234,0.4019568896907137,-1.0258747918649973,-0.7420027832018194,0.6182373928485765,0.38025149521793483,0.25292152221871067,-0.7665022484250662,-0.46627683259156105,0.9701388203197536,-0.41014930697554103,-0.01239343261970012,-0.7317011589749185,0.11711492239512614,1.0441501368276191,0.20256782978989848,0.633671320640107,0.9192457971717614,-0.9824582851010473,-0.9854209306364707,0.16865529403737628,0.6700353730582199,0.3253303621146227,-0.6546139226302894,0.687464233564991,0.8902289651472868,0.8219603954079358,-0.48884704807623425,0.21537493867665808,-0.5176718763706103,-0.05296982233257569,0.772884331841933,-0.7986025558270096,-0.7652802998464432,-0.6186891981550595,0.6738023197720078,0.6393871096347237,0.5453346506255148,0.519539272554078,0.38255908518271486,1.0007980254464919,0.8121409421858814,0.21436633254917709,0.3357862161310361,1.1653027332573433,-0.03906115577103647,1.009073638787683,0.8631978631404177,0.2089473444098723,0.023105875311243473,-0.7077998115610578,-0.373623703404094,0.18475259725758264,1.128025687122863,0.3980344535300875,0.6734581124798287,0.9999632699247354,0.0003291374106995648,-0.377560812243803,0.12564147421310645,-0.23462946887564426,-0.7232351656279461,-1.1250088884565106,0.08875685319969268,-0.4948004034208352,-0.729452009148109,-0.6257420109564242,0.6092889997301635,-0.7984920765276646,-0.3439302387770783,-0.41013430330989353,-0.6010336671136846],\"y\":[1.0188723488932343,0.039754879286628575,-0.25110879729531915,-0.7005279560216213,0.5277527671919237,-0.030933827345101278,-0.1269713388120131,-0.02210242989575964,0.9128332066928644,-0.147673375254029,-0.797192615647656,-1.0184110411383371,-0.1091346124327705,-0.0625188989294635,0.033773828148231155,-0.031048413361188798,-1.1354565660897562,0.10910737708624246,-0.3342622292832049,0.23728614128657952,0.2813227069425005,-0.9772393290908304,-0.5350643086855555,0.32486315332322113,0.08321685450256285,0.6970443794423574,0.8906967256731563,0.49709922720945443,0.642962000678306,-0.3271516445707706,0.3581673270736775,0.1734192988026022,0.5155944927406877,-0.9129319932645266,-1.0475370500635128,-0.7259084029650643,0.0946173095318481,0.29444222278281745,0.4863451036173436,-0.13703682691134528,0.603239096477563,0.29021205439688436,0.6419565848087873,-0.23999643745374355,0.0751894953682567,0.11205682891098051,0.8629380091408566,0.23860743544022311,0.3981473326053705,-0.1350050020768165,-0.47822342265574536,-0.21043533140194232,-0.9233785226686917,-0.07556356005597076,-0.9800958116293518,-0.721261024646516,-0.8948293471335784,0.26605858138415883,0.10133028959263175,-0.23528099139925446,0.4746336204067868,-0.09879098370550259,0.4095175769052095,-0.3067641459146824,-0.7804925516907926,-0.5089523382992787,0.030831066634396942,-0.4197800329639549,-0.29335977307169026,-0.8555160147659531,-0.33075430835018427,0.3679487092104833,-0.6693653396891526,0.31794025806230897,0.40601916458302556,-0.45213498191807955,-1.0037925525203562,0.85859268287674,-0.0016533704410653279,0.5404405188283405,0.32490973021650127,0.038944249569079895,0.3832464428915756,-0.22193811018221576,-0.011631611654852894,0.4175659025550962,0.35028000905971346,0.5432505261852889,0.7133105906881501,-0.3554178630849665,-0.6727038778296877,0.7548741991882144,0.38779871995362547,-1.053720189935569,-0.7646384790762127,0.0009865125078880599,0.15891261465722115,1.1424333903213977,-0.06642544287252616,-0.5142126925766923,-0.008588490812860039,-1.3400857860719229,-0.13021367529732464,0.36141611374852045,-0.29130397001866615,-0.8703707592492951,0.8241807227253668,0.15335246918058892,0.23512453900482705,0.3169651248538988,1.103778010684611,0.2525260329606189,0.25126045661559276,0.9251409092401955,-0.8790569837804633,0.6251710245795046,0.08248039212815,-0.3789734477432771,0.44897942971747873,-1.0847806823105202,-0.5964083904489413,0.1348190028637422,-0.2892890687474411,-0.3446716177612109,0.03072238181832182,-0.9175278879292068,0.3735250372935646,0.13048164323836786,-0.12893092090516595,0.6298498989151069,0.848599997313625,0.29058665793696403,0.6872953165068686,-1.1061208294416713,1.0783694323275843,-0.063363386912136,-0.32776251169124504,0.5830825326620901,0.1959869495917157,0.11656169929950455,0.7793112013369545,0.08919399334771771,-0.44533072701026494,0.49424692087538347,0.8074881820954676,0.41432534381565544,-0.15071158805460763,0.2319074002697746,-0.4822253002858985,-0.3800486736074361,0.448245005461142,-0.9699767298168961,-1.0081697052401737,-0.35694236717598204,0.01907542458251856,0.7371737165802262,1.0841216726964142,0.6476968930797171,-0.42729995578124136,1.1637038493419403,-0.5578829824645024,-0.9652785956511731,-0.6983355821374769,0.1464447574275905,-0.50355787022085,0.3628995145427001,0.21171681664151792,-0.14739480875475558,-0.6166087421368589,-0.15464553576037837,0.5843015831216841,0.08368834869400799,-0.20426379242309006,-0.9272849309876386,-0.976969887124413,0.08901119257060253,1.074534644365661,-0.9853196023687576,0.8125489515905433,0.7639185541154083,0.7129878590695159,-0.005140348759230917,-0.006491491662564575,-0.21280137834970075,-0.1355935325136172,-0.2528686749147876,1.1539017594818672,0.7177947213228115,-0.1311559727570913,-0.08743012531308714,-1.1660575968550044,0.21606551862341986,-0.7414766250416642,-0.6135727064558791,-0.08659658092951183,0.3894057751130524,-0.8765872671417015,0.3299839232614078,0.9642731205127739,-1.236008072893014,0.6862599985372544,0.053348178137363034,0.7500752242631976,-0.6335374534078655,-0.8589510708865116,-0.4014100422199864,-0.7697372375217661,-0.1955594699115651,-0.4134168431352991,-0.8083651342720879,-0.7251496756494726,-0.06403716020119077,-0.30734978311717914,0.9060521458870275,-0.5681384726729035,-0.4985893920462444,-0.36448897866577085,-1.2486251034596079,0.23908305609860495,0.4822931880267487,-0.007908164451053745,-1.3123775385504441,-0.8837184270088283,-0.1022162941584917,-0.4669106032770545,-0.4306381787835424,0.1336876126990975,-1.1639751312680944,0.5930265239128166,0.23499433120097984,0.9934609822689869,-1.2586019024306567,0.7577992306342096,0.5339053093169899,0.8082586106676841,-0.6466353220579861,0.3709782910151297,0.882249244869717,0.698293333061858,0.7002796005792616],\"type\":\"scatter\"},{\"marker\":{\"color\":\"rgba(55, 128, 191, 1.0)\",\"line\":{\"width\":1.3},\"opacity\":0.8,\"size\":12,\"symbol\":\"circle\"},\"mode\":\"markers\",\"name\":\"A\",\"textfont\":{\"color\":\"#4D5663\"},\"x\":[0.6256798083114578,0.9642394591042072,0.5314518953893527,-0.38627541599377124,-0.23376342429919045,-0.28529953579111134,-0.6259464783971289,-1.2684995327935265,-0.16782774079504004,-0.5412193595005852,0.23803624619701322,-0.5642505619822369,0.20969897428494205,-0.3303854111572417,0.5890928460380259,0.10274507263407644,-0.004626595388055044,-0.46124257749495107,-0.6335840335210459,0.49797759287281107,-0.9096507332368018,-1.0160586038452504,0.2746892560551042,0.104535775650619,0.10846081856587159,-0.7756901352330102,-0.6800016946430344,0.27672120562122154,-0.96183947274739,-0.924855296472724,-0.737398131864976,-0.47884988291278596,-0.7030346736417594,-0.3226105119017141,-0.5223316471039555,1.003833731220395,1.2150238228099424,-0.17332676421295712,0.6242315692077385,0.784200563921799,0.5482670196307542,0.40357226826436665,0.5245770434610003,-0.003604534566111234,-0.5463846648150806,0.18239015547939882,-0.7174036915165368,0.6551712775095175,-0.39992825065906096,0.5548819832783616,-0.417767515908922,0.0655025395023547,-1.0047636876024366,-0.119464191544217,0.8536074775072494,-1.3202129966123517,-0.24290070022567778,-0.5273725708761774,-0.20318995744289814,-1.0424874776173079,0.9683048494456555,0.6121415901176217,0.10601331711226858,0.49383920350840954,-0.016203718704573156,0.5686176375303388,-0.5100946403043091,0.5494869407723153,-1.2719044620795719,-0.25530859588108684,-0.12751519530531233,-1.1506292861587237,-0.3499931755148898,-0.6624559352996285,0.0025995502577218013,0.1133879020930812,0.6534976558588171,-0.7656411278060219,0.11885056577676253,0.431988568751894,-0.777892176618905,-0.6230504008070106,0.5129090877124249,0.8502956975598601,0.7068207763026002,0.17771495660225903,0.7201986595456709,0.7502797225690383,1.054886897827171,0.21328748409377285,-0.19083099337064385,0.15011638040578673,-0.7875874398928036,-0.8132063134880098,0.02570475499176314,0.22099835209656718,-0.8116565966780165,-1.103844418911347,0.5961239358381437,0.20726616508873058,-0.572139993966571,-1.1270395147076726,0.28737821919083967,1.1207805445621668,0.6828773663947634,-0.8443401746835508,-0.29681180831570775,0.3405074182783413,0.5261213637251556,0.8111826403185709,-0.39801538692994526,0.07910305269551952,-0.23742189897072663,-1.3056698633468653,-0.7440103039618737,0.44900517822297203,-0.6299699468367623,0.7649353323319047,0.5039003333785386,0.13464706751806188,1.1496185122899192,1.2669332703959337,0.818657458335099,-0.5588586648687623,0.21382382229315602,-0.49378153866285185,0.6386765353167476,-0.36241880400062676,0.6469846338008751,1.027191115624611,0.6412619979559382,0.3849943076564223,0.26423257432111763,-0.20482938769052117,-1.075825917576149,0.24196587663152136,1.1439487504231474,0.14056316790612433,-0.17481461336408088,-0.6756341283652765,0.3794442294011461,-0.24158418594544484,-0.015094057093105694,-0.012094909077734972,-0.3144113606350906,0.37239297309546865,0.0474143881182604,0.31694191600406635,0.991715491452971,0.8262015569879018,0.4690945430514246,0.4052053746328257,1.014950648128248,0.022885805016495786,0.12195767663151663,-0.7204072175362144,-1.0711115464338645,0.040032019681375396,-0.7150547517467656,0.715719139001695,0.8623882236126024,-0.026771998969880306,0.06945256670728964,-0.13579701131312608,0.8787925015989563,0.09711066466074725,0.1734265510370417,-0.1791501056106967,1.0832093583971947,0.8005317356167676,0.04245530859545417,1.1394346724748128,-0.3079083403667011,-0.05284751605588245,0.8224117611473141,-0.4463403633190363,0.07594732018614203,-0.696162583827571,-0.5694848725993502,-0.20801726209775762,1.238175087295743,-0.05720852676638677,0.5314491646281583,-0.5588851262218213,-0.11500692453159748,0.6984326314819631,-0.036053863905263384,0.3594873957929957,1.147344608432107,0.11582517013333393,-1.2328148356007813,-0.6248771850923469,-0.2632619541328748,0.23784433075167977,-0.9729705481128497,-0.8120543578736712,-0.12752621486247556,-0.4650698411081081,-0.03576316127073276,0.890719188735187,-0.9603179571392177,0.19057817431418922,0.02518460348054985,0.5727560873065599,0.758343011145405,-0.047425192344418526,0.16483330304932764,1.0668081915521292,-0.3880180249380818,0.3558279617037381,0.5281648946342131,-0.7029765726552385,0.5362180022151692,0.1472728200299951,0.37558733549473267,0.28432009167679584,-0.6252868541607162,0.5358829305470894,1.1960538859205865,-0.4272857799612776,-0.11579249426249416,0.3112601510626508,-0.596270264555014,-0.7881916223291848,0.2111891741044719,0.42777165744616863,0.8896509978690462,1.3450198353363758,0.42176204772286463,0.26877057251210634,-0.5080012409288626,0.48719529267632505,-0.1425268136091462,-0.8000669097875159,-0.7403079448279385,-0.6842602912143363,0.6059580726037385,0.6392501643947509,0.8116431280492533,-0.061455631407977496,0.2962310956086411,-0.2865227211887593,-0.4698205939705593,-0.872112050537242,0.6427089347962502,-1.0899558495079786,0.7132791234856264,-0.21536532510442075,0.24818415246118594,0.7128154814037231,0.4961242880930642,-0.3097178086675775,-0.7354647236118232,-0.5197380988622079,-0.030183488122582425,0.6420622458777812,-0.2353209176636264,-0.11935188114677456,-0.4024335208079207,-0.3676163479736013],\"y\":[0.009039219979808444,0.926334589159351,0.15796262615124051,-0.5826560368820504,-0.37230820629835826,-0.9638730671389708,-0.39099747847930266,-0.143135739615176,-0.04751305511564907,-0.4857997886352602,0.12038427381988365,-0.7592102965057329,0.635490747090832,-0.5867849865649779,0.27350867068962503,0.26202772309025146,-0.5624772666047005,-1.0210523188929932,-0.13211892914721002,1.0880615321546996,-0.006704244692145089,-0.23132967668808602,0.8081575819997734,0.3887153708540083,0.5368510470966562,-0.7412709873322642,-0.6523673866125574,0.4550437904829724,-0.9056233160486107,-0.6988949368174868,-0.3207110913776615,-0.4099999093719581,-0.825288729360574,-0.14408378826804666,-0.7752029478064287,0.861256336537085,0.20670537539030023,-0.8188420029195556,0.1750764829408598,0.5970123157633895,0.31641249085904644,0.7283729105721439,0.5100880322266959,-0.7147687415997412,-0.4528820618996641,0.5515915247886284,-0.47261473069334997,0.22650644922455226,-0.8122866590929263,0.49417499725483316,-0.8637520302376542,0.6317847311016803,-0.3620772418976692,-0.881669365887438,0.03616847943849838,-0.5951141250448599,-0.24314200237433145,-0.6218094941965184,-0.9516409068788518,-0.32743412880898815,0.34376475359097225,0.4067552810890014,0.3030444361014618,0.29994835259578145,-0.7929006449723409,0.7041978022691338,-0.08691595395322546,0.6920396188795402,-0.8420659901088262,-1.0193535471578004,-0.3114795977250171,-0.26472608721891494,-0.9685725381493957,-0.4498701753246352,0.2746711390127058,0.09096808670499298,0.40882046539367695,-0.6986728578708585,0.266435112479139,1.2378385326629442,-0.6416510261381534,-0.43218900064118115,0.8245443224858572,1.0270074760519405,0.9558325686692827,0.14757603658577384,0.15017315326409403,0.49478649097403304,0.7546011487366184,0.8324948098332192,-1.365379939279367,0.38409852045476156,-0.7658726457507752,-0.7194526479472805,1.0224684751670756,0.8627694193796722,-1.0685006999397602,-0.02918969613495137,0.2263001305356787,0.08004450301349925,-0.012198739584871915,-1.1256687521890691,0.6571587386241978,0.5594564364790902,1.172758539813242,-0.4870773696814964,-0.856043932129088,0.5561848445416079,1.080108741193098,0.8475468656602658,-0.5539203217602493,0.7156659365356102,-0.613119078322509,-0.18391191254258926,-0.37408082788454244,0.9366282553459887,-1.1422357348844474,0.36184903503207266,0.08160789270463159,0.3688533770706152,0.3664943545635615,0.4090683917252099,1.2518344229240168,-0.6419779416699803,0.8041747770843458,-0.1281055042114473,0.09340456974077153,-0.29697977930532615,1.1015861049881055,0.3624365842591957,0.5551718025034063,1.219182708339839,0.4108019239544245,-0.695596697054385,-0.8672020172786943,0.5718553570415956,0.07322044781893769,0.756406658812727,-1.1029112532798822,-0.3367784789664516,0.0782149246422999,-0.2322696189869714,-1.0705132850248673,-0.7164377354919997,-0.6361282961816254,1.0355254015293862,0.8996927796389693,1.142442757362256,0.06368648616364876,0.07227039360706042,0.9930963247244141,0.8710210474754123,0.7773190487486981,0.07270535533136818,0.5982427877864387,-0.641070240028423,-1.1021685153574963,0.19731478160389915,-0.0002555663041159395,0.4200939430782265,0.1957484294036612,-0.6403066346154449,0.9555719567890113,-0.20573837021050223,0.5602221722826926,0.5409866249765846,0.4089135273853674,-0.12158751905531986,1.0555161047156825,0.2677122870392419,0.43064238398879245,0.24955914982217547,-0.1018629208399272,-0.20572367275376285,0.32514237632137855,-0.9293219744778045,0.5544082367499208,-0.07473577360483392,-0.5815048484409175,-0.7041100059936932,0.06235219894435372,-0.12353300729241706,0.011057381200887784,-0.2032277771203872,-0.6134358722132405,0.39754016314686474,-0.7662295036039412,0.2259763375475401,0.8288506379391756,0.4578450612430441,-0.4067947126308292,-0.339234013427938,-0.428605639895255,0.0754069373753859,-0.6693540709004059,-0.44762227606380445,-0.6571748337308523,-0.21101331633969217,-0.2977539591939228,0.35046096808431365,-1.1279663205452388,0.480099509131367,0.9771322747891956,0.11736475766024243,0.6677033739655642,-0.13244338514904974,0.527060676429117,0.332761991728489,-0.9424378379511016,0.25622956460817264,0.27660467528387317,-0.335428625999116,0.4498294272639475,0.18904814693288174,0.8884260530673889,0.37545481284144644,-0.578520594980781,0.10016944493832519,0.1314465300395244,-0.10191954651035454,-0.17173034503808138,0.3872799155733859,-0.05120534790499881,-0.5033638957515093,0.08246623556471,0.1871657187264017,0.16835624733524768,0.8396345467564703,0.1589702387121376,0.5436759461156095,-0.7557281667530512,0.6039828638797369,-0.056036081445936026,-0.7989882442052204,-0.9697137610124311,-1.0197936123616878,0.9887384107397581,1.2326420756591938,0.8275197116055628,-0.0854102227517351,0.656542357836612,-0.7278583368777936,-0.8539963418136595,-0.5628527282201019,1.0429584642812628e-05,-0.6383369978524107,0.9567081669906045,-0.12551864087362521,0.05145267253520275,0.10734409744259477,0.6385358780243384,-0.2844590976176422,-0.766346951441025,-0.11415520907338803,-1.0495502105875847,0.6283566806816394,-0.8215217938376731,-0.571645922858437,-0.4666894350916292,-0.7893740086928046],\"type\":\"scatter\"}],                        {\"legend\":{\"bgcolor\":\"#FFFFFF\",\"font\":{\"color\":\"#4D5663\"}},\"paper_bgcolor\":\"#FFFFFF\",\"plot_bgcolor\":\"#FFFFFF\",\"template\":{\"data\":{\"barpolar\":[{\"marker\":{\"line\":{\"color\":\"#E5ECF6\",\"width\":0.5},\"pattern\":{\"fillmode\":\"overlay\",\"size\":10,\"solidity\":0.2}},\"type\":\"barpolar\"}],\"bar\":[{\"error_x\":{\"color\":\"#2a3f5f\"},\"error_y\":{\"color\":\"#2a3f5f\"},\"marker\":{\"line\":{\"color\":\"#E5ECF6\",\"width\":0.5},\"pattern\":{\"fillmode\":\"overlay\",\"size\":10,\"solidity\":0.2}},\"type\":\"bar\"}],\"carpet\":[{\"aaxis\":{\"endlinecolor\":\"#2a3f5f\",\"gridcolor\":\"white\",\"linecolor\":\"white\",\"minorgridcolor\":\"white\",\"startlinecolor\":\"#2a3f5f\"},\"baxis\":{\"endlinecolor\":\"#2a3f5f\",\"gridcolor\":\"white\",\"linecolor\":\"white\",\"minorgridcolor\":\"white\",\"startlinecolor\":\"#2a3f5f\"},\"type\":\"carpet\"}],\"choropleth\":[{\"colorbar\":{\"outlinewidth\":0,\"ticks\":\"\"},\"type\":\"choropleth\"}],\"contourcarpet\":[{\"colorbar\":{\"outlinewidth\":0,\"ticks\":\"\"},\"type\":\"contourcarpet\"}],\"contour\":[{\"colorbar\":{\"outlinewidth\":0,\"ticks\":\"\"},\"colorscale\":[[0.0,\"#0d0887\"],[0.1111111111111111,\"#46039f\"],[0.2222222222222222,\"#7201a8\"],[0.3333333333333333,\"#9c179e\"],[0.4444444444444444,\"#bd3786\"],[0.5555555555555556,\"#d8576b\"],[0.6666666666666666,\"#ed7953\"],[0.7777777777777778,\"#fb9f3a\"],[0.8888888888888888,\"#fdca26\"],[1.0,\"#f0f921\"]],\"type\":\"contour\"}],\"heatmapgl\":[{\"colorbar\":{\"outlinewidth\":0,\"ticks\":\"\"},\"colorscale\":[[0.0,\"#0d0887\"],[0.1111111111111111,\"#46039f\"],[0.2222222222222222,\"#7201a8\"],[0.3333333333333333,\"#9c179e\"],[0.4444444444444444,\"#bd3786\"],[0.5555555555555556,\"#d8576b\"],[0.6666666666666666,\"#ed7953\"],[0.7777777777777778,\"#fb9f3a\"],[0.8888888888888888,\"#fdca26\"],[1.0,\"#f0f921\"]],\"type\":\"heatmapgl\"}],\"heatmap\":[{\"colorbar\":{\"outlinewidth\":0,\"ticks\":\"\"},\"colorscale\":[[0.0,\"#0d0887\"],[0.1111111111111111,\"#46039f\"],[0.2222222222222222,\"#7201a8\"],[0.3333333333333333,\"#9c179e\"],[0.4444444444444444,\"#bd3786\"],[0.5555555555555556,\"#d8576b\"],[0.6666666666666666,\"#ed7953\"],[0.7777777777777778,\"#fb9f3a\"],[0.8888888888888888,\"#fdca26\"],[1.0,\"#f0f921\"]],\"type\":\"heatmap\"}],\"histogram2dcontour\":[{\"colorbar\":{\"outlinewidth\":0,\"ticks\":\"\"},\"colorscale\":[[0.0,\"#0d0887\"],[0.1111111111111111,\"#46039f\"],[0.2222222222222222,\"#7201a8\"],[0.3333333333333333,\"#9c179e\"],[0.4444444444444444,\"#bd3786\"],[0.5555555555555556,\"#d8576b\"],[0.6666666666666666,\"#ed7953\"],[0.7777777777777778,\"#fb9f3a\"],[0.8888888888888888,\"#fdca26\"],[1.0,\"#f0f921\"]],\"type\":\"histogram2dcontour\"}],\"histogram2d\":[{\"colorbar\":{\"outlinewidth\":0,\"ticks\":\"\"},\"colorscale\":[[0.0,\"#0d0887\"],[0.1111111111111111,\"#46039f\"],[0.2222222222222222,\"#7201a8\"],[0.3333333333333333,\"#9c179e\"],[0.4444444444444444,\"#bd3786\"],[0.5555555555555556,\"#d8576b\"],[0.6666666666666666,\"#ed7953\"],[0.7777777777777778,\"#fb9f3a\"],[0.8888888888888888,\"#fdca26\"],[1.0,\"#f0f921\"]],\"type\":\"histogram2d\"}],\"histogram\":[{\"marker\":{\"pattern\":{\"fillmode\":\"overlay\",\"size\":10,\"solidity\":0.2}},\"type\":\"histogram\"}],\"mesh3d\":[{\"colorbar\":{\"outlinewidth\":0,\"ticks\":\"\"},\"type\":\"mesh3d\"}],\"parcoords\":[{\"line\":{\"colorbar\":{\"outlinewidth\":0,\"ticks\":\"\"}},\"type\":\"parcoords\"}],\"pie\":[{\"automargin\":true,\"type\":\"pie\"}],\"scatter3d\":[{\"line\":{\"colorbar\":{\"outlinewidth\":0,\"ticks\":\"\"}},\"marker\":{\"colorbar\":{\"outlinewidth\":0,\"ticks\":\"\"}},\"type\":\"scatter3d\"}],\"scattercarpet\":[{\"marker\":{\"colorbar\":{\"outlinewidth\":0,\"ticks\":\"\"}},\"type\":\"scattercarpet\"}],\"scattergeo\":[{\"marker\":{\"colorbar\":{\"outlinewidth\":0,\"ticks\":\"\"}},\"type\":\"scattergeo\"}],\"scattergl\":[{\"marker\":{\"colorbar\":{\"outlinewidth\":0,\"ticks\":\"\"}},\"type\":\"scattergl\"}],\"scattermapbox\":[{\"marker\":{\"colorbar\":{\"outlinewidth\":0,\"ticks\":\"\"}},\"type\":\"scattermapbox\"}],\"scatterpolargl\":[{\"marker\":{\"colorbar\":{\"outlinewidth\":0,\"ticks\":\"\"}},\"type\":\"scatterpolargl\"}],\"scatterpolar\":[{\"marker\":{\"colorbar\":{\"outlinewidth\":0,\"ticks\":\"\"}},\"type\":\"scatterpolar\"}],\"scatter\":[{\"marker\":{\"colorbar\":{\"outlinewidth\":0,\"ticks\":\"\"}},\"type\":\"scatter\"}],\"scatterternary\":[{\"marker\":{\"colorbar\":{\"outlinewidth\":0,\"ticks\":\"\"}},\"type\":\"scatterternary\"}],\"surface\":[{\"colorbar\":{\"outlinewidth\":0,\"ticks\":\"\"},\"colorscale\":[[0.0,\"#0d0887\"],[0.1111111111111111,\"#46039f\"],[0.2222222222222222,\"#7201a8\"],[0.3333333333333333,\"#9c179e\"],[0.4444444444444444,\"#bd3786\"],[0.5555555555555556,\"#d8576b\"],[0.6666666666666666,\"#ed7953\"],[0.7777777777777778,\"#fb9f3a\"],[0.8888888888888888,\"#fdca26\"],[1.0,\"#f0f921\"]],\"type\":\"surface\"}],\"table\":[{\"cells\":{\"fill\":{\"color\":\"#EBF0F8\"},\"line\":{\"color\":\"white\"}},\"header\":{\"fill\":{\"color\":\"#C8D4E3\"},\"line\":{\"color\":\"white\"}},\"type\":\"table\"}]},\"layout\":{\"annotationdefaults\":{\"arrowcolor\":\"#2a3f5f\",\"arrowhead\":0,\"arrowwidth\":1},\"autotypenumbers\":\"strict\",\"coloraxis\":{\"colorbar\":{\"outlinewidth\":0,\"ticks\":\"\"}},\"colorscale\":{\"diverging\":[[0,\"#8e0152\"],[0.1,\"#c51b7d\"],[0.2,\"#de77ae\"],[0.3,\"#f1b6da\"],[0.4,\"#fde0ef\"],[0.5,\"#f7f7f7\"],[0.6,\"#e6f5d0\"],[0.7,\"#b8e186\"],[0.8,\"#7fbc41\"],[0.9,\"#4d9221\"],[1,\"#276419\"]],\"sequential\":[[0.0,\"#0d0887\"],[0.1111111111111111,\"#46039f\"],[0.2222222222222222,\"#7201a8\"],[0.3333333333333333,\"#9c179e\"],[0.4444444444444444,\"#bd3786\"],[0.5555555555555556,\"#d8576b\"],[0.6666666666666666,\"#ed7953\"],[0.7777777777777778,\"#fb9f3a\"],[0.8888888888888888,\"#fdca26\"],[1.0,\"#f0f921\"]],\"sequentialminus\":[[0.0,\"#0d0887\"],[0.1111111111111111,\"#46039f\"],[0.2222222222222222,\"#7201a8\"],[0.3333333333333333,\"#9c179e\"],[0.4444444444444444,\"#bd3786\"],[0.5555555555555556,\"#d8576b\"],[0.6666666666666666,\"#ed7953\"],[0.7777777777777778,\"#fb9f3a\"],[0.8888888888888888,\"#fdca26\"],[1.0,\"#f0f921\"]]},\"colorway\":[\"#636efa\",\"#EF553B\",\"#00cc96\",\"#ab63fa\",\"#FFA15A\",\"#19d3f3\",\"#FF6692\",\"#B6E880\",\"#FF97FF\",\"#FECB52\"],\"font\":{\"color\":\"#2a3f5f\"},\"geo\":{\"bgcolor\":\"white\",\"lakecolor\":\"white\",\"landcolor\":\"#E5ECF6\",\"showlakes\":true,\"showland\":true,\"subunitcolor\":\"white\"},\"hoverlabel\":{\"align\":\"left\"},\"hovermode\":\"closest\",\"mapbox\":{\"style\":\"light\"},\"paper_bgcolor\":\"white\",\"plot_bgcolor\":\"#E5ECF6\",\"polar\":{\"angularaxis\":{\"gridcolor\":\"white\",\"linecolor\":\"white\",\"ticks\":\"\"},\"bgcolor\":\"#E5ECF6\",\"radialaxis\":{\"gridcolor\":\"white\",\"linecolor\":\"white\",\"ticks\":\"\"}},\"scene\":{\"xaxis\":{\"backgroundcolor\":\"#E5ECF6\",\"gridcolor\":\"white\",\"gridwidth\":2,\"linecolor\":\"white\",\"showbackground\":true,\"ticks\":\"\",\"zerolinecolor\":\"white\"},\"yaxis\":{\"backgroundcolor\":\"#E5ECF6\",\"gridcolor\":\"white\",\"gridwidth\":2,\"linecolor\":\"white\",\"showbackground\":true,\"ticks\":\"\",\"zerolinecolor\":\"white\"},\"zaxis\":{\"backgroundcolor\":\"#E5ECF6\",\"gridcolor\":\"white\",\"gridwidth\":2,\"linecolor\":\"white\",\"showbackground\":true,\"ticks\":\"\",\"zerolinecolor\":\"white\"}},\"shapedefaults\":{\"line\":{\"color\":\"#2a3f5f\"}},\"ternary\":{\"aaxis\":{\"gridcolor\":\"white\",\"linecolor\":\"white\",\"ticks\":\"\"},\"baxis\":{\"gridcolor\":\"white\",\"linecolor\":\"white\",\"ticks\":\"\"},\"bgcolor\":\"#E5ECF6\",\"caxis\":{\"gridcolor\":\"white\",\"linecolor\":\"white\",\"ticks\":\"\"}},\"title\":{\"x\":0.05},\"xaxis\":{\"automargin\":true,\"gridcolor\":\"white\",\"linecolor\":\"white\",\"ticks\":\"\",\"title\":{\"standoff\":15},\"zerolinecolor\":\"white\",\"zerolinewidth\":2},\"yaxis\":{\"automargin\":true,\"gridcolor\":\"white\",\"linecolor\":\"white\",\"ticks\":\"\",\"title\":{\"standoff\":15},\"zerolinecolor\":\"white\",\"zerolinewidth\":2}}},\"title\":{\"font\":{\"color\":\"#4D5663\"}},\"xaxis\":{\"gridcolor\":\"#E1E5ED\",\"showgrid\":true,\"tickfont\":{\"color\":\"#4D5663\"},\"title\":{\"font\":{\"color\":\"#4D5663\"},\"text\":\"\"},\"zerolinecolor\":\"#E1E5ED\"},\"yaxis\":{\"gridcolor\":\"#E1E5ED\",\"showgrid\":true,\"tickfont\":{\"color\":\"#4D5663\"},\"title\":{\"font\":{\"color\":\"#4D5663\"},\"text\":\"\"},\"zerolinecolor\":\"#E1E5ED\"}},                        {\"showLink\": true, \"linkText\": \"Export to plot.ly\", \"plotlyServerURL\": \"https://plot.ly\", \"responsive\": true}                    ).then(function(){\n",
       "                            \n",
       "var gd = document.getElementById('e7c6df84-b2d2-43aa-bbe7-14c167f429b9');\n",
       "var x = new MutationObserver(function (mutations, observer) {{\n",
       "        var display = window.getComputedStyle(gd).display;\n",
       "        if (!display || display === 'none') {{\n",
       "            console.log([gd, 'removed!']);\n",
       "            Plotly.purge(gd);\n",
       "            observer.disconnect();\n",
       "        }}\n",
       "}});\n",
       "\n",
       "// Listen for the removal of the full notebook cells\n",
       "var notebookContainer = gd.closest('#notebook-container');\n",
       "if (notebookContainer) {{\n",
       "    x.observe(notebookContainer, {childList: true});\n",
       "}}\n",
       "\n",
       "// Listen for the clearing of the current output cell\n",
       "var outputEl = gd.closest('.output');\n",
       "if (outputEl) {{\n",
       "    x.observe(outputEl, {childList: true});\n",
       "}}\n",
       "\n",
       "                        })                };                });            </script>        </div>"
      ]
     },
     "metadata": {},
     "output_type": "display_data"
    }
   ],
   "source": [
    "noisy_xor_df.iplot(kind=\"scatter\", theme=\"white\",x=\"x\",y=\"y\", categories=\"label\", shape=(200, 200))"
   ]
  },
  {
   "cell_type": "markdown",
   "id": "bf7e45b4-b73a-4acd-80ca-28d7dd97f424",
   "metadata": {},
   "source": [
    "## Classification"
   ]
  },
  {
   "cell_type": "code",
   "execution_count": 50,
   "id": "5c5fe9e0-8ad3-46f4-8e1f-dcda5c230d00",
   "metadata": {},
   "outputs": [],
   "source": [
    "train_data = noisy_xor_df.sample(frac=0.8)\n",
    "test_data = noisy_xor_df[~noisy_xor_df.index.isin(train_data.index)]\n",
    "assert(len(test_data) + len(train_data) == len(noisy_xor_df))"
   ]
  },
  {
   "cell_type": "code",
   "execution_count": 34,
   "id": "ce5852cd-71e4-488c-af01-af07a5fb42f5",
   "metadata": {},
   "outputs": [],
   "source": [
    "import tensorflow as tf\n",
    "from tensorflow.keras.models import Sequential\n",
    "from tensorflow.keras.layers import Dense, Dropout, Activation\n",
    "from tensorflow.keras.optimizers import Adam"
   ]
  },
  {
   "cell_type": "code",
   "execution_count": 41,
   "id": "8309d036-c526-47de-820e-8ac209562a90",
   "metadata": {},
   "outputs": [],
   "source": [
    "model = Sequential()\n",
    "model.add(Dense(8, input_dim=2))\n",
    "model.add(Activation('tanh'))\n",
    "model.add(Dense(1))\n",
    "model.add(Activation('sigmoid'))\n",
    "\n",
    "optimizer = Adam(lr=0.1)\n",
    "model.compile(loss='binary_crossentropy', optimizer=optimizer)"
   ]
  },
  {
   "cell_type": "code",
   "execution_count": 40,
   "id": "2544928d-1436-4a26-9889-806fbe2d904f",
   "metadata": {},
   "outputs": [
    {
     "name": "stdout",
     "output_type": "stream",
     "text": [
      "Model: \"sequential_4\"\n",
      "_________________________________________________________________\n",
      "Layer (type)                 Output Shape              Param #   \n",
      "=================================================================\n",
      "dense_8 (Dense)              (None, 8)                 24        \n",
      "_________________________________________________________________\n",
      "activation_8 (Activation)    (None, 8)                 0         \n",
      "_________________________________________________________________\n",
      "dense_9 (Dense)              (None, 1)                 9         \n",
      "_________________________________________________________________\n",
      "activation_9 (Activation)    (None, 1)                 0         \n",
      "=================================================================\n",
      "Total params: 33\n",
      "Trainable params: 33\n",
      "Non-trainable params: 0\n",
      "_________________________________________________________________\n"
     ]
    }
   ],
   "source": [
    "model.summary()"
   ]
  },
  {
   "cell_type": "code",
   "execution_count": 53,
   "id": "ee955c2a-78a5-4e86-9ced-7321eb02ad10",
   "metadata": {},
   "outputs": [
    {
     "name": "stderr",
     "output_type": "stream",
     "text": [
      "2021-11-29 16:11:20.682915: I tensorflow/python/profiler/internal/profiler_wrapper.cc:182] Profiling will start immediately because delay_ms was unset or zero.\n",
      "2021-11-29 16:11:20.682960: I tensorflow/core/profiler/lib/profiler_session.cc:133] Profiler session started.\n"
     ]
    }
   ],
   "source": [
    "tensorboard_callback = tf.keras.callbacks.TensorBoard(log_dir=\"logs\")"
   ]
  },
  {
   "cell_type": "code",
   "execution_count": 58,
   "id": "a92de99e-701a-46cf-8653-5323ec4b3061",
   "metadata": {},
   "outputs": [
    {
     "name": "stdout",
     "output_type": "stream",
     "text": [
      "Epoch 1/100\n",
      "8/8 [==============================] - 0s 22ms/step - loss: 0.0284 - val_loss: 0.3232\n",
      "Epoch 2/100\n",
      "8/8 [==============================] - 0s 2ms/step - loss: 0.0284 - val_loss: 0.3232\n",
      "Epoch 3/100\n",
      "8/8 [==============================] - 0s 3ms/step - loss: 0.0284 - val_loss: 0.3232\n",
      "Epoch 4/100\n",
      "1/8 [==>...........................] - ETA: 0s - loss: 0.0273"
     ]
    },
    {
     "name": "stderr",
     "output_type": "stream",
     "text": [
      "2021-11-29 17:00:22.811919: I tensorflow/python/profiler/internal/profiler_wrapper.cc:182] Profiling will start immediately because delay_ms was unset or zero.\n",
      "2021-11-29 17:00:22.811937: I tensorflow/core/profiler/lib/profiler_session.cc:133] Profiler session started.\n",
      "2021-11-29 17:00:22.822133: I tensorflow/core/profiler/rpc/client/save_profile.cc:133] Creating directory: logs/train/plugins/profile/2021_11_29_17_00_22\n",
      "2021-11-29 17:00:22.823099: I tensorflow/core/profiler/rpc/client/save_profile.cc:139] Dumped gzipped tool data for trace.json.gz to logs/train/plugins/profile/2021_11_29_17_00_22/Idos-MBP.trace.json.gz\n",
      "2021-11-29 17:00:22.823513: I tensorflow/core/profiler/rpc/client/save_profile.cc:133] Creating directory: logs/train/plugins/profile/2021_11_29_17_00_22\n",
      "2021-11-29 17:00:22.823924: I tensorflow/core/profiler/rpc/client/save_profile.cc:139] Dumped gzipped tool data for memory_profile.json.gz to logs/train/plugins/profile/2021_11_29_17_00_22/Idos-MBP.memory_profile.json.gz\n",
      "2021-11-29 17:00:22.824256: I tensorflow/core/profiler/rpc/client/capture_profile.cc:235] Creating directory: logs/train/plugins/profile/2021_11_29_17_00_22Dumped tool data for xplane.pb to logs/train/plugins/profile/2021_11_29_17_00_22/Idos-MBP.xplane.pb\n",
      "Dumped tool data for overview_page.pb to logs/train/plugins/profile/2021_11_29_17_00_22/Idos-MBP.overview_page.pb\n",
      "Dumped tool data for input_pipeline.pb to logs/train/plugins/profile/2021_11_29_17_00_22/Idos-MBP.input_pipeline.pb\n",
      "Dumped tool data for tensorflow_stats.pb to logs/train/plugins/profile/2021_11_29_17_00_22/Idos-MBP.tensorflow_stats.pb\n",
      "Dumped tool data for kernel_stats.pb to logs/train/plugins/profile/2021_11_29_17_00_22/Idos-MBP.kernel_stats.pb\n",
      "\n"
     ]
    },
    {
     "name": "stdout",
     "output_type": "stream",
     "text": [
      "8/8 [==============================] - 0s 3ms/step - loss: 0.0284 - val_loss: 0.3232\n",
      "Epoch 5/100\n",
      "8/8 [==============================] - 0s 2ms/step - loss: 0.0284 - val_loss: 0.3232\n",
      "Epoch 6/100\n",
      "8/8 [==============================] - 0s 3ms/step - loss: 0.0284 - val_loss: 0.3232\n",
      "Epoch 7/100\n",
      "8/8 [==============================] - 0s 2ms/step - loss: 0.0284 - val_loss: 0.3232\n",
      "Epoch 8/100\n",
      "8/8 [==============================] - 0s 3ms/step - loss: 0.0284 - val_loss: 0.3232\n",
      "Epoch 9/100\n",
      "8/8 [==============================] - 0s 3ms/step - loss: 0.0284 - val_loss: 0.3232\n",
      "Epoch 10/100\n",
      "8/8 [==============================] - 0s 3ms/step - loss: 0.0284 - val_loss: 0.3232\n",
      "Epoch 11/100\n",
      "8/8 [==============================] - 0s 3ms/step - loss: 0.0284 - val_loss: 0.3232\n",
      "Epoch 12/100\n",
      "8/8 [==============================] - 0s 2ms/step - loss: 0.0284 - val_loss: 0.3232\n",
      "Epoch 13/100\n",
      "8/8 [==============================] - 0s 2ms/step - loss: 0.0284 - val_loss: 0.3232\n",
      "Epoch 14/100\n",
      "8/8 [==============================] - 0s 2ms/step - loss: 0.0284 - val_loss: 0.3232\n",
      "Epoch 15/100\n",
      "8/8 [==============================] - 0s 2ms/step - loss: 0.0284 - val_loss: 0.3232\n",
      "Epoch 16/100\n",
      "8/8 [==============================] - 0s 2ms/step - loss: 0.0284 - val_loss: 0.3232\n",
      "Epoch 17/100\n",
      "8/8 [==============================] - 0s 2ms/step - loss: 0.0284 - val_loss: 0.3232\n",
      "Epoch 18/100\n",
      "8/8 [==============================] - 0s 3ms/step - loss: 0.0284 - val_loss: 0.3232\n",
      "Epoch 19/100\n",
      "8/8 [==============================] - 0s 2ms/step - loss: 0.0284 - val_loss: 0.3232\n",
      "Epoch 20/100\n",
      "8/8 [==============================] - 0s 3ms/step - loss: 0.0284 - val_loss: 0.3232\n",
      "Epoch 21/100\n",
      "8/8 [==============================] - 0s 3ms/step - loss: 0.0284 - val_loss: 0.3232\n",
      "Epoch 22/100\n",
      "8/8 [==============================] - 0s 3ms/step - loss: 0.0284 - val_loss: 0.3232\n",
      "Epoch 23/100\n",
      "8/8 [==============================] - 0s 3ms/step - loss: 0.0284 - val_loss: 0.3232\n",
      "Epoch 24/100\n",
      "8/8 [==============================] - 0s 3ms/step - loss: 0.0284 - val_loss: 0.3232\n",
      "Epoch 25/100\n",
      "8/8 [==============================] - 0s 3ms/step - loss: 0.0284 - val_loss: 0.3232\n",
      "Epoch 26/100\n",
      "8/8 [==============================] - 0s 3ms/step - loss: 0.0284 - val_loss: 0.3232\n",
      "Epoch 27/100\n",
      "8/8 [==============================] - 0s 3ms/step - loss: 0.0284 - val_loss: 0.3232\n",
      "Epoch 28/100\n",
      "8/8 [==============================] - 0s 2ms/step - loss: 0.0284 - val_loss: 0.3232\n",
      "Epoch 29/100\n",
      "8/8 [==============================] - 0s 3ms/step - loss: 0.0284 - val_loss: 0.3232\n",
      "Epoch 30/100\n",
      "8/8 [==============================] - 0s 3ms/step - loss: 0.0284 - val_loss: 0.3232\n",
      "Epoch 31/100\n",
      "8/8 [==============================] - 0s 3ms/step - loss: 0.0284 - val_loss: 0.3232\n",
      "Epoch 32/100\n",
      "8/8 [==============================] - 0s 3ms/step - loss: 0.0284 - val_loss: 0.3232\n",
      "Epoch 33/100\n",
      "8/8 [==============================] - 0s 3ms/step - loss: 0.0284 - val_loss: 0.3232\n",
      "Epoch 34/100\n",
      "8/8 [==============================] - 0s 3ms/step - loss: 0.0284 - val_loss: 0.3232\n",
      "Epoch 35/100\n",
      "8/8 [==============================] - 0s 3ms/step - loss: 0.0284 - val_loss: 0.3232\n",
      "Epoch 36/100\n",
      "8/8 [==============================] - 0s 3ms/step - loss: 0.0284 - val_loss: 0.3232\n",
      "Epoch 37/100\n",
      "8/8 [==============================] - 0s 3ms/step - loss: 0.0284 - val_loss: 0.3232\n",
      "Epoch 38/100\n",
      "8/8 [==============================] - 0s 3ms/step - loss: 0.0284 - val_loss: 0.3232\n",
      "Epoch 39/100\n",
      "8/8 [==============================] - 0s 2ms/step - loss: 0.0284 - val_loss: 0.3232\n",
      "Epoch 40/100\n",
      "8/8 [==============================] - 0s 3ms/step - loss: 0.0284 - val_loss: 0.3232\n",
      "Epoch 41/100\n",
      "8/8 [==============================] - 0s 2ms/step - loss: 0.0284 - val_loss: 0.3232\n",
      "Epoch 42/100\n",
      "8/8 [==============================] - 0s 3ms/step - loss: 0.0284 - val_loss: 0.3232\n",
      "Epoch 43/100\n",
      "8/8 [==============================] - 0s 2ms/step - loss: 0.0284 - val_loss: 0.3232\n",
      "Epoch 44/100\n",
      "8/8 [==============================] - 0s 2ms/step - loss: 0.0284 - val_loss: 0.3232\n",
      "Epoch 45/100\n",
      "8/8 [==============================] - 0s 2ms/step - loss: 0.0284 - val_loss: 0.3232\n",
      "Epoch 46/100\n",
      "8/8 [==============================] - 0s 2ms/step - loss: 0.0284 - val_loss: 0.3232\n",
      "Epoch 47/100\n",
      "8/8 [==============================] - 0s 2ms/step - loss: 0.0284 - val_loss: 0.3232\n",
      "Epoch 48/100\n",
      "8/8 [==============================] - 0s 2ms/step - loss: 0.0284 - val_loss: 0.3232\n",
      "Epoch 49/100\n",
      "8/8 [==============================] - 0s 2ms/step - loss: 0.0284 - val_loss: 0.3232\n",
      "Epoch 50/100\n",
      "8/8 [==============================] - 0s 2ms/step - loss: 0.0284 - val_loss: 0.3232\n",
      "Epoch 51/100\n",
      "8/8 [==============================] - 0s 2ms/step - loss: 0.0284 - val_loss: 0.3232\n",
      "Epoch 52/100\n",
      "8/8 [==============================] - 0s 3ms/step - loss: 0.0284 - val_loss: 0.3232\n",
      "Epoch 53/100\n",
      "8/8 [==============================] - 0s 2ms/step - loss: 0.0284 - val_loss: 0.3232\n",
      "Epoch 54/100\n",
      "8/8 [==============================] - 0s 3ms/step - loss: 0.0284 - val_loss: 0.3232\n",
      "Epoch 55/100\n",
      "8/8 [==============================] - 0s 3ms/step - loss: 0.0284 - val_loss: 0.3232\n",
      "Epoch 56/100\n",
      "8/8 [==============================] - 0s 3ms/step - loss: 0.0284 - val_loss: 0.3232\n",
      "Epoch 57/100\n",
      "8/8 [==============================] - 0s 3ms/step - loss: 0.0284 - val_loss: 0.3232\n",
      "Epoch 58/100\n",
      "8/8 [==============================] - 0s 3ms/step - loss: 0.0284 - val_loss: 0.3232\n",
      "Epoch 59/100\n",
      "8/8 [==============================] - 0s 3ms/step - loss: 0.0284 - val_loss: 0.3232\n",
      "Epoch 60/100\n",
      "8/8 [==============================] - 0s 2ms/step - loss: 0.0284 - val_loss: 0.3232\n",
      "Epoch 61/100\n",
      "8/8 [==============================] - 0s 3ms/step - loss: 0.0284 - val_loss: 0.3232\n",
      "Epoch 62/100\n",
      "8/8 [==============================] - 0s 3ms/step - loss: 0.0284 - val_loss: 0.3232\n",
      "Epoch 63/100\n",
      "8/8 [==============================] - 0s 3ms/step - loss: 0.0284 - val_loss: 0.3232\n",
      "Epoch 64/100\n",
      "8/8 [==============================] - 0s 3ms/step - loss: 0.0284 - val_loss: 0.3232\n",
      "Epoch 65/100\n",
      "8/8 [==============================] - 0s 3ms/step - loss: 0.0284 - val_loss: 0.3232\n",
      "Epoch 66/100\n",
      "8/8 [==============================] - 0s 3ms/step - loss: 0.0284 - val_loss: 0.3232\n",
      "Epoch 67/100\n",
      "8/8 [==============================] - 0s 3ms/step - loss: 0.0284 - val_loss: 0.3232\n",
      "Epoch 68/100\n",
      "8/8 [==============================] - 0s 3ms/step - loss: 0.0284 - val_loss: 0.3232\n",
      "Epoch 69/100\n",
      "8/8 [==============================] - 0s 3ms/step - loss: 0.0284 - val_loss: 0.3232\n",
      "Epoch 70/100\n",
      "8/8 [==============================] - 0s 3ms/step - loss: 0.0284 - val_loss: 0.3232\n",
      "Epoch 71/100\n",
      "8/8 [==============================] - 0s 3ms/step - loss: 0.0284 - val_loss: 0.3232\n",
      "Epoch 72/100\n",
      "8/8 [==============================] - 0s 3ms/step - loss: 0.0284 - val_loss: 0.3232\n",
      "Epoch 73/100\n",
      "8/8 [==============================] - 0s 3ms/step - loss: 0.0284 - val_loss: 0.3232\n",
      "Epoch 74/100\n",
      "8/8 [==============================] - 0s 3ms/step - loss: 0.0284 - val_loss: 0.3232\n",
      "Epoch 75/100\n",
      "8/8 [==============================] - 0s 3ms/step - loss: 0.0284 - val_loss: 0.3232\n",
      "Epoch 76/100\n",
      "8/8 [==============================] - 0s 2ms/step - loss: 0.0284 - val_loss: 0.3232\n",
      "Epoch 77/100\n",
      "8/8 [==============================] - 0s 3ms/step - loss: 0.0284 - val_loss: 0.3232\n",
      "Epoch 78/100\n",
      "8/8 [==============================] - 0s 3ms/step - loss: 0.0284 - val_loss: 0.3232\n",
      "Epoch 79/100\n",
      "8/8 [==============================] - 0s 3ms/step - loss: 0.0284 - val_loss: 0.3232\n",
      "Epoch 80/100\n",
      "8/8 [==============================] - 0s 3ms/step - loss: 0.0284 - val_loss: 0.3232\n",
      "Epoch 81/100\n",
      "8/8 [==============================] - 0s 3ms/step - loss: 0.0284 - val_loss: 0.3232\n",
      "Epoch 82/100\n",
      "8/8 [==============================] - 0s 3ms/step - loss: 0.0284 - val_loss: 0.3232\n",
      "Epoch 83/100\n",
      "8/8 [==============================] - 0s 3ms/step - loss: 0.0284 - val_loss: 0.3232\n",
      "Epoch 84/100\n",
      "8/8 [==============================] - 0s 2ms/step - loss: 0.0284 - val_loss: 0.3232\n",
      "Epoch 85/100\n",
      "8/8 [==============================] - 0s 3ms/step - loss: 0.0284 - val_loss: 0.3232\n",
      "Epoch 86/100\n",
      "8/8 [==============================] - 0s 3ms/step - loss: 0.0284 - val_loss: 0.3232\n",
      "Epoch 87/100\n",
      "8/8 [==============================] - 0s 2ms/step - loss: 0.0284 - val_loss: 0.3232\n",
      "Epoch 88/100\n",
      "8/8 [==============================] - 0s 2ms/step - loss: 0.0284 - val_loss: 0.3232\n",
      "Epoch 89/100\n",
      "8/8 [==============================] - 0s 2ms/step - loss: 0.0284 - val_loss: 0.3232\n",
      "Epoch 90/100\n",
      "8/8 [==============================] - 0s 3ms/step - loss: 0.0284 - val_loss: 0.3232\n",
      "Epoch 91/100\n",
      "8/8 [==============================] - 0s 2ms/step - loss: 0.0284 - val_loss: 0.3232\n",
      "Epoch 92/100\n",
      "8/8 [==============================] - 0s 2ms/step - loss: 0.0284 - val_loss: 0.3232\n",
      "Epoch 93/100\n",
      "8/8 [==============================] - 0s 2ms/step - loss: 0.0284 - val_loss: 0.3232\n",
      "Epoch 94/100\n",
      "8/8 [==============================] - 0s 2ms/step - loss: 0.0284 - val_loss: 0.3232\n",
      "Epoch 95/100\n",
      "8/8 [==============================] - 0s 2ms/step - loss: 0.0284 - val_loss: 0.3232\n",
      "Epoch 96/100\n",
      "8/8 [==============================] - 0s 2ms/step - loss: 0.0284 - val_loss: 0.3232\n",
      "Epoch 97/100\n",
      "8/8 [==============================] - 0s 2ms/step - loss: 0.0284 - val_loss: 0.3232\n",
      "Epoch 98/100\n",
      "8/8 [==============================] - 0s 3ms/step - loss: 0.0284 - val_loss: 0.3232\n",
      "Epoch 99/100\n",
      "8/8 [==============================] - 0s 3ms/step - loss: 0.0284 - val_loss: 0.3232\n",
      "Epoch 100/100\n",
      "8/8 [==============================] - 0s 3ms/step - loss: 0.0284 - val_loss: 0.3232\n"
     ]
    },
    {
     "data": {
      "text/plain": [
       "<tensorflow.python.keras.callbacks.History at 0x29d05b310>"
      ]
     },
     "execution_count": 58,
     "metadata": {},
     "output_type": "execute_result"
    }
   ],
   "source": [
    "model.fit(train_data[['x','y']].values, train_data['target'], validation_data=(test_data[['x','y']], test_data['target']),\n",
    "          batch_size=50, epochs=100, verbose=True, callbacks=[tensorboard_callback])"
   ]
  },
  {
   "cell_type": "code",
   "execution_count": null,
   "id": "31aa9a55-e629-4ab5-aa93-561bc92da00f",
   "metadata": {},
   "outputs": [],
   "source": []
  },
  {
   "cell_type": "code",
   "execution_count": null,
   "id": "013b7583-cff4-456c-b791-29ec4b561ebd",
   "metadata": {},
   "outputs": [],
   "source": []
  },
  {
   "cell_type": "code",
   "execution_count": null,
   "id": "bfde8975-c349-4f3a-91ae-0579cde5d841",
   "metadata": {},
   "outputs": [],
   "source": []
  },
  {
   "cell_type": "code",
   "execution_count": null,
   "id": "1c3edbd7-d0fc-477c-8e58-934c124613cb",
   "metadata": {},
   "outputs": [],
   "source": []
  },
  {
   "cell_type": "code",
   "execution_count": null,
   "id": "94251924-9b2d-4525-9b7b-cc4c5058d011",
   "metadata": {},
   "outputs": [],
   "source": []
  },
  {
   "cell_type": "code",
   "execution_count": 2,
   "id": "633c3b48-1256-4f2c-b0e4-142149e50790",
   "metadata": {},
   "outputs": [
    {
     "ename": "ModuleNotFoundError",
     "evalue": "No module named 'tensorflow'",
     "output_type": "error",
     "traceback": [
      "\u001b[0;31m---------------------------------------------------------------------------\u001b[0m",
      "\u001b[0;31mModuleNotFoundError\u001b[0m                       Traceback (most recent call last)",
      "\u001b[0;32m/var/folders/bs/g6pz0yts3fg0jn57qwt68lt80000gn/T/ipykernel_2983/97114274.py\u001b[0m in \u001b[0;36m<module>\u001b[0;34m\u001b[0m\n\u001b[0;32m----> 1\u001b[0;31m \u001b[0;32mfrom\u001b[0m \u001b[0mkeras\u001b[0m\u001b[0;34m.\u001b[0m\u001b[0mmodels\u001b[0m \u001b[0;32mimport\u001b[0m \u001b[0mSequential\u001b[0m\u001b[0;34m\u001b[0m\u001b[0;34m\u001b[0m\u001b[0m\n\u001b[0m\u001b[1;32m      2\u001b[0m \u001b[0;32mfrom\u001b[0m \u001b[0mkeras\u001b[0m\u001b[0;34m.\u001b[0m\u001b[0mlayers\u001b[0m\u001b[0;34m.\u001b[0m\u001b[0mcore\u001b[0m \u001b[0;32mimport\u001b[0m \u001b[0mDense\u001b[0m\u001b[0;34m,\u001b[0m \u001b[0mDropout\u001b[0m\u001b[0;34m,\u001b[0m \u001b[0mActivation\u001b[0m\u001b[0;34m\u001b[0m\u001b[0;34m\u001b[0m\u001b[0m\n\u001b[1;32m      3\u001b[0m \u001b[0;32mfrom\u001b[0m \u001b[0mkeras\u001b[0m\u001b[0;34m.\u001b[0m\u001b[0moptimizers\u001b[0m \u001b[0;32mimport\u001b[0m \u001b[0mSGD\u001b[0m\u001b[0;34m\u001b[0m\u001b[0;34m\u001b[0m\u001b[0m\n\u001b[1;32m      4\u001b[0m \u001b[0;32mimport\u001b[0m \u001b[0mnumpy\u001b[0m \u001b[0;32mas\u001b[0m \u001b[0mnp\u001b[0m\u001b[0;34m\u001b[0m\u001b[0;34m\u001b[0m\u001b[0m\n\u001b[1;32m      5\u001b[0m \u001b[0;34m\u001b[0m\u001b[0m\n",
      "\u001b[0;32m~/opt/anaconda3/lib/python3.8/site-packages/keras/__init__.py\u001b[0m in \u001b[0;36m<module>\u001b[0;34m\u001b[0m\n\u001b[1;32m     19\u001b[0m \"\"\"\n\u001b[1;32m     20\u001b[0m \u001b[0;31m# pylint: disable=unused-import\u001b[0m\u001b[0;34m\u001b[0m\u001b[0;34m\u001b[0m\u001b[0;34m\u001b[0m\u001b[0m\n\u001b[0;32m---> 21\u001b[0;31m \u001b[0;32mfrom\u001b[0m \u001b[0mtensorflow\u001b[0m\u001b[0;34m.\u001b[0m\u001b[0mpython\u001b[0m \u001b[0;32mimport\u001b[0m \u001b[0mtf2\u001b[0m\u001b[0;34m\u001b[0m\u001b[0;34m\u001b[0m\u001b[0m\n\u001b[0m\u001b[1;32m     22\u001b[0m \u001b[0;32mfrom\u001b[0m \u001b[0mkeras\u001b[0m \u001b[0;32mimport\u001b[0m \u001b[0mdistribute\u001b[0m\u001b[0;34m\u001b[0m\u001b[0;34m\u001b[0m\u001b[0m\n\u001b[1;32m     23\u001b[0m \u001b[0;34m\u001b[0m\u001b[0m\n",
      "\u001b[0;31mModuleNotFoundError\u001b[0m: No module named 'tensorflow'"
     ]
    }
   ],
   "source": [
    "from tensorflow.keras.models import Sequential\n",
    "from tensorflow.keras.layers import Dense, Dropout, Activation\n",
    "from tensorflow.keras.optimizers import SGD\n",
    "import numpy as np \n",
    "\n",
    "X = np.array([[0,0],[0,1],[1,0],[1,1]])\n",
    "y = np.array([[0],[1],[1],[0]])\n",
    "\n",
    "model = Sequential()\n",
    "model.add(Dense(8, input_dim=2, activation='tanh'))\n",
    "model.add(Dense(1, activation='tanh'))\n",
    "model.add(Activation('sigmoid'))\n",
    "\n",
    "sgd = SGD(lr=0.1)\n",
    "model.compile(loss='binary_crossentropy', optimizer=sgd)\n",
    "\n",
    "model.fit(X, y, batch_size=1, epochs=100, verbose=False)\n",
    "print(model.predict(X))"
   ]
  },
  {
   "cell_type": "code",
   "execution_count": null,
   "id": "912fbf6d-38e8-4b00-aa59-ac377ed1c972",
   "metadata": {},
   "outputs": [],
   "source": [
    "from tensorflow.keras.models import Sequential\n",
    "from tensorflow.keras.layers import Dense, Dropout, Activation\n",
    "from tensorflow.keras.optimizers import Adam\n",
    "import numpy as np \n",
    "\n",
    "X = np.array([[0,0],[0,1],[1,0],[1,1]])\n",
    "y = np.array([[0],[1],[1],[0]])\n",
    "\n",
    "model = Sequential()\n",
    "model.add(Dense(8, input_dim=2))\n",
    "model.add(Activation('tanh'))\n",
    "model.add(Dense(1))\n",
    "model.add(Activation('sigmoid'))\n",
    "\n",
    "optimizer = Adam(lr=0.1)\n",
    "model.compile(loss='binary_crossentropy', optimizer=optimizer)\n",
    "\n",
    "model.fit(X, y, batch_size=1, epochs=100, verbose=False)\n",
    "print(model.predict(X))"
   ]
  },
  {
   "cell_type": "code",
   "execution_count": null,
   "id": "720bab6e-cf40-40a0-bdd2-e27bccbffd1b",
   "metadata": {},
   "outputs": [],
   "source": [
    "_, accuracy = model.evaluate(X, y)"
   ]
  }
 ],
 "metadata": {
  "kernelspec": {
   "display_name": "conda_tf",
   "language": "python",
   "name": "conda_tf"
  },
  "language_info": {
   "codemirror_mode": {
    "name": "ipython",
    "version": 3
   },
   "file_extension": ".py",
   "mimetype": "text/x-python",
   "name": "python",
   "nbconvert_exporter": "python",
   "pygments_lexer": "ipython3",
   "version": "3.8.12"
  }
 },
 "nbformat": 4,
 "nbformat_minor": 5
}
