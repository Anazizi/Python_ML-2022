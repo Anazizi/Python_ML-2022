{
 "cells": [
  {
   "cell_type": "markdown",
   "id": "f90e0b5c-2821-4fdc-8142-a03e6b58374d",
   "metadata": {},
   "source": [
    "# The XOR problem"
   ]
  },
  {
   "cell_type": "markdown",
   "id": "e136b9f9-1be9-47e0-ba2f-16c8fa5901de",
   "metadata": {},
   "source": [
    "## Exercises"
   ]
  },
  {
   "cell_type": "markdown",
   "id": "94d175cd-5cba-42ae-816e-496d1b5fe629",
   "metadata": {},
   "source": [
    "### Learning rate"
   ]
  },
  {
   "cell_type": "markdown",
   "id": "ad5b1581-8b17-4531-a020-0d83698f63e1",
   "metadata": {},
   "source": [
    "#### Taks 1"
   ]
  },
  {
   "cell_type": "markdown",
   "id": "c6cc7051-e65c-4ab2-9922-7dd78af24c17",
   "metadata": {},
   "source": [
    "Notice the Learning rate menu at the top-right of Playground. The given Learning rate—3—is very high. Observe how that high Learning rate affects your model by clicking the \"Step\" button 10 or 20 times. After each early iteration, notice how the model visualization changes dramatically. You might even see some instability after the model appears to have converged. Also notice the lines running from x1 and x2 to the model visualization. The weights of these lines indicate the weights of those features in the model. That is, a thick line indicates a high weight."
   ]
  },
  {
   "cell_type": "markdown",
   "id": "6b866425-7d1b-460c-b504-6f28873ba6b5",
   "metadata": {},
   "source": [
    "#### Task 2"
   ]
  },
  {
   "cell_type": "markdown",
   "id": "87bb25f3-1a65-462d-a43b-10c17ab5f62a",
   "metadata": {},
   "source": [
    "Do the following:\n",
    "\n",
    "* Press the Reset button.\n",
    "* Lower the Learning rate.\n",
    "* Press the Step button a bunch of times.\n",
    "* How did the lower learning rate impact convergence? Examine both the number of steps needed for the model to converge, and also how smoothly and steadily the model converges. Experiment with even lower values of learning rate. Can you find a learning rate too slow to be useful? (You'll find a discussion just below the exercise.)"
   ]
  },
  {
   "cell_type": "markdown",
   "id": "3cfaf073-b853-4dc4-82d2-03253215691a",
   "metadata": {},
   "source": [
    "### Traning and test set"
   ]
  },
  {
   "cell_type": "markdown",
   "id": "03f9887f-a4c2-43d1-ae85-ddb3b483bd85",
   "metadata": {},
   "source": [
    "#### Task 1"
   ]
  },
  {
   "cell_type": "markdown",
   "id": "a91b2032-caa8-4cba-901e-0f22f2c29e89",
   "metadata": {},
   "source": [
    "Task 1: Run Playground with the given settings:\n",
    "* XOR problem\n",
    "* Training % - 50%)\n",
    "* Noise: Maximum\n",
    "* Batch size = 1\n",
    "* 0 Hidden layers\n",
    "* Linear activation\n",
    "\n",
    "To run, simply:\n",
    "\n",
    "* Click the Run/Pause button\n",
    "* Watch the Test loss and Training loss values change.\n",
    "* When the Test loss and Training loss values stop changing or only change once in a while, press the Run/Pause button again to pause Playground."
   ]
  },
  {
   "cell_type": "markdown",
   "id": "f616ef01-200f-4d8a-a2f4-0e9de0435747",
   "metadata": {},
   "source": [
    "#### Task 2"
   ]
  },
  {
   "cell_type": "markdown",
   "id": "e963221a-fee3-4a90-a696-84b94b49fef9",
   "metadata": {},
   "source": [
    "Task 2: Do the following:\n",
    "\n",
    "* Press the Reset button. \n",
    "* Modify the Learning rate.\n",
    "* Press the Run/Pause button: \n",
    "* Let Playground run for at least 150 epochs.\n",
    "* Is the delta between Test loss and Training loss lower or higher with this new Learning rate? What happens if you modify both Learning rate and batch size?"
   ]
  },
  {
   "cell_type": "markdown",
   "id": "a94457e7-b9c2-4ab4-beeb-c3d33c23ac2b",
   "metadata": {},
   "source": [
    "#### Task 3"
   ]
  },
  {
   "cell_type": "markdown",
   "id": "e6694588-d6ee-40eb-ab06-7aacf5fdea89",
   "metadata": {},
   "source": [
    "A slider labeled Training data percentage lets you control the proportion of training data to test data. For example, when set to 90%, then 90% of the data is used for the training set and the remaining 10% is used for the test set.\n",
    "\n",
    "Do the following:\n",
    "\n",
    "* Reduce the \"Training data percentage\" from 50% to 10%.\n",
    "* Experiment with Learning rate and Batch size, taking notes on your findings.\n",
    "* Does altering the training data percentage change the optimal learning settings that you discovered in Task 2? If so, why?"
   ]
  },
  {
   "cell_type": "markdown",
   "id": "7fb4042e-0984-49ea-8831-b99c468807ce",
   "metadata": {},
   "source": [
    "### Feature crosses"
   ]
  },
  {
   "cell_type": "markdown",
   "id": "ce5be125-e37f-4954-9451-2c524e3322c7",
   "metadata": {},
   "source": [
    "#### Task 1"
   ]
  },
  {
   "cell_type": "markdown",
   "id": "544888b5-987b-44f4-8b40-2414b9b93988",
   "metadata": {},
   "source": [
    "Try to create a model that separates the blue dots from the orange dots by manually changing the weights of the following three input features:\n",
    "\n",
    "* x1\n",
    "* x2\n",
    "* x1 * x2 (a feature cross)\n",
    "\n",
    "To manually change a weight:\n",
    "\n",
    "* Click on a line that connects FEATURES to OUTPUT. An input form will appear.\n",
    "* Type a floating-point value into that input form.\n",
    "* Press Enter.\n",
    "* Note that the interface for this exercise does not contain a Step button. That's because this exercise does not iteratively train a model. Rather, you will manually enter the \"final\" weights for the model."
   ]
  },
  {
   "cell_type": "markdown",
   "id": "1d4cba1e-1e9f-4475-8b2b-89d45c525675",
   "metadata": {},
   "source": [
    "#### Task 2"
   ]
  },
  {
   "cell_type": "markdown",
   "id": "19eab02a-ca8b-4aca-8e0a-290a1f2679b8",
   "metadata": {},
   "source": [
    "Run this linear model as given. Spend a minute or two (but no longer) trying different learning rate settings to see if you can find any improvements. Can a linear model produce effective results for this data set?"
   ]
  },
  {
   "cell_type": "markdown",
   "id": "749b4cd0-eb7a-4d8d-9913-0453a762da9a",
   "metadata": {},
   "source": [
    "#### Task 3"
   ]
  },
  {
   "cell_type": "markdown",
   "id": "6ed91566-40f4-4742-9ddf-48cebef850b4",
   "metadata": {},
   "source": [
    "Now try adding in cross-product features, such as x1x2, trying to optimize performance.\n",
    "\n",
    "* Which features help most?\n",
    "* What is the best performance that you can get?"
   ]
  },
  {
   "cell_type": "markdown",
   "id": "535191e1-ed8b-425f-887e-036a2055d1a9",
   "metadata": {},
   "source": [
    "#### Task 4"
   ]
  },
  {
   "cell_type": "markdown",
   "id": "03851eac-9bd9-419c-ae8a-f6cd46abf8b2",
   "metadata": {},
   "source": [
    "When you have a good model, examine the model output surface (shown by the background color).\n",
    "\n",
    "* Does it look like a linear model?\n",
    "* How would you describe the model?"
   ]
  },
  {
   "cell_type": "markdown",
   "id": "c9eff042-c6ed-400c-95a7-9c0ec41d5bef",
   "metadata": {},
   "source": [
    "### L2 regularization"
   ]
  },
  {
   "cell_type": "markdown",
   "id": "6faae6fd-b674-4a08-8b03-0a79c41d40ff",
   "metadata": {},
   "source": [
    "#### Task 1"
   ]
  },
  {
   "cell_type": "markdown",
   "id": "9f1461d7-22a1-47fe-b226-03a2cea2af70",
   "metadata": {},
   "source": [
    "Run the model as given for at least 500 epochs. Note the following:\n",
    "\n",
    "* Test loss.\n",
    "* The delta between Test loss and Training loss.\n",
    "* The learned weights of the features and the feature crosses. (The relative thickness of each line running from FEATURES to OUTPUT represents the learned weight for that feature or feature cross. You can find the exact weight values by hovering over each line.)"
   ]
  },
  {
   "cell_type": "markdown",
   "id": "9df28661-4057-49e1-8947-cf64d932728f",
   "metadata": {},
   "source": [
    "#### Task 2"
   ]
  },
  {
   "cell_type": "markdown",
   "id": "d586fc5f-9cda-42ca-9dc2-fcf3e8011fb0",
   "metadata": {},
   "source": [
    "(Consider doing this Task in a separate tab.) Increase the regularization rate from 0 to 0.3. Then, run the model for at least 500 epochs and find answers to the following questions:\n",
    "* How does the Test loss in Task 2 differ from the Test loss in Task 1?\n",
    "* How does the delta between Test loss and Training loss in Task 2 differ from that of Task 1?\n",
    "* How do the learned weights of each feature and feature cross differ from Task 2 to Task 1?\n",
    "* What do your results say about model complexity?"
   ]
  },
  {
   "cell_type": "markdown",
   "id": "11cd4879-5ff3-4557-a310-77c200e31790",
   "metadata": {},
   "source": [
    "#### Task 3"
   ]
  },
  {
   "cell_type": "markdown",
   "id": "1d803049-0a85-47d5-a5f4-128519393b79",
   "metadata": {},
   "source": [
    "Experiment with regularization rate, trying to find the optimum value."
   ]
  },
  {
   "cell_type": "markdown",
   "id": "755f8759-5008-4807-8154-691a666860e0",
   "metadata": {},
   "source": [
    "### L1 regularization"
   ]
  },
  {
   "cell_type": "markdown",
   "id": "fcf1a237-d1c5-4070-8868-c941a29b56d8",
   "metadata": {},
   "source": [
    "#### Task 1"
   ]
  },
  {
   "cell_type": "markdown",
   "id": "3d3a84ca-5b02-421e-bbd4-473aaf19f520",
   "metadata": {},
   "source": [
    "This exercise contains a small, slightly noisy, training data set. In this kind of setting, overfitting is a real concern. Regularization might help, but which form of regularization?\n",
    "\n",
    "This exercise consists of five related tasks. To simplify comparisons across the five tasks, run each task in a separate tab. Notice that the thicknesses of the lines connecting FEATURES and OUTPUT represent the relative weights of each feature.\n",
    "\n",
    "|Task | Regularization | Type |Regularization Rate (lambda)|\n",
    "| --- | --- | --- | --- |\n",
    "|1 | L2 | 0.1 |\n",
    "|2 | L2 | 0.3 |\n",
    "|3 |L1 | 0.1 |\n",
    "|4 | L1 |0.3 |\n",
    "| 5 | L1 | experiment|"
   ]
  },
  {
   "cell_type": "markdown",
   "id": "e7385d90-8502-4b65-8035-c055f231c599",
   "metadata": {},
   "source": [
    "Questions:\n",
    "\n",
    "* How does switching from L2 to L1 regularization influence the delta between test loss and training loss?\n",
    "* How does switching from L2 to L1 regularization influence the learned weights?\n",
    "* How does increasing the L1 regularization rate (lambda) influence the learned weights?"
   ]
  },
  {
   "cell_type": "markdown",
   "id": "0896a347-ebdc-471a-84d5-8ca05647dd49",
   "metadata": {},
   "source": [
    "### Training NNs"
   ]
  },
  {
   "cell_type": "markdown",
   "id": "58062d87-4dce-4447-a2da-784c214ed876",
   "metadata": {},
   "source": [
    "#### Task 1"
   ]
  },
  {
   "cell_type": "markdown",
   "id": "793a6ed8-7009-4a43-9cac-cb2b0475feaa",
   "metadata": {},
   "source": [
    "Set the folloing params:\n",
    "* XOR problem\n",
    "* 1 hidden layer with 1 neuron\n",
    "* 50% traning data\n",
    "* Noise level: 35\n",
    "* Batch size: 10\n",
    "* Learning rate: 0.01\n",
    "* Activation: Linear\n",
    "* Regularization: L2\n",
    "* Regularization Rate: 0\n",
    "\n",
    "The model as given combines our two input features into a single neuron. Will this model learn any nonlinearities? Run it to confirm your guess."
   ]
  },
  {
   "cell_type": "markdown",
   "id": "c6d74416-95df-4e9b-af4d-7c89f9f80053",
   "metadata": {},
   "source": [
    "#### Task 2"
   ]
  },
  {
   "cell_type": "markdown",
   "id": "3d7aaed6-a51a-44f3-b338-a23adeb74e93",
   "metadata": {},
   "source": [
    "Task 2: Try increasing the number of neurons in the hidden layer from 1 to 2, and also try changing from a Linear activation to a nonlinear activation like ReLU. Can you create a model that can learn nonlinearities? Can it model the data effectively?"
   ]
  },
  {
   "cell_type": "markdown",
   "id": "910f311d-a2ba-4027-afa0-daf431d55cf5",
   "metadata": {},
   "source": [
    "### Task 3"
   ]
  },
  {
   "cell_type": "markdown",
   "id": "b59186ca-43ec-413f-bfcd-99bf63a83d0d",
   "metadata": {},
   "source": [
    "Task 3: Try increasing the number of neurons in the hidden layer from 2 to 3, using a nonlinear activation like ReLU. Can it model the data effectively? How does model quality vary from run to run?"
   ]
  },
  {
   "cell_type": "markdown",
   "id": "55faa6cd-9d78-48fb-afad-c41dcc9fea1c",
   "metadata": {},
   "source": [
    "#### Task 4"
   ]
  },
  {
   "cell_type": "markdown",
   "id": "70345c2d-6d85-4273-8b56-74eb2423dc1b",
   "metadata": {},
   "source": [
    "Continue experimenting by adding or removing hidden layers and neurons per layer. Also feel free to change learning rates, regularization, and other learning settings. What is the smallest number of neurons and layers you can use that gives test loss of 0.177 or lower?\n",
    "\n",
    "Does increasing the model size improve the fit, or how quickly it converges? Does this change how often it converges to a good model? For example, try the following architecture:\n",
    "\n",
    "* First hidden layer with 3 neurons.\n",
    "* Second hidden layer with 3 neurons.\n",
    "* Third hidden layer with 2 neurons.\n"
   ]
  },
  {
   "cell_type": "markdown",
   "id": "eaa8a821-c725-402b-965e-d953eaef58f0",
   "metadata": {},
   "source": [
    "### Nueral net initialization"
   ]
  },
  {
   "cell_type": "markdown",
   "id": "353a8a93-7a1a-4f59-ae17-ebcb96c59a8a",
   "metadata": {},
   "source": [
    "Set the folloing params:\n",
    "* XOR problem\n",
    "* 1 hidden layer with 3 neurons\n",
    "* 50% traning data\n",
    "* Noise level: 35\n",
    "* Batch size: 10\n",
    "* Learning rate: 0.01\n",
    "* Activation: ReLu\n",
    "* Regularization: L2\n",
    "* Regularization Rate: 0\n",
    "\n",
    "The model as given combines our two input features into a single neuron. Will this model learn any nonlinearities? Run it to confirm your guess."
   ]
  },
  {
   "cell_type": "markdown",
   "id": "db3f429e-4699-457e-a9cf-33027035209b",
   "metadata": {},
   "source": [
    "#### Task 1"
   ]
  },
  {
   "cell_type": "markdown",
   "id": "6bf5ad2d-cdd4-42b2-9f75-74082f508b9a",
   "metadata": {},
   "source": [
    "Run the model as given four or five times. Before each trial, hit the Reset the network button to get a new random initialization. (The Reset the network button is the circular reset arrow just to the left of the Play button.) Let each trial run for at least 500 steps to ensure convergence. What shape does each model output converge to? What does this say about the role of initialization in non-convex optimization?"
   ]
  },
  {
   "cell_type": "markdown",
   "id": "fdeb0a58-bf9b-4f18-9f77-1d7a9061a5cc",
   "metadata": {},
   "source": [
    "#### Task 2"
   ]
  },
  {
   "cell_type": "markdown",
   "id": "b0bfe12e-de74-4daf-bb40-87861d9ad35b",
   "metadata": {},
   "source": [
    "Try making the model slightly more complex by adding a layer and a couple of extra nodes. Repeat the trials from Task 1. Does this add any additional stability to the results?"
   ]
  },
  {
   "cell_type": "markdown",
   "id": "e91d1f79-99d3-4113-ad92-e93cc17c0664",
   "metadata": {},
   "source": [
    "### The noisy spiral dataset"
   ]
  },
  {
   "cell_type": "markdown",
   "id": "7c5a0052-0cad-48ef-932c-815f4b3bf395",
   "metadata": {},
   "source": [
    "Set the folloing params:\n",
    "* Noisy spiral problem\n",
    "* 2 hidden layers, 3 neurons in the first and 2 in the second\n",
    "* 50% traning data\n",
    "* Noise level: Max\n",
    "* Batch size: 10\n",
    "* Learning rate: 0.1\n",
    "* Activation: ReLu\n",
    "* Regularization: None\n",
    "* Regularization Rate: 0\n",
    "\n",
    "The model as given combines our two input features into a single neuron. Will this model learn any nonlinearities? Run it to confirm your guess."
   ]
  },
  {
   "cell_type": "markdown",
   "id": "4767a708-0787-4049-91b0-4ee7dd3d0be0",
   "metadata": {},
   "source": [
    "#### Task 1"
   ]
  },
  {
   "cell_type": "markdown",
   "id": "ad080c31-115f-4f2f-a733-d5401de49ec4",
   "metadata": {},
   "source": [
    "Train the best model you can, using just X1 and X2. Feel free to add or remove layers and neurons, change learning settings like learning rate, regularization rate, and batch size. What is the best test loss you can get? How smooth is the model output surface?"
   ]
  },
  {
   "cell_type": "markdown",
   "id": "044ba9ce-014b-4a4c-9f4e-9fe14cdad482",
   "metadata": {},
   "source": [
    "#### Task 2"
   ]
  },
  {
   "cell_type": "markdown",
   "id": "4cea24f9-b0f6-4a54-9aaf-d32f3c696f1a",
   "metadata": {},
   "source": [
    "Even with Neural Nets, some amount of feature engineering is often needed to achieve best performance. Try adding in additional cross product features or other transformations like sin(X1) and sin(X2). Do you get a better model? Is the model output surface any smoother?"
   ]
  },
  {
   "cell_type": "markdown",
   "id": "e236e48a-930d-41ac-b7ae-1e43a06a7236",
   "metadata": {},
   "source": [
    "## Training NNs - Best practices"
   ]
  },
  {
   "cell_type": "markdown",
   "id": "4b945de2-53ca-4844-9475-653360b42047",
   "metadata": {},
   "source": [
    "### Failure Cases\n",
    "There are a number of common ways for backpropagation to go wrong.\n",
    "\n",
    "#### Vanishing Gradients\n",
    "* The gradients for the lower layers (closer to the input) can become very small. In deep networks, computing these gradients can involve taking the product of many small terms.\n",
    "\n",
    "* When the gradients vanish toward 0 for the lower layers, these layers train very slowly, or not at all.\n",
    "\n",
    "* The ReLU activation function can help prevent vanishing gradients.\n",
    "\n",
    "#### Exploding Gradients\n",
    "* If the weights in a network are very large, then the gradients for the lower layers involve products of many large terms. In this case you can have exploding gradients: gradients that get too large to converge.\n",
    "\n",
    "* Batch normalization can help prevent exploding gradients, as can lowering the learning rate.\n",
    "\n",
    "#### Dead ReLU Units\n",
    "* Once the weighted sum for a ReLU unit falls below 0, the ReLU unit can get stuck. It outputs 0 activation, contributing nothing to the network's output, and gradients can no longer flow through it during backpropagation. With a source of gradients cut off, the input to the ReLU may not ever change enough to bring the weighted sum back above 0.\n",
    "\n",
    "* Lowering the learning rate can help keep ReLU units from dying.\n",
    "\n",
    "#### Dropout Regularization\n",
    "Yet another form of regularization, called Dropout, is useful for neural networks. It works by randomly \"dropping out\" unit activations in a network for a single gradient step. The more you drop out, the stronger the regularization:\n",
    "\n",
    "* 0.0 = No dropout regularization.\n",
    "* 1.0 = Drop out everything. The model learns nothing.\n",
    "* Values between 0.0 and 1.0 = More useful."
   ]
  },
  {
   "cell_type": "markdown",
   "id": "06ce2871-cfe7-4c49-9adb-8c13ce3e704e",
   "metadata": {},
   "source": [
    "## Solving the XOR problem with Keras"
   ]
  },
  {
   "cell_type": "markdown",
   "id": "7d1619bf-40b3-4ea3-a999-d2269cb00b51",
   "metadata": {},
   "source": [
    "First, you'll need to install tensorflow:\n",
    "* Create a python3.6 environment using anaconda: `conda create -n ts_py36 python=3.6`\n",
    "* Activate the new env: `conda activate ts_py36` (You'll might need to `conda init` and close + open the shell\n",
    "* Install tensorflow: `pip install tensorflow`"
   ]
  },
  {
   "cell_type": "markdown",
   "id": "d6c271e9-5fc3-428d-9e0a-37eb0f11ed01",
   "metadata": {},
   "source": [
    "Or, use google colab:\n",
    "\n",
    "https://www.youtube.com/watch?v=inN8seMm7UI"
   ]
  },
  {
   "cell_type": "markdown",
   "id": "5f745aa9-b3ed-41e4-8a8e-a456f8ee0805",
   "metadata": {},
   "source": [
    "### XOR dataset creation"
   ]
  },
  {
   "cell_type": "code",
   "execution_count": 11,
   "id": "43daac34-363f-43b9-9955-0850b093bcdb",
   "metadata": {},
   "outputs": [],
   "source": [
    "import numpy as np\n",
    "import pandas as pd\n",
    "import plotly_express as px"
   ]
  },
  {
   "cell_type": "code",
   "execution_count": 7,
   "id": "46459b2b-c57a-43ed-a4f2-a14f07dea302",
   "metadata": {},
   "outputs": [],
   "source": [
    "def get_xor_label(x,y):\n",
    "    return 'A' if x*y>0 else 'B'"
   ]
  },
  {
   "cell_type": "code",
   "execution_count": 8,
   "id": "5990ba04-1c58-40c6-919d-b84dc8bfeaa4",
   "metadata": {},
   "outputs": [],
   "source": [
    "noise = 0\n",
    "n_examples = 500\n",
    "x_values = np.random.uniform(-1, 1, n_examples)\n",
    "x_noise = np.random.uniform(-1, 1, n_examples) * noise\n",
    "y_values = np.random.uniform(-1, 1, n_examples)\n",
    "y_noise = np.random.uniform(-1, 1, n_examples) * noise"
   ]
  },
  {
   "cell_type": "code",
   "execution_count": 9,
   "id": "b5285f32-faf6-440d-a9ae-0149ed42a721",
   "metadata": {},
   "outputs": [
    {
     "data": {
      "text/html": [
       "<div>\n",
       "<style scoped>\n",
       "    .dataframe tbody tr th:only-of-type {\n",
       "        vertical-align: middle;\n",
       "    }\n",
       "\n",
       "    .dataframe tbody tr th {\n",
       "        vertical-align: top;\n",
       "    }\n",
       "\n",
       "    .dataframe thead th {\n",
       "        text-align: right;\n",
       "    }\n",
       "</style>\n",
       "<table border=\"1\" class=\"dataframe\">\n",
       "  <thead>\n",
       "    <tr style=\"text-align: right;\">\n",
       "      <th></th>\n",
       "      <th>x</th>\n",
       "      <th>y</th>\n",
       "      <th>noisy_x</th>\n",
       "      <th>noisy_y</th>\n",
       "      <th>label</th>\n",
       "      <th>target</th>\n",
       "    </tr>\n",
       "  </thead>\n",
       "  <tbody>\n",
       "    <tr>\n",
       "      <th>0</th>\n",
       "      <td>0.541659</td>\n",
       "      <td>0.562582</td>\n",
       "      <td>0.541659</td>\n",
       "      <td>0.562582</td>\n",
       "      <td>A</td>\n",
       "      <td>1</td>\n",
       "    </tr>\n",
       "    <tr>\n",
       "      <th>1</th>\n",
       "      <td>-0.564233</td>\n",
       "      <td>0.360701</td>\n",
       "      <td>-0.564233</td>\n",
       "      <td>0.360701</td>\n",
       "      <td>B</td>\n",
       "      <td>0</td>\n",
       "    </tr>\n",
       "    <tr>\n",
       "      <th>2</th>\n",
       "      <td>0.536767</td>\n",
       "      <td>0.303341</td>\n",
       "      <td>0.536767</td>\n",
       "      <td>0.303341</td>\n",
       "      <td>A</td>\n",
       "      <td>1</td>\n",
       "    </tr>\n",
       "    <tr>\n",
       "      <th>3</th>\n",
       "      <td>0.849496</td>\n",
       "      <td>0.115404</td>\n",
       "      <td>0.849496</td>\n",
       "      <td>0.115404</td>\n",
       "      <td>A</td>\n",
       "      <td>1</td>\n",
       "    </tr>\n",
       "    <tr>\n",
       "      <th>4</th>\n",
       "      <td>-0.330201</td>\n",
       "      <td>-0.644649</td>\n",
       "      <td>-0.330201</td>\n",
       "      <td>-0.644649</td>\n",
       "      <td>A</td>\n",
       "      <td>1</td>\n",
       "    </tr>\n",
       "  </tbody>\n",
       "</table>\n",
       "</div>"
      ],
      "text/plain": [
       "          x         y   noisy_x   noisy_y label  target\n",
       "0  0.541659  0.562582  0.541659  0.562582     A       1\n",
       "1 -0.564233  0.360701 -0.564233  0.360701     B       0\n",
       "2  0.536767  0.303341  0.536767  0.303341     A       1\n",
       "3  0.849496  0.115404  0.849496  0.115404     A       1\n",
       "4 -0.330201 -0.644649 -0.330201 -0.644649     A       1"
      ]
     },
     "execution_count": 9,
     "metadata": {},
     "output_type": "execute_result"
    }
   ],
   "source": [
    "noisy_xor_df = pd.DataFrame({'x': x_values, 'y': y_values, 'noisy_x': x_values + x_noise, 'noisy_y': y_values + y_noise})\n",
    "noisy_xor_df['label'] = noisy_xor_df.apply(lambda row: get_xor_label(row.x, row.y), axis=1)\n",
    "noisy_xor_df['target'] = noisy_xor_df.label.map({'A':1,'B':0})\n",
    "noisy_xor_df.head()"
   ]
  },
  {
   "cell_type": "code",
   "execution_count": 14,
   "id": "5519a99c-2ebd-47ad-ad10-223de57ec7aa",
   "metadata": {},
   "outputs": [
    {
     "data": {
      "application/vnd.plotly.v1+json": {
       "config": {
        "plotlyServerURL": "https://plot.ly"
       },
       "data": [
        {
         "hovertemplate": "label=A<br>noisy_x=%{x}<br>noisy_y=%{y}<extra></extra>",
         "legendgroup": "A",
         "marker": {
          "color": "#636efa",
          "symbol": "circle"
         },
         "mode": "markers",
         "name": "A",
         "orientation": "v",
         "showlegend": true,
         "type": "scatter",
         "x": [
          0.5416592469761605,
          0.5367666966080356,
          0.8494962922705105,
          -0.33020069213837444,
          -0.2762937753893824,
          -0.37987126851187747,
          -0.014310849369645107,
          0.10396470367992405,
          0.9708084842760176,
          0.5222400637454003,
          0.31667927813341645,
          -0.3522491227721958,
          -0.22907097345042016,
          -0.010581951989844907,
          0.6200979906359425,
          -0.9208132487650635,
          0.9639817065169132,
          0.7261542525955071,
          -0.7181827212153327,
          -0.20611544457702058,
          -0.1332989687315571,
          -0.7208062116845775,
          0.10981680342461497,
          0.5080091612383342,
          0.8748525938890115,
          0.8007327190098568,
          0.26483675838638887,
          0.8708186948580576,
          -0.23960486522317348,
          0.44544000089303326,
          0.35961528624829286,
          0.7760690876185707,
          -0.6603768028219019,
          -0.8331733466140387,
          -0.31697908544592845,
          -0.7758733524185049,
          -0.04341508973760555,
          -0.27135570245764473,
          -0.10227490371121273,
          0.9663983623674719,
          0.19639972091113633,
          0.41263962867121506,
          0.485166813889512,
          0.5250842706186383,
          0.30793583042131534,
          -0.9425636746445769,
          0.1627340072205239,
          0.15583018524798442,
          0.19022794828720024,
          0.7700331664314539,
          -0.04727652137217908,
          -0.8594197374955614,
          0.4959333852433825,
          0.8690814729033047,
          0.9634491657202247,
          0.37189725206473523,
          0.7783250338451408,
          -0.22823541226048794,
          0.14344677184882704,
          -0.29540791995550375,
          -0.8755390770946025,
          0.6223902125286869,
          -0.15407721695984966,
          0.7235247791570574,
          -0.587006909688728,
          -0.5531514607635528,
          0.04439236704399829,
          0.1622376771171108,
          -0.43765603582802215,
          0.704301098073999,
          0.16872504460996351,
          -0.09527817226400503,
          -0.029279793349347383,
          -0.6913179606064399,
          -0.717755140613956,
          0.14242803418542227,
          0.7360337926593443,
          0.575087968632995,
          0.4846582967950037,
          -0.3762310642189448,
          0.4536519121019149,
          -0.6128256963792191,
          -0.2210799300929729,
          -0.8234484265486168,
          0.8372977992863373,
          -0.7186585754561507,
          -0.16059749030965143,
          -0.25997034849442446,
          0.7199649839232722,
          0.04466625332746932,
          0.4179636110089515,
          0.68058609101516,
          -0.2773866954081923,
          0.0888659976832602,
          -0.7407652335586685,
          0.8516154174415198,
          0.12668360884555385,
          -0.64894845761749,
          0.1501317215970548,
          0.02204013318253706,
          -0.7091186903323481,
          -0.6664126640808581,
          0.7233107023028267,
          0.377389218704441,
          -0.9012949199670015,
          -0.8668197889270262,
          -0.6076866811187533,
          -0.878226030644963,
          -0.25130999297951506,
          -0.434470552326947,
          -0.20025132472523044,
          -0.532179847236264,
          -0.6281014669207552,
          -0.39756784691851577,
          0.42523090159391597,
          0.11132038896872443,
          -0.30421927229791734,
          -0.21432044015625196,
          0.4817484182165144,
          0.003410178540590003,
          0.409039689300011,
          0.11315517689493126,
          -0.4367371969203908,
          0.37019055242584487,
          0.7903248207982272,
          -0.5047828532611769,
          0.7038190435555067,
          0.08267459248712172,
          0.8754592573239537,
          0.892523390881591,
          -0.7052199772804029,
          -0.7896344456243292,
          0.48211487705430467,
          0.5735713868405958,
          0.6746932086079789,
          -0.9471833618388659,
          0.6503877614079292,
          0.6663154758940768,
          -0.23242237485751915,
          -0.14212523847548653,
          0.16661353226838038,
          0.8008739919995675,
          0.49704646704427025,
          0.19167961677646672,
          -0.9114809347910087,
          0.6949028798372587,
          -0.7301601337004446,
          0.5527551749754005,
          0.14047813044287838,
          0.4739943442882413,
          0.04397914168458317,
          -0.946149032889593,
          -0.18750738207521755,
          0.6129790471049512,
          -0.06490237326060422,
          0.8083073094743689,
          0.21650329435147708,
          0.3877072415592313,
          0.30660810267943117,
          0.06476444883520105,
          -0.03963878349950023,
          -0.9270483436397929,
          -0.08647900479561721,
          -0.08709933658666635,
          -0.5097344970357403,
          0.5309688727069701,
          -0.18584996341994553,
          0.9563197331972222,
          -0.5872473334410082,
          -0.7426678530488096,
          0.45698465860932047,
          0.7628448818730826,
          -0.6728543859640181,
          -0.26034543224754203,
          -0.40458777150434533,
          0.07202006059875732,
          -0.09383636129777884,
          0.1956814962809168,
          -0.7966001043440778,
          -0.7094404028977799,
          -0.5127751296461636,
          -0.07958882576890347,
          0.6194653492148476,
          -0.25303558206992505,
          0.19576611391885668,
          0.7483473362543804,
          0.26220658458976387,
          -0.9656717562349559,
          -0.8700948238037967,
          -0.11064249542654547,
          -0.8971700713384743,
          -0.791643359845654,
          0.07798995421509392,
          0.2587873963818772,
          -0.9743268203876356,
          -0.814862386774869,
          -0.6281208138563015,
          0.8057713227604182,
          -0.839259593344351,
          0.04655056214544073,
          0.22393577096426465,
          -0.9540418799791721,
          -0.27254607007010256,
          -0.06358970132170816,
          0.4747841597771334,
          -0.26169638755502,
          -0.27811967413233907,
          0.08120922726952573,
          -0.6609718031259595,
          -0.6126441505947349,
          0.30859622007038423,
          0.622190931860628,
          -0.7598771417788504,
          -0.3691430070725432,
          -0.9850270088456681,
          -0.4354460893529144,
          0.4481455282519915,
          0.6709093556873962,
          -0.9600671853555967,
          -0.5896656498446098,
          -0.7458748773498056,
          0.5970643884184765,
          -0.5636549345216513,
          0.27454169487115787,
          -0.3286043567482402,
          -0.12399314014763818,
          0.4442472491069278,
          0.3025770037433635,
          0.08205120859801629,
          -0.22778064278120724,
          -0.32062437224620477,
          0.9721219545917306,
          0.8249411144936187,
          -0.4861415787250354,
          -0.15375750729099424,
          -0.8765405486072959,
          -0.7515149066842166,
          -0.8898890343628822,
          -0.5041333949816675,
          -0.9785511876001929,
          0.6317820344158034,
          0.6205722340367326,
          -0.6125755841600518,
          0.9611496933791974,
          0.07751512896568036,
          0.5887619515583413,
          -0.6831238663309258,
          -0.10547449867791148,
          -0.9998687944880778,
          0.10998981583393985,
          0.965800806106466,
          -0.18345996744102044,
          0.635839251367208
         ],
         "xaxis": "x",
         "y": [
          0.5625820505601868,
          0.3033409720118525,
          0.11540388380535083,
          -0.6446492354171713,
          -0.921495023274314,
          -0.6317878030947996,
          -0.23050521362180199,
          0.5372840290351051,
          0.742605718644475,
          0.5198688971870737,
          0.18446515399594854,
          -0.41379483904563474,
          -0.9411820555434842,
          -0.79078675746222,
          0.8611280968525694,
          -0.08622665668861607,
          0.047420055722760424,
          0.10652548638659765,
          -0.4871368939102032,
          -0.4302274405409914,
          -0.6079032415763388,
          -0.963213848788742,
          0.9188015019344657,
          0.9924355734271586,
          0.7944204787904927,
          0.855697452142715,
          0.5253786696295673,
          0.884521828286847,
          -0.6859662173385059,
          0.3221043436766897,
          0.576506851932099,
          0.8691370677728081,
          -0.5687167548197982,
          -0.20627252066558555,
          -0.4257121237268233,
          -0.004008651635833971,
          -0.5788755163440595,
          -0.007049945466605978,
          -0.009708094673924528,
          0.749751311792535,
          0.7088275750691877,
          0.5477383402330409,
          0.9943470376997414,
          0.3184572855699368,
          0.08608890023230908,
          -0.22913556501713006,
          0.23606308657314212,
          0.16242375938524356,
          0.1529615254103882,
          0.12317102314245232,
          -0.14783832647525874,
          -0.9389876716534162,
          0.45474240269547006,
          0.5662865168454119,
          0.8389278664478368,
          0.7713805279049126,
          0.2911649667478766,
          -0.37064203644292437,
          0.37484458116688146,
          -0.5763972655617917,
          -0.7115841186417655,
          0.9767407546982543,
          -0.06702506977835898,
          0.13895696024742943,
          -0.5483586884219478,
          -0.41384214822043797,
          0.46965349852919736,
          0.19551128291295128,
          -0.4184001674156197,
          0.3118549394862635,
          0.3767101359860703,
          -0.2673944255502976,
          -0.14903790932200667,
          -0.689776759813119,
          -0.29030132738910797,
          0.8757323715611649,
          0.0433002186577407,
          0.5510247736703995,
          0.06619919287167964,
          -0.7773890057414699,
          0.742545382698627,
          -0.5361716318169767,
          -0.49888995437631745,
          -0.4458310333621458,
          0.4486511148837622,
          -0.9379353434789028,
          -0.3874368031245805,
          -0.7314230311521706,
          0.17912525804424728,
          0.7981341802320392,
          0.8415854327733641,
          0.3969703667436648,
          -0.937610737773618,
          0.09117655002696212,
          -0.4365018059440322,
          0.7285623676999793,
          0.8563918193402205,
          -0.1734930533145147,
          0.6359000616585178,
          0.2594933483411217,
          -0.7514724470369936,
          -0.2942249212915671,
          0.35863948949051005,
          0.11606579855256927,
          -0.8681186084830288,
          -0.17477639565572067,
          -0.07791212988582763,
          -0.9717684629833214,
          -0.507800195815296,
          -0.12121451892467983,
          -0.8656008759128282,
          -0.45725042047978826,
          -0.3238798970339367,
          -0.8441021829306625,
          0.3140626905685149,
          0.1654216898229881,
          -0.1382620742806393,
          -0.3145061576758177,
          0.32934400415311815,
          0.6527668410123155,
          0.17933852960422425,
          0.8426081351866697,
          -0.10663720409628885,
          0.006173075727725408,
          0.0719973131926841,
          -0.3241299854644555,
          0.9243513219441657,
          0.24544346938592554,
          0.6897191352665861,
          0.3812355465628381,
          -0.27602766872044615,
          -0.32924746917937364,
          0.05214096906221877,
          0.0023852498525154253,
          0.9966457422393924,
          -0.2186320885916373,
          0.11377967422995572,
          0.8077066477932819,
          -0.3788483464185699,
          -0.5626490974129297,
          0.8577695518605244,
          0.39405837555487033,
          0.7254036159538952,
          0.969554258555863,
          -0.6369885119371212,
          0.6753610706078192,
          -0.6059470060208456,
          0.22991569278480184,
          0.2232436904714008,
          0.8325601407971028,
          0.1574645874288021,
          -0.8933901193011773,
          -0.4548146710042369,
          0.173831158401081,
          -0.027426873569260435,
          0.8221093529366217,
          0.005596025517163428,
          0.830339757690058,
          0.9414001410811821,
          0.7996945433693217,
          -0.8727249291154764,
          -0.6118227555444264,
          -0.6602014223670281,
          -0.5568348394729443,
          -0.4038565197349657,
          0.01784932866054323,
          -0.5505206181987878,
          0.6675502434530052,
          -0.7227274270799946,
          -0.2186045006067514,
          0.6886059393515396,
          0.7879133496159447,
          -0.16145023639181733,
          -0.6922913150568513,
          -0.6866883223141207,
          0.6637194432517082,
          -0.7917088824217102,
          0.4720610887937564,
          -0.4991151361586459,
          -0.7379270967028431,
          -0.7482827732161701,
          -0.7917015070472679,
          0.30755677942470294,
          -0.5733690826406277,
          0.7036122505315239,
          0.786005362807481,
          0.3167439153790963,
          -0.9357082323861412,
          -0.28989541786855555,
          -0.6845633084004152,
          -0.011698829402818633,
          -0.8173442027206919,
          0.7628649374824876,
          0.36809049607187716,
          -0.3658066574886585,
          -0.0975665486727153,
          -0.2210958534377474,
          0.7117097784972837,
          -0.5877827183640447,
          0.22038521434285352,
          0.664417357027036,
          -0.9780005875684601,
          -0.09889682432314717,
          -0.6244709110991951,
          0.10771285083840598,
          -0.25216075616710776,
          -0.28373443186571623,
          0.5259465981541869,
          -0.9115675685680789,
          -0.7603903786082091,
          0.2519975029214734,
          0.7969380488963078,
          -0.2596701087768809,
          -0.3395606567967624,
          -0.5867731142768129,
          -0.22611060545148254,
          0.7191262369310911,
          0.22525672114876993,
          -0.9396069943390768,
          -0.16947683655314183,
          -0.6475539136013158,
          0.6751899842721094,
          -0.09557547430381552,
          0.19954417822593262,
          -0.4265819052884945,
          -0.34980751555675127,
          0.26880187625593766,
          0.8249819719858593,
          0.21933859077811357,
          -0.7819094954621175,
          -0.5420005759359876,
          0.3960620664456749,
          0.2656806996337908,
          -0.8673553498010087,
          -0.38733880611806004,
          -0.6453470416620743,
          -0.6731151018578343,
          -0.3727220777132525,
          -0.22197881447179157,
          -0.4496432070100387,
          0.8312739373189715,
          0.9002240538418349,
          -0.6739521263494228,
          0.7679575966624386,
          0.37365678226369203,
          0.7717875834665915,
          -0.5040107973656471,
          -0.39500896477265557,
          -0.7974069150567913,
          0.6696212387572229,
          0.48420906412208,
          -0.2932682323534834,
          0.9264218856112898
         ],
         "yaxis": "y"
        },
        {
         "hovertemplate": "label=B<br>noisy_x=%{x}<br>noisy_y=%{y}<extra></extra>",
         "legendgroup": "B",
         "marker": {
          "color": "#EF553B",
          "symbol": "circle"
         },
         "mode": "markers",
         "name": "B",
         "orientation": "v",
         "showlegend": true,
         "type": "scatter",
         "x": [
          -0.5642327782542496,
          -0.862354332153416,
          0.9280741853106025,
          0.014257079023952235,
          -0.13460050026021486,
          -0.7784105998139341,
          -0.5448734297448634,
          -0.32576207923790323,
          -0.9531825186518068,
          -0.19660563132216402,
          0.7458853199509419,
          -0.7122519100627531,
          -0.23590674247237975,
          0.33523937514094815,
          -0.06214179991318769,
          0.38615291801733287,
          -0.6546784609811966,
          -0.6391929591196377,
          0.7575056859445388,
          -0.1638497657612512,
          0.8846953471015955,
          -0.6556498907910511,
          0.727575554254561,
          -0.1649838011621534,
          -0.19607594746022783,
          0.21499662737239977,
          0.09681289131276616,
          0.47062073521992964,
          -0.8155867994090766,
          0.4273039682101569,
          -0.031573789520052964,
          -0.3981603644618503,
          0.006172959312510384,
          0.6446762109069177,
          -0.9140633799027476,
          -0.0661451490328484,
          -0.0753105440440811,
          0.3003000151969415,
          -0.35132526868196456,
          0.1575592361192859,
          0.6409902419751383,
          -0.5432154970432881,
          -0.26266619100850774,
          0.48239367985128867,
          -0.19079119152812773,
          0.7523213588531705,
          -0.3264059505306991,
          0.6051378444800402,
          0.14955997579678293,
          -0.11240163589339014,
          0.49801231102803634,
          -0.6518896857576397,
          -0.01848535772197968,
          0.7758500754396584,
          -0.09417524083856321,
          -0.008665876135454331,
          -0.3010213119971805,
          -0.26783028183175017,
          -0.820359105944487,
          -0.4759151029519051,
          -0.3875455927198901,
          -0.3620212977701842,
          0.639751897877179,
          0.07110467087939365,
          -0.4883758148224877,
          0.26033496028010794,
          -0.8262080118412423,
          -0.4664611082016654,
          -0.9278498456361888,
          0.7649670924107266,
          0.8231463030638686,
          -0.862676501064217,
          -0.31064208788395864,
          -0.5957161552687498,
          0.8610552177008894,
          0.9718459019184744,
          0.4913532906070315,
          0.722725876152833,
          0.08936767631897458,
          -0.9640863904970698,
          0.32774881735934036,
          0.7285451625980484,
          0.28472249585010134,
          -0.29988551870624347,
          0.7330908437338319,
          0.39290643730711383,
          0.14342221616604167,
          0.42221705148576927,
          0.8178418937395182,
          -0.6880469020046958,
          0.3395896229541524,
          -0.29569900152362183,
          -0.43802586951700584,
          -0.43685569184204476,
          -0.39799932273680594,
          -0.926260048937289,
          0.030112541183933583,
          -0.19819870142972573,
          -0.7296242216762456,
          -0.7748289204596555,
          0.974139713665717,
          0.445510554706807,
          -0.8410582668628463,
          0.8169834667379867,
          -0.44710843612378715,
          0.7713779442397952,
          0.3802617386180682,
          0.2662156052847673,
          -0.2046782595069101,
          -0.35749904490888573,
          -0.006921775352978221,
          0.38417998945370724,
          -0.3663821061952943,
          0.6304916058759438,
          -0.21083893018073585,
          0.8021461461481845,
          0.7856994073130992,
          -0.0949767765420153,
          -0.8187009134922725,
          -0.16731388786722556,
          0.38728649034813767,
          -0.37370570496101707,
          -0.7737622225041756,
          -0.41969649166970635,
          -0.997320965821396,
          0.9410892679924805,
          -0.6932273918705014,
          -0.8745793988097026,
          0.1520009876818933,
          0.3719187680970313,
          0.37679870694607187,
          0.030279524971356553,
          -0.9921211463092829,
          -0.6310317104568182,
          0.52266340480675,
          -0.8359394455448095,
          0.6016961111382855,
          0.8006264886771735,
          0.8093579899306351,
          0.39469717691314865,
          0.999802296327964,
          0.07355313415038078,
          0.8758564036720815,
          0.8044817117845042,
          -0.1043382306531524,
          0.2487093143830057,
          -0.5999363571321004,
          0.1789658108749279,
          -0.4581275532745963,
          0.3287647982108113,
          -0.2377403226989656,
          0.5003360087849336,
          -0.8521780435900954,
          0.7072280386512511,
          0.7212008309883531,
          0.546835141685519,
          0.1915619227446117,
          -0.8183292372014037,
          0.991434327483619,
          -0.5337497162107392,
          -0.9851026336166795,
          0.544999471765977,
          0.30796873913611744,
          -0.5804008247155363,
          -0.3594184250448349,
          0.23129977248292533,
          0.8812172359395902,
          -0.7479276491324991,
          0.593151622940068,
          -0.6371665175181411,
          0.6923925630548695,
          -0.9936378996526576,
          0.4256293644239171,
          0.48942956998943843,
          -0.9580845483899814,
          0.5067268988416556,
          -0.18280728779138533,
          -0.9221052495283057,
          0.2850521528833958,
          -0.46571144536190046,
          -0.027088712382883573,
          0.7358841891822674,
          -0.6960334030960758,
          0.6752317593355648,
          -0.661282634132738,
          -0.27588614043102244,
          -0.5968560456358476,
          0.7328817576243327,
          0.909492553376521,
          0.34042983639728996,
          -0.14565218377806932,
          0.8854723442034556,
          0.5277365639302389,
          -0.26328901391950055,
          -0.9016504336614175,
          -0.6132272874753903,
          0.8532131416600615,
          -0.7589857090272891,
          0.48201641862706834,
          -0.7387346797907433,
          -0.9223476974400504,
          0.6419839888428054,
          0.7410584323824245,
          -0.5809265198245868,
          0.9201032153465518,
          0.8361971563643149,
          0.8288540963329258,
          -0.5175067623459544,
          -0.3564086245622904,
          -0.6109503881041256,
          -0.31723767218107746,
          -0.8276739518946916,
          -0.6798752698327473,
          0.7707034213233832,
          -0.9457652871606674,
          0.9585147933619738,
          0.7248869113588765,
          0.925310956102176,
          -0.8724544813737141,
          0.45730837321918427,
          -0.8301940860456938,
          -0.634464404276291,
          0.6575603033989577,
          -0.7746921753452098,
          0.3046489214669621,
          0.46046329549734777,
          0.9615886543772716,
          0.8410336545559496,
          0.6998541963079166,
          -0.37328772534430854,
          -0.5408095198125331,
          -0.8529175224642744,
          -0.6362686122011332,
          0.674555593980039,
          0.4991819105550972,
          0.1347725686946053,
          -0.8937503407972571,
          -0.38618400189605073,
          0.49869062051369495,
          0.3289956693271039,
          0.28351527585606795,
          -0.7638065821054312,
          -0.7942980453835935,
          0.2533254228848081,
          0.6370805468862584,
          -0.5364244693636644,
          -0.4477752414999625
         ],
         "xaxis": "x",
         "y": [
          0.3607014089234377,
          0.8856737988278649,
          -0.06172367395128164,
          -0.41853493699482613,
          0.6491075918977931,
          0.770162016913557,
          0.7223247779170743,
          0.6975862736777474,
          0.09466924598888249,
          0.03967620335855737,
          -0.5012470721752305,
          0.5646167550004306,
          0.4866273240107042,
          -0.030069136290313603,
          0.5692146717044744,
          -0.11868268504719226,
          0.7671148269658503,
          0.8300587889945843,
          -0.938827172214248,
          0.648246236261915,
          -0.6862932408229865,
          0.06324841662452307,
          -0.5781394115189216,
          0.7397381869644684,
          0.08932766798606484,
          -0.24023321763459404,
          -0.21763881509284078,
          -0.020816796010290517,
          0.4262196293321592,
          -0.4925857945982739,
          0.9163736284194408,
          0.18304053214499238,
          -0.30211187885516577,
          -0.25507219729629727,
          0.2719533206366287,
          0.9828755237664764,
          0.2583532827991446,
          -0.5242934186388719,
          0.7758537052141972,
          -0.5087235567023578,
          -0.29944974857299145,
          0.8754835106148529,
          0.8872015042051964,
          -0.3438813858515968,
          0.20661443117945244,
          -0.03586678011678113,
          0.7370977419544087,
          -0.723554758557934,
          -0.8265287140977706,
          0.3426768097125841,
          -0.5037794635239679,
          0.8992013527590128,
          0.19231514713766695,
          -0.00866333644000905,
          0.8624581830717761,
          0.30424815791585913,
          0.1010190202498189,
          0.21640629240021458,
          0.562705128261906,
          0.34477479081901485,
          0.28421530572738907,
          0.776753808062743,
          -0.7969958144142886,
          -0.6084378425620558,
          0.33056704868106324,
          -0.8976927757931543,
          0.525909554981534,
          0.3023754766287736,
          0.8266816565956974,
          -0.2317195236432581,
          -0.3824992196825876,
          0.8331313895942054,
          0.7300867186772255,
          0.4618881892721487,
          -0.1144921829820158,
          -0.8289499089633212,
          -0.003617695980297375,
          -0.2643553496352631,
          -0.49187851337896604,
          0.7302773515604195,
          -0.717278564902325,
          -0.2551393380929625,
          -0.4634773531499521,
          0.8942979016673653,
          -0.9694925779410146,
          -0.17469892212630467,
          -0.9970433849956255,
          -0.6711334375802138,
          -0.40605647120798927,
          0.033945811761563416,
          -0.8932901794674746,
          0.3735734677051967,
          0.13447063609789134,
          0.6963818152993044,
          0.6217408602749799,
          0.9907066754710749,
          -0.6558791848701544,
          0.1260435091330998,
          0.4562914586484852,
          0.6023132824265172,
          -0.7419160545993628,
          -0.15891863841690146,
          0.17570553384547516,
          -0.2872875802831054,
          0.948807363473877,
          -0.5291732399820588,
          -0.2156358970593686,
          -0.6043248101668974,
          0.5659018994613338,
          0.24225467997077654,
          0.561331843416099,
          -0.5796475451045755,
          0.5804270443171478,
          -0.7048044373145022,
          0.593055604848828,
          -0.9068809207264568,
          -0.6075422768817693,
          0.3111006281730455,
          0.010650721822490716,
          0.06357956911967877,
          -0.3555763215682166,
          0.0415104588206765,
          0.9825830286438091,
          0.5308813244621433,
          0.251139858822474,
          -0.13426747076922685,
          0.43080733840616103,
          0.4479144754548341,
          -0.821013671201811,
          -0.46304477072226446,
          -0.9933939924233692,
          -0.46461431711746104,
          0.5045350774573389,
          0.7067400565071826,
          -0.6724760061157151,
          0.06373166024541677,
          -0.3311201016300076,
          -0.5144798180799064,
          -0.8216087091068964,
          -0.9358840348076058,
          -0.31806848296833357,
          -0.37136031583156837,
          -0.28264561041653957,
          -0.8894258367572896,
          0.39500328529472295,
          -0.4206251104650678,
          0.17400296356183365,
          -0.5486201971533566,
          0.8456611986251197,
          -0.7600595719850782,
          0.22274545880676944,
          -0.9477852692846529,
          0.4298992970857909,
          -0.7455147234479342,
          -0.8829329333888729,
          -0.8025900186875783,
          -0.5683130786299821,
          0.3312888658441564,
          -0.6792575572021056,
          0.47062381787717644,
          0.19898223100171286,
          -0.9936977160908602,
          -0.21012007233130814,
          0.8839376239860994,
          0.09444016262001043,
          -0.7157249291862766,
          -0.41452902062803654,
          0.834707538355508,
          -0.18512655530354305,
          0.12619878323473377,
          -0.037666434922266845,
          0.9814401854416552,
          -0.6575569083699362,
          -0.4776111132821512,
          0.5615467278898447,
          -0.009362930815960402,
          0.45509957498630715,
          0.2777449618241892,
          -0.10688763707439852,
          0.8869007388911765,
          0.6774224102768904,
          -0.9773300505116409,
          0.18051159474239653,
          -0.07268546346449267,
          0.5881072919245833,
          0.6410851086344569,
          0.2806899641445928,
          -0.832142824168816,
          -0.8949880226250295,
          -0.8447541234948575,
          0.7553796222114539,
          -0.8679953566267029,
          -0.14781060051461403,
          0.04483395629040521,
          0.7135714360440915,
          0.33529188985730585,
          -0.7361028591877463,
          0.22760110309393045,
          -0.18497507029424676,
          0.536936477944439,
          0.6776370550187669,
          -0.35191498235578345,
          -0.9250375476371102,
          0.5243589891498843,
          -0.8173665906194363,
          -0.7045201277702786,
          -0.34455286811768704,
          0.7786777299671612,
          0.15050418467212134,
          0.5301163774793034,
          0.8085057056843037,
          0.2719535441560028,
          0.17523868587094693,
          -0.5253993238383379,
          0.7853849604214376,
          -0.9259358306722558,
          -0.7008994053861872,
          -0.11776505969344564,
          0.4866497629433788,
          -0.9668825483062518,
          0.5447848744302639,
          0.235308519158816,
          -0.17889888792606934,
          0.6310500069127001,
          -0.5017012238787968,
          -0.7351394272136704,
          -0.8973000899620689,
          -0.6213260263910962,
          -0.025354260550852326,
          0.1964769603988652,
          0.7493063956317487,
          0.6608808096273251,
          0.5326393565676057,
          -0.4952382413523113,
          -0.6752404704716746,
          -0.4251959760145516,
          0.2066297795351999,
          0.09300258358797997,
          -0.8152510144234353,
          -0.10230739836848679,
          -0.44069816112892646,
          0.2588864272911191,
          0.7673883425014845,
          -0.9323499202813981,
          -0.9734530631639831,
          0.49618440310908474,
          0.27650672065018767
         ],
         "yaxis": "y"
        }
       ],
       "layout": {
        "autosize": true,
        "legend": {
         "title": {
          "text": "label"
         },
         "tracegroupgap": 0
        },
        "margin": {
         "t": 60
        },
        "template": {
         "data": {
          "bar": [
           {
            "error_x": {
             "color": "#2a3f5f"
            },
            "error_y": {
             "color": "#2a3f5f"
            },
            "marker": {
             "line": {
              "color": "white",
              "width": 0.5
             },
             "pattern": {
              "fillmode": "overlay",
              "size": 10,
              "solidity": 0.2
             }
            },
            "type": "bar"
           }
          ],
          "barpolar": [
           {
            "marker": {
             "line": {
              "color": "white",
              "width": 0.5
             },
             "pattern": {
              "fillmode": "overlay",
              "size": 10,
              "solidity": 0.2
             }
            },
            "type": "barpolar"
           }
          ],
          "carpet": [
           {
            "aaxis": {
             "endlinecolor": "#2a3f5f",
             "gridcolor": "#C8D4E3",
             "linecolor": "#C8D4E3",
             "minorgridcolor": "#C8D4E3",
             "startlinecolor": "#2a3f5f"
            },
            "baxis": {
             "endlinecolor": "#2a3f5f",
             "gridcolor": "#C8D4E3",
             "linecolor": "#C8D4E3",
             "minorgridcolor": "#C8D4E3",
             "startlinecolor": "#2a3f5f"
            },
            "type": "carpet"
           }
          ],
          "choropleth": [
           {
            "colorbar": {
             "outlinewidth": 0,
             "ticks": ""
            },
            "type": "choropleth"
           }
          ],
          "contour": [
           {
            "colorbar": {
             "outlinewidth": 0,
             "ticks": ""
            },
            "colorscale": [
             [
              0,
              "#0d0887"
             ],
             [
              0.1111111111111111,
              "#46039f"
             ],
             [
              0.2222222222222222,
              "#7201a8"
             ],
             [
              0.3333333333333333,
              "#9c179e"
             ],
             [
              0.4444444444444444,
              "#bd3786"
             ],
             [
              0.5555555555555556,
              "#d8576b"
             ],
             [
              0.6666666666666666,
              "#ed7953"
             ],
             [
              0.7777777777777778,
              "#fb9f3a"
             ],
             [
              0.8888888888888888,
              "#fdca26"
             ],
             [
              1,
              "#f0f921"
             ]
            ],
            "type": "contour"
           }
          ],
          "contourcarpet": [
           {
            "colorbar": {
             "outlinewidth": 0,
             "ticks": ""
            },
            "type": "contourcarpet"
           }
          ],
          "heatmap": [
           {
            "colorbar": {
             "outlinewidth": 0,
             "ticks": ""
            },
            "colorscale": [
             [
              0,
              "#0d0887"
             ],
             [
              0.1111111111111111,
              "#46039f"
             ],
             [
              0.2222222222222222,
              "#7201a8"
             ],
             [
              0.3333333333333333,
              "#9c179e"
             ],
             [
              0.4444444444444444,
              "#bd3786"
             ],
             [
              0.5555555555555556,
              "#d8576b"
             ],
             [
              0.6666666666666666,
              "#ed7953"
             ],
             [
              0.7777777777777778,
              "#fb9f3a"
             ],
             [
              0.8888888888888888,
              "#fdca26"
             ],
             [
              1,
              "#f0f921"
             ]
            ],
            "type": "heatmap"
           }
          ],
          "heatmapgl": [
           {
            "colorbar": {
             "outlinewidth": 0,
             "ticks": ""
            },
            "colorscale": [
             [
              0,
              "#0d0887"
             ],
             [
              0.1111111111111111,
              "#46039f"
             ],
             [
              0.2222222222222222,
              "#7201a8"
             ],
             [
              0.3333333333333333,
              "#9c179e"
             ],
             [
              0.4444444444444444,
              "#bd3786"
             ],
             [
              0.5555555555555556,
              "#d8576b"
             ],
             [
              0.6666666666666666,
              "#ed7953"
             ],
             [
              0.7777777777777778,
              "#fb9f3a"
             ],
             [
              0.8888888888888888,
              "#fdca26"
             ],
             [
              1,
              "#f0f921"
             ]
            ],
            "type": "heatmapgl"
           }
          ],
          "histogram": [
           {
            "marker": {
             "pattern": {
              "fillmode": "overlay",
              "size": 10,
              "solidity": 0.2
             }
            },
            "type": "histogram"
           }
          ],
          "histogram2d": [
           {
            "colorbar": {
             "outlinewidth": 0,
             "ticks": ""
            },
            "colorscale": [
             [
              0,
              "#0d0887"
             ],
             [
              0.1111111111111111,
              "#46039f"
             ],
             [
              0.2222222222222222,
              "#7201a8"
             ],
             [
              0.3333333333333333,
              "#9c179e"
             ],
             [
              0.4444444444444444,
              "#bd3786"
             ],
             [
              0.5555555555555556,
              "#d8576b"
             ],
             [
              0.6666666666666666,
              "#ed7953"
             ],
             [
              0.7777777777777778,
              "#fb9f3a"
             ],
             [
              0.8888888888888888,
              "#fdca26"
             ],
             [
              1,
              "#f0f921"
             ]
            ],
            "type": "histogram2d"
           }
          ],
          "histogram2dcontour": [
           {
            "colorbar": {
             "outlinewidth": 0,
             "ticks": ""
            },
            "colorscale": [
             [
              0,
              "#0d0887"
             ],
             [
              0.1111111111111111,
              "#46039f"
             ],
             [
              0.2222222222222222,
              "#7201a8"
             ],
             [
              0.3333333333333333,
              "#9c179e"
             ],
             [
              0.4444444444444444,
              "#bd3786"
             ],
             [
              0.5555555555555556,
              "#d8576b"
             ],
             [
              0.6666666666666666,
              "#ed7953"
             ],
             [
              0.7777777777777778,
              "#fb9f3a"
             ],
             [
              0.8888888888888888,
              "#fdca26"
             ],
             [
              1,
              "#f0f921"
             ]
            ],
            "type": "histogram2dcontour"
           }
          ],
          "mesh3d": [
           {
            "colorbar": {
             "outlinewidth": 0,
             "ticks": ""
            },
            "type": "mesh3d"
           }
          ],
          "parcoords": [
           {
            "line": {
             "colorbar": {
              "outlinewidth": 0,
              "ticks": ""
             }
            },
            "type": "parcoords"
           }
          ],
          "pie": [
           {
            "automargin": true,
            "type": "pie"
           }
          ],
          "scatter": [
           {
            "marker": {
             "colorbar": {
              "outlinewidth": 0,
              "ticks": ""
             }
            },
            "type": "scatter"
           }
          ],
          "scatter3d": [
           {
            "line": {
             "colorbar": {
              "outlinewidth": 0,
              "ticks": ""
             }
            },
            "marker": {
             "colorbar": {
              "outlinewidth": 0,
              "ticks": ""
             }
            },
            "type": "scatter3d"
           }
          ],
          "scattercarpet": [
           {
            "marker": {
             "colorbar": {
              "outlinewidth": 0,
              "ticks": ""
             }
            },
            "type": "scattercarpet"
           }
          ],
          "scattergeo": [
           {
            "marker": {
             "colorbar": {
              "outlinewidth": 0,
              "ticks": ""
             }
            },
            "type": "scattergeo"
           }
          ],
          "scattergl": [
           {
            "marker": {
             "colorbar": {
              "outlinewidth": 0,
              "ticks": ""
             }
            },
            "type": "scattergl"
           }
          ],
          "scattermapbox": [
           {
            "marker": {
             "colorbar": {
              "outlinewidth": 0,
              "ticks": ""
             }
            },
            "type": "scattermapbox"
           }
          ],
          "scatterpolar": [
           {
            "marker": {
             "colorbar": {
              "outlinewidth": 0,
              "ticks": ""
             }
            },
            "type": "scatterpolar"
           }
          ],
          "scatterpolargl": [
           {
            "marker": {
             "colorbar": {
              "outlinewidth": 0,
              "ticks": ""
             }
            },
            "type": "scatterpolargl"
           }
          ],
          "scatterternary": [
           {
            "marker": {
             "colorbar": {
              "outlinewidth": 0,
              "ticks": ""
             }
            },
            "type": "scatterternary"
           }
          ],
          "surface": [
           {
            "colorbar": {
             "outlinewidth": 0,
             "ticks": ""
            },
            "colorscale": [
             [
              0,
              "#0d0887"
             ],
             [
              0.1111111111111111,
              "#46039f"
             ],
             [
              0.2222222222222222,
              "#7201a8"
             ],
             [
              0.3333333333333333,
              "#9c179e"
             ],
             [
              0.4444444444444444,
              "#bd3786"
             ],
             [
              0.5555555555555556,
              "#d8576b"
             ],
             [
              0.6666666666666666,
              "#ed7953"
             ],
             [
              0.7777777777777778,
              "#fb9f3a"
             ],
             [
              0.8888888888888888,
              "#fdca26"
             ],
             [
              1,
              "#f0f921"
             ]
            ],
            "type": "surface"
           }
          ],
          "table": [
           {
            "cells": {
             "fill": {
              "color": "#EBF0F8"
             },
             "line": {
              "color": "white"
             }
            },
            "header": {
             "fill": {
              "color": "#C8D4E3"
             },
             "line": {
              "color": "white"
             }
            },
            "type": "table"
           }
          ]
         },
         "layout": {
          "annotationdefaults": {
           "arrowcolor": "#2a3f5f",
           "arrowhead": 0,
           "arrowwidth": 1
          },
          "autotypenumbers": "strict",
          "coloraxis": {
           "colorbar": {
            "outlinewidth": 0,
            "ticks": ""
           }
          },
          "colorscale": {
           "diverging": [
            [
             0,
             "#8e0152"
            ],
            [
             0.1,
             "#c51b7d"
            ],
            [
             0.2,
             "#de77ae"
            ],
            [
             0.3,
             "#f1b6da"
            ],
            [
             0.4,
             "#fde0ef"
            ],
            [
             0.5,
             "#f7f7f7"
            ],
            [
             0.6,
             "#e6f5d0"
            ],
            [
             0.7,
             "#b8e186"
            ],
            [
             0.8,
             "#7fbc41"
            ],
            [
             0.9,
             "#4d9221"
            ],
            [
             1,
             "#276419"
            ]
           ],
           "sequential": [
            [
             0,
             "#0d0887"
            ],
            [
             0.1111111111111111,
             "#46039f"
            ],
            [
             0.2222222222222222,
             "#7201a8"
            ],
            [
             0.3333333333333333,
             "#9c179e"
            ],
            [
             0.4444444444444444,
             "#bd3786"
            ],
            [
             0.5555555555555556,
             "#d8576b"
            ],
            [
             0.6666666666666666,
             "#ed7953"
            ],
            [
             0.7777777777777778,
             "#fb9f3a"
            ],
            [
             0.8888888888888888,
             "#fdca26"
            ],
            [
             1,
             "#f0f921"
            ]
           ],
           "sequentialminus": [
            [
             0,
             "#0d0887"
            ],
            [
             0.1111111111111111,
             "#46039f"
            ],
            [
             0.2222222222222222,
             "#7201a8"
            ],
            [
             0.3333333333333333,
             "#9c179e"
            ],
            [
             0.4444444444444444,
             "#bd3786"
            ],
            [
             0.5555555555555556,
             "#d8576b"
            ],
            [
             0.6666666666666666,
             "#ed7953"
            ],
            [
             0.7777777777777778,
             "#fb9f3a"
            ],
            [
             0.8888888888888888,
             "#fdca26"
            ],
            [
             1,
             "#f0f921"
            ]
           ]
          },
          "colorway": [
           "#636efa",
           "#EF553B",
           "#00cc96",
           "#ab63fa",
           "#FFA15A",
           "#19d3f3",
           "#FF6692",
           "#B6E880",
           "#FF97FF",
           "#FECB52"
          ],
          "font": {
           "color": "#2a3f5f"
          },
          "geo": {
           "bgcolor": "white",
           "lakecolor": "white",
           "landcolor": "white",
           "showlakes": true,
           "showland": true,
           "subunitcolor": "#C8D4E3"
          },
          "hoverlabel": {
           "align": "left"
          },
          "hovermode": "closest",
          "mapbox": {
           "style": "light"
          },
          "paper_bgcolor": "white",
          "plot_bgcolor": "white",
          "polar": {
           "angularaxis": {
            "gridcolor": "#EBF0F8",
            "linecolor": "#EBF0F8",
            "ticks": ""
           },
           "bgcolor": "white",
           "radialaxis": {
            "gridcolor": "#EBF0F8",
            "linecolor": "#EBF0F8",
            "ticks": ""
           }
          },
          "scene": {
           "xaxis": {
            "backgroundcolor": "white",
            "gridcolor": "#DFE8F3",
            "gridwidth": 2,
            "linecolor": "#EBF0F8",
            "showbackground": true,
            "ticks": "",
            "zerolinecolor": "#EBF0F8"
           },
           "yaxis": {
            "backgroundcolor": "white",
            "gridcolor": "#DFE8F3",
            "gridwidth": 2,
            "linecolor": "#EBF0F8",
            "showbackground": true,
            "ticks": "",
            "zerolinecolor": "#EBF0F8"
           },
           "zaxis": {
            "backgroundcolor": "white",
            "gridcolor": "#DFE8F3",
            "gridwidth": 2,
            "linecolor": "#EBF0F8",
            "showbackground": true,
            "ticks": "",
            "zerolinecolor": "#EBF0F8"
           }
          },
          "shapedefaults": {
           "line": {
            "color": "#2a3f5f"
           }
          },
          "ternary": {
           "aaxis": {
            "gridcolor": "#DFE8F3",
            "linecolor": "#A2B1C6",
            "ticks": ""
           },
           "baxis": {
            "gridcolor": "#DFE8F3",
            "linecolor": "#A2B1C6",
            "ticks": ""
           },
           "bgcolor": "white",
           "caxis": {
            "gridcolor": "#DFE8F3",
            "linecolor": "#A2B1C6",
            "ticks": ""
           }
          },
          "title": {
           "x": 0.05
          },
          "xaxis": {
           "automargin": true,
           "gridcolor": "#EBF0F8",
           "linecolor": "#EBF0F8",
           "ticks": "",
           "title": {
            "standoff": 15
           },
           "zerolinecolor": "#EBF0F8",
           "zerolinewidth": 2
          },
          "yaxis": {
           "automargin": true,
           "gridcolor": "#EBF0F8",
           "linecolor": "#EBF0F8",
           "ticks": "",
           "title": {
            "standoff": 15
           },
           "zerolinecolor": "#EBF0F8",
           "zerolinewidth": 2
          }
         }
        },
        "xaxis": {
         "anchor": "y",
         "autorange": true,
         "domain": [
          0,
          1
         ],
         "range": [
          -1.1208137824214353,
          1.1207472842613218
         ],
         "title": {
          "text": "noisy_x"
         },
         "type": "linear"
        },
        "yaxis": {
         "anchor": "x",
         "autorange": true,
         "domain": [
          0,
          1
         ],
         "range": [
          -1.1514103909101479,
          1.1510127481539147
         ],
         "title": {
          "text": "noisy_y"
         },
         "type": "linear"
        }
       }
      },
      "image/png": "[encoded data removed]",
      "text/html": [
       "<div>                            <div id=\"b6244ef8-714e-4340-bdb3-33cba3ed0234\" class=\"plotly-graph-div\" style=\"height:525px; width:100%;\"></div>            <script type=\"text/javascript\">                require([\"plotly\"], function(Plotly) {                    window.PLOTLYENV=window.PLOTLYENV || {};                                    if (document.getElementById(\"b6244ef8-714e-4340-bdb3-33cba3ed0234\")) {                    Plotly.newPlot(                        \"b6244ef8-714e-4340-bdb3-33cba3ed0234\",                        [{\"hovertemplate\":\"label=A<br>noisy_x=%{x}<br>noisy_y=%{y}<extra></extra>\",\"legendgroup\":\"A\",\"marker\":{\"color\":\"#636efa\",\"symbol\":\"circle\"},\"mode\":\"markers\",\"name\":\"A\",\"orientation\":\"v\",\"showlegend\":true,\"x\":[0.5416592469761605,0.5367666966080356,0.8494962922705105,-0.33020069213837444,-0.2762937753893824,-0.37987126851187747,-0.014310849369645107,0.10396470367992405,0.9708084842760176,0.5222400637454003,0.31667927813341645,-0.3522491227721958,-0.22907097345042016,-0.010581951989844907,0.6200979906359425,-0.9208132487650635,0.9639817065169132,0.7261542525955071,-0.7181827212153327,-0.20611544457702058,-0.1332989687315571,-0.7208062116845775,0.10981680342461497,0.5080091612383342,0.8748525938890115,0.8007327190098568,0.26483675838638887,0.8708186948580576,-0.23960486522317348,0.44544000089303326,0.35961528624829286,0.7760690876185707,-0.6603768028219019,-0.8331733466140387,-0.31697908544592845,-0.7758733524185049,-0.04341508973760555,-0.27135570245764473,-0.10227490371121273,0.9663983623674719,0.19639972091113633,0.41263962867121506,0.485166813889512,0.5250842706186383,0.30793583042131534,-0.9425636746445769,0.1627340072205239,0.15583018524798442,0.19022794828720024,0.7700331664314539,-0.04727652137217908,-0.8594197374955614,0.4959333852433825,0.8690814729033047,0.9634491657202247,0.37189725206473523,0.7783250338451408,-0.22823541226048794,0.14344677184882704,-0.29540791995550375,-0.8755390770946025,0.6223902125286869,-0.15407721695984966,0.7235247791570574,-0.587006909688728,-0.5531514607635528,0.04439236704399829,0.1622376771171108,-0.43765603582802215,0.704301098073999,0.16872504460996351,-0.09527817226400503,-0.029279793349347383,-0.6913179606064399,-0.717755140613956,0.14242803418542227,0.7360337926593443,0.575087968632995,0.4846582967950037,-0.3762310642189448,0.4536519121019149,-0.6128256963792191,-0.2210799300929729,-0.8234484265486168,0.8372977992863373,-0.7186585754561507,-0.16059749030965143,-0.25997034849442446,0.7199649839232722,0.04466625332746932,0.4179636110089515,0.68058609101516,-0.2773866954081923,0.0888659976832602,-0.7407652335586685,0.8516154174415198,0.12668360884555385,-0.64894845761749,0.1501317215970548,0.02204013318253706,-0.7091186903323481,-0.6664126640808581,0.7233107023028267,0.377389218704441,-0.9012949199670015,-0.8668197889270262,-0.6076866811187533,-0.878226030644963,-0.25130999297951506,-0.434470552326947,-0.20025132472523044,-0.532179847236264,-0.6281014669207552,-0.39756784691851577,0.42523090159391597,0.11132038896872443,-0.30421927229791734,-0.21432044015625196,0.4817484182165144,0.003410178540590003,0.409039689300011,0.11315517689493126,-0.4367371969203908,0.37019055242584487,0.7903248207982272,-0.5047828532611769,0.7038190435555067,0.08267459248712172,0.8754592573239537,0.892523390881591,-0.7052199772804029,-0.7896344456243292,0.48211487705430467,0.5735713868405958,0.6746932086079789,-0.9471833618388659,0.6503877614079292,0.6663154758940768,-0.23242237485751915,-0.14212523847548653,0.16661353226838038,0.8008739919995675,0.49704646704427025,0.19167961677646672,-0.9114809347910087,0.6949028798372587,-0.7301601337004446,0.5527551749754005,0.14047813044287838,0.4739943442882413,0.04397914168458317,-0.946149032889593,-0.18750738207521755,0.6129790471049512,-0.06490237326060422,0.8083073094743689,0.21650329435147708,0.3877072415592313,0.30660810267943117,0.06476444883520105,-0.03963878349950023,-0.9270483436397929,-0.08647900479561721,-0.08709933658666635,-0.5097344970357403,0.5309688727069701,-0.18584996341994553,0.9563197331972222,-0.5872473334410082,-0.7426678530488096,0.45698465860932047,0.7628448818730826,-0.6728543859640181,-0.26034543224754203,-0.40458777150434533,0.07202006059875732,-0.09383636129777884,0.1956814962809168,-0.7966001043440778,-0.7094404028977799,-0.5127751296461636,-0.07958882576890347,0.6194653492148476,-0.25303558206992505,0.19576611391885668,0.7483473362543804,0.26220658458976387,-0.9656717562349559,-0.8700948238037967,-0.11064249542654547,-0.8971700713384743,-0.791643359845654,0.07798995421509392,0.2587873963818772,-0.9743268203876356,-0.814862386774869,-0.6281208138563015,0.8057713227604182,-0.839259593344351,0.04655056214544073,0.22393577096426465,-0.9540418799791721,-0.27254607007010256,-0.06358970132170816,0.4747841597771334,-0.26169638755502,-0.27811967413233907,0.08120922726952573,-0.6609718031259595,-0.6126441505947349,0.30859622007038423,0.622190931860628,-0.7598771417788504,-0.3691430070725432,-0.9850270088456681,-0.4354460893529144,0.4481455282519915,0.6709093556873962,-0.9600671853555967,-0.5896656498446098,-0.7458748773498056,0.5970643884184765,-0.5636549345216513,0.27454169487115787,-0.3286043567482402,-0.12399314014763818,0.4442472491069278,0.3025770037433635,0.08205120859801629,-0.22778064278120724,-0.32062437224620477,0.9721219545917306,0.8249411144936187,-0.4861415787250354,-0.15375750729099424,-0.8765405486072959,-0.7515149066842166,-0.8898890343628822,-0.5041333949816675,-0.9785511876001929,0.6317820344158034,0.6205722340367326,-0.6125755841600518,0.9611496933791974,0.07751512896568036,0.5887619515583413,-0.6831238663309258,-0.10547449867791148,-0.9998687944880778,0.10998981583393985,0.965800806106466,-0.18345996744102044,0.635839251367208],\"xaxis\":\"x\",\"y\":[0.5625820505601868,0.3033409720118525,0.11540388380535083,-0.6446492354171713,-0.921495023274314,-0.6317878030947996,-0.23050521362180199,0.5372840290351051,0.742605718644475,0.5198688971870737,0.18446515399594854,-0.41379483904563474,-0.9411820555434842,-0.79078675746222,0.8611280968525694,-0.08622665668861607,0.047420055722760424,0.10652548638659765,-0.4871368939102032,-0.4302274405409914,-0.6079032415763388,-0.963213848788742,0.9188015019344657,0.9924355734271586,0.7944204787904927,0.855697452142715,0.5253786696295673,0.884521828286847,-0.6859662173385059,0.3221043436766897,0.576506851932099,0.8691370677728081,-0.5687167548197982,-0.20627252066558555,-0.4257121237268233,-0.004008651635833971,-0.5788755163440595,-0.007049945466605978,-0.009708094673924528,0.749751311792535,0.7088275750691877,0.5477383402330409,0.9943470376997414,0.3184572855699368,0.08608890023230908,-0.22913556501713006,0.23606308657314212,0.16242375938524356,0.1529615254103882,0.12317102314245232,-0.14783832647525874,-0.9389876716534162,0.45474240269547006,0.5662865168454119,0.8389278664478368,0.7713805279049126,0.2911649667478766,-0.37064203644292437,0.37484458116688146,-0.5763972655617917,-0.7115841186417655,0.9767407546982543,-0.06702506977835898,0.13895696024742943,-0.5483586884219478,-0.41384214822043797,0.46965349852919736,0.19551128291295128,-0.4184001674156197,0.3118549394862635,0.3767101359860703,-0.2673944255502976,-0.14903790932200667,-0.689776759813119,-0.29030132738910797,0.8757323715611649,0.0433002186577407,0.5510247736703995,0.06619919287167964,-0.7773890057414699,0.742545382698627,-0.5361716318169767,-0.49888995437631745,-0.4458310333621458,0.4486511148837622,-0.9379353434789028,-0.3874368031245805,-0.7314230311521706,0.17912525804424728,0.7981341802320392,0.8415854327733641,0.3969703667436648,-0.937610737773618,0.09117655002696212,-0.4365018059440322,0.7285623676999793,0.8563918193402205,-0.1734930533145147,0.6359000616585178,0.2594933483411217,-0.7514724470369936,-0.2942249212915671,0.35863948949051005,0.11606579855256927,-0.8681186084830288,-0.17477639565572067,-0.07791212988582763,-0.9717684629833214,-0.507800195815296,-0.12121451892467983,-0.8656008759128282,-0.45725042047978826,-0.3238798970339367,-0.8441021829306625,0.3140626905685149,0.1654216898229881,-0.1382620742806393,-0.3145061576758177,0.32934400415311815,0.6527668410123155,0.17933852960422425,0.8426081351866697,-0.10663720409628885,0.006173075727725408,0.0719973131926841,-0.3241299854644555,0.9243513219441657,0.24544346938592554,0.6897191352665861,0.3812355465628381,-0.27602766872044615,-0.32924746917937364,0.05214096906221877,0.0023852498525154253,0.9966457422393924,-0.2186320885916373,0.11377967422995572,0.8077066477932819,-0.3788483464185699,-0.5626490974129297,0.8577695518605244,0.39405837555487033,0.7254036159538952,0.969554258555863,-0.6369885119371212,0.6753610706078192,-0.6059470060208456,0.22991569278480184,0.2232436904714008,0.8325601407971028,0.1574645874288021,-0.8933901193011773,-0.4548146710042369,0.173831158401081,-0.027426873569260435,0.8221093529366217,0.005596025517163428,0.830339757690058,0.9414001410811821,0.7996945433693217,-0.8727249291154764,-0.6118227555444264,-0.6602014223670281,-0.5568348394729443,-0.4038565197349657,0.01784932866054323,-0.5505206181987878,0.6675502434530052,-0.7227274270799946,-0.2186045006067514,0.6886059393515396,0.7879133496159447,-0.16145023639181733,-0.6922913150568513,-0.6866883223141207,0.6637194432517082,-0.7917088824217102,0.4720610887937564,-0.4991151361586459,-0.7379270967028431,-0.7482827732161701,-0.7917015070472679,0.30755677942470294,-0.5733690826406277,0.7036122505315239,0.786005362807481,0.3167439153790963,-0.9357082323861412,-0.28989541786855555,-0.6845633084004152,-0.011698829402818633,-0.8173442027206919,0.7628649374824876,0.36809049607187716,-0.3658066574886585,-0.0975665486727153,-0.2210958534377474,0.7117097784972837,-0.5877827183640447,0.22038521434285352,0.664417357027036,-0.9780005875684601,-0.09889682432314717,-0.6244709110991951,0.10771285083840598,-0.25216075616710776,-0.28373443186571623,0.5259465981541869,-0.9115675685680789,-0.7603903786082091,0.2519975029214734,0.7969380488963078,-0.2596701087768809,-0.3395606567967624,-0.5867731142768129,-0.22611060545148254,0.7191262369310911,0.22525672114876993,-0.9396069943390768,-0.16947683655314183,-0.6475539136013158,0.6751899842721094,-0.09557547430381552,0.19954417822593262,-0.4265819052884945,-0.34980751555675127,0.26880187625593766,0.8249819719858593,0.21933859077811357,-0.7819094954621175,-0.5420005759359876,0.3960620664456749,0.2656806996337908,-0.8673553498010087,-0.38733880611806004,-0.6453470416620743,-0.6731151018578343,-0.3727220777132525,-0.22197881447179157,-0.4496432070100387,0.8312739373189715,0.9002240538418349,-0.6739521263494228,0.7679575966624386,0.37365678226369203,0.7717875834665915,-0.5040107973656471,-0.39500896477265557,-0.7974069150567913,0.6696212387572229,0.48420906412208,-0.2932682323534834,0.9264218856112898],\"yaxis\":\"y\",\"type\":\"scatter\"},{\"hovertemplate\":\"label=B<br>noisy_x=%{x}<br>noisy_y=%{y}<extra></extra>\",\"legendgroup\":\"B\",\"marker\":{\"color\":\"#EF553B\",\"symbol\":\"circle\"},\"mode\":\"markers\",\"name\":\"B\",\"orientation\":\"v\",\"showlegend\":true,\"x\":[-0.5642327782542496,-0.862354332153416,0.9280741853106025,0.014257079023952235,-0.13460050026021486,-0.7784105998139341,-0.5448734297448634,-0.32576207923790323,-0.9531825186518068,-0.19660563132216402,0.7458853199509419,-0.7122519100627531,-0.23590674247237975,0.33523937514094815,-0.06214179991318769,0.38615291801733287,-0.6546784609811966,-0.6391929591196377,0.7575056859445388,-0.1638497657612512,0.8846953471015955,-0.6556498907910511,0.727575554254561,-0.1649838011621534,-0.19607594746022783,0.21499662737239977,0.09681289131276616,0.47062073521992964,-0.8155867994090766,0.4273039682101569,-0.031573789520052964,-0.3981603644618503,0.006172959312510384,0.6446762109069177,-0.9140633799027476,-0.0661451490328484,-0.0753105440440811,0.3003000151969415,-0.35132526868196456,0.1575592361192859,0.6409902419751383,-0.5432154970432881,-0.26266619100850774,0.48239367985128867,-0.19079119152812773,0.7523213588531705,-0.3264059505306991,0.6051378444800402,0.14955997579678293,-0.11240163589339014,0.49801231102803634,-0.6518896857576397,-0.01848535772197968,0.7758500754396584,-0.09417524083856321,-0.008665876135454331,-0.3010213119971805,-0.26783028183175017,-0.820359105944487,-0.4759151029519051,-0.3875455927198901,-0.3620212977701842,0.639751897877179,0.07110467087939365,-0.4883758148224877,0.26033496028010794,-0.8262080118412423,-0.4664611082016654,-0.9278498456361888,0.7649670924107266,0.8231463030638686,-0.862676501064217,-0.31064208788395864,-0.5957161552687498,0.8610552177008894,0.9718459019184744,0.4913532906070315,0.722725876152833,0.08936767631897458,-0.9640863904970698,0.32774881735934036,0.7285451625980484,0.28472249585010134,-0.29988551870624347,0.7330908437338319,0.39290643730711383,0.14342221616604167,0.42221705148576927,0.8178418937395182,-0.6880469020046958,0.3395896229541524,-0.29569900152362183,-0.43802586951700584,-0.43685569184204476,-0.39799932273680594,-0.926260048937289,0.030112541183933583,-0.19819870142972573,-0.7296242216762456,-0.7748289204596555,0.974139713665717,0.445510554706807,-0.8410582668628463,0.8169834667379867,-0.44710843612378715,0.7713779442397952,0.3802617386180682,0.2662156052847673,-0.2046782595069101,-0.35749904490888573,-0.006921775352978221,0.38417998945370724,-0.3663821061952943,0.6304916058759438,-0.21083893018073585,0.8021461461481845,0.7856994073130992,-0.0949767765420153,-0.8187009134922725,-0.16731388786722556,0.38728649034813767,-0.37370570496101707,-0.7737622225041756,-0.41969649166970635,-0.997320965821396,0.9410892679924805,-0.6932273918705014,-0.8745793988097026,0.1520009876818933,0.3719187680970313,0.37679870694607187,0.030279524971356553,-0.9921211463092829,-0.6310317104568182,0.52266340480675,-0.8359394455448095,0.6016961111382855,0.8006264886771735,0.8093579899306351,0.39469717691314865,0.999802296327964,0.07355313415038078,0.8758564036720815,0.8044817117845042,-0.1043382306531524,0.2487093143830057,-0.5999363571321004,0.1789658108749279,-0.4581275532745963,0.3287647982108113,-0.2377403226989656,0.5003360087849336,-0.8521780435900954,0.7072280386512511,0.7212008309883531,0.546835141685519,0.1915619227446117,-0.8183292372014037,0.991434327483619,-0.5337497162107392,-0.9851026336166795,0.544999471765977,0.30796873913611744,-0.5804008247155363,-0.3594184250448349,0.23129977248292533,0.8812172359395902,-0.7479276491324991,0.593151622940068,-0.6371665175181411,0.6923925630548695,-0.9936378996526576,0.4256293644239171,0.48942956998943843,-0.9580845483899814,0.5067268988416556,-0.18280728779138533,-0.9221052495283057,0.2850521528833958,-0.46571144536190046,-0.027088712382883573,0.7358841891822674,-0.6960334030960758,0.6752317593355648,-0.661282634132738,-0.27588614043102244,-0.5968560456358476,0.7328817576243327,0.909492553376521,0.34042983639728996,-0.14565218377806932,0.8854723442034556,0.5277365639302389,-0.26328901391950055,-0.9016504336614175,-0.6132272874753903,0.8532131416600615,-0.7589857090272891,0.48201641862706834,-0.7387346797907433,-0.9223476974400504,0.6419839888428054,0.7410584323824245,-0.5809265198245868,0.9201032153465518,0.8361971563643149,0.8288540963329258,-0.5175067623459544,-0.3564086245622904,-0.6109503881041256,-0.31723767218107746,-0.8276739518946916,-0.6798752698327473,0.7707034213233832,-0.9457652871606674,0.9585147933619738,0.7248869113588765,0.925310956102176,-0.8724544813737141,0.45730837321918427,-0.8301940860456938,-0.634464404276291,0.6575603033989577,-0.7746921753452098,0.3046489214669621,0.46046329549734777,0.9615886543772716,0.8410336545559496,0.6998541963079166,-0.37328772534430854,-0.5408095198125331,-0.8529175224642744,-0.6362686122011332,0.674555593980039,0.4991819105550972,0.1347725686946053,-0.8937503407972571,-0.38618400189605073,0.49869062051369495,0.3289956693271039,0.28351527585606795,-0.7638065821054312,-0.7942980453835935,0.2533254228848081,0.6370805468862584,-0.5364244693636644,-0.4477752414999625],\"xaxis\":\"x\",\"y\":[0.3607014089234377,0.8856737988278649,-0.06172367395128164,-0.41853493699482613,0.6491075918977931,0.770162016913557,0.7223247779170743,0.6975862736777474,0.09466924598888249,0.03967620335855737,-0.5012470721752305,0.5646167550004306,0.4866273240107042,-0.030069136290313603,0.5692146717044744,-0.11868268504719226,0.7671148269658503,0.8300587889945843,-0.938827172214248,0.648246236261915,-0.6862932408229865,0.06324841662452307,-0.5781394115189216,0.7397381869644684,0.08932766798606484,-0.24023321763459404,-0.21763881509284078,-0.020816796010290517,0.4262196293321592,-0.4925857945982739,0.9163736284194408,0.18304053214499238,-0.30211187885516577,-0.25507219729629727,0.2719533206366287,0.9828755237664764,0.2583532827991446,-0.5242934186388719,0.7758537052141972,-0.5087235567023578,-0.29944974857299145,0.8754835106148529,0.8872015042051964,-0.3438813858515968,0.20661443117945244,-0.03586678011678113,0.7370977419544087,-0.723554758557934,-0.8265287140977706,0.3426768097125841,-0.5037794635239679,0.8992013527590128,0.19231514713766695,-0.00866333644000905,0.8624581830717761,0.30424815791585913,0.1010190202498189,0.21640629240021458,0.562705128261906,0.34477479081901485,0.28421530572738907,0.776753808062743,-0.7969958144142886,-0.6084378425620558,0.33056704868106324,-0.8976927757931543,0.525909554981534,0.3023754766287736,0.8266816565956974,-0.2317195236432581,-0.3824992196825876,0.8331313895942054,0.7300867186772255,0.4618881892721487,-0.1144921829820158,-0.8289499089633212,-0.003617695980297375,-0.2643553496352631,-0.49187851337896604,0.7302773515604195,-0.717278564902325,-0.2551393380929625,-0.4634773531499521,0.8942979016673653,-0.9694925779410146,-0.17469892212630467,-0.9970433849956255,-0.6711334375802138,-0.40605647120798927,0.033945811761563416,-0.8932901794674746,0.3735734677051967,0.13447063609789134,0.6963818152993044,0.6217408602749799,0.9907066754710749,-0.6558791848701544,0.1260435091330998,0.4562914586484852,0.6023132824265172,-0.7419160545993628,-0.15891863841690146,0.17570553384547516,-0.2872875802831054,0.948807363473877,-0.5291732399820588,-0.2156358970593686,-0.6043248101668974,0.5659018994613338,0.24225467997077654,0.561331843416099,-0.5796475451045755,0.5804270443171478,-0.7048044373145022,0.593055604848828,-0.9068809207264568,-0.6075422768817693,0.3111006281730455,0.010650721822490716,0.06357956911967877,-0.3555763215682166,0.0415104588206765,0.9825830286438091,0.5308813244621433,0.251139858822474,-0.13426747076922685,0.43080733840616103,0.4479144754548341,-0.821013671201811,-0.46304477072226446,-0.9933939924233692,-0.46461431711746104,0.5045350774573389,0.7067400565071826,-0.6724760061157151,0.06373166024541677,-0.3311201016300076,-0.5144798180799064,-0.8216087091068964,-0.9358840348076058,-0.31806848296833357,-0.37136031583156837,-0.28264561041653957,-0.8894258367572896,0.39500328529472295,-0.4206251104650678,0.17400296356183365,-0.5486201971533566,0.8456611986251197,-0.7600595719850782,0.22274545880676944,-0.9477852692846529,0.4298992970857909,-0.7455147234479342,-0.8829329333888729,-0.8025900186875783,-0.5683130786299821,0.3312888658441564,-0.6792575572021056,0.47062381787717644,0.19898223100171286,-0.9936977160908602,-0.21012007233130814,0.8839376239860994,0.09444016262001043,-0.7157249291862766,-0.41452902062803654,0.834707538355508,-0.18512655530354305,0.12619878323473377,-0.037666434922266845,0.9814401854416552,-0.6575569083699362,-0.4776111132821512,0.5615467278898447,-0.009362930815960402,0.45509957498630715,0.2777449618241892,-0.10688763707439852,0.8869007388911765,0.6774224102768904,-0.9773300505116409,0.18051159474239653,-0.07268546346449267,0.5881072919245833,0.6410851086344569,0.2806899641445928,-0.832142824168816,-0.8949880226250295,-0.8447541234948575,0.7553796222114539,-0.8679953566267029,-0.14781060051461403,0.04483395629040521,0.7135714360440915,0.33529188985730585,-0.7361028591877463,0.22760110309393045,-0.18497507029424676,0.536936477944439,0.6776370550187669,-0.35191498235578345,-0.9250375476371102,0.5243589891498843,-0.8173665906194363,-0.7045201277702786,-0.34455286811768704,0.7786777299671612,0.15050418467212134,0.5301163774793034,0.8085057056843037,0.2719535441560028,0.17523868587094693,-0.5253993238383379,0.7853849604214376,-0.9259358306722558,-0.7008994053861872,-0.11776505969344564,0.4866497629433788,-0.9668825483062518,0.5447848744302639,0.235308519158816,-0.17889888792606934,0.6310500069127001,-0.5017012238787968,-0.7351394272136704,-0.8973000899620689,-0.6213260263910962,-0.025354260550852326,0.1964769603988652,0.7493063956317487,0.6608808096273251,0.5326393565676057,-0.4952382413523113,-0.6752404704716746,-0.4251959760145516,0.2066297795351999,0.09300258358797997,-0.8152510144234353,-0.10230739836848679,-0.44069816112892646,0.2588864272911191,0.7673883425014845,-0.9323499202813981,-0.9734530631639831,0.49618440310908474,0.27650672065018767],\"yaxis\":\"y\",\"type\":\"scatter\"}],                        {\"template\":{\"data\":{\"barpolar\":[{\"marker\":{\"line\":{\"color\":\"white\",\"width\":0.5},\"pattern\":{\"fillmode\":\"overlay\",\"size\":10,\"solidity\":0.2}},\"type\":\"barpolar\"}],\"bar\":[{\"error_x\":{\"color\":\"#2a3f5f\"},\"error_y\":{\"color\":\"#2a3f5f\"},\"marker\":{\"line\":{\"color\":\"white\",\"width\":0.5},\"pattern\":{\"fillmode\":\"overlay\",\"size\":10,\"solidity\":0.2}},\"type\":\"bar\"}],\"carpet\":[{\"aaxis\":{\"endlinecolor\":\"#2a3f5f\",\"gridcolor\":\"#C8D4E3\",\"linecolor\":\"#C8D4E3\",\"minorgridcolor\":\"#C8D4E3\",\"startlinecolor\":\"#2a3f5f\"},\"baxis\":{\"endlinecolor\":\"#2a3f5f\",\"gridcolor\":\"#C8D4E3\",\"linecolor\":\"#C8D4E3\",\"minorgridcolor\":\"#C8D4E3\",\"startlinecolor\":\"#2a3f5f\"},\"type\":\"carpet\"}],\"choropleth\":[{\"colorbar\":{\"outlinewidth\":0,\"ticks\":\"\"},\"type\":\"choropleth\"}],\"contourcarpet\":[{\"colorbar\":{\"outlinewidth\":0,\"ticks\":\"\"},\"type\":\"contourcarpet\"}],\"contour\":[{\"colorbar\":{\"outlinewidth\":0,\"ticks\":\"\"},\"colorscale\":[[0.0,\"#0d0887\"],[0.1111111111111111,\"#46039f\"],[0.2222222222222222,\"#7201a8\"],[0.3333333333333333,\"#9c179e\"],[0.4444444444444444,\"#bd3786\"],[0.5555555555555556,\"#d8576b\"],[0.6666666666666666,\"#ed7953\"],[0.7777777777777778,\"#fb9f3a\"],[0.8888888888888888,\"#fdca26\"],[1.0,\"#f0f921\"]],\"type\":\"contour\"}],\"heatmapgl\":[{\"colorbar\":{\"outlinewidth\":0,\"ticks\":\"\"},\"colorscale\":[[0.0,\"#0d0887\"],[0.1111111111111111,\"#46039f\"],[0.2222222222222222,\"#7201a8\"],[0.3333333333333333,\"#9c179e\"],[0.4444444444444444,\"#bd3786\"],[0.5555555555555556,\"#d8576b\"],[0.6666666666666666,\"#ed7953\"],[0.7777777777777778,\"#fb9f3a\"],[0.8888888888888888,\"#fdca26\"],[1.0,\"#f0f921\"]],\"type\":\"heatmapgl\"}],\"heatmap\":[{\"colorbar\":{\"outlinewidth\":0,\"ticks\":\"\"},\"colorscale\":[[0.0,\"#0d0887\"],[0.1111111111111111,\"#46039f\"],[0.2222222222222222,\"#7201a8\"],[0.3333333333333333,\"#9c179e\"],[0.4444444444444444,\"#bd3786\"],[0.5555555555555556,\"#d8576b\"],[0.6666666666666666,\"#ed7953\"],[0.7777777777777778,\"#fb9f3a\"],[0.8888888888888888,\"#fdca26\"],[1.0,\"#f0f921\"]],\"type\":\"heatmap\"}],\"histogram2dcontour\":[{\"colorbar\":{\"outlinewidth\":0,\"ticks\":\"\"},\"colorscale\":[[0.0,\"#0d0887\"],[0.1111111111111111,\"#46039f\"],[0.2222222222222222,\"#7201a8\"],[0.3333333333333333,\"#9c179e\"],[0.4444444444444444,\"#bd3786\"],[0.5555555555555556,\"#d8576b\"],[0.6666666666666666,\"#ed7953\"],[0.7777777777777778,\"#fb9f3a\"],[0.8888888888888888,\"#fdca26\"],[1.0,\"#f0f921\"]],\"type\":\"histogram2dcontour\"}],\"histogram2d\":[{\"colorbar\":{\"outlinewidth\":0,\"ticks\":\"\"},\"colorscale\":[[0.0,\"#0d0887\"],[0.1111111111111111,\"#46039f\"],[0.2222222222222222,\"#7201a8\"],[0.3333333333333333,\"#9c179e\"],[0.4444444444444444,\"#bd3786\"],[0.5555555555555556,\"#d8576b\"],[0.6666666666666666,\"#ed7953\"],[0.7777777777777778,\"#fb9f3a\"],[0.8888888888888888,\"#fdca26\"],[1.0,\"#f0f921\"]],\"type\":\"histogram2d\"}],\"histogram\":[{\"marker\":{\"pattern\":{\"fillmode\":\"overlay\",\"size\":10,\"solidity\":0.2}},\"type\":\"histogram\"}],\"mesh3d\":[{\"colorbar\":{\"outlinewidth\":0,\"ticks\":\"\"},\"type\":\"mesh3d\"}],\"parcoords\":[{\"line\":{\"colorbar\":{\"outlinewidth\":0,\"ticks\":\"\"}},\"type\":\"parcoords\"}],\"pie\":[{\"automargin\":true,\"type\":\"pie\"}],\"scatter3d\":[{\"line\":{\"colorbar\":{\"outlinewidth\":0,\"ticks\":\"\"}},\"marker\":{\"colorbar\":{\"outlinewidth\":0,\"ticks\":\"\"}},\"type\":\"scatter3d\"}],\"scattercarpet\":[{\"marker\":{\"colorbar\":{\"outlinewidth\":0,\"ticks\":\"\"}},\"type\":\"scattercarpet\"}],\"scattergeo\":[{\"marker\":{\"colorbar\":{\"outlinewidth\":0,\"ticks\":\"\"}},\"type\":\"scattergeo\"}],\"scattergl\":[{\"marker\":{\"colorbar\":{\"outlinewidth\":0,\"ticks\":\"\"}},\"type\":\"scattergl\"}],\"scattermapbox\":[{\"marker\":{\"colorbar\":{\"outlinewidth\":0,\"ticks\":\"\"}},\"type\":\"scattermapbox\"}],\"scatterpolargl\":[{\"marker\":{\"colorbar\":{\"outlinewidth\":0,\"ticks\":\"\"}},\"type\":\"scatterpolargl\"}],\"scatterpolar\":[{\"marker\":{\"colorbar\":{\"outlinewidth\":0,\"ticks\":\"\"}},\"type\":\"scatterpolar\"}],\"scatter\":[{\"marker\":{\"colorbar\":{\"outlinewidth\":0,\"ticks\":\"\"}},\"type\":\"scatter\"}],\"scatterternary\":[{\"marker\":{\"colorbar\":{\"outlinewidth\":0,\"ticks\":\"\"}},\"type\":\"scatterternary\"}],\"surface\":[{\"colorbar\":{\"outlinewidth\":0,\"ticks\":\"\"},\"colorscale\":[[0.0,\"#0d0887\"],[0.1111111111111111,\"#46039f\"],[0.2222222222222222,\"#7201a8\"],[0.3333333333333333,\"#9c179e\"],[0.4444444444444444,\"#bd3786\"],[0.5555555555555556,\"#d8576b\"],[0.6666666666666666,\"#ed7953\"],[0.7777777777777778,\"#fb9f3a\"],[0.8888888888888888,\"#fdca26\"],[1.0,\"#f0f921\"]],\"type\":\"surface\"}],\"table\":[{\"cells\":{\"fill\":{\"color\":\"#EBF0F8\"},\"line\":{\"color\":\"white\"}},\"header\":{\"fill\":{\"color\":\"#C8D4E3\"},\"line\":{\"color\":\"white\"}},\"type\":\"table\"}]},\"layout\":{\"annotationdefaults\":{\"arrowcolor\":\"#2a3f5f\",\"arrowhead\":0,\"arrowwidth\":1},\"autotypenumbers\":\"strict\",\"coloraxis\":{\"colorbar\":{\"outlinewidth\":0,\"ticks\":\"\"}},\"colorscale\":{\"diverging\":[[0,\"#8e0152\"],[0.1,\"#c51b7d\"],[0.2,\"#de77ae\"],[0.3,\"#f1b6da\"],[0.4,\"#fde0ef\"],[0.5,\"#f7f7f7\"],[0.6,\"#e6f5d0\"],[0.7,\"#b8e186\"],[0.8,\"#7fbc41\"],[0.9,\"#4d9221\"],[1,\"#276419\"]],\"sequential\":[[0.0,\"#0d0887\"],[0.1111111111111111,\"#46039f\"],[0.2222222222222222,\"#7201a8\"],[0.3333333333333333,\"#9c179e\"],[0.4444444444444444,\"#bd3786\"],[0.5555555555555556,\"#d8576b\"],[0.6666666666666666,\"#ed7953\"],[0.7777777777777778,\"#fb9f3a\"],[0.8888888888888888,\"#fdca26\"],[1.0,\"#f0f921\"]],\"sequentialminus\":[[0.0,\"#0d0887\"],[0.1111111111111111,\"#46039f\"],[0.2222222222222222,\"#7201a8\"],[0.3333333333333333,\"#9c179e\"],[0.4444444444444444,\"#bd3786\"],[0.5555555555555556,\"#d8576b\"],[0.6666666666666666,\"#ed7953\"],[0.7777777777777778,\"#fb9f3a\"],[0.8888888888888888,\"#fdca26\"],[1.0,\"#f0f921\"]]},\"colorway\":[\"#636efa\",\"#EF553B\",\"#00cc96\",\"#ab63fa\",\"#FFA15A\",\"#19d3f3\",\"#FF6692\",\"#B6E880\",\"#FF97FF\",\"#FECB52\"],\"font\":{\"color\":\"#2a3f5f\"},\"geo\":{\"bgcolor\":\"white\",\"lakecolor\":\"white\",\"landcolor\":\"white\",\"showlakes\":true,\"showland\":true,\"subunitcolor\":\"#C8D4E3\"},\"hoverlabel\":{\"align\":\"left\"},\"hovermode\":\"closest\",\"mapbox\":{\"style\":\"light\"},\"paper_bgcolor\":\"white\",\"plot_bgcolor\":\"white\",\"polar\":{\"angularaxis\":{\"gridcolor\":\"#EBF0F8\",\"linecolor\":\"#EBF0F8\",\"ticks\":\"\"},\"bgcolor\":\"white\",\"radialaxis\":{\"gridcolor\":\"#EBF0F8\",\"linecolor\":\"#EBF0F8\",\"ticks\":\"\"}},\"scene\":{\"xaxis\":{\"backgroundcolor\":\"white\",\"gridcolor\":\"#DFE8F3\",\"gridwidth\":2,\"linecolor\":\"#EBF0F8\",\"showbackground\":true,\"ticks\":\"\",\"zerolinecolor\":\"#EBF0F8\"},\"yaxis\":{\"backgroundcolor\":\"white\",\"gridcolor\":\"#DFE8F3\",\"gridwidth\":2,\"linecolor\":\"#EBF0F8\",\"showbackground\":true,\"ticks\":\"\",\"zerolinecolor\":\"#EBF0F8\"},\"zaxis\":{\"backgroundcolor\":\"white\",\"gridcolor\":\"#DFE8F3\",\"gridwidth\":2,\"linecolor\":\"#EBF0F8\",\"showbackground\":true,\"ticks\":\"\",\"zerolinecolor\":\"#EBF0F8\"}},\"shapedefaults\":{\"line\":{\"color\":\"#2a3f5f\"}},\"ternary\":{\"aaxis\":{\"gridcolor\":\"#DFE8F3\",\"linecolor\":\"#A2B1C6\",\"ticks\":\"\"},\"baxis\":{\"gridcolor\":\"#DFE8F3\",\"linecolor\":\"#A2B1C6\",\"ticks\":\"\"},\"bgcolor\":\"white\",\"caxis\":{\"gridcolor\":\"#DFE8F3\",\"linecolor\":\"#A2B1C6\",\"ticks\":\"\"}},\"title\":{\"x\":0.05},\"xaxis\":{\"automargin\":true,\"gridcolor\":\"#EBF0F8\",\"linecolor\":\"#EBF0F8\",\"ticks\":\"\",\"title\":{\"standoff\":15},\"zerolinecolor\":\"#EBF0F8\",\"zerolinewidth\":2},\"yaxis\":{\"automargin\":true,\"gridcolor\":\"#EBF0F8\",\"linecolor\":\"#EBF0F8\",\"ticks\":\"\",\"title\":{\"standoff\":15},\"zerolinecolor\":\"#EBF0F8\",\"zerolinewidth\":2}}},\"xaxis\":{\"anchor\":\"y\",\"domain\":[0.0,1.0],\"title\":{\"text\":\"noisy_x\"}},\"yaxis\":{\"anchor\":\"x\",\"domain\":[0.0,1.0],\"title\":{\"text\":\"noisy_y\"}},\"legend\":{\"title\":{\"text\":\"label\"},\"tracegroupgap\":0},\"margin\":{\"t\":60}},                        {\"responsive\": true}                    ).then(function(){\n",
       "                            \n",
       "var gd = document.getElementById('b6244ef8-714e-4340-bdb3-33cba3ed0234');\n",
       "var x = new MutationObserver(function (mutations, observer) {{\n",
       "        var display = window.getComputedStyle(gd).display;\n",
       "        if (!display || display === 'none') {{\n",
       "            console.log([gd, 'removed!']);\n",
       "            Plotly.purge(gd);\n",
       "            observer.disconnect();\n",
       "        }}\n",
       "}});\n",
       "\n",
       "// Listen for the removal of the full notebook cells\n",
       "var notebookContainer = gd.closest('#notebook-container');\n",
       "if (notebookContainer) {{\n",
       "    x.observe(notebookContainer, {childList: true});\n",
       "}}\n",
       "\n",
       "// Listen for the clearing of the current output cell\n",
       "var outputEl = gd.closest('.output');\n",
       "if (outputEl) {{\n",
       "    x.observe(outputEl, {childList: true});\n",
       "}}\n",
       "\n",
       "                        })                };                });            </script>        </div>"
      ]
     },
     "metadata": {},
     "output_type": "display_data"
    }
   ],
   "source": [
    "px.scatter(noisy_xor_df,x=\"noisy_x\",y=\"noisy_y\", color=\"label\", template='plotly_white')"
   ]
  },
  {
   "cell_type": "markdown",
   "id": "d1e26cd3-3a85-4756-81bc-ad429b580694",
   "metadata": {},
   "source": [
    "## Tenosorflow & Keras"
   ]
  },
  {
   "cell_type": "markdown",
   "id": "7fe834d9-e9ff-4198-b4b1-12fa14cebd95",
   "metadata": {},
   "source": [
    "TensorFlow 2 is an end-to-end, open-source machine learning platform. You can think of it as an infrastructure layer for differentiable programming. It combines four key abilities:\n",
    "\n",
    "* Efficiently executing low-level tensor operations on CPU, GPU, or TPU.\n",
    "* Computing the gradient of arbitrary differentiable expressions.\n",
    "* Scaling computation to many devices, such as clusters of hundreds of GPUs.\n",
    "* Exporting programs (\"graphs\") to external runtimes such as servers, browsers, mobile and embedded devices."
   ]
  },
  {
   "cell_type": "markdown",
   "id": "7bf9373c-85a0-45e8-aa60-0cb6a36ec817",
   "metadata": {},
   "source": [
    "Keras is the high-level API of TensorFlow 2: an approachable, highly-productive interface for solving machine learning problems, with a focus on modern deep learning. It provides essential abstractions and building blocks for developing and shipping machine learning solutions with high iteration velocity.\n",
    "\n"
   ]
  },
  {
   "cell_type": "markdown",
   "id": "0243be51-92c2-4f2f-986a-db1affb9f229",
   "metadata": {},
   "source": [
    "Keras is a deep learning API written in Python, running on top of the machine learning platform TensorFlow. It was developed with a focus on enabling fast experimentation. Being able to go from idea to result as fast as possible is key to doing good research.\n",
    "Find keras documentation, examples, guides and tutorials at [keras.io](https://keras.io/)."
   ]
  },
  {
   "cell_type": "markdown",
   "id": "bf7e45b4-b73a-4acd-80ca-28d7dd97f424",
   "metadata": {},
   "source": [
    "### Classification with Fully connected NN using Keras"
   ]
  },
  {
   "cell_type": "markdown",
   "id": "18b91f44-ab30-4873-add8-f247b968ec16",
   "metadata": {},
   "source": [
    "Read about:\n",
    "\n",
    "* Keras [Sequential](https://keras.io/guides/sequential_model/) model\n",
    "* Keras [Dense](https://keras.io/api/layers/core_layers/dense/) layer\n",
    "* Keras [Activation functions](https://keras.io/api/layers/activations/)\n",
    "* Keras Optimizers "
   ]
  },
  {
   "cell_type": "code",
   "execution_count": 15,
   "id": "5c5fe9e0-8ad3-46f4-8e1f-dcda5c230d00",
   "metadata": {},
   "outputs": [],
   "source": [
    "train_data = noisy_xor_df.sample(frac=0.8)[['noisy_x','noisy_y','target']]\n",
    "test_data = noisy_xor_df[~noisy_xor_df.index.isin(train_data.index)][['noisy_x','noisy_y','target']]\n",
    "assert(len(test_data) + len(train_data) == len(noisy_xor_df))"
   ]
  },
  {
   "cell_type": "code",
   "execution_count": 16,
   "id": "ce5852cd-71e4-488c-af01-af07a5fb42f5",
   "metadata": {},
   "outputs": [],
   "source": [
    "import tensorflow as tf\n",
    "from tensorflow.keras.models import Sequential\n",
    "from tensorflow.keras.layers import Dense, Dropout, Activation\n",
    "from tensorflow.keras.optimizers import Adam\n",
    "from tensorflow.keras.callbacks import EarlyStopping"
   ]
  },
  {
   "cell_type": "code",
   "execution_count": 2,
   "id": "8309d036-c526-47de-820e-8ac209562a90",
   "metadata": {},
   "outputs": [],
   "source": [
    "model = Sequential()\n",
    "model.add(Dense(5, input_dim=2))\n",
    "model.add(Activation('tanh'))\n",
    "model.add(Dense(1))\n",
    "model.add(Activation('sigmoid'))\n",
    "\n",
    "optimizer = Adam(lr=0.03)\n",
    "model.compile(loss='binary_crossentropy', optimizer=optimizer, metrics=['accuracy'])"
   ]
  },
  {
   "cell_type": "code",
   "execution_count": 3,
   "id": "2544928d-1436-4a26-9889-806fbe2d904f",
   "metadata": {},
   "outputs": [
    {
     "name": "stdout",
     "output_type": "stream",
     "text": [
      "Model: \"sequential\"\n",
      "_________________________________________________________________\n",
      "Layer (type)                 Output Shape              Param #   \n",
      "=================================================================\n",
      "dense (Dense)                (None, 5)                 15        \n",
      "_________________________________________________________________\n",
      "activation (Activation)      (None, 5)                 0         \n",
      "_________________________________________________________________\n",
      "dense_1 (Dense)              (None, 1)                 6         \n",
      "_________________________________________________________________\n",
      "activation_1 (Activation)    (None, 1)                 0         \n",
      "=================================================================\n",
      "Total params: 21\n",
      "Trainable params: 21\n",
      "Non-trainable params: 0\n",
      "_________________________________________________________________\n"
     ]
    }
   ],
   "source": [
    "model.summary()"
   ]
  },
  {
   "cell_type": "code",
   "execution_count": 4,
   "id": "2bb946a9-7588-42c6-951b-178fe8f674bc",
   "metadata": {},
   "outputs": [
    {
     "name": "stdout",
     "output_type": "stream",
     "text": [
      "('Failed to import pydot. You must `pip install pydot` and install graphviz (https://graphviz.gitlab.io/download/), ', 'for `pydotprint` to work.')\n"
     ]
    }
   ],
   "source": [
    "tf.keras.utils.plot_model(\n",
    "    model\n",
    ")"
   ]
  },
  {
   "cell_type": "code",
   "execution_count": 17,
   "id": "a92de99e-701a-46cf-8653-5323ec4b3061",
   "metadata": {},
   "outputs": [
    {
     "name": "stdout",
     "output_type": "stream",
     "text": [
      "Epoch 1/10\n",
      "WARNING:tensorflow:AutoGraph could not transform <function Model.make_train_function.<locals>.train_function at 0x15cdfc5e0> and will run it as-is.\n",
      "Please report this to the TensorFlow team. When filing the bug, set the verbosity to 10 (on Linux, `export AUTOGRAPH_VERBOSITY=10`) and attach the full output.\n",
      "Cause: unsupported operand type(s) for -: 'NoneType' and 'int'\n",
      "To silence this warning, decorate the function with @tf.autograph.experimental.do_not_convert\n",
      "WARNING: AutoGraph could not transform <function Model.make_train_function.<locals>.train_function at 0x15cdfc5e0> and will run it as-is.\n",
      "Please report this to the TensorFlow team. When filing the bug, set the verbosity to 10 (on Linux, `export AUTOGRAPH_VERBOSITY=10`) and attach the full output.\n",
      "Cause: unsupported operand type(s) for -: 'NoneType' and 'int'\n",
      "To silence this warning, decorate the function with @tf.autograph.experimental.do_not_convert\n",
      " 1/40 [..............................] - ETA: 4s - loss: 0.7147 - accuracy: 0.5000"
     ]
    },
    {
     "name": "stderr",
     "output_type": "stream",
     "text": [
      "2022-05-02 15:14:46.165473: I tensorflow/compiler/mlir/mlir_graph_optimization_pass.cc:116] None of the MLIR optimization passes are enabled (registered 2)\n",
      "2022-05-02 15:14:46.165695: W tensorflow/core/platform/profile_utils/cpu_utils.cc:126] Failed to get CPU frequency: 0 Hz\n"
     ]
    },
    {
     "name": "stdout",
     "output_type": "stream",
     "text": [
      "WARNING:tensorflow:AutoGraph could not transform <function Model.make_test_function.<locals>.test_function at 0x15f826280> and will run it as-is.\n",
      "Please report this to the TensorFlow team. When filing the bug, set the verbosity to 10 (on Linux, `export AUTOGRAPH_VERBOSITY=10`) and attach the full output.\n",
      "Cause: unsupported operand type(s) for -: 'NoneType' and 'int'\n",
      "To silence this warning, decorate the function with @tf.autograph.experimental.do_not_convert\n",
      "WARNING: AutoGraph could not transform <function Model.make_test_function.<locals>.test_function at 0x15f826280> and will run it as-is.\n",
      "Please report this to the TensorFlow team. When filing the bug, set the verbosity to 10 (on Linux, `export AUTOGRAPH_VERBOSITY=10`) and attach the full output.\n",
      "Cause: unsupported operand type(s) for -: 'NoneType' and 'int'\n",
      "To silence this warning, decorate the function with @tf.autograph.experimental.do_not_convert\n",
      "40/40 [==============================] - 0s 3ms/step - loss: 0.7120 - accuracy: 0.4170 - val_loss: 0.6502 - val_accuracy: 0.7400\n",
      "Epoch 2/10\n",
      "40/40 [==============================] - 0s 722us/step - loss: 0.6521 - accuracy: 0.7094 - val_loss: 0.5590 - val_accuracy: 0.7100\n",
      "Epoch 3/10\n",
      "40/40 [==============================] - 0s 709us/step - loss: 0.5366 - accuracy: 0.7376 - val_loss: 0.4142 - val_accuracy: 0.9400\n",
      "Epoch 4/10\n",
      "40/40 [==============================] - 0s 702us/step - loss: 0.3751 - accuracy: 0.9299 - val_loss: 0.2905 - val_accuracy: 0.9500\n",
      "Epoch 5/10\n",
      "40/40 [==============================] - 0s 700us/step - loss: 0.2590 - accuracy: 0.9610 - val_loss: 0.2211 - val_accuracy: 0.9700\n",
      "Epoch 6/10\n",
      "40/40 [==============================] - 0s 667us/step - loss: 0.2123 - accuracy: 0.9450 - val_loss: 0.1923 - val_accuracy: 0.9500\n",
      "Epoch 7/10\n",
      "40/40 [==============================] - 0s 683us/step - loss: 0.1579 - accuracy: 0.9591 - val_loss: 0.1669 - val_accuracy: 0.9600\n",
      "Epoch 8/10\n",
      "40/40 [==============================] - 0s 700us/step - loss: 0.1324 - accuracy: 0.9748 - val_loss: 0.1596 - val_accuracy: 0.9300\n",
      "Epoch 9/10\n",
      "40/40 [==============================] - 0s 673us/step - loss: 0.1258 - accuracy: 0.9712 - val_loss: 0.1502 - val_accuracy: 0.9500\n",
      "Epoch 10/10\n",
      "40/40 [==============================] - 0s 705us/step - loss: 0.1233 - accuracy: 0.9652 - val_loss: 0.1350 - val_accuracy: 0.9600\n"
     ]
    },
    {
     "data": {
      "text/plain": [
       "<tensorflow.python.keras.callbacks.History at 0x15cdef340>"
      ]
     },
     "execution_count": 17,
     "metadata": {},
     "output_type": "execute_result"
    }
   ],
   "source": [
    "early_stopping_monitor = EarlyStopping(\n",
    "    monitor='val_loss',\n",
    "    min_delta=0,\n",
    "    patience=2,\n",
    "    verbose=0,\n",
    "    mode='auto',\n",
    "    baseline=None,\n",
    "    restore_best_weights=True\n",
    ")\n",
    "model.fit(train_data[['noisy_x','noisy_y']].values, train_data['target'], validation_data=(test_data[['noisy_x','noisy_y']], test_data['target']),\n",
    "          batch_size=10, epochs=10, verbose=True, callbacks=[])"
   ]
  },
  {
   "cell_type": "code",
   "execution_count": 29,
   "id": "1c3edbd7-d0fc-477c-8e58-934c124613cb",
   "metadata": {},
   "outputs": [
    {
     "data": {
      "text/plain": [
       "0.96"
      ]
     },
     "execution_count": 29,
     "metadata": {},
     "output_type": "execute_result"
    }
   ],
   "source": [
    "from sklearn.metrics import accuracy_score\n",
    "pred_y = [0 if p < 0.5 else 1 for p in model.predict(test_data[['noisy_x','noisy_y']].values)]\n",
    "accuracy_score(test_data['target'], pred_y)"
   ]
  }
 ],
 "metadata": {
  "kernelspec": {
   "display_name": "Python 3 (ipykernel)",
   "language": "python",
   "name": "python3"
  },
  "language_info": {
   "codemirror_mode": {
    "name": "ipython",
    "version": 3
   },
   "file_extension": ".py",
   "mimetype": "text/x-python",
   "name": "python",
   "nbconvert_exporter": "python",
   "pygments_lexer": "ipython3",
   "version": "3.9.7"
  }
 },
 "nbformat": 4,
 "nbformat_minor": 5
}
