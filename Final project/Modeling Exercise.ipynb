{
 "cells": [
  {
   "cell_type": "markdown",
   "id": "05bb7c4c-452a-408f-ac26-b184f1e10862",
   "metadata": {},
   "source": [
    "# Modeling exercise"
   ]
  },
  {
   "cell_type": "code",
   "execution_count": 27,
   "id": "5e136158-e12c-4d15-9c47-3cd726054a71",
   "metadata": {},
   "outputs": [],
   "source": [
    "import pandas as pd\n",
    "import numpy as np\n",
    "import plotly_express as px\n",
    "import ipywidgets as widgets"
   ]
  },
  {
   "cell_type": "code",
   "execution_count": 2,
   "id": "a4d54513-227b-4064-b932-e8c826fcfa4e",
   "metadata": {},
   "outputs": [],
   "source": [
    "slope, intercept = 2.5, 6"
   ]
  },
  {
   "cell_type": "code",
   "execution_count": 24,
   "id": "e67d56a6-dea9-4fe9-89a6-cc2642cd41e2",
   "metadata": {},
   "outputs": [],
   "source": [
    "x_1, x_2 = 0.2, 0.6\n",
    "on_line = [[x, x*slope + intercept,'on_line'] for x in np.linspace(-1,2,100)]\n",
    "\n",
    "above_line = [[x_1, x_1*slope + intercept + 2, 'Above'], \n",
    "              [x_2, x_2*slope + intercept + 2, 'Above']] \n",
    "\n",
    "below_line = [[x_1, x_1*slope + intercept - 2, 'Below'], \n",
    "              [x_2, x_2*slope + intercept - 2, 'Below']] "
   ]
  },
  {
   "cell_type": "code",
   "execution_count": 25,
   "id": "69baaa58-3c40-41dc-b027-fba3d69e8b5a",
   "metadata": {},
   "outputs": [],
   "source": [
    "columns = ['x','y','label']\n",
    "data = pd.DataFrame(on_line + above_line + below_line, columns = columns)"
   ]
  },
  {
   "cell_type": "code",
   "execution_count": 26,
   "id": "4fd91c55-8897-4686-b97b-65b23bf84675",
   "metadata": {},
   "outputs": [
    {
     "data": {
      "application/vnd.plotly.v1+json": {
       "config": {
        "plotlyServerURL": "https://plot.ly"
       },
       "data": [
        {
         "hovertemplate": "label=on_line<br>x=%{x}<br>y=%{y}<extra></extra>",
         "legendgroup": "on_line",
         "marker": {
          "color": "#636efa",
          "symbol": "circle"
         },
         "mode": "markers",
         "name": "on_line",
         "orientation": "v",
         "showlegend": true,
         "type": "scatter",
         "x": [
          -1,
          -0.9696969696969697,
          -0.9393939393939394,
          -0.9090909090909091,
          -0.8787878787878788,
          -0.8484848484848485,
          -0.8181818181818181,
          -0.7878787878787878,
          -0.7575757575757576,
          -0.7272727272727273,
          -0.696969696969697,
          -0.6666666666666666,
          -0.6363636363636364,
          -0.6060606060606061,
          -0.5757575757575757,
          -0.5454545454545454,
          -0.5151515151515151,
          -0.48484848484848486,
          -0.4545454545454546,
          -0.4242424242424242,
          -0.3939393939393939,
          -0.36363636363636365,
          -0.33333333333333326,
          -0.303030303030303,
          -0.2727272727272727,
          -0.24242424242424243,
          -0.21212121212121215,
          -0.18181818181818177,
          -0.1515151515151515,
          -0.12121212121212122,
          -0.09090909090909083,
          -0.06060606060606055,
          -0.030303030303030276,
          0,
          0.030303030303030276,
          0.06060606060606055,
          0.09090909090909083,
          0.12121212121212133,
          0.1515151515151516,
          0.18181818181818188,
          0.21212121212121215,
          0.24242424242424243,
          0.2727272727272727,
          0.303030303030303,
          0.3333333333333335,
          0.36363636363636376,
          0.39393939393939403,
          0.4242424242424243,
          0.4545454545454546,
          0.48484848484848486,
          0.5151515151515151,
          0.5454545454545454,
          0.5757575757575757,
          0.6060606060606062,
          0.6363636363636365,
          0.6666666666666667,
          0.696969696969697,
          0.7272727272727273,
          0.7575757575757576,
          0.7878787878787878,
          0.8181818181818183,
          0.8484848484848486,
          0.8787878787878789,
          0.9090909090909092,
          0.9393939393939394,
          0.9696969696969697,
          1,
          1.0303030303030303,
          1.0606060606060606,
          1.0909090909090908,
          1.121212121212121,
          1.1515151515151514,
          1.1818181818181817,
          1.2121212121212124,
          1.2424242424242427,
          1.272727272727273,
          1.3030303030303032,
          1.3333333333333335,
          1.3636363636363638,
          1.393939393939394,
          1.4242424242424243,
          1.4545454545454546,
          1.4848484848484849,
          1.5151515151515151,
          1.5454545454545454,
          1.5757575757575757,
          1.606060606060606,
          1.6363636363636362,
          1.666666666666667,
          1.6969696969696972,
          1.7272727272727275,
          1.7575757575757578,
          1.787878787878788,
          1.8181818181818183,
          1.8484848484848486,
          1.878787878787879,
          1.9090909090909092,
          1.9393939393939394,
          1.9696969696969697,
          2
         ],
         "xaxis": "x",
         "y": [
          3.5,
          3.5757575757575757,
          3.6515151515151514,
          3.7272727272727275,
          3.803030303030303,
          3.878787878787879,
          3.9545454545454546,
          4.03030303030303,
          4.1060606060606055,
          4.181818181818182,
          4.257575757575758,
          4.333333333333334,
          4.409090909090909,
          4.484848484848484,
          4.5606060606060606,
          4.636363636363637,
          4.712121212121212,
          4.787878787878788,
          4.863636363636363,
          4.9393939393939394,
          5.015151515151516,
          5.090909090909091,
          5.166666666666667,
          5.242424242424242,
          5.318181818181818,
          5.393939393939394,
          5.46969696969697,
          5.545454545454546,
          5.621212121212121,
          5.696969696969697,
          5.772727272727273,
          5.848484848484849,
          5.924242424242424,
          6,
          6.075757575757576,
          6.151515151515151,
          6.227272727272727,
          6.303030303030304,
          6.378787878787879,
          6.454545454545455,
          6.53030303030303,
          6.606060606060606,
          6.681818181818182,
          6.757575757575758,
          6.833333333333334,
          6.909090909090909,
          6.984848484848485,
          7.0606060606060606,
          7.136363636363637,
          7.212121212121212,
          7.287878787878788,
          7.363636363636363,
          7.4393939393939394,
          7.515151515151516,
          7.590909090909092,
          7.666666666666667,
          7.742424242424242,
          7.818181818181818,
          7.8939393939393945,
          7.96969696969697,
          8.045454545454547,
          8.121212121212121,
          8.196969696969697,
          8.272727272727273,
          8.348484848484848,
          8.424242424242424,
          8.5,
          8.575757575757576,
          8.651515151515152,
          8.727272727272727,
          8.803030303030303,
          8.878787878787879,
          8.954545454545453,
          9.030303030303031,
          9.106060606060606,
          9.181818181818183,
          9.257575757575758,
          9.333333333333334,
          9.40909090909091,
          9.484848484848484,
          9.56060606060606,
          9.636363636363637,
          9.712121212121211,
          9.787878787878789,
          9.863636363636363,
          9.93939393939394,
          10.015151515151516,
          10.09090909090909,
          10.166666666666668,
          10.242424242424242,
          10.318181818181818,
          10.393939393939394,
          10.46969696969697,
          10.545454545454547,
          10.621212121212121,
          10.696969696969697,
          10.772727272727273,
          10.848484848484848,
          10.924242424242424,
          11
         ],
         "yaxis": "y"
        },
        {
         "hovertemplate": "label=Above<br>x=%{x}<br>y=%{y}<extra></extra>",
         "legendgroup": "Above",
         "marker": {
          "color": "#EF553B",
          "symbol": "circle"
         },
         "mode": "markers",
         "name": "Above",
         "orientation": "v",
         "showlegend": true,
         "type": "scatter",
         "x": [
          0.2,
          0.6
         ],
         "xaxis": "x",
         "y": [
          8.5,
          9.5
         ],
         "yaxis": "y"
        },
        {
         "hovertemplate": "label=Below<br>x=%{x}<br>y=%{y}<extra></extra>",
         "legendgroup": "Below",
         "marker": {
          "color": "#00cc96",
          "symbol": "circle"
         },
         "mode": "markers",
         "name": "Below",
         "orientation": "v",
         "showlegend": true,
         "type": "scatter",
         "x": [
          0.2,
          0.6
         ],
         "xaxis": "x",
         "y": [
          4.5,
          5.5
         ],
         "yaxis": "y"
        }
       ],
       "layout": {
        "autosize": true,
        "legend": {
         "title": {
          "text": "label"
         },
         "tracegroupgap": 0
        },
        "margin": {
         "t": 60
        },
        "template": {
         "data": {
          "bar": [
           {
            "error_x": {
             "color": "#2a3f5f"
            },
            "error_y": {
             "color": "#2a3f5f"
            },
            "marker": {
             "line": {
              "color": "#E5ECF6",
              "width": 0.5
             },
             "pattern": {
              "fillmode": "overlay",
              "size": 10,
              "solidity": 0.2
             }
            },
            "type": "bar"
           }
          ],
          "barpolar": [
           {
            "marker": {
             "line": {
              "color": "#E5ECF6",
              "width": 0.5
             },
             "pattern": {
              "fillmode": "overlay",
              "size": 10,
              "solidity": 0.2
             }
            },
            "type": "barpolar"
           }
          ],
          "carpet": [
           {
            "aaxis": {
             "endlinecolor": "#2a3f5f",
             "gridcolor": "white",
             "linecolor": "white",
             "minorgridcolor": "white",
             "startlinecolor": "#2a3f5f"
            },
            "baxis": {
             "endlinecolor": "#2a3f5f",
             "gridcolor": "white",
             "linecolor": "white",
             "minorgridcolor": "white",
             "startlinecolor": "#2a3f5f"
            },
            "type": "carpet"
           }
          ],
          "choropleth": [
           {
            "colorbar": {
             "outlinewidth": 0,
             "ticks": ""
            },
            "type": "choropleth"
           }
          ],
          "contour": [
           {
            "colorbar": {
             "outlinewidth": 0,
             "ticks": ""
            },
            "colorscale": [
             [
              0,
              "#0d0887"
             ],
             [
              0.1111111111111111,
              "#46039f"
             ],
             [
              0.2222222222222222,
              "#7201a8"
             ],
             [
              0.3333333333333333,
              "#9c179e"
             ],
             [
              0.4444444444444444,
              "#bd3786"
             ],
             [
              0.5555555555555556,
              "#d8576b"
             ],
             [
              0.6666666666666666,
              "#ed7953"
             ],
             [
              0.7777777777777778,
              "#fb9f3a"
             ],
             [
              0.8888888888888888,
              "#fdca26"
             ],
             [
              1,
              "#f0f921"
             ]
            ],
            "type": "contour"
           }
          ],
          "contourcarpet": [
           {
            "colorbar": {
             "outlinewidth": 0,
             "ticks": ""
            },
            "type": "contourcarpet"
           }
          ],
          "heatmap": [
           {
            "colorbar": {
             "outlinewidth": 0,
             "ticks": ""
            },
            "colorscale": [
             [
              0,
              "#0d0887"
             ],
             [
              0.1111111111111111,
              "#46039f"
             ],
             [
              0.2222222222222222,
              "#7201a8"
             ],
             [
              0.3333333333333333,
              "#9c179e"
             ],
             [
              0.4444444444444444,
              "#bd3786"
             ],
             [
              0.5555555555555556,
              "#d8576b"
             ],
             [
              0.6666666666666666,
              "#ed7953"
             ],
             [
              0.7777777777777778,
              "#fb9f3a"
             ],
             [
              0.8888888888888888,
              "#fdca26"
             ],
             [
              1,
              "#f0f921"
             ]
            ],
            "type": "heatmap"
           }
          ],
          "heatmapgl": [
           {
            "colorbar": {
             "outlinewidth": 0,
             "ticks": ""
            },
            "colorscale": [
             [
              0,
              "#0d0887"
             ],
             [
              0.1111111111111111,
              "#46039f"
             ],
             [
              0.2222222222222222,
              "#7201a8"
             ],
             [
              0.3333333333333333,
              "#9c179e"
             ],
             [
              0.4444444444444444,
              "#bd3786"
             ],
             [
              0.5555555555555556,
              "#d8576b"
             ],
             [
              0.6666666666666666,
              "#ed7953"
             ],
             [
              0.7777777777777778,
              "#fb9f3a"
             ],
             [
              0.8888888888888888,
              "#fdca26"
             ],
             [
              1,
              "#f0f921"
             ]
            ],
            "type": "heatmapgl"
           }
          ],
          "histogram": [
           {
            "marker": {
             "pattern": {
              "fillmode": "overlay",
              "size": 10,
              "solidity": 0.2
             }
            },
            "type": "histogram"
           }
          ],
          "histogram2d": [
           {
            "colorbar": {
             "outlinewidth": 0,
             "ticks": ""
            },
            "colorscale": [
             [
              0,
              "#0d0887"
             ],
             [
              0.1111111111111111,
              "#46039f"
             ],
             [
              0.2222222222222222,
              "#7201a8"
             ],
             [
              0.3333333333333333,
              "#9c179e"
             ],
             [
              0.4444444444444444,
              "#bd3786"
             ],
             [
              0.5555555555555556,
              "#d8576b"
             ],
             [
              0.6666666666666666,
              "#ed7953"
             ],
             [
              0.7777777777777778,
              "#fb9f3a"
             ],
             [
              0.8888888888888888,
              "#fdca26"
             ],
             [
              1,
              "#f0f921"
             ]
            ],
            "type": "histogram2d"
           }
          ],
          "histogram2dcontour": [
           {
            "colorbar": {
             "outlinewidth": 0,
             "ticks": ""
            },
            "colorscale": [
             [
              0,
              "#0d0887"
             ],
             [
              0.1111111111111111,
              "#46039f"
             ],
             [
              0.2222222222222222,
              "#7201a8"
             ],
             [
              0.3333333333333333,
              "#9c179e"
             ],
             [
              0.4444444444444444,
              "#bd3786"
             ],
             [
              0.5555555555555556,
              "#d8576b"
             ],
             [
              0.6666666666666666,
              "#ed7953"
             ],
             [
              0.7777777777777778,
              "#fb9f3a"
             ],
             [
              0.8888888888888888,
              "#fdca26"
             ],
             [
              1,
              "#f0f921"
             ]
            ],
            "type": "histogram2dcontour"
           }
          ],
          "mesh3d": [
           {
            "colorbar": {
             "outlinewidth": 0,
             "ticks": ""
            },
            "type": "mesh3d"
           }
          ],
          "parcoords": [
           {
            "line": {
             "colorbar": {
              "outlinewidth": 0,
              "ticks": ""
             }
            },
            "type": "parcoords"
           }
          ],
          "pie": [
           {
            "automargin": true,
            "type": "pie"
           }
          ],
          "scatter": [
           {
            "marker": {
             "colorbar": {
              "outlinewidth": 0,
              "ticks": ""
             }
            },
            "type": "scatter"
           }
          ],
          "scatter3d": [
           {
            "line": {
             "colorbar": {
              "outlinewidth": 0,
              "ticks": ""
             }
            },
            "marker": {
             "colorbar": {
              "outlinewidth": 0,
              "ticks": ""
             }
            },
            "type": "scatter3d"
           }
          ],
          "scattercarpet": [
           {
            "marker": {
             "colorbar": {
              "outlinewidth": 0,
              "ticks": ""
             }
            },
            "type": "scattercarpet"
           }
          ],
          "scattergeo": [
           {
            "marker": {
             "colorbar": {
              "outlinewidth": 0,
              "ticks": ""
             }
            },
            "type": "scattergeo"
           }
          ],
          "scattergl": [
           {
            "marker": {
             "colorbar": {
              "outlinewidth": 0,
              "ticks": ""
             }
            },
            "type": "scattergl"
           }
          ],
          "scattermapbox": [
           {
            "marker": {
             "colorbar": {
              "outlinewidth": 0,
              "ticks": ""
             }
            },
            "type": "scattermapbox"
           }
          ],
          "scatterpolar": [
           {
            "marker": {
             "colorbar": {
              "outlinewidth": 0,
              "ticks": ""
             }
            },
            "type": "scatterpolar"
           }
          ],
          "scatterpolargl": [
           {
            "marker": {
             "colorbar": {
              "outlinewidth": 0,
              "ticks": ""
             }
            },
            "type": "scatterpolargl"
           }
          ],
          "scatterternary": [
           {
            "marker": {
             "colorbar": {
              "outlinewidth": 0,
              "ticks": ""
             }
            },
            "type": "scatterternary"
           }
          ],
          "surface": [
           {
            "colorbar": {
             "outlinewidth": 0,
             "ticks": ""
            },
            "colorscale": [
             [
              0,
              "#0d0887"
             ],
             [
              0.1111111111111111,
              "#46039f"
             ],
             [
              0.2222222222222222,
              "#7201a8"
             ],
             [
              0.3333333333333333,
              "#9c179e"
             ],
             [
              0.4444444444444444,
              "#bd3786"
             ],
             [
              0.5555555555555556,
              "#d8576b"
             ],
             [
              0.6666666666666666,
              "#ed7953"
             ],
             [
              0.7777777777777778,
              "#fb9f3a"
             ],
             [
              0.8888888888888888,
              "#fdca26"
             ],
             [
              1,
              "#f0f921"
             ]
            ],
            "type": "surface"
           }
          ],
          "table": [
           {
            "cells": {
             "fill": {
              "color": "#EBF0F8"
             },
             "line": {
              "color": "white"
             }
            },
            "header": {
             "fill": {
              "color": "#C8D4E3"
             },
             "line": {
              "color": "white"
             }
            },
            "type": "table"
           }
          ]
         },
         "layout": {
          "annotationdefaults": {
           "arrowcolor": "#2a3f5f",
           "arrowhead": 0,
           "arrowwidth": 1
          },
          "autotypenumbers": "strict",
          "coloraxis": {
           "colorbar": {
            "outlinewidth": 0,
            "ticks": ""
           }
          },
          "colorscale": {
           "diverging": [
            [
             0,
             "#8e0152"
            ],
            [
             0.1,
             "#c51b7d"
            ],
            [
             0.2,
             "#de77ae"
            ],
            [
             0.3,
             "#f1b6da"
            ],
            [
             0.4,
             "#fde0ef"
            ],
            [
             0.5,
             "#f7f7f7"
            ],
            [
             0.6,
             "#e6f5d0"
            ],
            [
             0.7,
             "#b8e186"
            ],
            [
             0.8,
             "#7fbc41"
            ],
            [
             0.9,
             "#4d9221"
            ],
            [
             1,
             "#276419"
            ]
           ],
           "sequential": [
            [
             0,
             "#0d0887"
            ],
            [
             0.1111111111111111,
             "#46039f"
            ],
            [
             0.2222222222222222,
             "#7201a8"
            ],
            [
             0.3333333333333333,
             "#9c179e"
            ],
            [
             0.4444444444444444,
             "#bd3786"
            ],
            [
             0.5555555555555556,
             "#d8576b"
            ],
            [
             0.6666666666666666,
             "#ed7953"
            ],
            [
             0.7777777777777778,
             "#fb9f3a"
            ],
            [
             0.8888888888888888,
             "#fdca26"
            ],
            [
             1,
             "#f0f921"
            ]
           ],
           "sequentialminus": [
            [
             0,
             "#0d0887"
            ],
            [
             0.1111111111111111,
             "#46039f"
            ],
            [
             0.2222222222222222,
             "#7201a8"
            ],
            [
             0.3333333333333333,
             "#9c179e"
            ],
            [
             0.4444444444444444,
             "#bd3786"
            ],
            [
             0.5555555555555556,
             "#d8576b"
            ],
            [
             0.6666666666666666,
             "#ed7953"
            ],
            [
             0.7777777777777778,
             "#fb9f3a"
            ],
            [
             0.8888888888888888,
             "#fdca26"
            ],
            [
             1,
             "#f0f921"
            ]
           ]
          },
          "colorway": [
           "#636efa",
           "#EF553B",
           "#00cc96",
           "#ab63fa",
           "#FFA15A",
           "#19d3f3",
           "#FF6692",
           "#B6E880",
           "#FF97FF",
           "#FECB52"
          ],
          "font": {
           "color": "#2a3f5f"
          },
          "geo": {
           "bgcolor": "white",
           "lakecolor": "white",
           "landcolor": "#E5ECF6",
           "showlakes": true,
           "showland": true,
           "subunitcolor": "white"
          },
          "hoverlabel": {
           "align": "left"
          },
          "hovermode": "closest",
          "mapbox": {
           "style": "light"
          },
          "paper_bgcolor": "white",
          "plot_bgcolor": "#E5ECF6",
          "polar": {
           "angularaxis": {
            "gridcolor": "white",
            "linecolor": "white",
            "ticks": ""
           },
           "bgcolor": "#E5ECF6",
           "radialaxis": {
            "gridcolor": "white",
            "linecolor": "white",
            "ticks": ""
           }
          },
          "scene": {
           "xaxis": {
            "backgroundcolor": "#E5ECF6",
            "gridcolor": "white",
            "gridwidth": 2,
            "linecolor": "white",
            "showbackground": true,
            "ticks": "",
            "zerolinecolor": "white"
           },
           "yaxis": {
            "backgroundcolor": "#E5ECF6",
            "gridcolor": "white",
            "gridwidth": 2,
            "linecolor": "white",
            "showbackground": true,
            "ticks": "",
            "zerolinecolor": "white"
           },
           "zaxis": {
            "backgroundcolor": "#E5ECF6",
            "gridcolor": "white",
            "gridwidth": 2,
            "linecolor": "white",
            "showbackground": true,
            "ticks": "",
            "zerolinecolor": "white"
           }
          },
          "shapedefaults": {
           "line": {
            "color": "#2a3f5f"
           }
          },
          "ternary": {
           "aaxis": {
            "gridcolor": "white",
            "linecolor": "white",
            "ticks": ""
           },
           "baxis": {
            "gridcolor": "white",
            "linecolor": "white",
            "ticks": ""
           },
           "bgcolor": "#E5ECF6",
           "caxis": {
            "gridcolor": "white",
            "linecolor": "white",
            "ticks": ""
           }
          },
          "title": {
           "x": 0.05
          },
          "xaxis": {
           "automargin": true,
           "gridcolor": "white",
           "linecolor": "white",
           "ticks": "",
           "title": {
            "standoff": 15
           },
           "zerolinecolor": "white",
           "zerolinewidth": 2
          },
          "yaxis": {
           "automargin": true,
           "gridcolor": "white",
           "linecolor": "white",
           "ticks": "",
           "title": {
            "standoff": 15
           },
           "zerolinecolor": "white",
           "zerolinewidth": 2
          }
         }
        },
        "xaxis": {
         "anchor": "y",
         "autorange": true,
         "domain": [
          0,
          1
         ],
         "range": [
          -1.1761882998171846,
          2.1761882998171846
         ],
         "title": {
          "text": "x"
         },
         "type": "linear"
        },
        "yaxis": {
         "anchor": "x",
         "autorange": true,
         "domain": [
          0,
          1
         ],
         "range": [
          2.9192913385826773,
          11.580708661417322
         ],
         "title": {
          "text": "y"
         },
         "type": "linear"
        }
       }
      },
      "image/png": "[encoded data removed]",
      "text/html": [
       "<div>                            <div id=\"c021d471-f16b-4ca1-b581-e0473efde935\" class=\"plotly-graph-div\" style=\"height:525px; width:100%;\"></div>            <script type=\"text/javascript\">                require([\"plotly\"], function(Plotly) {                    window.PLOTLYENV=window.PLOTLYENV || {};                                    if (document.getElementById(\"c021d471-f16b-4ca1-b581-e0473efde935\")) {                    Plotly.newPlot(                        \"c021d471-f16b-4ca1-b581-e0473efde935\",                        [{\"hovertemplate\":\"label=on_line<br>x=%{x}<br>y=%{y}<extra></extra>\",\"legendgroup\":\"on_line\",\"marker\":{\"color\":\"#636efa\",\"symbol\":\"circle\"},\"mode\":\"markers\",\"name\":\"on_line\",\"orientation\":\"v\",\"showlegend\":true,\"type\":\"scatter\",\"x\":[-1.0,-0.9696969696969697,-0.9393939393939394,-0.9090909090909091,-0.8787878787878788,-0.8484848484848485,-0.8181818181818181,-0.7878787878787878,-0.7575757575757576,-0.7272727272727273,-0.696969696969697,-0.6666666666666666,-0.6363636363636364,-0.6060606060606061,-0.5757575757575757,-0.5454545454545454,-0.5151515151515151,-0.48484848484848486,-0.4545454545454546,-0.4242424242424242,-0.3939393939393939,-0.36363636363636365,-0.33333333333333326,-0.303030303030303,-0.2727272727272727,-0.24242424242424243,-0.21212121212121215,-0.18181818181818177,-0.1515151515151515,-0.12121212121212122,-0.09090909090909083,-0.06060606060606055,-0.030303030303030276,0.0,0.030303030303030276,0.06060606060606055,0.09090909090909083,0.12121212121212133,0.1515151515151516,0.18181818181818188,0.21212121212121215,0.24242424242424243,0.2727272727272727,0.303030303030303,0.3333333333333335,0.36363636363636376,0.39393939393939403,0.4242424242424243,0.4545454545454546,0.48484848484848486,0.5151515151515151,0.5454545454545454,0.5757575757575757,0.6060606060606062,0.6363636363636365,0.6666666666666667,0.696969696969697,0.7272727272727273,0.7575757575757576,0.7878787878787878,0.8181818181818183,0.8484848484848486,0.8787878787878789,0.9090909090909092,0.9393939393939394,0.9696969696969697,1.0,1.0303030303030303,1.0606060606060606,1.0909090909090908,1.121212121212121,1.1515151515151514,1.1818181818181817,1.2121212121212124,1.2424242424242427,1.272727272727273,1.3030303030303032,1.3333333333333335,1.3636363636363638,1.393939393939394,1.4242424242424243,1.4545454545454546,1.4848484848484849,1.5151515151515151,1.5454545454545454,1.5757575757575757,1.606060606060606,1.6363636363636362,1.666666666666667,1.6969696969696972,1.7272727272727275,1.7575757575757578,1.787878787878788,1.8181818181818183,1.8484848484848486,1.878787878787879,1.9090909090909092,1.9393939393939394,1.9696969696969697,2.0],\"xaxis\":\"x\",\"y\":[3.5,3.5757575757575757,3.6515151515151514,3.7272727272727275,3.803030303030303,3.878787878787879,3.9545454545454546,4.03030303030303,4.1060606060606055,4.181818181818182,4.257575757575758,4.333333333333334,4.409090909090909,4.484848484848484,4.5606060606060606,4.636363636363637,4.712121212121212,4.787878787878788,4.863636363636363,4.9393939393939394,5.015151515151516,5.090909090909091,5.166666666666667,5.242424242424242,5.318181818181818,5.393939393939394,5.46969696969697,5.545454545454546,5.621212121212121,5.696969696969697,5.772727272727273,5.848484848484849,5.924242424242424,6.0,6.075757575757576,6.151515151515151,6.227272727272727,6.303030303030304,6.378787878787879,6.454545454545455,6.53030303030303,6.606060606060606,6.681818181818182,6.757575757575758,6.833333333333334,6.909090909090909,6.984848484848485,7.0606060606060606,7.136363636363637,7.212121212121212,7.287878787878788,7.363636363636363,7.4393939393939394,7.515151515151516,7.590909090909092,7.666666666666667,7.742424242424242,7.818181818181818,7.8939393939393945,7.96969696969697,8.045454545454547,8.121212121212121,8.196969696969697,8.272727272727273,8.348484848484848,8.424242424242424,8.5,8.575757575757576,8.651515151515152,8.727272727272727,8.803030303030303,8.878787878787879,8.954545454545453,9.030303030303031,9.106060606060606,9.181818181818183,9.257575757575758,9.333333333333334,9.40909090909091,9.484848484848484,9.56060606060606,9.636363636363637,9.712121212121211,9.787878787878789,9.863636363636363,9.93939393939394,10.015151515151516,10.09090909090909,10.166666666666668,10.242424242424242,10.318181818181818,10.393939393939394,10.46969696969697,10.545454545454547,10.621212121212121,10.696969696969697,10.772727272727273,10.848484848484848,10.924242424242424,11.0],\"yaxis\":\"y\"},{\"hovertemplate\":\"label=Above<br>x=%{x}<br>y=%{y}<extra></extra>\",\"legendgroup\":\"Above\",\"marker\":{\"color\":\"#EF553B\",\"symbol\":\"circle\"},\"mode\":\"markers\",\"name\":\"Above\",\"orientation\":\"v\",\"showlegend\":true,\"type\":\"scatter\",\"x\":[0.2,0.6],\"xaxis\":\"x\",\"y\":[8.5,9.5],\"yaxis\":\"y\"},{\"hovertemplate\":\"label=Below<br>x=%{x}<br>y=%{y}<extra></extra>\",\"legendgroup\":\"Below\",\"marker\":{\"color\":\"#00cc96\",\"symbol\":\"circle\"},\"mode\":\"markers\",\"name\":\"Below\",\"orientation\":\"v\",\"showlegend\":true,\"type\":\"scatter\",\"x\":[0.2,0.6],\"xaxis\":\"x\",\"y\":[4.5,5.5],\"yaxis\":\"y\"}],                        {\"legend\":{\"title\":{\"text\":\"label\"},\"tracegroupgap\":0},\"margin\":{\"t\":60},\"template\":{\"data\":{\"bar\":[{\"error_x\":{\"color\":\"#2a3f5f\"},\"error_y\":{\"color\":\"#2a3f5f\"},\"marker\":{\"line\":{\"color\":\"#E5ECF6\",\"width\":0.5},\"pattern\":{\"fillmode\":\"overlay\",\"size\":10,\"solidity\":0.2}},\"type\":\"bar\"}],\"barpolar\":[{\"marker\":{\"line\":{\"color\":\"#E5ECF6\",\"width\":0.5},\"pattern\":{\"fillmode\":\"overlay\",\"size\":10,\"solidity\":0.2}},\"type\":\"barpolar\"}],\"carpet\":[{\"aaxis\":{\"endlinecolor\":\"#2a3f5f\",\"gridcolor\":\"white\",\"linecolor\":\"white\",\"minorgridcolor\":\"white\",\"startlinecolor\":\"#2a3f5f\"},\"baxis\":{\"endlinecolor\":\"#2a3f5f\",\"gridcolor\":\"white\",\"linecolor\":\"white\",\"minorgridcolor\":\"white\",\"startlinecolor\":\"#2a3f5f\"},\"type\":\"carpet\"}],\"choropleth\":[{\"colorbar\":{\"outlinewidth\":0,\"ticks\":\"\"},\"type\":\"choropleth\"}],\"contour\":[{\"colorbar\":{\"outlinewidth\":0,\"ticks\":\"\"},\"colorscale\":[[0.0,\"#0d0887\"],[0.1111111111111111,\"#46039f\"],[0.2222222222222222,\"#7201a8\"],[0.3333333333333333,\"#9c179e\"],[0.4444444444444444,\"#bd3786\"],[0.5555555555555556,\"#d8576b\"],[0.6666666666666666,\"#ed7953\"],[0.7777777777777778,\"#fb9f3a\"],[0.8888888888888888,\"#fdca26\"],[1.0,\"#f0f921\"]],\"type\":\"contour\"}],\"contourcarpet\":[{\"colorbar\":{\"outlinewidth\":0,\"ticks\":\"\"},\"type\":\"contourcarpet\"}],\"heatmap\":[{\"colorbar\":{\"outlinewidth\":0,\"ticks\":\"\"},\"colorscale\":[[0.0,\"#0d0887\"],[0.1111111111111111,\"#46039f\"],[0.2222222222222222,\"#7201a8\"],[0.3333333333333333,\"#9c179e\"],[0.4444444444444444,\"#bd3786\"],[0.5555555555555556,\"#d8576b\"],[0.6666666666666666,\"#ed7953\"],[0.7777777777777778,\"#fb9f3a\"],[0.8888888888888888,\"#fdca26\"],[1.0,\"#f0f921\"]],\"type\":\"heatmap\"}],\"heatmapgl\":[{\"colorbar\":{\"outlinewidth\":0,\"ticks\":\"\"},\"colorscale\":[[0.0,\"#0d0887\"],[0.1111111111111111,\"#46039f\"],[0.2222222222222222,\"#7201a8\"],[0.3333333333333333,\"#9c179e\"],[0.4444444444444444,\"#bd3786\"],[0.5555555555555556,\"#d8576b\"],[0.6666666666666666,\"#ed7953\"],[0.7777777777777778,\"#fb9f3a\"],[0.8888888888888888,\"#fdca26\"],[1.0,\"#f0f921\"]],\"type\":\"heatmapgl\"}],\"histogram\":[{\"marker\":{\"pattern\":{\"fillmode\":\"overlay\",\"size\":10,\"solidity\":0.2}},\"type\":\"histogram\"}],\"histogram2d\":[{\"colorbar\":{\"outlinewidth\":0,\"ticks\":\"\"},\"colorscale\":[[0.0,\"#0d0887\"],[0.1111111111111111,\"#46039f\"],[0.2222222222222222,\"#7201a8\"],[0.3333333333333333,\"#9c179e\"],[0.4444444444444444,\"#bd3786\"],[0.5555555555555556,\"#d8576b\"],[0.6666666666666666,\"#ed7953\"],[0.7777777777777778,\"#fb9f3a\"],[0.8888888888888888,\"#fdca26\"],[1.0,\"#f0f921\"]],\"type\":\"histogram2d\"}],\"histogram2dcontour\":[{\"colorbar\":{\"outlinewidth\":0,\"ticks\":\"\"},\"colorscale\":[[0.0,\"#0d0887\"],[0.1111111111111111,\"#46039f\"],[0.2222222222222222,\"#7201a8\"],[0.3333333333333333,\"#9c179e\"],[0.4444444444444444,\"#bd3786\"],[0.5555555555555556,\"#d8576b\"],[0.6666666666666666,\"#ed7953\"],[0.7777777777777778,\"#fb9f3a\"],[0.8888888888888888,\"#fdca26\"],[1.0,\"#f0f921\"]],\"type\":\"histogram2dcontour\"}],\"mesh3d\":[{\"colorbar\":{\"outlinewidth\":0,\"ticks\":\"\"},\"type\":\"mesh3d\"}],\"parcoords\":[{\"line\":{\"colorbar\":{\"outlinewidth\":0,\"ticks\":\"\"}},\"type\":\"parcoords\"}],\"pie\":[{\"automargin\":true,\"type\":\"pie\"}],\"scatter\":[{\"marker\":{\"colorbar\":{\"outlinewidth\":0,\"ticks\":\"\"}},\"type\":\"scatter\"}],\"scatter3d\":[{\"line\":{\"colorbar\":{\"outlinewidth\":0,\"ticks\":\"\"}},\"marker\":{\"colorbar\":{\"outlinewidth\":0,\"ticks\":\"\"}},\"type\":\"scatter3d\"}],\"scattercarpet\":[{\"marker\":{\"colorbar\":{\"outlinewidth\":0,\"ticks\":\"\"}},\"type\":\"scattercarpet\"}],\"scattergeo\":[{\"marker\":{\"colorbar\":{\"outlinewidth\":0,\"ticks\":\"\"}},\"type\":\"scattergeo\"}],\"scattergl\":[{\"marker\":{\"colorbar\":{\"outlinewidth\":0,\"ticks\":\"\"}},\"type\":\"scattergl\"}],\"scattermapbox\":[{\"marker\":{\"colorbar\":{\"outlinewidth\":0,\"ticks\":\"\"}},\"type\":\"scattermapbox\"}],\"scatterpolar\":[{\"marker\":{\"colorbar\":{\"outlinewidth\":0,\"ticks\":\"\"}},\"type\":\"scatterpolar\"}],\"scatterpolargl\":[{\"marker\":{\"colorbar\":{\"outlinewidth\":0,\"ticks\":\"\"}},\"type\":\"scatterpolargl\"}],\"scatterternary\":[{\"marker\":{\"colorbar\":{\"outlinewidth\":0,\"ticks\":\"\"}},\"type\":\"scatterternary\"}],\"surface\":[{\"colorbar\":{\"outlinewidth\":0,\"ticks\":\"\"},\"colorscale\":[[0.0,\"#0d0887\"],[0.1111111111111111,\"#46039f\"],[0.2222222222222222,\"#7201a8\"],[0.3333333333333333,\"#9c179e\"],[0.4444444444444444,\"#bd3786\"],[0.5555555555555556,\"#d8576b\"],[0.6666666666666666,\"#ed7953\"],[0.7777777777777778,\"#fb9f3a\"],[0.8888888888888888,\"#fdca26\"],[1.0,\"#f0f921\"]],\"type\":\"surface\"}],\"table\":[{\"cells\":{\"fill\":{\"color\":\"#EBF0F8\"},\"line\":{\"color\":\"white\"}},\"header\":{\"fill\":{\"color\":\"#C8D4E3\"},\"line\":{\"color\":\"white\"}},\"type\":\"table\"}]},\"layout\":{\"annotationdefaults\":{\"arrowcolor\":\"#2a3f5f\",\"arrowhead\":0,\"arrowwidth\":1},\"autotypenumbers\":\"strict\",\"coloraxis\":{\"colorbar\":{\"outlinewidth\":0,\"ticks\":\"\"}},\"colorscale\":{\"diverging\":[[0,\"#8e0152\"],[0.1,\"#c51b7d\"],[0.2,\"#de77ae\"],[0.3,\"#f1b6da\"],[0.4,\"#fde0ef\"],[0.5,\"#f7f7f7\"],[0.6,\"#e6f5d0\"],[0.7,\"#b8e186\"],[0.8,\"#7fbc41\"],[0.9,\"#4d9221\"],[1,\"#276419\"]],\"sequential\":[[0.0,\"#0d0887\"],[0.1111111111111111,\"#46039f\"],[0.2222222222222222,\"#7201a8\"],[0.3333333333333333,\"#9c179e\"],[0.4444444444444444,\"#bd3786\"],[0.5555555555555556,\"#d8576b\"],[0.6666666666666666,\"#ed7953\"],[0.7777777777777778,\"#fb9f3a\"],[0.8888888888888888,\"#fdca26\"],[1.0,\"#f0f921\"]],\"sequentialminus\":[[0.0,\"#0d0887\"],[0.1111111111111111,\"#46039f\"],[0.2222222222222222,\"#7201a8\"],[0.3333333333333333,\"#9c179e\"],[0.4444444444444444,\"#bd3786\"],[0.5555555555555556,\"#d8576b\"],[0.6666666666666666,\"#ed7953\"],[0.7777777777777778,\"#fb9f3a\"],[0.8888888888888888,\"#fdca26\"],[1.0,\"#f0f921\"]]},\"colorway\":[\"#636efa\",\"#EF553B\",\"#00cc96\",\"#ab63fa\",\"#FFA15A\",\"#19d3f3\",\"#FF6692\",\"#B6E880\",\"#FF97FF\",\"#FECB52\"],\"font\":{\"color\":\"#2a3f5f\"},\"geo\":{\"bgcolor\":\"white\",\"lakecolor\":\"white\",\"landcolor\":\"#E5ECF6\",\"showlakes\":true,\"showland\":true,\"subunitcolor\":\"white\"},\"hoverlabel\":{\"align\":\"left\"},\"hovermode\":\"closest\",\"mapbox\":{\"style\":\"light\"},\"paper_bgcolor\":\"white\",\"plot_bgcolor\":\"#E5ECF6\",\"polar\":{\"angularaxis\":{\"gridcolor\":\"white\",\"linecolor\":\"white\",\"ticks\":\"\"},\"bgcolor\":\"#E5ECF6\",\"radialaxis\":{\"gridcolor\":\"white\",\"linecolor\":\"white\",\"ticks\":\"\"}},\"scene\":{\"xaxis\":{\"backgroundcolor\":\"#E5ECF6\",\"gridcolor\":\"white\",\"gridwidth\":2,\"linecolor\":\"white\",\"showbackground\":true,\"ticks\":\"\",\"zerolinecolor\":\"white\"},\"yaxis\":{\"backgroundcolor\":\"#E5ECF6\",\"gridcolor\":\"white\",\"gridwidth\":2,\"linecolor\":\"white\",\"showbackground\":true,\"ticks\":\"\",\"zerolinecolor\":\"white\"},\"zaxis\":{\"backgroundcolor\":\"#E5ECF6\",\"gridcolor\":\"white\",\"gridwidth\":2,\"linecolor\":\"white\",\"showbackground\":true,\"ticks\":\"\",\"zerolinecolor\":\"white\"}},\"shapedefaults\":{\"line\":{\"color\":\"#2a3f5f\"}},\"ternary\":{\"aaxis\":{\"gridcolor\":\"white\",\"linecolor\":\"white\",\"ticks\":\"\"},\"baxis\":{\"gridcolor\":\"white\",\"linecolor\":\"white\",\"ticks\":\"\"},\"bgcolor\":\"#E5ECF6\",\"caxis\":{\"gridcolor\":\"white\",\"linecolor\":\"white\",\"ticks\":\"\"}},\"title\":{\"x\":0.05},\"xaxis\":{\"automargin\":true,\"gridcolor\":\"white\",\"linecolor\":\"white\",\"ticks\":\"\",\"title\":{\"standoff\":15},\"zerolinecolor\":\"white\",\"zerolinewidth\":2},\"yaxis\":{\"automargin\":true,\"gridcolor\":\"white\",\"linecolor\":\"white\",\"ticks\":\"\",\"title\":{\"standoff\":15},\"zerolinecolor\":\"white\",\"zerolinewidth\":2}}},\"xaxis\":{\"anchor\":\"y\",\"domain\":[0.0,1.0],\"title\":{\"text\":\"x\"}},\"yaxis\":{\"anchor\":\"x\",\"domain\":[0.0,1.0],\"title\":{\"text\":\"y\"}}},                        {\"responsive\": true}                    ).then(function(){\n",
       "                            \n",
       "var gd = document.getElementById('c021d471-f16b-4ca1-b581-e0473efde935');\n",
       "var x = new MutationObserver(function (mutations, observer) {{\n",
       "        var display = window.getComputedStyle(gd).display;\n",
       "        if (!display || display === 'none') {{\n",
       "            console.log([gd, 'removed!']);\n",
       "            Plotly.purge(gd);\n",
       "            observer.disconnect();\n",
       "        }}\n",
       "}});\n",
       "\n",
       "// Listen for the removal of the full notebook cells\n",
       "var notebookContainer = gd.closest('#notebook-container');\n",
       "if (notebookContainer) {{\n",
       "    x.observe(notebookContainer, {childList: true});\n",
       "}}\n",
       "\n",
       "// Listen for the clearing of the current output cell\n",
       "var outputEl = gd.closest('.output');\n",
       "if (outputEl) {{\n",
       "    x.observe(outputEl, {childList: true});\n",
       "}}\n",
       "\n",
       "                        })                };                });            </script>        </div>"
      ]
     },
     "metadata": {},
     "output_type": "display_data"
    }
   ],
   "source": [
    "px.scatter(data, x='x', y='y', color = 'label')"
   ]
  },
  {
   "cell_type": "markdown",
   "id": "0f4d2955-d323-4351-b216-c3f547c34e3d",
   "metadata": {},
   "source": [
    "## Fitting and Overfiting "
   ]
  },
  {
   "cell_type": "markdown",
   "id": "2d1e502f-4b12-4bf1-a981-7135b36e0830",
   "metadata": {},
   "source": [
    "The goal of the following exercise is to observe overfitting causes:\n",
    "* Overfitting due to insuffient data\n",
    "* Overfitting due to overly complex model\n",
    "\n",
    "\n",
    "For each below dataset:\n",
    "* Create data of size N with noise level of magnitude NL. \n",
    "* Split it to training and testing data\n",
    "* Choose a complex model of your choice: [KNN](https://scikit-learn.org/stable/modules/generated/sklearn.neighbors.KNeighborsClassifier.html), [SVM with RBF kernel](https://scikit-learn.org/stable/modules/svm.html) with different `gamma` values or [Random forest classifier](https://scikit-learn.org/stable/modules/generated/sklearn.ensemble.RandomForestClassifier.html) with differnt number of `min_samples_split`. \n",
    "* Train on the train test for different hyper parameter values. compute:\n",
    "  * Classification accuracy on the training set (TRE)\n",
    "  * Classification accuracy on the testing set (TESTE)\n",
    "  * The difference beteen the two above (E_DIFF)\n",
    "* Save N, NL, TRE, TESTE, E_DIFF and the regularization param (K, gamma or min_samples_split)\n",
    "\n",
    "Repeat for N in range 50 to 10000 and NL in range 0 to 0.5. Create a proper dataframe from the results and analyze:\n",
    "1. For a given noise level of your chioce, How does the train, test and difference error changes with increasing data sizes? \n",
    "1. For a given noise level of your chioce, How does the train, test and difference error changes with increasing model complexity? \n",
    "1. Select the best model param to fit the data (The one minimizing the test error) and for it, observe the number of data points needed for optimal test results in different noise levels."
   ]
  },
  {
   "cell_type": "markdown",
   "id": "ad8ffe8f-8c0b-4dc3-9cc2-9c3dc02852d7",
   "metadata": {},
   "source": [
    "## Moons dataset"
   ]
  },
  {
   "cell_type": "code",
   "execution_count": 6,
   "id": "7a6b4c61-454e-4887-963f-61d5ec6bc19f",
   "metadata": {},
   "outputs": [],
   "source": [
    "from sklearn.datasets import make_moons"
   ]
  },
  {
   "cell_type": "code",
   "execution_count": 15,
   "id": "7392ae8f-32a7-4c77-a5be-34043ecd09ec",
   "metadata": {},
   "outputs": [
    {
     "data": {
      "text/html": [
       "<div>\n",
       "<style scoped>\n",
       "    .dataframe tbody tr th:only-of-type {\n",
       "        vertical-align: middle;\n",
       "    }\n",
       "\n",
       "    .dataframe tbody tr th {\n",
       "        vertical-align: top;\n",
       "    }\n",
       "\n",
       "    .dataframe thead th {\n",
       "        text-align: right;\n",
       "    }\n",
       "</style>\n",
       "<table border=\"1\" class=\"dataframe\">\n",
       "  <thead>\n",
       "    <tr style=\"text-align: right;\">\n",
       "      <th></th>\n",
       "      <th>x</th>\n",
       "      <th>y</th>\n",
       "      <th>label</th>\n",
       "    </tr>\n",
       "  </thead>\n",
       "  <tbody>\n",
       "    <tr>\n",
       "      <th>0</th>\n",
       "      <td>1.754285</td>\n",
       "      <td>-0.260105</td>\n",
       "      <td>B</td>\n",
       "    </tr>\n",
       "    <tr>\n",
       "      <th>1</th>\n",
       "      <td>0.015481</td>\n",
       "      <td>1.006597</td>\n",
       "      <td>A</td>\n",
       "    </tr>\n",
       "    <tr>\n",
       "      <th>2</th>\n",
       "      <td>0.304888</td>\n",
       "      <td>1.017170</td>\n",
       "      <td>A</td>\n",
       "    </tr>\n",
       "    <tr>\n",
       "      <th>3</th>\n",
       "      <td>-0.081522</td>\n",
       "      <td>1.201588</td>\n",
       "      <td>A</td>\n",
       "    </tr>\n",
       "    <tr>\n",
       "      <th>4</th>\n",
       "      <td>0.833199</td>\n",
       "      <td>-0.431802</td>\n",
       "      <td>B</td>\n",
       "    </tr>\n",
       "  </tbody>\n",
       "</table>\n",
       "</div>"
      ],
      "text/plain": [
       "          x         y label\n",
       "0  1.754285 -0.260105     B\n",
       "1  0.015481  1.006597     A\n",
       "2  0.304888  1.017170     A\n",
       "3 -0.081522  1.201588     A\n",
       "4  0.833199 -0.431802     B"
      ]
     },
     "execution_count": 15,
     "metadata": {},
     "output_type": "execute_result"
    }
   ],
   "source": [
    "points, label = make_moons(n_samples=1000, noise=0.25)\n",
    "moons_df = pd.DataFrame(points, columns=['x','y'])\n",
    "moons_df['label'] = label\n",
    "moons_df.label = moons_df.label.map({0:'A', 1:'B'})\n",
    "moons_df.head()"
   ]
  },
  {
   "cell_type": "code",
   "execution_count": 59,
   "id": "092d0db7-b30e-4e5f-98c3-7807432f442a",
   "metadata": {},
   "outputs": [
    {
     "data": {
      "application/vnd.plotly.v1+json": {
       "config": {
        "plotlyServerURL": "https://plot.ly"
       },
       "data": [
        {
         "hovertemplate": "label=B<br>x=%{x}<br>y=%{y}<extra></extra>",
         "legendgroup": "B",
         "marker": {
          "color": "#636efa",
          "symbol": "circle"
         },
         "mode": "markers",
         "name": "B",
         "orientation": "v",
         "showlegend": true,
         "type": "scatter",
         "x": [
          1.754284929622062,
          0.8331985483597373,
          0.8368533540080276,
          0.2419417939851355,
          1.244787052101374,
          1.5687445640959932,
          0.1179096288750042,
          0.6103583059276844,
          -0.4108347899005145,
          0.25075414235068927,
          0.9045158973150147,
          2.14316623169803,
          0.7290840590914942,
          0.13603505309988953,
          -0.2775636017481287,
          2.185541860485186,
          2.1505473860597095,
          1.7953977187998609,
          1.6864291072658864,
          1.901553459759271,
          0.0326768880938631,
          2.0638352721738373,
          1.3849574531489008,
          0.258170119454468,
          1.7320394298429804,
          1.033321907149908,
          1.799983202958973,
          1.3982373702105975,
          2.030038776769734,
          1.2192217597011195,
          0.5023129808069464,
          1.6872044827540598,
          1.452063265088343,
          2.0699217379151387,
          -0.2392455555774336,
          -0.306068846000633,
          2.540460376101679,
          1.1731217038929769,
          0.964335010234957,
          0.7918736741813417,
          0.13228863902343518,
          0.13980531102771368,
          1.4069975679068079,
          0.1858160054563368,
          2.016048399442627,
          0.7129209183330762,
          1.9996755858929056,
          -0.2895965467180812,
          -0.25862038957866756,
          2.35029529818902,
          0.39172343424949974,
          2.1601127457241383,
          1.7023711749990467,
          -0.12292383551400227,
          1.0412307682164101,
          1.616312728449936,
          1.5028956166783352,
          0.8462974892761257,
          1.561057894261151,
          0.1566114302820966,
          0.22245077746383435,
          1.0545780311522515,
          1.1111404166793537,
          2.2645666284822767,
          -0.32561661739439124,
          -0.1992732386575244,
          2.0461963608469365,
          2.2479306894657665,
          2.0451571549350263,
          0.7300477159262672,
          1.4119362398905817,
          0.3104616437096451,
          0.36660348318300995,
          2.0482740502724863,
          0.5217500358286162,
          1.6751840541813512,
          1.455530931174126,
          0.3368360037036527,
          0.8739295315010374,
          1.9987350370050723,
          1.3979368786434145,
          1.931463657123824,
          0.059036579317673143,
          1.7320554938489954,
          1.6406365156668408,
          2.049087332681571,
          0.8991723935411289,
          0.39739324854332553,
          0.7523946910754318,
          0.066705101072382,
          1.5492302051840035,
          1.4527974944680973,
          1.6338020119909473,
          -0.032000257357626745,
          -0.17537018740133112,
          0.9387722996614584,
          1.3998585939464834,
          1.1350004163644243,
          1.9122058442008623,
          -0.6634027118976363,
          2.051532388352326,
          2.313934712978066,
          0.6255808191814298,
          1.3036567999342905,
          1.0855996441459768,
          1.665056358598854,
          0.0404067507960153,
          1.6354622612394003,
          1.959791825473686,
          0.0071207727317045555,
          0.2988115743290437,
          1.5424140703229026,
          1.7497133857163385,
          2.119110511657508,
          1.9708499002823732,
          1.465382131523104,
          0.09179591398517795,
          0.4559103840042003,
          0.3868673120039144,
          1.957188192930666,
          1.1964825526153275,
          0.767384734218657,
          0.8821578424593657,
          0.30879323207017784,
          -0.26525717084708234,
          1.6972718462715093,
          1.3723807911194696,
          0.47682240089230016,
          1.8253268181897768,
          1.7016000401339175,
          1.480821950227902,
          1.0692115658035408,
          1.4249797944337759,
          1.057018397993615,
          1.0623167533166773,
          -0.1792614836848827,
          0.39407744036658876,
          0.10465473097473965,
          1.4989928173184308,
          1.0513048988130718,
          0.6358148188931474,
          1.8799068254340985,
          1.0904778329091807,
          -0.10514180934029865,
          0.11909600657732863,
          0.15234254707378542,
          1.0729824367658485,
          0.017000197737199477,
          1.6220049264125351,
          0.5998340187232273,
          -0.01969765085886767,
          1.557675835510453,
          1.1629832647101352,
          0.14473521331731368,
          0.698117791257587,
          0.7857129240679537,
          1.9597311460370004,
          2.4920596596790814,
          1.2954392122339804,
          0.4031272838812196,
          1.2256271446601215,
          1.287379392757588,
          0.8764311690178167,
          1.5833145246520344,
          0.7940596334127032,
          2.2270371637629642,
          0.23226237274428954,
          1.676654106540283,
          1.8258450744952415,
          0.05121034944316288,
          1.6131031229369246,
          0.4273028907897319,
          0.5368813922547323,
          1.4429812204050927,
          0.09096161369109367,
          -0.2076255457529853,
          1.5081778158716554,
          2.209819275021594,
          1.7950209867735702,
          -0.041902783843571656,
          0.1300362518975915,
          0.8228009050830297,
          0.7844339903557385,
          0.9524851592982744,
          0.8277889760600718,
          1.827337454942267,
          1.2825293427778046,
          1.663695095915938,
          1.992165855056438,
          1.9425673456133274,
          0.29725855349386765,
          1.442417216397005,
          0.35081655365279574,
          2.3332830007188825,
          0.20190035506520324,
          1.0770066913774234,
          2.038892059888989,
          1.7361514850328583,
          0.09572393998312514,
          0.7757854042368193,
          0.4958047879996033,
          1.3508361048946032,
          0.7421157248034038,
          1.4957232520121502,
          1.9414975331179294,
          2.0099041598152043,
          2.0287687020366243,
          0.3051160400506275,
          2.249151683120402,
          0.39763520390543544,
          0.8599259364140641,
          1.6323593734993047,
          0.8692526869208319,
          2.1857493761147,
          0.8665382836735692,
          0.1437188894088743,
          1.7535445319591805,
          0.002475723804811425,
          1.1656694241845864,
          0.25546079114556514,
          2.2773917522247107,
          1.8055427755756324,
          0.41784140794722646,
          0.5858512827585421,
          0.0730110395458061,
          0.3962447345416178,
          1.838339053426973,
          0.5477427602241522,
          0.10483151020206721,
          1.5611585534430128,
          1.9041942760292583,
          2.5973994294796348,
          1.9044991714838992,
          1.3140089382374978,
          -0.15472844273937716,
          -0.2622166650293779,
          1.4228395667291414,
          0.827158649451509,
          1.5105048676438815,
          2.1066936445773665,
          0.9885004810884854,
          1.5829802503783283,
          2.135085892197133,
          1.4512827297844153,
          1.2289574814954514,
          1.3522930676130909,
          0.17213176328346327,
          -0.08745380850799916,
          1.7847288349965043,
          0.9724532869019591,
          0.7271310723045568,
          1.764269651165959,
          1.7549953365176354,
          1.763564196643288,
          -0.11492812967707888,
          2.199561047723404,
          0.13202408720377445,
          1.5878205482387555,
          0.09669611155050721,
          0.1370082856240417,
          0.5389177984255868,
          -0.2768237717465198,
          -0.14640835962956633,
          1.0893854444993707,
          0.9270658368923838,
          0.2964315238753441,
          0.5501786552859866,
          0.10455602908197881,
          1.302177826208521,
          -0.1707067427197162,
          1.0679030593840344,
          1.3355213981383474,
          0.2514310872972172,
          0.3798164583637995,
          -0.24507452763559967,
          1.9820931156118728,
          0.07936284648531272,
          0.6035011608517271,
          0.4574130296174548,
          0.24999199279575857,
          0.042343427830727955,
          1.6899505761281846,
          -0.19810762721349287,
          0.23640560891339768,
          0.7644368351012744,
          0.2781615776099135,
          0.8558436128341064,
          1.9451177719872,
          0.9787590545276429,
          -0.03614960436332046,
          1.454581328016712,
          1.4675492553227767,
          -0.09845541060868636,
          1.2033195562391814,
          1.2530093028608251,
          1.5766726055066427,
          1.2654795376885737,
          1.4816456481200735,
          0.9586013395781874,
          1.2658923084414244,
          2.2157849459930197,
          2.1096621951858316,
          0.4573700218247996,
          0.816692930475977,
          0.6870815777218663,
          1.5269360063641577,
          1.599715547559218,
          0.6084914651847935,
          0.8353533782006822,
          1.5519529417623927,
          -0.09330233712150436,
          1.8293490876559497,
          1.3192712126184774,
          -0.028664159739928585,
          0.1127697012685849,
          0.707510234997746,
          0.11923768484433844,
          1.1952878326567613,
          2.2180726317700694,
          -0.018534795900560397,
          0.04243226080584573,
          -0.0010903083999375118,
          0.5603791187265834,
          1.333876888653236,
          -0.04351927198928178,
          1.598533367603117,
          0.5073371953440291,
          -0.5829195242891863,
          0.31155433593208354,
          0.4446832603214064,
          1.0694672904821134,
          1.5165836856433998,
          1.9163038317146923,
          0.38678243307637666,
          0.47927372672265556,
          -0.07395522973313007,
          1.9172874930514179,
          1.6210726454658,
          1.838259352025244,
          0.7956174429726101,
          -0.029407158484897902,
          -0.06724332565554411,
          0.45480245726343993,
          0.16054380849485433,
          0.5743209934688069,
          2.3113009431822586,
          2.0579798525555653,
          1.6377863876383254,
          2.316366345871285,
          1.7596182885176472,
          1.971324139155188,
          -0.14417763039778375,
          1.7850038241020083,
          1.3339436911106357,
          0.21826277629832985,
          0.6888250979059629,
          1.769270603706244,
          0.5078567871152597,
          0.8455143057399486,
          0.3412076917894248,
          1.2221585985033538,
          0.39697271579063975,
          -0.042284389853606746,
          1.5923259371691738,
          1.030093204178407,
          0.8047645994812914,
          0.28843102994220426,
          -0.06905560266521739,
          1.7289177993738247,
          0.2750294211016245,
          1.5272950056786205,
          1.8242802132939107,
          1.6969833226197124,
          0.34152485007042044,
          1.2297454495005515,
          1.5758294606891854,
          1.488413616666993,
          1.7171221571766275,
          0.6146925103699286,
          1.6839243496029008,
          1.5704280097449725,
          0.6556592600520127,
          1.530940391430436,
          1.2792292573055648,
          1.7030859610271762,
          1.3336022502901226,
          0.2879586517191555,
          1.6471937788852289,
          1.3450213886439042,
          2.196896268505019,
          0.7852315974102251,
          0.7975178216745958,
          0.2761667323641057,
          0.6579982482284051,
          0.6712118342776475,
          0.6447525065406645,
          1.4159098260711906,
          -0.031706892651079524,
          0.7159156178278728,
          2.094647018232033,
          0.09704983183151702,
          -0.42634322342797193,
          0.13795120374814182,
          -0.11129532157314642,
          1.7934891655702887,
          0.40966006861403026,
          0.4061693957285751,
          1.6578226645052023,
          0.5568197505450521,
          0.8876258625621599,
          0.33060192838207486,
          1.046860080910184,
          1.097414452316488,
          0.27238440283386484,
          0.6623471056587368,
          1.573889601629334,
          0.10537058135348598,
          0.21851943006906427,
          0.4021626123817597,
          1.4963734914537923,
          1.4549695290851274,
          1.1718638342906338,
          0.6140503681535141,
          0.013071806577884565,
          0.043531665568669956,
          0.08288262262258367,
          0.20022435775592654,
          -0.21693415745747402,
          1.6282108795525971,
          1.0302372643669857,
          2.0581117981494104,
          2.0458942634686434,
          0.3898031105194476,
          0.6688899724174114,
          0.16798894517197427,
          0.4367430870772513,
          1.5930802212101285,
          1.8105730250595797,
          1.1808243414017767,
          1.157802978367514,
          0.3550398888266777,
          0.9397648407796979,
          1.9829978856957426,
          1.429794776435211,
          -0.09561819357454923,
          0.9859228362239179,
          0.8018302370351227,
          1.3046911974170825,
          0.8938064099119123,
          2.078052468599555,
          1.626433230599429,
          -0.05311654408410377,
          0.4465426567059309,
          -0.3953992298091947,
          -0.0890603672290972,
          1.4431882296866405,
          0.08814144347835123,
          0.5164640416307831,
          0.142960072028766,
          0.35705562323490114,
          1.3645562146809331,
          1.4304525836680826,
          1.9590268883576332,
          0.23298736091394323,
          0.18713593754374885,
          2.254562362109084,
          1.3079372117457557,
          0.19294482109323258,
          0.6567748771376105,
          1.3964939954435307,
          0.9226122894475197,
          1.877982525246542,
          1.3632792015826491,
          1.3945703799516806,
          -0.22127602360378448,
          0.3635867955658964,
          1.3536959327153697,
          -0.20831634784473013,
          1.741968322176297,
          0.7799774377868676,
          0.47144664677446635,
          1.1176485666976639,
          2.0992754370160593,
          1.5748503569739354,
          1.7818900660057897,
          -0.06670402504928077,
          2.2025031929441568,
          0.9150613802794717,
          2.089155647815403,
          2.348220719289893,
          2.112367445912382,
          1.8268509066201604,
          0.2687459204268844,
          1.631936290457895,
          0.02433261238554224,
          0.9253225371589242,
          0.7790492170200561,
          2.1493984186117303,
          0.25424429916873115,
          1.625288730923382
         ],
         "xaxis": "x",
         "y": [
          -0.26010470999058044,
          -0.4318020225168206,
          0.02423572598198301,
          -0.2131917626142879,
          -0.3994309843925242,
          -0.25089401641469045,
          -0.11636026380754991,
          -0.5131554573375003,
          0.27753325442611726,
          -0.09339066694891779,
          -0.6104198374910841,
          -0.16637148943180657,
          -0.6597059074157675,
          -0.049289794083259626,
          0.12814156900361864,
          0.8956042408156376,
          0.0007965464832384583,
          0.27375022282167427,
          0.3851164594674661,
          -0.6505854399789605,
          -0.32631063287287826,
          -0.06346166196519148,
          -0.2864793891573699,
          -0.3011186947875808,
          -0.16046389282813037,
          -0.6706661796010449,
          -0.4091455051846651,
          -0.15276155659251744,
          -0.2173009175682534,
          -0.4124740299818329,
          0.22941186336577735,
          -0.02659156925149625,
          -0.5455607355267548,
          0.19872905727782733,
          0.6790479324504946,
          -0.20401492176239033,
          0.09777997522077259,
          -0.6258149724495765,
          -0.3521492715335749,
          -0.7713175487343463,
          -0.15950016073021525,
          -0.3506546602447935,
          -0.2944589082569399,
          0.10578404766765971,
          -0.13786386329497952,
          -0.16441668835054996,
          0.292712663790207,
          -0.30644786278319824,
          0.3580075516180452,
          0.05652897610928026,
          -0.54495460007613,
          -0.2162961708984448,
          -0.41897656770327446,
          -0.3661682562339878,
          -0.3660771836486709,
          -0.5113760792151989,
          -0.5481654217081307,
          -0.8262962157412213,
          0.29993339859212365,
          0.2451905544724563,
          -0.464473279843772,
          -0.18049195749740526,
          -0.5788661261331973,
          0.2904187793967576,
          0.09020325791101001,
          0.6679804582788267,
          -0.48527128233904304,
          0.010475404400271796,
          -0.1894960274225612,
          -0.7470183897578839,
          -0.5277371412299715,
          0.3976945975500924,
          0.1314534782050305,
          0.10192178826346183,
          -0.33295842323346025,
          -0.5277277752436548,
          -0.48176072543627135,
          -0.21917842871136062,
          -0.351752602863737,
          -0.4989157370956111,
          -0.35879822304527054,
          0.2329024787899448,
          0.4370829665790721,
          0.5849862412129538,
          0.19441172277955165,
          0.606027503128496,
          -0.44171090592144624,
          0.16752901588476748,
          -0.6425154850097702,
          0.697931490198592,
          0.04934931481264358,
          -0.6679270991053897,
          -0.7021025670966994,
          0.4538300938231965,
          0.1809901466527678,
          -0.8346898927110871,
          -0.0956268496092984,
          -0.6553729166832336,
          0.09421696283831366,
          0.5520341063552275,
          0.3383497759191976,
          -0.2405060898513503,
          -0.12293455693064781,
          -0.22723327085698242,
          -0.7015911977762983,
          0.3774655266464838,
          -0.5049267102399297,
          -0.1177988638232261,
          -0.2232242764170843,
          -0.0859737156480721,
          -0.01994678974133174,
          -0.32577099313273944,
          0.517556184574484,
          0.2748509932183011,
          0.18600274693754695,
          0.16678883611896833,
          -0.10107963564215294,
          -0.10630013494827609,
          -0.2807767423556801,
          -0.2563468291438272,
          -0.41565412869968665,
          0.2630391339306843,
          -0.4481783936792154,
          -0.9343695210826024,
          0.3384311786473482,
          -0.246581913759782,
          -0.02769398892369873,
          -0.15146182713991913,
          -0.3614009202429036,
          0.4083158942602458,
          -0.30615556490236395,
          -0.408381133334891,
          -0.2786914841852415,
          -0.050687468174565986,
          -0.3961805145056127,
          -0.27944449598758636,
          -0.14028173597667004,
          -0.30760455109274387,
          0.002038634567375186,
          -0.7366696295929556,
          -0.551302627478936,
          0.22928781286441624,
          -0.37138538692375367,
          0.03896198304563704,
          -0.36138554626877406,
          -0.15030516010390396,
          -0.5259410525991925,
          -0.1548956653485744,
          -0.2226447037352358,
          -0.9122335119110188,
          0.016728856838716444,
          0.04922869217065173,
          -0.20920906018795266,
          -0.22001985671082352,
          -0.8112204821833068,
          -0.10923654077815692,
          0.5686837993171017,
          -0.09173473068691125,
          0.0681355526506976,
          -0.012114390678663545,
          -0.5639652787823174,
          -0.27468438488456515,
          0.4771273454260808,
          -0.07369538163144082,
          -0.3469120610614503,
          0.5912640089913834,
          0.04945530825971872,
          -0.16191932545935053,
          -0.2510976795487185,
          0.07590762438397029,
          0.30871481394974676,
          -0.40300488288236086,
          -0.4781674416968469,
          -0.42850739663734055,
          0.30752785054857107,
          -0.04813732473247491,
          -0.5086726769804744,
          -0.011560492277018955,
          0.11194814955454255,
          -0.23318207958331505,
          -0.28347426460508907,
          -0.5200763094261696,
          -0.45571685398225964,
          -0.5199244529696816,
          -0.3288629109308796,
          0.0915164069973742,
          -0.561916433091759,
          -0.16498541215823648,
          -0.3663471040309773,
          -0.1995960196254613,
          -0.031095252597150118,
          0.19535195830019,
          -0.5991540307743931,
          0.3354550191833211,
          0.4780019077586765,
          -0.6608971274602883,
          -0.04343637396472236,
          -0.7756606004519647,
          -0.03385603875871654,
          -0.8981020870626166,
          -0.45698786763843124,
          -0.27565287296272006,
          -0.7368618238298822,
          -0.4738481546525808,
          -0.23709174892766996,
          0.008404861875494551,
          -0.08021652218124656,
          -0.10191604703029393,
          -0.2860094301198574,
          0.10077955843919484,
          -0.43179628449429125,
          0.2654561886856214,
          -0.4426645146441166,
          0.0565996320194595,
          -0.21829416877853208,
          -0.2186179021793827,
          -0.26304688570919815,
          0.2342444288754441,
          -0.6044190793317853,
          0.02102484027855067,
          0.3797799102077081,
          0.2984679250834663,
          0.7813793536042777,
          -0.755811020932546,
          0.2593431732972308,
          0.6016447566762075,
          0.38270638671183244,
          -0.466013868233072,
          -0.22775344973257358,
          -0.08100775029296559,
          0.1269270869893963,
          0.38269152393743383,
          0.201836354021661,
          0.3486314698083766,
          -0.1096083763895474,
          -0.1968944008473151,
          -0.7669812811219257,
          -0.6587720005279609,
          -0.5777681595908468,
          -0.17619357428579244,
          -0.7184247802448293,
          -0.8440402754516867,
          0.04734336372872602,
          -0.18077210193890605,
          -0.23342060805143253,
          -0.27032213496655966,
          -0.3942581201551368,
          -0.11838379611179109,
          0.5311875835391279,
          -0.7626182114570516,
          -0.4819251467522101,
          0.5191166938377737,
          -0.001547812331870263,
          0.7949610665293425,
          0.348951194368381,
          0.2383766542707446,
          0.045447136782169106,
          -0.08244120525894537,
          0.5725488201575912,
          -0.4843871547132782,
          -0.036808250771248316,
          0.36481597729980175,
          0.3113039376761864,
          -0.6945843997735137,
          -0.25919120364437587,
          0.651395584129409,
          -0.44327373608842086,
          -0.6367949875229317,
          0.07012566626530958,
          0.3977338761706434,
          -0.734850385563751,
          -0.266585933448482,
          -0.12236973663879365,
          -0.21671524363000294,
          0.15808521410199164,
          0.15075661273586977,
          -0.5253734461429489,
          -0.4858555025848877,
          -0.24628333030861377,
          -0.2556024712904822,
          0.019895850933055834,
          0.34335009283142226,
          0.3683132794734153,
          0.5514672028880601,
          -0.5109280789890555,
          -0.5385702198525284,
          -0.2607049884844342,
          0.5394877146355027,
          -0.3857621166077328,
          0.2738435500174534,
          -0.5609439174604037,
          -0.7696776323256437,
          0.4059692097361854,
          -0.20278477810829543,
          -0.5151330105093528,
          0.0344658818913878,
          -0.1760428848106682,
          -0.18822467705450968,
          -0.5449596209598337,
          -0.3568781539323355,
          0.25917313962966637,
          0.33079046365607645,
          -0.698350518334424,
          -0.3997592702983418,
          -0.4568885634726549,
          -0.18161049303829627,
          0.11594427150280784,
          -1.4453847081763449e-05,
          0.06672388844388111,
          0.1320639775219527,
          0.26458708666092334,
          -0.36624008852951656,
          0.12603690876595175,
          -0.3697254702209202,
          0.6242275251780893,
          -0.559142914257049,
          -0.012185139968522107,
          -0.26817916281985754,
          0.0653213722847976,
          0.09775847900985851,
          0.7094511083415985,
          -0.3647656316652232,
          -0.2453147465634962,
          -0.41729346030244485,
          0.07442077619245291,
          -0.3315578083089725,
          -0.6362736462812144,
          0.3362421365513373,
          -0.336969676948015,
          -0.1320701337495889,
          -0.7439424688715606,
          -0.1452804249421858,
          0.7225082690732423,
          -0.3454489289627108,
          -0.2251241049451645,
          -0.4335900024154269,
          -0.28407838970600086,
          0.37331478489254516,
          0.24435448261755985,
          -0.22353340749024464,
          0.16261681998914032,
          0.6463468064575013,
          -0.29712222740641764,
          -0.29496316635703745,
          -0.5015687443183454,
          0.09320009903932133,
          0.330685120298047,
          -0.34745561055642565,
          0.08949624881516755,
          -0.05636347095573574,
          -0.6365353711265352,
          0.20966007659915542,
          0.18316884476795026,
          -0.252036531317679,
          0.5768224062190709,
          -0.2786110399984124,
          -0.04106008388021777,
          -0.18718687363936742,
          -0.5094873044413845,
          0.2894159438004882,
          -0.819180610661498,
          -0.8937080117978731,
          0.1498280489878501,
          -0.034206290551434426,
          -0.43029158037139714,
          -0.3980036201617091,
          -0.1698128902915318,
          0.6911397325703214,
          -0.4321097906179603,
          0.5245130848325015,
          -0.3748175925815007,
          -0.1802041095732393,
          -0.1212313289274473,
          -0.11212723161537617,
          -0.19825933409386162,
          0.19168093648483467,
          0.04857759838659714,
          -0.09310139657500449,
          -0.8506177302252713,
          0.2576032738700644,
          -0.8436190674995219,
          -0.6740459441441434,
          -0.27621191462023553,
          -0.46978548642843915,
          0.21202565630116826,
          -0.6777144485454673,
          -0.044531817742094165,
          -0.5051313324810739,
          -0.46391010518433085,
          0.0781506782594103,
          -0.5987221534923779,
          -0.670143827004158,
          0.4044580239596173,
          -0.5262658147699399,
          -0.7616600897917072,
          -0.4946245820590276,
          -0.8642687263903002,
          -0.054226351446459126,
          -0.8994766783756936,
          -0.17035573143881566,
          -0.21515043963548786,
          0.017955627729970947,
          -0.13896998590950616,
          0.4772344880318472,
          -0.4815133963056675,
          -0.5402130056761758,
          -0.3138235190038849,
          -0.3199720406127945,
          -0.7400204688872329,
          -0.09396743222395837,
          0.3281170825451041,
          -0.49088209282674017,
          -0.5912701292500327,
          -0.40424856282387367,
          -0.3594892214216676,
          0.17020496441903854,
          -0.6008949195484361,
          0.19240835247397692,
          0.11218506677497829,
          -0.31998657641969264,
          -0.03448901435946872,
          -1.0721244737623667,
          -0.35591831404249985,
          -0.07160795866737635,
          -0.21594371128971984,
          0.5913534039669615,
          0.6627682174868199,
          0.14187469439968992,
          -0.015611232590386215,
          -0.5842143678955686,
          0.18331250961150541,
          0.6385226175467971,
          -0.4802504300640587,
          -0.3754717495861316,
          -0.13634625494410257,
          -0.11801519290544116,
          -0.3692109838247746,
          -0.20487499010832036,
          -0.5143341392327095,
          -0.005513170475270557,
          -0.11274009081770237,
          -0.5237024408864226,
          -0.5379206074168985,
          -0.18234885885137264,
          0.031662387690090464,
          -0.7423881837338833,
          -0.29875244485903196,
          -0.2919915427504664,
          -0.24195899560715195,
          -0.034246839962278675,
          -0.6085927201181417,
          0.5232034023002919,
          -0.10058076318959586,
          0.20231366524969313,
          0.5504739927000922,
          -0.32252478958538316,
          -0.47646421880847173,
          -0.2966787393544851,
          -0.04086851866182231,
          0.19119558163834954,
          -0.8083047820378004,
          -0.6673038898497698,
          0.04467805472370828,
          -0.08396600106053048,
          -0.24746361163701275,
          0.7479204334218715,
          -0.7705105238404478,
          0.3246029140323328,
          -0.4070774908018516,
          -0.9923649139305097,
          -0.3520174405865697,
          0.14100786389142222,
          -0.7522737060048755,
          0.10964428984022984,
          0.1939531168231918,
          -0.29660132835805547,
          -0.7052243716252896,
          0.08767535136095908,
          -0.11236155499059874,
          -0.23259908416795075,
          -0.6576272949137789,
          -0.4808525145275289,
          -0.2536587363261047,
          0.3696397724558989,
          0.33435755941137635,
          0.10598613331351793,
          0.08328441282583196,
          -0.14216831211331216,
          0.761666654814243,
          0.05371475504998785,
          -0.04469293663721406,
          0.1282081472554381,
          -0.38289944489173844,
          -0.07912648173017667,
          0.38837140620577215,
          -0.6128868592641253,
          -0.5491714184545096,
          0.35990044697572904,
          0.5419733011395579,
          -0.1473122265457688
         ],
         "yaxis": "y"
        },
        {
         "hovertemplate": "label=A<br>x=%{x}<br>y=%{y}<extra></extra>",
         "legendgroup": "A",
         "marker": {
          "color": "#EF553B",
          "symbol": "circle"
         },
         "mode": "markers",
         "name": "A",
         "orientation": "v",
         "showlegend": true,
         "type": "scatter",
         "x": [
          0.015480955909198013,
          0.3048878364678813,
          -0.0815223922685014,
          0.14984191347338344,
          -1.2828783017398353,
          -0.38370685989533293,
          -0.1471058175154938,
          -0.2040719149800806,
          0.3815211564594495,
          -0.6487439796579885,
          0.9277032151189764,
          -0.29552015209626453,
          0.4674698388111975,
          -1.064053583845928,
          0.6765411494432476,
          -0.29186159314201787,
          -0.8595024624174787,
          1.194539740871811,
          -0.0017712798468892954,
          -0.42834842583124894,
          -0.4764370681422008,
          -1.016977168507209,
          0.7093846803828265,
          -0.7184515051168083,
          -0.48849524940617983,
          0.16380163480859825,
          1.2459463137566922,
          0.5377000668641831,
          0.19891528546436815,
          -0.13646103784401772,
          0.28367770074472654,
          1.0324336923524962,
          -0.2844757009438593,
          1.186219414320101,
          0.8074253601397307,
          -0.8003745459123892,
          1.1007715458317335,
          0.9910556383759392,
          1.0451460226195768,
          -0.2640966833960715,
          -0.22246005480883202,
          0.6954305046204041,
          0.05159043654844939,
          0.42943958865491594,
          0.711521147620578,
          -1.119213655492875,
          0.0440519104539992,
          -0.7079827576018546,
          -0.014803570890308641,
          -1.2691941782317129,
          -0.499926069352137,
          -0.7546932880863826,
          -0.3843934771341603,
          -0.4616836755959002,
          -0.6365899372233377,
          -0.3437295124945413,
          0.8635364433261998,
          -0.8351876852779063,
          0.3733763814859551,
          -0.9124335694145518,
          -0.9050040631192185,
          -0.41324711274690523,
          -1.0015279597820839,
          0.11894032517623254,
          -0.8391633365166422,
          0.31201692629504274,
          0.9512347287944152,
          0.4951055765760516,
          -1.153125479471856,
          0.5215118434076266,
          0.531988590664422,
          -0.7136922140608212,
          0.07240324271515665,
          -0.4178166295458849,
          -1.1966237469804302,
          0.7269451196452364,
          0.7522806915663347,
          0.5148086701466191,
          -1.063025232272374,
          -1.2716425611691282,
          1.1569850584831494,
          1.0543149011973962,
          -0.06632566218403516,
          0.7371768570682324,
          -0.14875955716343184,
          0.01052014964459503,
          -0.5227540111855389,
          0.3701869589048078,
          -0.9891287176641587,
          -0.4739066854243607,
          -0.38102445774459515,
          0.7125149281417359,
          -1.0430465594571579,
          -0.5458432127291295,
          0.9481810690507758,
          -0.16395355385519317,
          0.015416946227881534,
          0.3808754039260769,
          -0.9456694529321458,
          1.114920308872748,
          -0.7950648380083564,
          1.2640553466025035,
          0.10163433311629771,
          -1.2237869044514118,
          0.7126573895328092,
          0.7838618351334116,
          1.304683411391581,
          0.40243086202403766,
          0.7334440241094579,
          -0.8399326041151358,
          0.3250175567859504,
          0.12199716663998553,
          0.5540405057133252,
          -0.6984538799501778,
          -0.09243040117839371,
          -0.35216954125529265,
          0.1614478676014141,
          -0.44006785208410204,
          -0.9933643146586932,
          -0.08809933720433255,
          -0.984320586649909,
          1.1590431128270446,
          1.4013153544378016,
          -0.5279706764796841,
          0.0797556450096682,
          0.4664597707819111,
          1.0345235812662046,
          1.5206627913740876,
          0.07565627536540542,
          0.47863378626428826,
          1.1804789781466176,
          -0.2472753299200354,
          0.06447887548811004,
          -0.5689115940222935,
          0.641037705195849,
          1.086413517441922,
          -1.038479569519913,
          1.078836401106273,
          -0.7301615195051845,
          0.8235348449844053,
          -1.3190130003008909,
          -1.069018970139501,
          1.0768305514774223,
          -0.5290440183124425,
          -0.2956517376051143,
          0.8071278223960963,
          0.5465689113565191,
          -0.5794460834083729,
          -0.9062185244011346,
          0.44651708300228654,
          -0.9425061934030301,
          -0.4059410210065884,
          -0.43740746211463166,
          0.7754524909527197,
          -0.9277762596815061,
          -0.7962940798281396,
          0.05260430732203791,
          -0.3650659601734163,
          -0.7993079789842892,
          -0.10885399796292627,
          -1.1668387301479732,
          -0.39506106615765013,
          -0.057560349238062636,
          -0.672582631405386,
          0.020540518554147347,
          -1.0108891115325982,
          1.3777414678482733,
          -1.0380806709402792,
          0.6935723147892585,
          -1.2703086712770788,
          -0.8699622739463135,
          1.1057958797716925,
          0.8186226342157972,
          0.7492654002062303,
          -0.6554244392039525,
          -0.8945698397812429,
          0.7904562864948383,
          1.291392626192346,
          -0.6270208084233202,
          -0.35414438601250176,
          -0.36734400530812794,
          1.1954638128483652,
          0.06517268010585225,
          -0.5184554578479164,
          0.6489249849379757,
          -0.7856013269850082,
          -0.989216436789379,
          0.2914373114415275,
          0.3992042708903619,
          0.930617978677942,
          1.0012505670031437,
          -0.8216138300652754,
          -0.12487425018239726,
          -0.7198117262276464,
          0.37568531431217217,
          1.274486789150005,
          0.6422162142861194,
          -1.2932103742863468,
          1.0320212272283074,
          0.5939151825369673,
          0.41971327734761554,
          -0.23740853022333155,
          0.24069914132991657,
          -1.057364151763499,
          -0.5938705127013415,
          -1.2431413627092518,
          -0.33869164911492483,
          -0.7330261906090078,
          0.9542685114229795,
          1.1982039213213986,
          0.38110611587162546,
          -1.5831083922527114,
          -0.6636491479991972,
          1.3023341219486781,
          -1.0249419920903708,
          -1.2498520044819545,
          -0.07884226642691516,
          -0.6864273940172954,
          0.6361415340160806,
          -0.7327060518447173,
          0.2209730617033703,
          0.3233322943913309,
          0.7244485341373301,
          0.3977677774680105,
          -0.13710937435703396,
          -0.15781611318362676,
          -0.7865533292783238,
          -0.5751881583423275,
          1.1741854371276772,
          -0.6838201747974808,
          1.4618103414938797,
          -0.8341200975481142,
          -1.3500804268101603,
          -0.411398595115449,
          0.025813477725316614,
          1.0817370154315364,
          0.8778679635103954,
          -0.5466394437908982,
          0.08873947729334941,
          -0.34418655128370934,
          -0.7173089530077157,
          0.7195059194720533,
          -0.8458753406984929,
          -0.5894833388599678,
          0.701816140234276,
          -0.5177684971180758,
          1.2081064087481173,
          0.8445416757275923,
          -0.24888065362224476,
          0.8390668191997182,
          -0.9726760201960699,
          -0.00455553369805356,
          -0.7412349476755493,
          0.8247828600723066,
          1.5309533362693128,
          -1.3784802645475351,
          -1.080339196392167,
          0.6032965552082864,
          -1.2288394487879926,
          0.8350778262445333,
          0.6263760768006982,
          -0.8818257198548213,
          -0.4785832187972555,
          0.6782801100784889,
          0.1822995305248647,
          0.013395987655477115,
          1.114630776785646,
          -0.2952311853834194,
          0.5645986687122435,
          0.16658463643558194,
          0.7817479686949003,
          -0.503321931517426,
          0.5817699328187049,
          0.41648168473445574,
          0.22039998910322564,
          0.41803251859791457,
          0.42808793563274794,
          0.8206418003671929,
          1.1453747556845721,
          -0.9958011984882507,
          -0.8683279754389164,
          -0.010417446508963868,
          -0.30686949740129915,
          0.5041923189061328,
          -0.09650113282730861,
          -1.048886524636635,
          0.9366675581599455,
          1.0402771252142662,
          0.8308903905527757,
          -0.4951482172199076,
          -0.8860093871478052,
          -0.09760775637805458,
          -0.8385367170183455,
          0.13115619474597734,
          -0.380102249425841,
          -0.8909787922837775,
          -0.8632793294670478,
          -0.6635657247962665,
          0.9872828996958465,
          -0.6469529595938923,
          0.23311254204755052,
          0.1459925664155879,
          0.549220667963146,
          -0.18058076238901183,
          0.11866197259195288,
          0.930265943379712,
          -1.221824973824312,
          -0.6969365975157635,
          -0.8175461129629413,
          0.1961409286866172,
          0.7029107353444926,
          -0.1626358153416299,
          0.821205050767111,
          -0.5540280083898097,
          0.6167938607762266,
          -0.33184218413802685,
          1.2697206083305894,
          -0.5144743160236787,
          -0.6703694814123025,
          0.34322081960705786,
          1.0915913540558362,
          0.25884851050472174,
          -1.459823108897868,
          -0.9960846519654054,
          -1.1581848629435179,
          -0.5775976250552135,
          -1.15898774151384,
          -0.1552651823740106,
          0.7042803796951517,
          0.013476222666819027,
          -1.0024883268160565,
          1.7666183750017121,
          -0.3273252997649854,
          -0.9004747634798366,
          -0.25337978072176837,
          -0.023120259332582382,
          0.7656830400470235,
          -1.107575357534012,
          0.13728050453900634,
          -1.2912137543056317,
          -0.8451049894404072,
          0.7861221959056622,
          -0.660808596974748,
          -0.13566251840641008,
          0.06011000044271263,
          -1.030139036722925,
          0.24227544573711227,
          -0.6048625013917341,
          -0.8726436908197143,
          -0.7391521549719381,
          0.7502827942689465,
          0.6556919166479561,
          0.5552869459756291,
          -0.333928082590945,
          0.5901802228372278,
          -0.7914856382452025,
          0.9710709004767639,
          0.7467873010400085,
          0.7468937480979275,
          0.6223853283144115,
          -0.3790116338756551,
          0.5807371022198944,
          -0.5911718539830015,
          -0.6146818162400405,
          -0.6120289436827556,
          -0.22447418734140528,
          1.0870112515487373,
          0.8445200322008912,
          -1.113000574750649,
          -0.6744364652850401,
          0.8174527215537984,
          1.131452537105046,
          -0.8344636585725467,
          0.8760231449670731,
          -1.0135589423407447,
          -1.2760986497842253,
          0.39734113536128246,
          1.2317651875777105,
          0.712559364358921,
          -0.8797746227197175,
          0.07606486510222935,
          0.09327439039469658,
          -0.09063618775917845,
          0.26219675691387456,
          0.8053502195419593,
          0.49345338133125677,
          0.5482613110909483,
          -0.24985668293816332,
          -0.5771320107582594,
          0.2510681906267235,
          -0.29887813275988523,
          -1.1041963289446548,
          -0.6065911675336684,
          0.024871212963119227,
          0.9181086791743074,
          1.0375440932962776,
          0.34713862547687296,
          0.8621865283279206,
          -0.012197973957884682,
          -0.3760291608917973,
          0.3325413558924207,
          -1.4002960768119566,
          0.8506775126050313,
          -0.5382533935473046,
          0.3493418641348333,
          -0.6761823714538402,
          -0.020827829306111684,
          0.8223735514367065,
          0.4456809385139435,
          -0.3278709511012268,
          -0.6779046975287288,
          0.5362316126201045,
          0.33510889030371793,
          0.9292303959040477,
          -0.8356809478240244,
          -0.7579179827673699,
          0.47298081443658185,
          -0.7182951534857882,
          -0.4583882217215633,
          -0.7570210841873766,
          -0.31853719386422746,
          -0.660049748040102,
          1.1172408631135606,
          0.4765671735843512,
          1.1810457324205499,
          0.7353140874516786,
          0.5139457119019955,
          -0.19988074623665258,
          -0.9591104841689486,
          0.8952686008721763,
          0.3592056452064009,
          -0.8019526477446707,
          -1.4478963448638043,
          -0.5420464428687576,
          0.8382330924025775,
          0.5303656806901821,
          0.23323964425388927,
          -0.8625398429407305,
          0.8706346240197045,
          0.0371702875691422,
          -0.1641608343482503,
          0.25133306954764495,
          0.16289717407773935,
          -0.3520992982903526,
          0.5452475992117617,
          1.1973664852633528,
          -0.7173080539298864,
          0.03721308531864914,
          0.9874842072929195,
          1.069648912328611,
          0.395925400587234,
          -0.873313532779737,
          1.3094605085394821,
          0.3851366393798294,
          1.317030675772041,
          -0.5110526560712882,
          0.9675442012044194,
          0.03683307451321023,
          -0.6359105505835038,
          -0.7257338805851751,
          1.049818897423586,
          0.7395180612773966,
          0.004691064738261225,
          1.0677201515756352,
          -0.9310384022079867,
          0.6157793202206612,
          -0.42455908162648553,
          0.8119302193923927,
          -0.21269205039606404,
          -0.028767133408772877,
          0.05137477171163102,
          0.6010767859090678,
          0.6978282485451807,
          0.340946414285593,
          0.3292785408656717,
          0.7611999495801637,
          -0.6882778202888977,
          0.8598454735491728,
          -0.9219284799745512,
          0.6391112672259216,
          0.9345422865092973,
          -0.8955114742313512,
          -0.7063810512514622,
          -0.2645307498897245,
          1.6048910983610474,
          0.8681151223935574,
          -0.8800585209285023,
          1.2048336199139051,
          1.3157120193508196,
          -0.9875906070561506,
          -0.7925587367136491,
          1.0796806095269345,
          0.5811473225482269,
          0.31186732505094006,
          0.3815565453617238,
          1.1110219254965361,
          -1.1582774127110353,
          -0.793416976825472,
          -0.7089664240187931,
          -0.7039803553098072
         ],
         "xaxis": "x",
         "y": [
          1.0065968524879714,
          1.0171702270862526,
          1.20158759252147,
          0.6333331242677738,
          0.2125478815008086,
          1.280198284631695,
          0.29635745632555777,
          0.7925721447830874,
          0.7306975861542878,
          0.6796883983717265,
          -0.135504497159733,
          0.9757621024968184,
          0.8290174625685236,
          0.6414675927738203,
          0.6349239082415875,
          1.114308909563242,
          0.08685235477396594,
          0.3634691789469845,
          1.2465537766899273,
          0.7578715007714598,
          0.7347891887172938,
          0.038210795862316765,
          0.23883037771389537,
          0.5858744818562349,
          0.9860933982367375,
          0.7617576874595537,
          -0.30787091385539433,
          0.9697170484870732,
          0.8222621155914598,
          0.7090223546576256,
          1.409415993761654,
          0.4563721128418081,
          1.3812356450661674,
          0.007791251769063534,
          0.6304491676474191,
          0.2479129976383632,
          0.08173803921033171,
          0.37197765698709195,
          0.8157639377640636,
          0.7767753621731563,
          1.5290682907250517,
          0.6532668959136465,
          0.5755901851844195,
          0.8701370085801587,
          0.015290902061648695,
          -0.09907506419158922,
          1.0093344797858363,
          0.3139686962853766,
          1.1774912957725494,
          0.22664505666002338,
          0.5795566299580488,
          0.6111359185844636,
          1.1755353957740309,
          1.3217139183906448,
          0.48506791925409554,
          0.9347350191076317,
          0.7735123793918941,
          1.2783238267729886,
          0.29712153918181317,
          1.1699533668865192,
          0.7667802371117919,
          0.8819963944417522,
          0.7583417401057894,
          1.0038736786050118,
          1.178876841383642,
          0.622550357515484,
          0.5950948580501783,
          0.31211355712005046,
          0.43250533253178425,
          0.8535321111103437,
          0.9829771714668969,
          0.6197950788756996,
          0.36934013913216224,
          0.30503087768500176,
          -0.12841865424172028,
          1.3966986352289492,
          0.006471813734735446,
          1.3102510832782592,
          0.24226634215817316,
          0.30351361859625364,
          0.4703304864712089,
          0.4600362187747672,
          1.3074120663963402,
          0.8842488319564379,
          0.9071352595126134,
          0.754719189365983,
          0.9765089940735201,
          1.0094852944088792,
          0.48736255326075345,
          1.1658717415537205,
          0.722067441248708,
          0.048054175822113576,
          -0.8333094515235724,
          0.9376218370787216,
          0.5738990502998076,
          0.7893354746076441,
          1.095899934008432,
          0.8020133425397656,
          0.2231437885766678,
          0.4061249989206335,
          -0.05536473471505521,
          0.5399877780277886,
          0.22621421884363724,
          0.26317945272224186,
          0.46844548491764526,
          -0.37169793359589803,
          -0.01367872926152231,
          1.0640404900118448,
          1.0892974739695656,
          0.07578802056645245,
          0.7362999565569504,
          0.6684254513418529,
          0.6339034059403647,
          0.470638231320221,
          0.7933488948901055,
          1.1950627014071058,
          0.7074925758911783,
          0.5183771264309006,
          0.3267318938764934,
          1.1379651571212273,
          0.3001870742002954,
          -0.2835888720566169,
          0.0009281404675577365,
          1.263399886248787,
          0.7013021781149065,
          0.7789709560911988,
          0.6523004375514826,
          0.6569215738365661,
          0.8990227606251677,
          0.8578132950344388,
          -0.1579858333386313,
          1.0799228461710282,
          0.7750960259180482,
          0.4420730712956803,
          1.200593919876757,
          0.8219910389849263,
          1.03822985146456,
          0.37224713957651995,
          1.2401756344665507,
          0.4248396690692616,
          0.19164070867560518,
          0.058811034313316975,
          0.13697748863448783,
          0.7502516068754757,
          0.38714905271259153,
          0.06699542761721444,
          0.8916939369762062,
          0.944884570767514,
          1.431794556451135,
          1.1716850654606366,
          0.19637106785708802,
          0.9636610417126796,
          0.7530629931625458,
          0.13195630800005897,
          0.44657438581762904,
          0.3839022333681026,
          0.4393647659807478,
          1.0722743376429906,
          0.9877079311386716,
          1.0039912446001282,
          0.22067799640569144,
          0.6385350101709878,
          0.770368839721017,
          0.6670479482077842,
          1.3942861601805805,
          1.157238150119428,
          -0.1061643819410587,
          -0.01655648834318115,
          0.3291466778296539,
          0.34747377123653683,
          0.1448958292788925,
          0.6062793934976574,
          -0.17441407667243347,
          0.7229666142237897,
          0.27573304935126297,
          0.4698129460598526,
          0.7837122803266744,
          0.3906037151593795,
          0.5077148879578989,
          0.703703552195851,
          0.945968737924736,
          0.3437648167226842,
          0.6027074457159534,
          0.8070071461376334,
          0.9446317331458772,
          1.0042677506092024,
          0.1892306774797179,
          1.6701903793383202,
          0.7164761440029283,
          -0.06062646568658031,
          0.22356323925635496,
          0.892805169233396,
          0.7419102709390383,
          1.1564490482078782,
          0.5421777342819156,
          0.08498841493450224,
          0.1554239936920106,
          0.39686570277157257,
          0.1522324131600028,
          0.42345581846505853,
          1.1879795452974693,
          0.6817447417244655,
          1.0877922102074196,
          0.19312301015333014,
          0.4799230901926245,
          0.8182674211496932,
          1.2707234726991157,
          1.0007374860486935,
          0.34693923565561346,
          0.13945014135338477,
          1.3553595518314554,
          0.3757930558158305,
          0.8399437510109901,
          0.4614349055989916,
          0.17370182312381305,
          0.22512929763363715,
          0.8689359003803145,
          0.4474050550172103,
          0.8503081878775532,
          0.6254022936465955,
          1.339909611670123,
          0.9445897708131988,
          -0.26523279121063187,
          0.7073502069937239,
          1.4735157401240824,
          0.7972715853275336,
          0.006184573137060834,
          0.5675967343788337,
          0.4115737727348662,
          0.287160999545227,
          -0.051992972617068645,
          1.0027281869763167,
          -0.2591579209804253,
          0.952546473032348,
          1.5329029568011836,
          0.48854671973666297,
          0.8276257113148496,
          0.7394771159857673,
          0.7215385838127175,
          0.4364617134683584,
          0.3159930836434567,
          0.5370625775884162,
          0.36089415456344115,
          1.047614378601507,
          0.14050627847159747,
          0.9208906072518869,
          0.06901207177517929,
          -0.14947385918238548,
          0.7453674919805858,
          -0.029408525258042217,
          -0.03209168632976625,
          0.7114122824899414,
          0.31653179142602283,
          1.331377188675935,
          0.9207912259237464,
          0.09790686358390654,
          0.4557014751297035,
          1.0329106608249734,
          0.5997788517029743,
          1.0750385101494875,
          0.13314617595449285,
          0.8028022441813287,
          0.23119764263956566,
          0.8779632185943482,
          0.2771360835967091,
          0.5252699210999217,
          0.5269678589357516,
          0.9390991546743886,
          0.5963393828508513,
          1.016506949238502,
          0.6251111386313408,
          0.19053415674698976,
          0.015199843358180143,
          1.0258112988583488,
          0.7153842381041421,
          1.0895170173289683,
          1.461295665677948,
          0.6433089228350982,
          0.7200011924612246,
          0.6379249207774806,
          0.40263775271808194,
          0.9012266231273548,
          0.6713981125505197,
          0.1281501791433537,
          0.7161521275117639,
          0.8765534491769151,
          0.897006056198359,
          0.6514942278248689,
          -0.017236997217329603,
          0.5272365275815887,
          0.6180058648749119,
          0.8972418156439753,
          0.5723831842580416,
          1.3553408023105302,
          0.4860828995327291,
          0.11052874770048111,
          -0.056944869289424827,
          1.2035503411026192,
          0.6669167783575443,
          0.9658220985477033,
          0.6006338230402268,
          1.0176672373734512,
          0.4887376899418863,
          1.1764181191627636,
          0.11327867070996939,
          0.44098606371566845,
          -0.046746520755407694,
          0.2559046714140346,
          0.4112326540400288,
          0.6259750277199567,
          0.9017348780661807,
          0.6851914947047879,
          0.07448742455019333,
          0.8567010403147183,
          0.6022767293110093,
          1.2563073403639988,
          0.21353196442012762,
          1.0874644920283207,
          0.38474851242180463,
          1.3526404605960423,
          0.6673084759565293,
          0.7438619106312445,
          0.5306457217755265,
          0.4167408654446589,
          1.237934241726956,
          0.5022693948968165,
          0.10167030287515466,
          1.3780734631766787,
          0.6661102414509843,
          0.8501274664408485,
          -0.08311264290980303,
          0.41905684665144244,
          0.6594756128456971,
          0.5675180315234025,
          1.148879758371714,
          0.9636583176695971,
          0.43974291468317317,
          0.5863761129354126,
          1.0947878170258265,
          0.4069526206810699,
          0.2746526400384609,
          1.087944125313357,
          0.8829859467113169,
          0.8878030243817272,
          1.3535724250905588,
          -0.03986105303824952,
          0.9425263101668715,
          0.3101557125583181,
          0.8533173257672795,
          0.4912213126883084,
          -0.19053986030807646,
          1.3226508109465382,
          0.4543788020631918,
          1.085521520155784,
          0.8816884576603001,
          1.0429225097491117,
          0.2562300810307477,
          -0.07058293142595176,
          0.0349944133754906,
          0.7370906035966357,
          0.5479228822363884,
          0.5702522907035401,
          0.6548837088896696,
          0.16203749957981334,
          0.49639572937055687,
          0.8200884014469434,
          0.796321448123428,
          0.004398483909612574,
          0.5040696795660105,
          0.8300042711859632,
          0.6194618986972686,
          0.019211106557954938,
          0.2905767225873918,
          -0.1928915548234518,
          -0.07959365361417325,
          0.3586612145603729,
          1.310053884040236,
          0.04294053647264054,
          0.6115723582515783,
          0.7024968613032744,
          1.424575005034466,
          0.6718266056842419,
          0.9113192270841337,
          0.6442994733725902,
          0.14126813694310758,
          0.9237358354708525,
          0.8451075341225346,
          -0.3169200101833427,
          0.7581263032763518,
          0.7809858334679258,
          0.7916810744566887,
          0.11577432885870043,
          0.9763729810810593,
          0.6014126043028669,
          0.8096651910070056,
          0.06878913513369415,
          0.7022839310611253,
          -0.09666788927040632,
          1.0968445625600098,
          1.291765048969883,
          0.8623748989837355,
          -0.09055991527525821,
          0.5985797553657666,
          1.2174091757368972,
          1.2093934766471208,
          0.5853437419830956,
          0.7170485742947356,
          0.7419553106549552,
          0.9457973481732828,
          1.3988049958467923,
          0.5228458831964723,
          0.6920835735149309,
          0.8184529846536222,
          0.23262828417324147,
          0.16651205335184277,
          0.03832167092802162,
          0.7944043314845668,
          0.2593854496713889,
          0.9234436865541247,
          0.314109044299576,
          0.9333177978207008,
          0.16946671964346752,
          0.9919096351125858,
          0.9154664195052388,
          0.1427404371962388,
          0.23735770081576968,
          0.892231710402322,
          0.950634796856135,
          0.8802965624130582,
          0.40870786123066816,
          0.6122623157354514,
          0.6921058486616636,
          -0.33711822002532543,
          1.1044490832924252,
          0.6283654024754077,
          0.8705630600648628,
          1.0964949526744097,
          0.8902505830734544,
          1.0384253729309414,
          0.9357429406505401,
          0.768343577587857,
          0.8936569776638451,
          1.223456384923077,
          0.255056189627359,
          1.3825625982610643,
          0.2229663806875855,
          1.1333069700000402,
          0.9997372971354629,
          0.475250205688419,
          0.02092067700520092,
          0.5411836832334544,
          0.7708789343893945,
          0.5299366897064685,
          1.2975750793451606,
          0.23062683575001186,
          0.7945415965579745,
          0.6063137440959365,
          1.4255687667341963,
          0.5626132331509451,
          0.721178468878519,
          0.8015255106162907,
          0.8476339470513292,
          1.1447623081006442,
          0.5027613193629478,
          0.4641370807866312,
          0.6651758575463982,
          0.5879489421123212,
          0.6449947715552565,
          0.979062746405079,
          1.058459372629155,
          1.0323207117344013,
          -0.10707457389902814,
          0.44039484777017956,
          0.9613178957923858,
          0.9259764208009178,
          0.19661549515459217,
          0.22263887016127826,
          0.9050520370418116,
          0.24991227704183422,
          -0.0035190598036409226,
          -0.11992468087546565,
          0.6961023672881591,
          0.9792828228335773,
          0.9553434079525384,
          0.6541410013018856,
          1.0060280584410783,
          0.25310851224054665,
          0.20714523252462425,
          0.14927066919253912,
          0.7364310214368127,
          0.41222347625168887,
          0.7040246236449993,
          1.0077726544008798,
          0.8316229107065909,
          0.9802973564883221,
          0.1779181026918682,
          0.07139313910126929,
          0.37683296652767806,
          0.4555771168352788,
          0.5613574286312569
         ],
         "yaxis": "y"
        }
       ],
       "layout": {
        "autosize": true,
        "legend": {
         "title": {
          "text": "label"
         },
         "tracegroupgap": 0
        },
        "margin": {
         "t": 60
        },
        "template": {
         "data": {
          "bar": [
           {
            "error_x": {
             "color": "#2a3f5f"
            },
            "error_y": {
             "color": "#2a3f5f"
            },
            "marker": {
             "line": {
              "color": "#E5ECF6",
              "width": 0.5
             },
             "pattern": {
              "fillmode": "overlay",
              "size": 10,
              "solidity": 0.2
             }
            },
            "type": "bar"
           }
          ],
          "barpolar": [
           {
            "marker": {
             "line": {
              "color": "#E5ECF6",
              "width": 0.5
             },
             "pattern": {
              "fillmode": "overlay",
              "size": 10,
              "solidity": 0.2
             }
            },
            "type": "barpolar"
           }
          ],
          "carpet": [
           {
            "aaxis": {
             "endlinecolor": "#2a3f5f",
             "gridcolor": "white",
             "linecolor": "white",
             "minorgridcolor": "white",
             "startlinecolor": "#2a3f5f"
            },
            "baxis": {
             "endlinecolor": "#2a3f5f",
             "gridcolor": "white",
             "linecolor": "white",
             "minorgridcolor": "white",
             "startlinecolor": "#2a3f5f"
            },
            "type": "carpet"
           }
          ],
          "choropleth": [
           {
            "colorbar": {
             "outlinewidth": 0,
             "ticks": ""
            },
            "type": "choropleth"
           }
          ],
          "contour": [
           {
            "colorbar": {
             "outlinewidth": 0,
             "ticks": ""
            },
            "colorscale": [
             [
              0,
              "#0d0887"
             ],
             [
              0.1111111111111111,
              "#46039f"
             ],
             [
              0.2222222222222222,
              "#7201a8"
             ],
             [
              0.3333333333333333,
              "#9c179e"
             ],
             [
              0.4444444444444444,
              "#bd3786"
             ],
             [
              0.5555555555555556,
              "#d8576b"
             ],
             [
              0.6666666666666666,
              "#ed7953"
             ],
             [
              0.7777777777777778,
              "#fb9f3a"
             ],
             [
              0.8888888888888888,
              "#fdca26"
             ],
             [
              1,
              "#f0f921"
             ]
            ],
            "type": "contour"
           }
          ],
          "contourcarpet": [
           {
            "colorbar": {
             "outlinewidth": 0,
             "ticks": ""
            },
            "type": "contourcarpet"
           }
          ],
          "heatmap": [
           {
            "colorbar": {
             "outlinewidth": 0,
             "ticks": ""
            },
            "colorscale": [
             [
              0,
              "#0d0887"
             ],
             [
              0.1111111111111111,
              "#46039f"
             ],
             [
              0.2222222222222222,
              "#7201a8"
             ],
             [
              0.3333333333333333,
              "#9c179e"
             ],
             [
              0.4444444444444444,
              "#bd3786"
             ],
             [
              0.5555555555555556,
              "#d8576b"
             ],
             [
              0.6666666666666666,
              "#ed7953"
             ],
             [
              0.7777777777777778,
              "#fb9f3a"
             ],
             [
              0.8888888888888888,
              "#fdca26"
             ],
             [
              1,
              "#f0f921"
             ]
            ],
            "type": "heatmap"
           }
          ],
          "heatmapgl": [
           {
            "colorbar": {
             "outlinewidth": 0,
             "ticks": ""
            },
            "colorscale": [
             [
              0,
              "#0d0887"
             ],
             [
              0.1111111111111111,
              "#46039f"
             ],
             [
              0.2222222222222222,
              "#7201a8"
             ],
             [
              0.3333333333333333,
              "#9c179e"
             ],
             [
              0.4444444444444444,
              "#bd3786"
             ],
             [
              0.5555555555555556,
              "#d8576b"
             ],
             [
              0.6666666666666666,
              "#ed7953"
             ],
             [
              0.7777777777777778,
              "#fb9f3a"
             ],
             [
              0.8888888888888888,
              "#fdca26"
             ],
             [
              1,
              "#f0f921"
             ]
            ],
            "type": "heatmapgl"
           }
          ],
          "histogram": [
           {
            "marker": {
             "pattern": {
              "fillmode": "overlay",
              "size": 10,
              "solidity": 0.2
             }
            },
            "type": "histogram"
           }
          ],
          "histogram2d": [
           {
            "colorbar": {
             "outlinewidth": 0,
             "ticks": ""
            },
            "colorscale": [
             [
              0,
              "#0d0887"
             ],
             [
              0.1111111111111111,
              "#46039f"
             ],
             [
              0.2222222222222222,
              "#7201a8"
             ],
             [
              0.3333333333333333,
              "#9c179e"
             ],
             [
              0.4444444444444444,
              "#bd3786"
             ],
             [
              0.5555555555555556,
              "#d8576b"
             ],
             [
              0.6666666666666666,
              "#ed7953"
             ],
             [
              0.7777777777777778,
              "#fb9f3a"
             ],
             [
              0.8888888888888888,
              "#fdca26"
             ],
             [
              1,
              "#f0f921"
             ]
            ],
            "type": "histogram2d"
           }
          ],
          "histogram2dcontour": [
           {
            "colorbar": {
             "outlinewidth": 0,
             "ticks": ""
            },
            "colorscale": [
             [
              0,
              "#0d0887"
             ],
             [
              0.1111111111111111,
              "#46039f"
             ],
             [
              0.2222222222222222,
              "#7201a8"
             ],
             [
              0.3333333333333333,
              "#9c179e"
             ],
             [
              0.4444444444444444,
              "#bd3786"
             ],
             [
              0.5555555555555556,
              "#d8576b"
             ],
             [
              0.6666666666666666,
              "#ed7953"
             ],
             [
              0.7777777777777778,
              "#fb9f3a"
             ],
             [
              0.8888888888888888,
              "#fdca26"
             ],
             [
              1,
              "#f0f921"
             ]
            ],
            "type": "histogram2dcontour"
           }
          ],
          "mesh3d": [
           {
            "colorbar": {
             "outlinewidth": 0,
             "ticks": ""
            },
            "type": "mesh3d"
           }
          ],
          "parcoords": [
           {
            "line": {
             "colorbar": {
              "outlinewidth": 0,
              "ticks": ""
             }
            },
            "type": "parcoords"
           }
          ],
          "pie": [
           {
            "automargin": true,
            "type": "pie"
           }
          ],
          "scatter": [
           {
            "marker": {
             "colorbar": {
              "outlinewidth": 0,
              "ticks": ""
             }
            },
            "type": "scatter"
           }
          ],
          "scatter3d": [
           {
            "line": {
             "colorbar": {
              "outlinewidth": 0,
              "ticks": ""
             }
            },
            "marker": {
             "colorbar": {
              "outlinewidth": 0,
              "ticks": ""
             }
            },
            "type": "scatter3d"
           }
          ],
          "scattercarpet": [
           {
            "marker": {
             "colorbar": {
              "outlinewidth": 0,
              "ticks": ""
             }
            },
            "type": "scattercarpet"
           }
          ],
          "scattergeo": [
           {
            "marker": {
             "colorbar": {
              "outlinewidth": 0,
              "ticks": ""
             }
            },
            "type": "scattergeo"
           }
          ],
          "scattergl": [
           {
            "marker": {
             "colorbar": {
              "outlinewidth": 0,
              "ticks": ""
             }
            },
            "type": "scattergl"
           }
          ],
          "scattermapbox": [
           {
            "marker": {
             "colorbar": {
              "outlinewidth": 0,
              "ticks": ""
             }
            },
            "type": "scattermapbox"
           }
          ],
          "scatterpolar": [
           {
            "marker": {
             "colorbar": {
              "outlinewidth": 0,
              "ticks": ""
             }
            },
            "type": "scatterpolar"
           }
          ],
          "scatterpolargl": [
           {
            "marker": {
             "colorbar": {
              "outlinewidth": 0,
              "ticks": ""
             }
            },
            "type": "scatterpolargl"
           }
          ],
          "scatterternary": [
           {
            "marker": {
             "colorbar": {
              "outlinewidth": 0,
              "ticks": ""
             }
            },
            "type": "scatterternary"
           }
          ],
          "surface": [
           {
            "colorbar": {
             "outlinewidth": 0,
             "ticks": ""
            },
            "colorscale": [
             [
              0,
              "#0d0887"
             ],
             [
              0.1111111111111111,
              "#46039f"
             ],
             [
              0.2222222222222222,
              "#7201a8"
             ],
             [
              0.3333333333333333,
              "#9c179e"
             ],
             [
              0.4444444444444444,
              "#bd3786"
             ],
             [
              0.5555555555555556,
              "#d8576b"
             ],
             [
              0.6666666666666666,
              "#ed7953"
             ],
             [
              0.7777777777777778,
              "#fb9f3a"
             ],
             [
              0.8888888888888888,
              "#fdca26"
             ],
             [
              1,
              "#f0f921"
             ]
            ],
            "type": "surface"
           }
          ],
          "table": [
           {
            "cells": {
             "fill": {
              "color": "#EBF0F8"
             },
             "line": {
              "color": "white"
             }
            },
            "header": {
             "fill": {
              "color": "#C8D4E3"
             },
             "line": {
              "color": "white"
             }
            },
            "type": "table"
           }
          ]
         },
         "layout": {
          "annotationdefaults": {
           "arrowcolor": "#2a3f5f",
           "arrowhead": 0,
           "arrowwidth": 1
          },
          "autotypenumbers": "strict",
          "coloraxis": {
           "colorbar": {
            "outlinewidth": 0,
            "ticks": ""
           }
          },
          "colorscale": {
           "diverging": [
            [
             0,
             "#8e0152"
            ],
            [
             0.1,
             "#c51b7d"
            ],
            [
             0.2,
             "#de77ae"
            ],
            [
             0.3,
             "#f1b6da"
            ],
            [
             0.4,
             "#fde0ef"
            ],
            [
             0.5,
             "#f7f7f7"
            ],
            [
             0.6,
             "#e6f5d0"
            ],
            [
             0.7,
             "#b8e186"
            ],
            [
             0.8,
             "#7fbc41"
            ],
            [
             0.9,
             "#4d9221"
            ],
            [
             1,
             "#276419"
            ]
           ],
           "sequential": [
            [
             0,
             "#0d0887"
            ],
            [
             0.1111111111111111,
             "#46039f"
            ],
            [
             0.2222222222222222,
             "#7201a8"
            ],
            [
             0.3333333333333333,
             "#9c179e"
            ],
            [
             0.4444444444444444,
             "#bd3786"
            ],
            [
             0.5555555555555556,
             "#d8576b"
            ],
            [
             0.6666666666666666,
             "#ed7953"
            ],
            [
             0.7777777777777778,
             "#fb9f3a"
            ],
            [
             0.8888888888888888,
             "#fdca26"
            ],
            [
             1,
             "#f0f921"
            ]
           ],
           "sequentialminus": [
            [
             0,
             "#0d0887"
            ],
            [
             0.1111111111111111,
             "#46039f"
            ],
            [
             0.2222222222222222,
             "#7201a8"
            ],
            [
             0.3333333333333333,
             "#9c179e"
            ],
            [
             0.4444444444444444,
             "#bd3786"
            ],
            [
             0.5555555555555556,
             "#d8576b"
            ],
            [
             0.6666666666666666,
             "#ed7953"
            ],
            [
             0.7777777777777778,
             "#fb9f3a"
            ],
            [
             0.8888888888888888,
             "#fdca26"
            ],
            [
             1,
             "#f0f921"
            ]
           ]
          },
          "colorway": [
           "#636efa",
           "#EF553B",
           "#00cc96",
           "#ab63fa",
           "#FFA15A",
           "#19d3f3",
           "#FF6692",
           "#B6E880",
           "#FF97FF",
           "#FECB52"
          ],
          "font": {
           "color": "#2a3f5f"
          },
          "geo": {
           "bgcolor": "white",
           "lakecolor": "white",
           "landcolor": "#E5ECF6",
           "showlakes": true,
           "showland": true,
           "subunitcolor": "white"
          },
          "hoverlabel": {
           "align": "left"
          },
          "hovermode": "closest",
          "mapbox": {
           "style": "light"
          },
          "paper_bgcolor": "white",
          "plot_bgcolor": "#E5ECF6",
          "polar": {
           "angularaxis": {
            "gridcolor": "white",
            "linecolor": "white",
            "ticks": ""
           },
           "bgcolor": "#E5ECF6",
           "radialaxis": {
            "gridcolor": "white",
            "linecolor": "white",
            "ticks": ""
           }
          },
          "scene": {
           "xaxis": {
            "backgroundcolor": "#E5ECF6",
            "gridcolor": "white",
            "gridwidth": 2,
            "linecolor": "white",
            "showbackground": true,
            "ticks": "",
            "zerolinecolor": "white"
           },
           "yaxis": {
            "backgroundcolor": "#E5ECF6",
            "gridcolor": "white",
            "gridwidth": 2,
            "linecolor": "white",
            "showbackground": true,
            "ticks": "",
            "zerolinecolor": "white"
           },
           "zaxis": {
            "backgroundcolor": "#E5ECF6",
            "gridcolor": "white",
            "gridwidth": 2,
            "linecolor": "white",
            "showbackground": true,
            "ticks": "",
            "zerolinecolor": "white"
           }
          },
          "shapedefaults": {
           "line": {
            "color": "#2a3f5f"
           }
          },
          "ternary": {
           "aaxis": {
            "gridcolor": "white",
            "linecolor": "white",
            "ticks": ""
           },
           "baxis": {
            "gridcolor": "white",
            "linecolor": "white",
            "ticks": ""
           },
           "bgcolor": "#E5ECF6",
           "caxis": {
            "gridcolor": "white",
            "linecolor": "white",
            "ticks": ""
           }
          },
          "title": {
           "x": 0.05
          },
          "xaxis": {
           "automargin": true,
           "gridcolor": "white",
           "linecolor": "white",
           "ticks": "",
           "title": {
            "standoff": 15
           },
           "zerolinecolor": "white",
           "zerolinewidth": 2
          },
          "yaxis": {
           "automargin": true,
           "gridcolor": "white",
           "linecolor": "white",
           "ticks": "",
           "title": {
            "standoff": 15
           },
           "zerolinecolor": "white",
           "zerolinewidth": 2
          }
         }
        },
        "xaxis": {
         "anchor": "y",
         "autorange": true,
         "domain": [
          0,
          1
         ],
         "range": [
          -1.8283250189852622,
          2.8426160562121856
         ],
         "title": {
          "text": "x"
         },
         "type": "linear"
        },
        "yaxis": {
         "anchor": "x",
         "autorange": true,
         "domain": [
          0,
          1
         ],
         "range": [
          -1.2844559387662258,
          1.8825218443421792
         ],
         "title": {
          "text": "y"
         },
         "type": "linear"
        }
       }
      },
      "image/png": "[encoded data removed]",
      "text/html": [
       "<div>                            <div id=\"ccf7bed0-e2d2-4ea7-9d82-089512a86e97\" class=\"plotly-graph-div\" style=\"height:525px; width:100%;\"></div>            <script type=\"text/javascript\">                require([\"plotly\"], function(Plotly) {                    window.PLOTLYENV=window.PLOTLYENV || {};                                    if (document.getElementById(\"ccf7bed0-e2d2-4ea7-9d82-089512a86e97\")) {                    Plotly.newPlot(                        \"ccf7bed0-e2d2-4ea7-9d82-089512a86e97\",                        [{\"hovertemplate\":\"label=B<br>x=%{x}<br>y=%{y}<extra></extra>\",\"legendgroup\":\"B\",\"marker\":{\"color\":\"#636efa\",\"symbol\":\"circle\"},\"mode\":\"markers\",\"name\":\"B\",\"orientation\":\"v\",\"showlegend\":true,\"type\":\"scatter\",\"x\":[1.754284929622062,0.8331985483597373,0.8368533540080276,0.2419417939851355,1.244787052101374,1.5687445640959932,0.1179096288750042,0.6103583059276844,-0.4108347899005145,0.25075414235068927,0.9045158973150147,2.14316623169803,0.7290840590914942,0.13603505309988953,-0.2775636017481287,2.185541860485186,2.1505473860597095,1.7953977187998609,1.6864291072658864,1.901553459759271,0.0326768880938631,2.0638352721738373,1.3849574531489008,0.258170119454468,1.7320394298429804,1.033321907149908,1.799983202958973,1.3982373702105975,2.030038776769734,1.2192217597011195,0.5023129808069464,1.6872044827540598,1.452063265088343,2.0699217379151387,-0.2392455555774336,-0.306068846000633,2.540460376101679,1.1731217038929769,0.964335010234957,0.7918736741813417,0.13228863902343518,0.13980531102771368,1.4069975679068079,0.1858160054563368,2.016048399442627,0.7129209183330762,1.9996755858929056,-0.2895965467180812,-0.25862038957866756,2.35029529818902,0.39172343424949974,2.1601127457241383,1.7023711749990467,-0.12292383551400227,1.0412307682164101,1.616312728449936,1.5028956166783352,0.8462974892761257,1.561057894261151,0.1566114302820966,0.22245077746383435,1.0545780311522515,1.1111404166793537,2.2645666284822767,-0.32561661739439124,-0.1992732386575244,2.0461963608469365,2.2479306894657665,2.0451571549350263,0.7300477159262672,1.4119362398905817,0.3104616437096451,0.36660348318300995,2.0482740502724863,0.5217500358286162,1.6751840541813512,1.455530931174126,0.3368360037036527,0.8739295315010374,1.9987350370050723,1.3979368786434145,1.931463657123824,0.059036579317673143,1.7320554938489954,1.6406365156668408,2.049087332681571,0.8991723935411289,0.39739324854332553,0.7523946910754318,0.066705101072382,1.5492302051840035,1.4527974944680973,1.6338020119909473,-0.032000257357626745,-0.17537018740133112,0.9387722996614584,1.3998585939464834,1.1350004163644243,1.9122058442008623,-0.6634027118976363,2.051532388352326,2.313934712978066,0.6255808191814298,1.3036567999342905,1.0855996441459768,1.665056358598854,0.0404067507960153,1.6354622612394003,1.959791825473686,0.0071207727317045555,0.2988115743290437,1.5424140703229026,1.7497133857163385,2.119110511657508,1.9708499002823732,1.465382131523104,0.09179591398517795,0.4559103840042003,0.3868673120039144,1.957188192930666,1.1964825526153275,0.767384734218657,0.8821578424593657,0.30879323207017784,-0.26525717084708234,1.6972718462715093,1.3723807911194696,0.47682240089230016,1.8253268181897768,1.7016000401339175,1.480821950227902,1.0692115658035408,1.4249797944337759,1.057018397993615,1.0623167533166773,-0.1792614836848827,0.39407744036658876,0.10465473097473965,1.4989928173184308,1.0513048988130718,0.6358148188931474,1.8799068254340985,1.0904778329091807,-0.10514180934029865,0.11909600657732863,0.15234254707378542,1.0729824367658485,0.017000197737199477,1.6220049264125351,0.5998340187232273,-0.01969765085886767,1.557675835510453,1.1629832647101352,0.14473521331731368,0.698117791257587,0.7857129240679537,1.9597311460370004,2.4920596596790814,1.2954392122339804,0.4031272838812196,1.2256271446601215,1.287379392757588,0.8764311690178167,1.5833145246520344,0.7940596334127032,2.2270371637629642,0.23226237274428954,1.676654106540283,1.8258450744952415,0.05121034944316288,1.6131031229369246,0.4273028907897319,0.5368813922547323,1.4429812204050927,0.09096161369109367,-0.2076255457529853,1.5081778158716554,2.209819275021594,1.7950209867735702,-0.041902783843571656,0.1300362518975915,0.8228009050830297,0.7844339903557385,0.9524851592982744,0.8277889760600718,1.827337454942267,1.2825293427778046,1.663695095915938,1.992165855056438,1.9425673456133274,0.29725855349386765,1.442417216397005,0.35081655365279574,2.3332830007188825,0.20190035506520324,1.0770066913774234,2.038892059888989,1.7361514850328583,0.09572393998312514,0.7757854042368193,0.4958047879996033,1.3508361048946032,0.7421157248034038,1.4957232520121502,1.9414975331179294,2.0099041598152043,2.0287687020366243,0.3051160400506275,2.249151683120402,0.39763520390543544,0.8599259364140641,1.6323593734993047,0.8692526869208319,2.1857493761147,0.8665382836735692,0.1437188894088743,1.7535445319591805,0.002475723804811425,1.1656694241845864,0.25546079114556514,2.2773917522247107,1.8055427755756324,0.41784140794722646,0.5858512827585421,0.0730110395458061,0.3962447345416178,1.838339053426973,0.5477427602241522,0.10483151020206721,1.5611585534430128,1.9041942760292583,2.5973994294796348,1.9044991714838992,1.3140089382374978,-0.15472844273937716,-0.2622166650293779,1.4228395667291414,0.827158649451509,1.5105048676438815,2.1066936445773665,0.9885004810884854,1.5829802503783283,2.135085892197133,1.4512827297844153,1.2289574814954514,1.3522930676130909,0.17213176328346327,-0.08745380850799916,1.7847288349965043,0.9724532869019591,0.7271310723045568,1.764269651165959,1.7549953365176354,1.763564196643288,-0.11492812967707888,2.199561047723404,0.13202408720377445,1.5878205482387555,0.09669611155050721,0.1370082856240417,0.5389177984255868,-0.2768237717465198,-0.14640835962956633,1.0893854444993707,0.9270658368923838,0.2964315238753441,0.5501786552859866,0.10455602908197881,1.302177826208521,-0.1707067427197162,1.0679030593840344,1.3355213981383474,0.2514310872972172,0.3798164583637995,-0.24507452763559967,1.9820931156118728,0.07936284648531272,0.6035011608517271,0.4574130296174548,0.24999199279575857,0.042343427830727955,1.6899505761281846,-0.19810762721349287,0.23640560891339768,0.7644368351012744,0.2781615776099135,0.8558436128341064,1.9451177719872,0.9787590545276429,-0.03614960436332046,1.454581328016712,1.4675492553227767,-0.09845541060868636,1.2033195562391814,1.2530093028608251,1.5766726055066427,1.2654795376885737,1.4816456481200735,0.9586013395781874,1.2658923084414244,2.2157849459930197,2.1096621951858316,0.4573700218247996,0.816692930475977,0.6870815777218663,1.5269360063641577,1.599715547559218,0.6084914651847935,0.8353533782006822,1.5519529417623927,-0.09330233712150436,1.8293490876559497,1.3192712126184774,-0.028664159739928585,0.1127697012685849,0.707510234997746,0.11923768484433844,1.1952878326567613,2.2180726317700694,-0.018534795900560397,0.04243226080584573,-0.0010903083999375118,0.5603791187265834,1.333876888653236,-0.04351927198928178,1.598533367603117,0.5073371953440291,-0.5829195242891863,0.31155433593208354,0.4446832603214064,1.0694672904821134,1.5165836856433998,1.9163038317146923,0.38678243307637666,0.47927372672265556,-0.07395522973313007,1.9172874930514179,1.6210726454658,1.838259352025244,0.7956174429726101,-0.029407158484897902,-0.06724332565554411,0.45480245726343993,0.16054380849485433,0.5743209934688069,2.3113009431822586,2.0579798525555653,1.6377863876383254,2.316366345871285,1.7596182885176472,1.971324139155188,-0.14417763039778375,1.7850038241020083,1.3339436911106357,0.21826277629832985,0.6888250979059629,1.769270603706244,0.5078567871152597,0.8455143057399486,0.3412076917894248,1.2221585985033538,0.39697271579063975,-0.042284389853606746,1.5923259371691738,1.030093204178407,0.8047645994812914,0.28843102994220426,-0.06905560266521739,1.7289177993738247,0.2750294211016245,1.5272950056786205,1.8242802132939107,1.6969833226197124,0.34152485007042044,1.2297454495005515,1.5758294606891854,1.488413616666993,1.7171221571766275,0.6146925103699286,1.6839243496029008,1.5704280097449725,0.6556592600520127,1.530940391430436,1.2792292573055648,1.7030859610271762,1.3336022502901226,0.2879586517191555,1.6471937788852289,1.3450213886439042,2.196896268505019,0.7852315974102251,0.7975178216745958,0.2761667323641057,0.6579982482284051,0.6712118342776475,0.6447525065406645,1.4159098260711906,-0.031706892651079524,0.7159156178278728,2.094647018232033,0.09704983183151702,-0.42634322342797193,0.13795120374814182,-0.11129532157314642,1.7934891655702887,0.40966006861403026,0.4061693957285751,1.6578226645052023,0.5568197505450521,0.8876258625621599,0.33060192838207486,1.046860080910184,1.097414452316488,0.27238440283386484,0.6623471056587368,1.573889601629334,0.10537058135348598,0.21851943006906427,0.4021626123817597,1.4963734914537923,1.4549695290851274,1.1718638342906338,0.6140503681535141,0.013071806577884565,0.043531665568669956,0.08288262262258367,0.20022435775592654,-0.21693415745747402,1.6282108795525971,1.0302372643669857,2.0581117981494104,2.0458942634686434,0.3898031105194476,0.6688899724174114,0.16798894517197427,0.4367430870772513,1.5930802212101285,1.8105730250595797,1.1808243414017767,1.157802978367514,0.3550398888266777,0.9397648407796979,1.9829978856957426,1.429794776435211,-0.09561819357454923,0.9859228362239179,0.8018302370351227,1.3046911974170825,0.8938064099119123,2.078052468599555,1.626433230599429,-0.05311654408410377,0.4465426567059309,-0.3953992298091947,-0.0890603672290972,1.4431882296866405,0.08814144347835123,0.5164640416307831,0.142960072028766,0.35705562323490114,1.3645562146809331,1.4304525836680826,1.9590268883576332,0.23298736091394323,0.18713593754374885,2.254562362109084,1.3079372117457557,0.19294482109323258,0.6567748771376105,1.3964939954435307,0.9226122894475197,1.877982525246542,1.3632792015826491,1.3945703799516806,-0.22127602360378448,0.3635867955658964,1.3536959327153697,-0.20831634784473013,1.741968322176297,0.7799774377868676,0.47144664677446635,1.1176485666976639,2.0992754370160593,1.5748503569739354,1.7818900660057897,-0.06670402504928077,2.2025031929441568,0.9150613802794717,2.089155647815403,2.348220719289893,2.112367445912382,1.8268509066201604,0.2687459204268844,1.631936290457895,0.02433261238554224,0.9253225371589242,0.7790492170200561,2.1493984186117303,0.25424429916873115,1.625288730923382],\"xaxis\":\"x\",\"y\":[-0.26010470999058044,-0.4318020225168206,0.02423572598198301,-0.2131917626142879,-0.3994309843925242,-0.25089401641469045,-0.11636026380754991,-0.5131554573375003,0.27753325442611726,-0.09339066694891779,-0.6104198374910841,-0.16637148943180657,-0.6597059074157675,-0.049289794083259626,0.12814156900361864,0.8956042408156376,0.0007965464832384583,0.27375022282167427,0.3851164594674661,-0.6505854399789605,-0.32631063287287826,-0.06346166196519148,-0.2864793891573699,-0.3011186947875808,-0.16046389282813037,-0.6706661796010449,-0.4091455051846651,-0.15276155659251744,-0.2173009175682534,-0.4124740299818329,0.22941186336577735,-0.02659156925149625,-0.5455607355267548,0.19872905727782733,0.6790479324504946,-0.20401492176239033,0.09777997522077259,-0.6258149724495765,-0.3521492715335749,-0.7713175487343463,-0.15950016073021525,-0.3506546602447935,-0.2944589082569399,0.10578404766765971,-0.13786386329497952,-0.16441668835054996,0.292712663790207,-0.30644786278319824,0.3580075516180452,0.05652897610928026,-0.54495460007613,-0.2162961708984448,-0.41897656770327446,-0.3661682562339878,-0.3660771836486709,-0.5113760792151989,-0.5481654217081307,-0.8262962157412213,0.29993339859212365,0.2451905544724563,-0.464473279843772,-0.18049195749740526,-0.5788661261331973,0.2904187793967576,0.09020325791101001,0.6679804582788267,-0.48527128233904304,0.010475404400271796,-0.1894960274225612,-0.7470183897578839,-0.5277371412299715,0.3976945975500924,0.1314534782050305,0.10192178826346183,-0.33295842323346025,-0.5277277752436548,-0.48176072543627135,-0.21917842871136062,-0.351752602863737,-0.4989157370956111,-0.35879822304527054,0.2329024787899448,0.4370829665790721,0.5849862412129538,0.19441172277955165,0.606027503128496,-0.44171090592144624,0.16752901588476748,-0.6425154850097702,0.697931490198592,0.04934931481264358,-0.6679270991053897,-0.7021025670966994,0.4538300938231965,0.1809901466527678,-0.8346898927110871,-0.0956268496092984,-0.6553729166832336,0.09421696283831366,0.5520341063552275,0.3383497759191976,-0.2405060898513503,-0.12293455693064781,-0.22723327085698242,-0.7015911977762983,0.3774655266464838,-0.5049267102399297,-0.1177988638232261,-0.2232242764170843,-0.0859737156480721,-0.01994678974133174,-0.32577099313273944,0.517556184574484,0.2748509932183011,0.18600274693754695,0.16678883611896833,-0.10107963564215294,-0.10630013494827609,-0.2807767423556801,-0.2563468291438272,-0.41565412869968665,0.2630391339306843,-0.4481783936792154,-0.9343695210826024,0.3384311786473482,-0.246581913759782,-0.02769398892369873,-0.15146182713991913,-0.3614009202429036,0.4083158942602458,-0.30615556490236395,-0.408381133334891,-0.2786914841852415,-0.050687468174565986,-0.3961805145056127,-0.27944449598758636,-0.14028173597667004,-0.30760455109274387,0.002038634567375186,-0.7366696295929556,-0.551302627478936,0.22928781286441624,-0.37138538692375367,0.03896198304563704,-0.36138554626877406,-0.15030516010390396,-0.5259410525991925,-0.1548956653485744,-0.2226447037352358,-0.9122335119110188,0.016728856838716444,0.04922869217065173,-0.20920906018795266,-0.22001985671082352,-0.8112204821833068,-0.10923654077815692,0.5686837993171017,-0.09173473068691125,0.0681355526506976,-0.012114390678663545,-0.5639652787823174,-0.27468438488456515,0.4771273454260808,-0.07369538163144082,-0.3469120610614503,0.5912640089913834,0.04945530825971872,-0.16191932545935053,-0.2510976795487185,0.07590762438397029,0.30871481394974676,-0.40300488288236086,-0.4781674416968469,-0.42850739663734055,0.30752785054857107,-0.04813732473247491,-0.5086726769804744,-0.011560492277018955,0.11194814955454255,-0.23318207958331505,-0.28347426460508907,-0.5200763094261696,-0.45571685398225964,-0.5199244529696816,-0.3288629109308796,0.0915164069973742,-0.561916433091759,-0.16498541215823648,-0.3663471040309773,-0.1995960196254613,-0.031095252597150118,0.19535195830019,-0.5991540307743931,0.3354550191833211,0.4780019077586765,-0.6608971274602883,-0.04343637396472236,-0.7756606004519647,-0.03385603875871654,-0.8981020870626166,-0.45698786763843124,-0.27565287296272006,-0.7368618238298822,-0.4738481546525808,-0.23709174892766996,0.008404861875494551,-0.08021652218124656,-0.10191604703029393,-0.2860094301198574,0.10077955843919484,-0.43179628449429125,0.2654561886856214,-0.4426645146441166,0.0565996320194595,-0.21829416877853208,-0.2186179021793827,-0.26304688570919815,0.2342444288754441,-0.6044190793317853,0.02102484027855067,0.3797799102077081,0.2984679250834663,0.7813793536042777,-0.755811020932546,0.2593431732972308,0.6016447566762075,0.38270638671183244,-0.466013868233072,-0.22775344973257358,-0.08100775029296559,0.1269270869893963,0.38269152393743383,0.201836354021661,0.3486314698083766,-0.1096083763895474,-0.1968944008473151,-0.7669812811219257,-0.6587720005279609,-0.5777681595908468,-0.17619357428579244,-0.7184247802448293,-0.8440402754516867,0.04734336372872602,-0.18077210193890605,-0.23342060805143253,-0.27032213496655966,-0.3942581201551368,-0.11838379611179109,0.5311875835391279,-0.7626182114570516,-0.4819251467522101,0.5191166938377737,-0.001547812331870263,0.7949610665293425,0.348951194368381,0.2383766542707446,0.045447136782169106,-0.08244120525894537,0.5725488201575912,-0.4843871547132782,-0.036808250771248316,0.36481597729980175,0.3113039376761864,-0.6945843997735137,-0.25919120364437587,0.651395584129409,-0.44327373608842086,-0.6367949875229317,0.07012566626530958,0.3977338761706434,-0.734850385563751,-0.266585933448482,-0.12236973663879365,-0.21671524363000294,0.15808521410199164,0.15075661273586977,-0.5253734461429489,-0.4858555025848877,-0.24628333030861377,-0.2556024712904822,0.019895850933055834,0.34335009283142226,0.3683132794734153,0.5514672028880601,-0.5109280789890555,-0.5385702198525284,-0.2607049884844342,0.5394877146355027,-0.3857621166077328,0.2738435500174534,-0.5609439174604037,-0.7696776323256437,0.4059692097361854,-0.20278477810829543,-0.5151330105093528,0.0344658818913878,-0.1760428848106682,-0.18822467705450968,-0.5449596209598337,-0.3568781539323355,0.25917313962966637,0.33079046365607645,-0.698350518334424,-0.3997592702983418,-0.4568885634726549,-0.18161049303829627,0.11594427150280784,-1.4453847081763449e-05,0.06672388844388111,0.1320639775219527,0.26458708666092334,-0.36624008852951656,0.12603690876595175,-0.3697254702209202,0.6242275251780893,-0.559142914257049,-0.012185139968522107,-0.26817916281985754,0.0653213722847976,0.09775847900985851,0.7094511083415985,-0.3647656316652232,-0.2453147465634962,-0.41729346030244485,0.07442077619245291,-0.3315578083089725,-0.6362736462812144,0.3362421365513373,-0.336969676948015,-0.1320701337495889,-0.7439424688715606,-0.1452804249421858,0.7225082690732423,-0.3454489289627108,-0.2251241049451645,-0.4335900024154269,-0.28407838970600086,0.37331478489254516,0.24435448261755985,-0.22353340749024464,0.16261681998914032,0.6463468064575013,-0.29712222740641764,-0.29496316635703745,-0.5015687443183454,0.09320009903932133,0.330685120298047,-0.34745561055642565,0.08949624881516755,-0.05636347095573574,-0.6365353711265352,0.20966007659915542,0.18316884476795026,-0.252036531317679,0.5768224062190709,-0.2786110399984124,-0.04106008388021777,-0.18718687363936742,-0.5094873044413845,0.2894159438004882,-0.819180610661498,-0.8937080117978731,0.1498280489878501,-0.034206290551434426,-0.43029158037139714,-0.3980036201617091,-0.1698128902915318,0.6911397325703214,-0.4321097906179603,0.5245130848325015,-0.3748175925815007,-0.1802041095732393,-0.1212313289274473,-0.11212723161537617,-0.19825933409386162,0.19168093648483467,0.04857759838659714,-0.09310139657500449,-0.8506177302252713,0.2576032738700644,-0.8436190674995219,-0.6740459441441434,-0.27621191462023553,-0.46978548642843915,0.21202565630116826,-0.6777144485454673,-0.044531817742094165,-0.5051313324810739,-0.46391010518433085,0.0781506782594103,-0.5987221534923779,-0.670143827004158,0.4044580239596173,-0.5262658147699399,-0.7616600897917072,-0.4946245820590276,-0.8642687263903002,-0.054226351446459126,-0.8994766783756936,-0.17035573143881566,-0.21515043963548786,0.017955627729970947,-0.13896998590950616,0.4772344880318472,-0.4815133963056675,-0.5402130056761758,-0.3138235190038849,-0.3199720406127945,-0.7400204688872329,-0.09396743222395837,0.3281170825451041,-0.49088209282674017,-0.5912701292500327,-0.40424856282387367,-0.3594892214216676,0.17020496441903854,-0.6008949195484361,0.19240835247397692,0.11218506677497829,-0.31998657641969264,-0.03448901435946872,-1.0721244737623667,-0.35591831404249985,-0.07160795866737635,-0.21594371128971984,0.5913534039669615,0.6627682174868199,0.14187469439968992,-0.015611232590386215,-0.5842143678955686,0.18331250961150541,0.6385226175467971,-0.4802504300640587,-0.3754717495861316,-0.13634625494410257,-0.11801519290544116,-0.3692109838247746,-0.20487499010832036,-0.5143341392327095,-0.005513170475270557,-0.11274009081770237,-0.5237024408864226,-0.5379206074168985,-0.18234885885137264,0.031662387690090464,-0.7423881837338833,-0.29875244485903196,-0.2919915427504664,-0.24195899560715195,-0.034246839962278675,-0.6085927201181417,0.5232034023002919,-0.10058076318959586,0.20231366524969313,0.5504739927000922,-0.32252478958538316,-0.47646421880847173,-0.2966787393544851,-0.04086851866182231,0.19119558163834954,-0.8083047820378004,-0.6673038898497698,0.04467805472370828,-0.08396600106053048,-0.24746361163701275,0.7479204334218715,-0.7705105238404478,0.3246029140323328,-0.4070774908018516,-0.9923649139305097,-0.3520174405865697,0.14100786389142222,-0.7522737060048755,0.10964428984022984,0.1939531168231918,-0.29660132835805547,-0.7052243716252896,0.08767535136095908,-0.11236155499059874,-0.23259908416795075,-0.6576272949137789,-0.4808525145275289,-0.2536587363261047,0.3696397724558989,0.33435755941137635,0.10598613331351793,0.08328441282583196,-0.14216831211331216,0.761666654814243,0.05371475504998785,-0.04469293663721406,0.1282081472554381,-0.38289944489173844,-0.07912648173017667,0.38837140620577215,-0.6128868592641253,-0.5491714184545096,0.35990044697572904,0.5419733011395579,-0.1473122265457688],\"yaxis\":\"y\"},{\"hovertemplate\":\"label=A<br>x=%{x}<br>y=%{y}<extra></extra>\",\"legendgroup\":\"A\",\"marker\":{\"color\":\"#EF553B\",\"symbol\":\"circle\"},\"mode\":\"markers\",\"name\":\"A\",\"orientation\":\"v\",\"showlegend\":true,\"type\":\"scatter\",\"x\":[0.015480955909198013,0.3048878364678813,-0.0815223922685014,0.14984191347338344,-1.2828783017398353,-0.38370685989533293,-0.1471058175154938,-0.2040719149800806,0.3815211564594495,-0.6487439796579885,0.9277032151189764,-0.29552015209626453,0.4674698388111975,-1.064053583845928,0.6765411494432476,-0.29186159314201787,-0.8595024624174787,1.194539740871811,-0.0017712798468892954,-0.42834842583124894,-0.4764370681422008,-1.016977168507209,0.7093846803828265,-0.7184515051168083,-0.48849524940617983,0.16380163480859825,1.2459463137566922,0.5377000668641831,0.19891528546436815,-0.13646103784401772,0.28367770074472654,1.0324336923524962,-0.2844757009438593,1.186219414320101,0.8074253601397307,-0.8003745459123892,1.1007715458317335,0.9910556383759392,1.0451460226195768,-0.2640966833960715,-0.22246005480883202,0.6954305046204041,0.05159043654844939,0.42943958865491594,0.711521147620578,-1.119213655492875,0.0440519104539992,-0.7079827576018546,-0.014803570890308641,-1.2691941782317129,-0.499926069352137,-0.7546932880863826,-0.3843934771341603,-0.4616836755959002,-0.6365899372233377,-0.3437295124945413,0.8635364433261998,-0.8351876852779063,0.3733763814859551,-0.9124335694145518,-0.9050040631192185,-0.41324711274690523,-1.0015279597820839,0.11894032517623254,-0.8391633365166422,0.31201692629504274,0.9512347287944152,0.4951055765760516,-1.153125479471856,0.5215118434076266,0.531988590664422,-0.7136922140608212,0.07240324271515665,-0.4178166295458849,-1.1966237469804302,0.7269451196452364,0.7522806915663347,0.5148086701466191,-1.063025232272374,-1.2716425611691282,1.1569850584831494,1.0543149011973962,-0.06632566218403516,0.7371768570682324,-0.14875955716343184,0.01052014964459503,-0.5227540111855389,0.3701869589048078,-0.9891287176641587,-0.4739066854243607,-0.38102445774459515,0.7125149281417359,-1.0430465594571579,-0.5458432127291295,0.9481810690507758,-0.16395355385519317,0.015416946227881534,0.3808754039260769,-0.9456694529321458,1.114920308872748,-0.7950648380083564,1.2640553466025035,0.10163433311629771,-1.2237869044514118,0.7126573895328092,0.7838618351334116,1.304683411391581,0.40243086202403766,0.7334440241094579,-0.8399326041151358,0.3250175567859504,0.12199716663998553,0.5540405057133252,-0.6984538799501778,-0.09243040117839371,-0.35216954125529265,0.1614478676014141,-0.44006785208410204,-0.9933643146586932,-0.08809933720433255,-0.984320586649909,1.1590431128270446,1.4013153544378016,-0.5279706764796841,0.0797556450096682,0.4664597707819111,1.0345235812662046,1.5206627913740876,0.07565627536540542,0.47863378626428826,1.1804789781466176,-0.2472753299200354,0.06447887548811004,-0.5689115940222935,0.641037705195849,1.086413517441922,-1.038479569519913,1.078836401106273,-0.7301615195051845,0.8235348449844053,-1.3190130003008909,-1.069018970139501,1.0768305514774223,-0.5290440183124425,-0.2956517376051143,0.8071278223960963,0.5465689113565191,-0.5794460834083729,-0.9062185244011346,0.44651708300228654,-0.9425061934030301,-0.4059410210065884,-0.43740746211463166,0.7754524909527197,-0.9277762596815061,-0.7962940798281396,0.05260430732203791,-0.3650659601734163,-0.7993079789842892,-0.10885399796292627,-1.1668387301479732,-0.39506106615765013,-0.057560349238062636,-0.672582631405386,0.020540518554147347,-1.0108891115325982,1.3777414678482733,-1.0380806709402792,0.6935723147892585,-1.2703086712770788,-0.8699622739463135,1.1057958797716925,0.8186226342157972,0.7492654002062303,-0.6554244392039525,-0.8945698397812429,0.7904562864948383,1.291392626192346,-0.6270208084233202,-0.35414438601250176,-0.36734400530812794,1.1954638128483652,0.06517268010585225,-0.5184554578479164,0.6489249849379757,-0.7856013269850082,-0.989216436789379,0.2914373114415275,0.3992042708903619,0.930617978677942,1.0012505670031437,-0.8216138300652754,-0.12487425018239726,-0.7198117262276464,0.37568531431217217,1.274486789150005,0.6422162142861194,-1.2932103742863468,1.0320212272283074,0.5939151825369673,0.41971327734761554,-0.23740853022333155,0.24069914132991657,-1.057364151763499,-0.5938705127013415,-1.2431413627092518,-0.33869164911492483,-0.7330261906090078,0.9542685114229795,1.1982039213213986,0.38110611587162546,-1.5831083922527114,-0.6636491479991972,1.3023341219486781,-1.0249419920903708,-1.2498520044819545,-0.07884226642691516,-0.6864273940172954,0.6361415340160806,-0.7327060518447173,0.2209730617033703,0.3233322943913309,0.7244485341373301,0.3977677774680105,-0.13710937435703396,-0.15781611318362676,-0.7865533292783238,-0.5751881583423275,1.1741854371276772,-0.6838201747974808,1.4618103414938797,-0.8341200975481142,-1.3500804268101603,-0.411398595115449,0.025813477725316614,1.0817370154315364,0.8778679635103954,-0.5466394437908982,0.08873947729334941,-0.34418655128370934,-0.7173089530077157,0.7195059194720533,-0.8458753406984929,-0.5894833388599678,0.701816140234276,-0.5177684971180758,1.2081064087481173,0.8445416757275923,-0.24888065362224476,0.8390668191997182,-0.9726760201960699,-0.00455553369805356,-0.7412349476755493,0.8247828600723066,1.5309533362693128,-1.3784802645475351,-1.080339196392167,0.6032965552082864,-1.2288394487879926,0.8350778262445333,0.6263760768006982,-0.8818257198548213,-0.4785832187972555,0.6782801100784889,0.1822995305248647,0.013395987655477115,1.114630776785646,-0.2952311853834194,0.5645986687122435,0.16658463643558194,0.7817479686949003,-0.503321931517426,0.5817699328187049,0.41648168473445574,0.22039998910322564,0.41803251859791457,0.42808793563274794,0.8206418003671929,1.1453747556845721,-0.9958011984882507,-0.8683279754389164,-0.010417446508963868,-0.30686949740129915,0.5041923189061328,-0.09650113282730861,-1.048886524636635,0.9366675581599455,1.0402771252142662,0.8308903905527757,-0.4951482172199076,-0.8860093871478052,-0.09760775637805458,-0.8385367170183455,0.13115619474597734,-0.380102249425841,-0.8909787922837775,-0.8632793294670478,-0.6635657247962665,0.9872828996958465,-0.6469529595938923,0.23311254204755052,0.1459925664155879,0.549220667963146,-0.18058076238901183,0.11866197259195288,0.930265943379712,-1.221824973824312,-0.6969365975157635,-0.8175461129629413,0.1961409286866172,0.7029107353444926,-0.1626358153416299,0.821205050767111,-0.5540280083898097,0.6167938607762266,-0.33184218413802685,1.2697206083305894,-0.5144743160236787,-0.6703694814123025,0.34322081960705786,1.0915913540558362,0.25884851050472174,-1.459823108897868,-0.9960846519654054,-1.1581848629435179,-0.5775976250552135,-1.15898774151384,-0.1552651823740106,0.7042803796951517,0.013476222666819027,-1.0024883268160565,1.7666183750017121,-0.3273252997649854,-0.9004747634798366,-0.25337978072176837,-0.023120259332582382,0.7656830400470235,-1.107575357534012,0.13728050453900634,-1.2912137543056317,-0.8451049894404072,0.7861221959056622,-0.660808596974748,-0.13566251840641008,0.06011000044271263,-1.030139036722925,0.24227544573711227,-0.6048625013917341,-0.8726436908197143,-0.7391521549719381,0.7502827942689465,0.6556919166479561,0.5552869459756291,-0.333928082590945,0.5901802228372278,-0.7914856382452025,0.9710709004767639,0.7467873010400085,0.7468937480979275,0.6223853283144115,-0.3790116338756551,0.5807371022198944,-0.5911718539830015,-0.6146818162400405,-0.6120289436827556,-0.22447418734140528,1.0870112515487373,0.8445200322008912,-1.113000574750649,-0.6744364652850401,0.8174527215537984,1.131452537105046,-0.8344636585725467,0.8760231449670731,-1.0135589423407447,-1.2760986497842253,0.39734113536128246,1.2317651875777105,0.712559364358921,-0.8797746227197175,0.07606486510222935,0.09327439039469658,-0.09063618775917845,0.26219675691387456,0.8053502195419593,0.49345338133125677,0.5482613110909483,-0.24985668293816332,-0.5771320107582594,0.2510681906267235,-0.29887813275988523,-1.1041963289446548,-0.6065911675336684,0.024871212963119227,0.9181086791743074,1.0375440932962776,0.34713862547687296,0.8621865283279206,-0.012197973957884682,-0.3760291608917973,0.3325413558924207,-1.4002960768119566,0.8506775126050313,-0.5382533935473046,0.3493418641348333,-0.6761823714538402,-0.020827829306111684,0.8223735514367065,0.4456809385139435,-0.3278709511012268,-0.6779046975287288,0.5362316126201045,0.33510889030371793,0.9292303959040477,-0.8356809478240244,-0.7579179827673699,0.47298081443658185,-0.7182951534857882,-0.4583882217215633,-0.7570210841873766,-0.31853719386422746,-0.660049748040102,1.1172408631135606,0.4765671735843512,1.1810457324205499,0.7353140874516786,0.5139457119019955,-0.19988074623665258,-0.9591104841689486,0.8952686008721763,0.3592056452064009,-0.8019526477446707,-1.4478963448638043,-0.5420464428687576,0.8382330924025775,0.5303656806901821,0.23323964425388927,-0.8625398429407305,0.8706346240197045,0.0371702875691422,-0.1641608343482503,0.25133306954764495,0.16289717407773935,-0.3520992982903526,0.5452475992117617,1.1973664852633528,-0.7173080539298864,0.03721308531864914,0.9874842072929195,1.069648912328611,0.395925400587234,-0.873313532779737,1.3094605085394821,0.3851366393798294,1.317030675772041,-0.5110526560712882,0.9675442012044194,0.03683307451321023,-0.6359105505835038,-0.7257338805851751,1.049818897423586,0.7395180612773966,0.004691064738261225,1.0677201515756352,-0.9310384022079867,0.6157793202206612,-0.42455908162648553,0.8119302193923927,-0.21269205039606404,-0.028767133408772877,0.05137477171163102,0.6010767859090678,0.6978282485451807,0.340946414285593,0.3292785408656717,0.7611999495801637,-0.6882778202888977,0.8598454735491728,-0.9219284799745512,0.6391112672259216,0.9345422865092973,-0.8955114742313512,-0.7063810512514622,-0.2645307498897245,1.6048910983610474,0.8681151223935574,-0.8800585209285023,1.2048336199139051,1.3157120193508196,-0.9875906070561506,-0.7925587367136491,1.0796806095269345,0.5811473225482269,0.31186732505094006,0.3815565453617238,1.1110219254965361,-1.1582774127110353,-0.793416976825472,-0.7089664240187931,-0.7039803553098072],\"xaxis\":\"x\",\"y\":[1.0065968524879714,1.0171702270862526,1.20158759252147,0.6333331242677738,0.2125478815008086,1.280198284631695,0.29635745632555777,0.7925721447830874,0.7306975861542878,0.6796883983717265,-0.135504497159733,0.9757621024968184,0.8290174625685236,0.6414675927738203,0.6349239082415875,1.114308909563242,0.08685235477396594,0.3634691789469845,1.2465537766899273,0.7578715007714598,0.7347891887172938,0.038210795862316765,0.23883037771389537,0.5858744818562349,0.9860933982367375,0.7617576874595537,-0.30787091385539433,0.9697170484870732,0.8222621155914598,0.7090223546576256,1.409415993761654,0.4563721128418081,1.3812356450661674,0.007791251769063534,0.6304491676474191,0.2479129976383632,0.08173803921033171,0.37197765698709195,0.8157639377640636,0.7767753621731563,1.5290682907250517,0.6532668959136465,0.5755901851844195,0.8701370085801587,0.015290902061648695,-0.09907506419158922,1.0093344797858363,0.3139686962853766,1.1774912957725494,0.22664505666002338,0.5795566299580488,0.6111359185844636,1.1755353957740309,1.3217139183906448,0.48506791925409554,0.9347350191076317,0.7735123793918941,1.2783238267729886,0.29712153918181317,1.1699533668865192,0.7667802371117919,0.8819963944417522,0.7583417401057894,1.0038736786050118,1.178876841383642,0.622550357515484,0.5950948580501783,0.31211355712005046,0.43250533253178425,0.8535321111103437,0.9829771714668969,0.6197950788756996,0.36934013913216224,0.30503087768500176,-0.12841865424172028,1.3966986352289492,0.006471813734735446,1.3102510832782592,0.24226634215817316,0.30351361859625364,0.4703304864712089,0.4600362187747672,1.3074120663963402,0.8842488319564379,0.9071352595126134,0.754719189365983,0.9765089940735201,1.0094852944088792,0.48736255326075345,1.1658717415537205,0.722067441248708,0.048054175822113576,-0.8333094515235724,0.9376218370787216,0.5738990502998076,0.7893354746076441,1.095899934008432,0.8020133425397656,0.2231437885766678,0.4061249989206335,-0.05536473471505521,0.5399877780277886,0.22621421884363724,0.26317945272224186,0.46844548491764526,-0.37169793359589803,-0.01367872926152231,1.0640404900118448,1.0892974739695656,0.07578802056645245,0.7362999565569504,0.6684254513418529,0.6339034059403647,0.470638231320221,0.7933488948901055,1.1950627014071058,0.7074925758911783,0.5183771264309006,0.3267318938764934,1.1379651571212273,0.3001870742002954,-0.2835888720566169,0.0009281404675577365,1.263399886248787,0.7013021781149065,0.7789709560911988,0.6523004375514826,0.6569215738365661,0.8990227606251677,0.8578132950344388,-0.1579858333386313,1.0799228461710282,0.7750960259180482,0.4420730712956803,1.200593919876757,0.8219910389849263,1.03822985146456,0.37224713957651995,1.2401756344665507,0.4248396690692616,0.19164070867560518,0.058811034313316975,0.13697748863448783,0.7502516068754757,0.38714905271259153,0.06699542761721444,0.8916939369762062,0.944884570767514,1.431794556451135,1.1716850654606366,0.19637106785708802,0.9636610417126796,0.7530629931625458,0.13195630800005897,0.44657438581762904,0.3839022333681026,0.4393647659807478,1.0722743376429906,0.9877079311386716,1.0039912446001282,0.22067799640569144,0.6385350101709878,0.770368839721017,0.6670479482077842,1.3942861601805805,1.157238150119428,-0.1061643819410587,-0.01655648834318115,0.3291466778296539,0.34747377123653683,0.1448958292788925,0.6062793934976574,-0.17441407667243347,0.7229666142237897,0.27573304935126297,0.4698129460598526,0.7837122803266744,0.3906037151593795,0.5077148879578989,0.703703552195851,0.945968737924736,0.3437648167226842,0.6027074457159534,0.8070071461376334,0.9446317331458772,1.0042677506092024,0.1892306774797179,1.6701903793383202,0.7164761440029283,-0.06062646568658031,0.22356323925635496,0.892805169233396,0.7419102709390383,1.1564490482078782,0.5421777342819156,0.08498841493450224,0.1554239936920106,0.39686570277157257,0.1522324131600028,0.42345581846505853,1.1879795452974693,0.6817447417244655,1.0877922102074196,0.19312301015333014,0.4799230901926245,0.8182674211496932,1.2707234726991157,1.0007374860486935,0.34693923565561346,0.13945014135338477,1.3553595518314554,0.3757930558158305,0.8399437510109901,0.4614349055989916,0.17370182312381305,0.22512929763363715,0.8689359003803145,0.4474050550172103,0.8503081878775532,0.6254022936465955,1.339909611670123,0.9445897708131988,-0.26523279121063187,0.7073502069937239,1.4735157401240824,0.7972715853275336,0.006184573137060834,0.5675967343788337,0.4115737727348662,0.287160999545227,-0.051992972617068645,1.0027281869763167,-0.2591579209804253,0.952546473032348,1.5329029568011836,0.48854671973666297,0.8276257113148496,0.7394771159857673,0.7215385838127175,0.4364617134683584,0.3159930836434567,0.5370625775884162,0.36089415456344115,1.047614378601507,0.14050627847159747,0.9208906072518869,0.06901207177517929,-0.14947385918238548,0.7453674919805858,-0.029408525258042217,-0.03209168632976625,0.7114122824899414,0.31653179142602283,1.331377188675935,0.9207912259237464,0.09790686358390654,0.4557014751297035,1.0329106608249734,0.5997788517029743,1.0750385101494875,0.13314617595449285,0.8028022441813287,0.23119764263956566,0.8779632185943482,0.2771360835967091,0.5252699210999217,0.5269678589357516,0.9390991546743886,0.5963393828508513,1.016506949238502,0.6251111386313408,0.19053415674698976,0.015199843358180143,1.0258112988583488,0.7153842381041421,1.0895170173289683,1.461295665677948,0.6433089228350982,0.7200011924612246,0.6379249207774806,0.40263775271808194,0.9012266231273548,0.6713981125505197,0.1281501791433537,0.7161521275117639,0.8765534491769151,0.897006056198359,0.6514942278248689,-0.017236997217329603,0.5272365275815887,0.6180058648749119,0.8972418156439753,0.5723831842580416,1.3553408023105302,0.4860828995327291,0.11052874770048111,-0.056944869289424827,1.2035503411026192,0.6669167783575443,0.9658220985477033,0.6006338230402268,1.0176672373734512,0.4887376899418863,1.1764181191627636,0.11327867070996939,0.44098606371566845,-0.046746520755407694,0.2559046714140346,0.4112326540400288,0.6259750277199567,0.9017348780661807,0.6851914947047879,0.07448742455019333,0.8567010403147183,0.6022767293110093,1.2563073403639988,0.21353196442012762,1.0874644920283207,0.38474851242180463,1.3526404605960423,0.6673084759565293,0.7438619106312445,0.5306457217755265,0.4167408654446589,1.237934241726956,0.5022693948968165,0.10167030287515466,1.3780734631766787,0.6661102414509843,0.8501274664408485,-0.08311264290980303,0.41905684665144244,0.6594756128456971,0.5675180315234025,1.148879758371714,0.9636583176695971,0.43974291468317317,0.5863761129354126,1.0947878170258265,0.4069526206810699,0.2746526400384609,1.087944125313357,0.8829859467113169,0.8878030243817272,1.3535724250905588,-0.03986105303824952,0.9425263101668715,0.3101557125583181,0.8533173257672795,0.4912213126883084,-0.19053986030807646,1.3226508109465382,0.4543788020631918,1.085521520155784,0.8816884576603001,1.0429225097491117,0.2562300810307477,-0.07058293142595176,0.0349944133754906,0.7370906035966357,0.5479228822363884,0.5702522907035401,0.6548837088896696,0.16203749957981334,0.49639572937055687,0.8200884014469434,0.796321448123428,0.004398483909612574,0.5040696795660105,0.8300042711859632,0.6194618986972686,0.019211106557954938,0.2905767225873918,-0.1928915548234518,-0.07959365361417325,0.3586612145603729,1.310053884040236,0.04294053647264054,0.6115723582515783,0.7024968613032744,1.424575005034466,0.6718266056842419,0.9113192270841337,0.6442994733725902,0.14126813694310758,0.9237358354708525,0.8451075341225346,-0.3169200101833427,0.7581263032763518,0.7809858334679258,0.7916810744566887,0.11577432885870043,0.9763729810810593,0.6014126043028669,0.8096651910070056,0.06878913513369415,0.7022839310611253,-0.09666788927040632,1.0968445625600098,1.291765048969883,0.8623748989837355,-0.09055991527525821,0.5985797553657666,1.2174091757368972,1.2093934766471208,0.5853437419830956,0.7170485742947356,0.7419553106549552,0.9457973481732828,1.3988049958467923,0.5228458831964723,0.6920835735149309,0.8184529846536222,0.23262828417324147,0.16651205335184277,0.03832167092802162,0.7944043314845668,0.2593854496713889,0.9234436865541247,0.314109044299576,0.9333177978207008,0.16946671964346752,0.9919096351125858,0.9154664195052388,0.1427404371962388,0.23735770081576968,0.892231710402322,0.950634796856135,0.8802965624130582,0.40870786123066816,0.6122623157354514,0.6921058486616636,-0.33711822002532543,1.1044490832924252,0.6283654024754077,0.8705630600648628,1.0964949526744097,0.8902505830734544,1.0384253729309414,0.9357429406505401,0.768343577587857,0.8936569776638451,1.223456384923077,0.255056189627359,1.3825625982610643,0.2229663806875855,1.1333069700000402,0.9997372971354629,0.475250205688419,0.02092067700520092,0.5411836832334544,0.7708789343893945,0.5299366897064685,1.2975750793451606,0.23062683575001186,0.7945415965579745,0.6063137440959365,1.4255687667341963,0.5626132331509451,0.721178468878519,0.8015255106162907,0.8476339470513292,1.1447623081006442,0.5027613193629478,0.4641370807866312,0.6651758575463982,0.5879489421123212,0.6449947715552565,0.979062746405079,1.058459372629155,1.0323207117344013,-0.10707457389902814,0.44039484777017956,0.9613178957923858,0.9259764208009178,0.19661549515459217,0.22263887016127826,0.9050520370418116,0.24991227704183422,-0.0035190598036409226,-0.11992468087546565,0.6961023672881591,0.9792828228335773,0.9553434079525384,0.6541410013018856,1.0060280584410783,0.25310851224054665,0.20714523252462425,0.14927066919253912,0.7364310214368127,0.41222347625168887,0.7040246236449993,1.0077726544008798,0.8316229107065909,0.9802973564883221,0.1779181026918682,0.07139313910126929,0.37683296652767806,0.4555771168352788,0.5613574286312569],\"yaxis\":\"y\"}],                        {\"legend\":{\"title\":{\"text\":\"label\"},\"tracegroupgap\":0},\"margin\":{\"t\":60},\"template\":{\"data\":{\"bar\":[{\"error_x\":{\"color\":\"#2a3f5f\"},\"error_y\":{\"color\":\"#2a3f5f\"},\"marker\":{\"line\":{\"color\":\"#E5ECF6\",\"width\":0.5},\"pattern\":{\"fillmode\":\"overlay\",\"size\":10,\"solidity\":0.2}},\"type\":\"bar\"}],\"barpolar\":[{\"marker\":{\"line\":{\"color\":\"#E5ECF6\",\"width\":0.5},\"pattern\":{\"fillmode\":\"overlay\",\"size\":10,\"solidity\":0.2}},\"type\":\"barpolar\"}],\"carpet\":[{\"aaxis\":{\"endlinecolor\":\"#2a3f5f\",\"gridcolor\":\"white\",\"linecolor\":\"white\",\"minorgridcolor\":\"white\",\"startlinecolor\":\"#2a3f5f\"},\"baxis\":{\"endlinecolor\":\"#2a3f5f\",\"gridcolor\":\"white\",\"linecolor\":\"white\",\"minorgridcolor\":\"white\",\"startlinecolor\":\"#2a3f5f\"},\"type\":\"carpet\"}],\"choropleth\":[{\"colorbar\":{\"outlinewidth\":0,\"ticks\":\"\"},\"type\":\"choropleth\"}],\"contour\":[{\"colorbar\":{\"outlinewidth\":0,\"ticks\":\"\"},\"colorscale\":[[0.0,\"#0d0887\"],[0.1111111111111111,\"#46039f\"],[0.2222222222222222,\"#7201a8\"],[0.3333333333333333,\"#9c179e\"],[0.4444444444444444,\"#bd3786\"],[0.5555555555555556,\"#d8576b\"],[0.6666666666666666,\"#ed7953\"],[0.7777777777777778,\"#fb9f3a\"],[0.8888888888888888,\"#fdca26\"],[1.0,\"#f0f921\"]],\"type\":\"contour\"}],\"contourcarpet\":[{\"colorbar\":{\"outlinewidth\":0,\"ticks\":\"\"},\"type\":\"contourcarpet\"}],\"heatmap\":[{\"colorbar\":{\"outlinewidth\":0,\"ticks\":\"\"},\"colorscale\":[[0.0,\"#0d0887\"],[0.1111111111111111,\"#46039f\"],[0.2222222222222222,\"#7201a8\"],[0.3333333333333333,\"#9c179e\"],[0.4444444444444444,\"#bd3786\"],[0.5555555555555556,\"#d8576b\"],[0.6666666666666666,\"#ed7953\"],[0.7777777777777778,\"#fb9f3a\"],[0.8888888888888888,\"#fdca26\"],[1.0,\"#f0f921\"]],\"type\":\"heatmap\"}],\"heatmapgl\":[{\"colorbar\":{\"outlinewidth\":0,\"ticks\":\"\"},\"colorscale\":[[0.0,\"#0d0887\"],[0.1111111111111111,\"#46039f\"],[0.2222222222222222,\"#7201a8\"],[0.3333333333333333,\"#9c179e\"],[0.4444444444444444,\"#bd3786\"],[0.5555555555555556,\"#d8576b\"],[0.6666666666666666,\"#ed7953\"],[0.7777777777777778,\"#fb9f3a\"],[0.8888888888888888,\"#fdca26\"],[1.0,\"#f0f921\"]],\"type\":\"heatmapgl\"}],\"histogram\":[{\"marker\":{\"pattern\":{\"fillmode\":\"overlay\",\"size\":10,\"solidity\":0.2}},\"type\":\"histogram\"}],\"histogram2d\":[{\"colorbar\":{\"outlinewidth\":0,\"ticks\":\"\"},\"colorscale\":[[0.0,\"#0d0887\"],[0.1111111111111111,\"#46039f\"],[0.2222222222222222,\"#7201a8\"],[0.3333333333333333,\"#9c179e\"],[0.4444444444444444,\"#bd3786\"],[0.5555555555555556,\"#d8576b\"],[0.6666666666666666,\"#ed7953\"],[0.7777777777777778,\"#fb9f3a\"],[0.8888888888888888,\"#fdca26\"],[1.0,\"#f0f921\"]],\"type\":\"histogram2d\"}],\"histogram2dcontour\":[{\"colorbar\":{\"outlinewidth\":0,\"ticks\":\"\"},\"colorscale\":[[0.0,\"#0d0887\"],[0.1111111111111111,\"#46039f\"],[0.2222222222222222,\"#7201a8\"],[0.3333333333333333,\"#9c179e\"],[0.4444444444444444,\"#bd3786\"],[0.5555555555555556,\"#d8576b\"],[0.6666666666666666,\"#ed7953\"],[0.7777777777777778,\"#fb9f3a\"],[0.8888888888888888,\"#fdca26\"],[1.0,\"#f0f921\"]],\"type\":\"histogram2dcontour\"}],\"mesh3d\":[{\"colorbar\":{\"outlinewidth\":0,\"ticks\":\"\"},\"type\":\"mesh3d\"}],\"parcoords\":[{\"line\":{\"colorbar\":{\"outlinewidth\":0,\"ticks\":\"\"}},\"type\":\"parcoords\"}],\"pie\":[{\"automargin\":true,\"type\":\"pie\"}],\"scatter\":[{\"marker\":{\"colorbar\":{\"outlinewidth\":0,\"ticks\":\"\"}},\"type\":\"scatter\"}],\"scatter3d\":[{\"line\":{\"colorbar\":{\"outlinewidth\":0,\"ticks\":\"\"}},\"marker\":{\"colorbar\":{\"outlinewidth\":0,\"ticks\":\"\"}},\"type\":\"scatter3d\"}],\"scattercarpet\":[{\"marker\":{\"colorbar\":{\"outlinewidth\":0,\"ticks\":\"\"}},\"type\":\"scattercarpet\"}],\"scattergeo\":[{\"marker\":{\"colorbar\":{\"outlinewidth\":0,\"ticks\":\"\"}},\"type\":\"scattergeo\"}],\"scattergl\":[{\"marker\":{\"colorbar\":{\"outlinewidth\":0,\"ticks\":\"\"}},\"type\":\"scattergl\"}],\"scattermapbox\":[{\"marker\":{\"colorbar\":{\"outlinewidth\":0,\"ticks\":\"\"}},\"type\":\"scattermapbox\"}],\"scatterpolar\":[{\"marker\":{\"colorbar\":{\"outlinewidth\":0,\"ticks\":\"\"}},\"type\":\"scatterpolar\"}],\"scatterpolargl\":[{\"marker\":{\"colorbar\":{\"outlinewidth\":0,\"ticks\":\"\"}},\"type\":\"scatterpolargl\"}],\"scatterternary\":[{\"marker\":{\"colorbar\":{\"outlinewidth\":0,\"ticks\":\"\"}},\"type\":\"scatterternary\"}],\"surface\":[{\"colorbar\":{\"outlinewidth\":0,\"ticks\":\"\"},\"colorscale\":[[0.0,\"#0d0887\"],[0.1111111111111111,\"#46039f\"],[0.2222222222222222,\"#7201a8\"],[0.3333333333333333,\"#9c179e\"],[0.4444444444444444,\"#bd3786\"],[0.5555555555555556,\"#d8576b\"],[0.6666666666666666,\"#ed7953\"],[0.7777777777777778,\"#fb9f3a\"],[0.8888888888888888,\"#fdca26\"],[1.0,\"#f0f921\"]],\"type\":\"surface\"}],\"table\":[{\"cells\":{\"fill\":{\"color\":\"#EBF0F8\"},\"line\":{\"color\":\"white\"}},\"header\":{\"fill\":{\"color\":\"#C8D4E3\"},\"line\":{\"color\":\"white\"}},\"type\":\"table\"}]},\"layout\":{\"annotationdefaults\":{\"arrowcolor\":\"#2a3f5f\",\"arrowhead\":0,\"arrowwidth\":1},\"autotypenumbers\":\"strict\",\"coloraxis\":{\"colorbar\":{\"outlinewidth\":0,\"ticks\":\"\"}},\"colorscale\":{\"diverging\":[[0,\"#8e0152\"],[0.1,\"#c51b7d\"],[0.2,\"#de77ae\"],[0.3,\"#f1b6da\"],[0.4,\"#fde0ef\"],[0.5,\"#f7f7f7\"],[0.6,\"#e6f5d0\"],[0.7,\"#b8e186\"],[0.8,\"#7fbc41\"],[0.9,\"#4d9221\"],[1,\"#276419\"]],\"sequential\":[[0.0,\"#0d0887\"],[0.1111111111111111,\"#46039f\"],[0.2222222222222222,\"#7201a8\"],[0.3333333333333333,\"#9c179e\"],[0.4444444444444444,\"#bd3786\"],[0.5555555555555556,\"#d8576b\"],[0.6666666666666666,\"#ed7953\"],[0.7777777777777778,\"#fb9f3a\"],[0.8888888888888888,\"#fdca26\"],[1.0,\"#f0f921\"]],\"sequentialminus\":[[0.0,\"#0d0887\"],[0.1111111111111111,\"#46039f\"],[0.2222222222222222,\"#7201a8\"],[0.3333333333333333,\"#9c179e\"],[0.4444444444444444,\"#bd3786\"],[0.5555555555555556,\"#d8576b\"],[0.6666666666666666,\"#ed7953\"],[0.7777777777777778,\"#fb9f3a\"],[0.8888888888888888,\"#fdca26\"],[1.0,\"#f0f921\"]]},\"colorway\":[\"#636efa\",\"#EF553B\",\"#00cc96\",\"#ab63fa\",\"#FFA15A\",\"#19d3f3\",\"#FF6692\",\"#B6E880\",\"#FF97FF\",\"#FECB52\"],\"font\":{\"color\":\"#2a3f5f\"},\"geo\":{\"bgcolor\":\"white\",\"lakecolor\":\"white\",\"landcolor\":\"#E5ECF6\",\"showlakes\":true,\"showland\":true,\"subunitcolor\":\"white\"},\"hoverlabel\":{\"align\":\"left\"},\"hovermode\":\"closest\",\"mapbox\":{\"style\":\"light\"},\"paper_bgcolor\":\"white\",\"plot_bgcolor\":\"#E5ECF6\",\"polar\":{\"angularaxis\":{\"gridcolor\":\"white\",\"linecolor\":\"white\",\"ticks\":\"\"},\"bgcolor\":\"#E5ECF6\",\"radialaxis\":{\"gridcolor\":\"white\",\"linecolor\":\"white\",\"ticks\":\"\"}},\"scene\":{\"xaxis\":{\"backgroundcolor\":\"#E5ECF6\",\"gridcolor\":\"white\",\"gridwidth\":2,\"linecolor\":\"white\",\"showbackground\":true,\"ticks\":\"\",\"zerolinecolor\":\"white\"},\"yaxis\":{\"backgroundcolor\":\"#E5ECF6\",\"gridcolor\":\"white\",\"gridwidth\":2,\"linecolor\":\"white\",\"showbackground\":true,\"ticks\":\"\",\"zerolinecolor\":\"white\"},\"zaxis\":{\"backgroundcolor\":\"#E5ECF6\",\"gridcolor\":\"white\",\"gridwidth\":2,\"linecolor\":\"white\",\"showbackground\":true,\"ticks\":\"\",\"zerolinecolor\":\"white\"}},\"shapedefaults\":{\"line\":{\"color\":\"#2a3f5f\"}},\"ternary\":{\"aaxis\":{\"gridcolor\":\"white\",\"linecolor\":\"white\",\"ticks\":\"\"},\"baxis\":{\"gridcolor\":\"white\",\"linecolor\":\"white\",\"ticks\":\"\"},\"bgcolor\":\"#E5ECF6\",\"caxis\":{\"gridcolor\":\"white\",\"linecolor\":\"white\",\"ticks\":\"\"}},\"title\":{\"x\":0.05},\"xaxis\":{\"automargin\":true,\"gridcolor\":\"white\",\"linecolor\":\"white\",\"ticks\":\"\",\"title\":{\"standoff\":15},\"zerolinecolor\":\"white\",\"zerolinewidth\":2},\"yaxis\":{\"automargin\":true,\"gridcolor\":\"white\",\"linecolor\":\"white\",\"ticks\":\"\",\"title\":{\"standoff\":15},\"zerolinecolor\":\"white\",\"zerolinewidth\":2}}},\"xaxis\":{\"anchor\":\"y\",\"domain\":[0.0,1.0],\"title\":{\"text\":\"x\"}},\"yaxis\":{\"anchor\":\"x\",\"domain\":[0.0,1.0],\"title\":{\"text\":\"y\"}}},                        {\"responsive\": true}                    ).then(function(){\n",
       "                            \n",
       "var gd = document.getElementById('ccf7bed0-e2d2-4ea7-9d82-089512a86e97');\n",
       "var x = new MutationObserver(function (mutations, observer) {{\n",
       "        var display = window.getComputedStyle(gd).display;\n",
       "        if (!display || display === 'none') {{\n",
       "            console.log([gd, 'removed!']);\n",
       "            Plotly.purge(gd);\n",
       "            observer.disconnect();\n",
       "        }}\n",
       "}});\n",
       "\n",
       "// Listen for the removal of the full notebook cells\n",
       "var notebookContainer = gd.closest('#notebook-container');\n",
       "if (notebookContainer) {{\n",
       "    x.observe(notebookContainer, {childList: true});\n",
       "}}\n",
       "\n",
       "// Listen for the clearing of the current output cell\n",
       "var outputEl = gd.closest('.output');\n",
       "if (outputEl) {{\n",
       "    x.observe(outputEl, {childList: true});\n",
       "}}\n",
       "\n",
       "                        })                };                });            </script>        </div>"
      ]
     },
     "metadata": {},
     "output_type": "display_data"
    }
   ],
   "source": [
    "px.scatter(moons_df, x='x', y='y', color = 'label')"
   ]
  },
  {
   "cell_type": "code",
   "execution_count": 56,
   "id": "48c4d95c-3cad-4596-a8b3-29d67aa9859c",
   "metadata": {},
   "outputs": [
    {
     "data": {
      "application/vnd.jupyter.widget-view+json": {
       "model_id": "113d27e9648643749b8feb55d6c5b393",
       "version_major": 2,
       "version_minor": 0
      },
      "text/plain": [
       "interactive(children=(FloatSlider(value=0.0, description='noise_level', max=0.5, step=0.05), Output()), _dom_c…"
      ]
     },
     "metadata": {},
     "output_type": "display_data"
    }
   ],
   "source": [
    "@widgets.interact\n",
    "def plot_noisy_moons(noise_level = widgets.FloatSlider(value=0, min=0, max=0.5, step=0.05)):\n",
    "    points, label = make_moons(n_samples=1000, noise=noise_level)\n",
    "    moons_df = pd.DataFrame(points, columns=['x','y'])\n",
    "    moons_df['label'] = label\n",
    "    moons_df.label = moons_df.label.map({0:'A', 1:'B'})\n",
    "    return px.scatter(moons_df, x='x', y='y', color = 'label')"
   ]
  },
  {
   "cell_type": "markdown",
   "id": "a3299f00-00b8-4703-8568-35de2913a487",
   "metadata": {},
   "source": [
    "## Circles Dataset"
   ]
  },
  {
   "cell_type": "code",
   "execution_count": 44,
   "id": "b0094b71-e91b-438a-9ecf-c69d3e81ef7f",
   "metadata": {},
   "outputs": [],
   "source": [
    "from sklearn.datasets import make_circles"
   ]
  },
  {
   "cell_type": "code",
   "execution_count": 49,
   "id": "96f270cc-6ce4-4bea-9884-e4bb14e2763d",
   "metadata": {},
   "outputs": [],
   "source": [
    "def make_circles_dataframe(n_samples, noise_level):\n",
    "    points, label = make_circles(n_samples=n_samples, noise=noise_level)\n",
    "    circles_df = pd.DataFrame(points, columns=['x','y'])\n",
    "    circles_df['label'] = label\n",
    "    circles_df.label = circles_df.label.map({0:'A', 1:'B'})\n",
    "    return circles_df"
   ]
  },
  {
   "cell_type": "code",
   "execution_count": 52,
   "id": "14b1498d-60e1-429e-a122-f120f5ed5720",
   "metadata": {},
   "outputs": [
    {
     "data": {
      "text/html": [
       "<div>\n",
       "<style scoped>\n",
       "    .dataframe tbody tr th:only-of-type {\n",
       "        vertical-align: middle;\n",
       "    }\n",
       "\n",
       "    .dataframe tbody tr th {\n",
       "        vertical-align: top;\n",
       "    }\n",
       "\n",
       "    .dataframe thead th {\n",
       "        text-align: right;\n",
       "    }\n",
       "</style>\n",
       "<table border=\"1\" class=\"dataframe\">\n",
       "  <thead>\n",
       "    <tr style=\"text-align: right;\">\n",
       "      <th></th>\n",
       "      <th>x</th>\n",
       "      <th>y</th>\n",
       "      <th>label</th>\n",
       "    </tr>\n",
       "  </thead>\n",
       "  <tbody>\n",
       "    <tr>\n",
       "      <th>0</th>\n",
       "      <td>0.569229</td>\n",
       "      <td>0.562120</td>\n",
       "      <td>B</td>\n",
       "    </tr>\n",
       "    <tr>\n",
       "      <th>1</th>\n",
       "      <td>-0.260842</td>\n",
       "      <td>0.965382</td>\n",
       "      <td>A</td>\n",
       "    </tr>\n",
       "    <tr>\n",
       "      <th>2</th>\n",
       "      <td>0.236499</td>\n",
       "      <td>-0.971632</td>\n",
       "      <td>A</td>\n",
       "    </tr>\n",
       "    <tr>\n",
       "      <th>3</th>\n",
       "      <td>0.012566</td>\n",
       "      <td>0.999921</td>\n",
       "      <td>A</td>\n",
       "    </tr>\n",
       "    <tr>\n",
       "      <th>4</th>\n",
       "      <td>0.719524</td>\n",
       "      <td>0.349693</td>\n",
       "      <td>B</td>\n",
       "    </tr>\n",
       "  </tbody>\n",
       "</table>\n",
       "</div>"
      ],
      "text/plain": [
       "          x         y label\n",
       "0  0.569229  0.562120     B\n",
       "1 -0.260842  0.965382     A\n",
       "2  0.236499 -0.971632     A\n",
       "3  0.012566  0.999921     A\n",
       "4  0.719524  0.349693     B"
      ]
     },
     "execution_count": 52,
     "metadata": {},
     "output_type": "execute_result"
    }
   ],
   "source": [
    "circles_df = make_circles_dataframe(n_samples=500, noise_level=0)\n",
    "circles_df.head()"
   ]
  },
  {
   "cell_type": "code",
   "execution_count": 53,
   "id": "bb0f7ebf-e5eb-47fd-8e0e-7e6b69c657aa",
   "metadata": {},
   "outputs": [
    {
     "data": {
      "application/vnd.plotly.v1+json": {
       "config": {
        "plotlyServerURL": "https://plot.ly"
       },
       "data": [
        {
         "hovertemplate": "label=B<br>x=%{x}<br>y=%{y}<extra></extra>",
         "legendgroup": "B",
         "marker": {
          "color": "#636efa",
          "symbol": "circle"
         },
         "mode": "markers",
         "name": "B",
         "orientation": "v",
         "showlegend": true,
         "type": "scatter",
         "x": [
          0.5692285417674283,
          0.7195242012530969,
          -0.5402662464968195,
          -0.6700224320337134,
          -0.6700224320337135,
          0.5252686046023655,
          0.28512950297060063,
          -0.010052831906682318,
          -0.6807955854357536,
          -0.3223251485709302,
          0.7105091590508357,
          -0.658826078102742,
          0.7977271202084912,
          0.6351923189182686,
          -0.798989565284814,
          -0.7936917610515823,
          -0.3223251485709302,
          0.7936917610515823,
          0.5402662464968196,
          -0.24721359549995806,
          0.07028095724059429,
          -0.14990505166857968,
          0.5831749019371293,
          -0.79974735142664,
          0.46205816273781386,
          0.7280847765479965,
          0.658826078102742,
          0.37656314573226607,
          0.8,
          -0.5099391917989518,
          0.14990505166857962,
          0.49428769047226756,
          -0.010052831906682123,
          -0.7195242012530968,
          0.46205816273781414,
          0.719524201253097,
          -0.7638916357973143,
          -0.03015214613594766,
          -0.35870657287202556,
          0.7876514676233644,
          -0.7696221372688687,
          0.05023241562345098,
          -0.7838840419073976,
          0.20867320503191777,
          0.6700224320337134,
          0.79974735142664,
          0.658826078102742,
          -0.34062343325205824,
          0.7696221372688687,
          -0.39418187323863335,
          0.41155162702520515,
          0.7438211887106011,
          -0.20867320503191733,
          0.24721359549995797,
          0.07028095724059447,
          0.26625563561838933,
          -0.7438211887106012,
          -0.7361854778926963,
          0.7361854778926963,
          0.3038232764174409,
          -0.42866143598319706,
          0.32232514857093,
          0.18919919761897983,
          -0.5831749019371293,
          -0.798989565284814,
          0.2086732050319176,
          -0.7977271202084912,
          0.13010973215590713,
          -0.09028510789878555,
          -0.7796214982292619,
          -0.07028095724059456,
          -0.7638916357973144,
          -0.7876514676233644,
          0.7977271202084912,
          0.16960568793764363,
          -0.7796214982292617,
          -0.5099391917989518,
          0.5692285417674284,
          0.1696056879376436,
          -0.7280847765479965,
          -0.4455004931905504,
          0.3765631457322664,
          -0.5692285417674281,
          -0.376563145732266,
          0.3587065728720258,
          -0.7977271202084912,
          0.5252686046023652,
          -0.4455004931905504,
          -0.7959608135850402,
          -0.7105091590508357,
          -0.5252686046023652,
          -0.79974735142664,
          -0.701045344035091,
          0.4455004931905504,
          -0.7509870861230992,
          0.6700224320337136,
          -0.7838840419073976,
          -0.6351923189182682,
          0.6099540088091584,
          0.28512950297060075,
          0.010052831906682042,
          -0.24721359549995806,
          0.7509870861230994,
          -0.4942876904722672,
          0.7936917610515823,
          0.1301097321559068,
          -0.5967529163393457,
          0.7876514676233644,
          -0.5549226446502441,
          0.7838840419073976,
          -0.6807955854357535,
          -0.35870657287202573,
          -0.42866143598319717,
          -0.5831749019371294,
          0.7959608135850402,
          -0.26625563561838894,
          -0.6911387337542684,
          0.7796214982292619,
          0.030152146135947584,
          0.2280154099759813,
          0.7909213957903313,
          0.7838840419073976,
          -0.7576786439957955,
          0.6807955854357537,
          0.32232514857093014,
          -0.6227698412536187,
          0.030152146135947744,
          -0.13010973215590688,
          0.7959608135850402,
          -0.4783239864460151,
          0.42866143598319734,
          -0.5549226446502441,
          -0.030152146135947324,
          0.7638916357973144,
          0.7696221372688687,
          -0.1891991976189794,
          0.6911387337542683,
          -0.16960568793764372,
          -0.05023241562345056,
          0.5549226446502441,
          0.774866528902905,
          -0.6099540088091584,
          -0.050232415623450724,
          0.3038232764174413,
          -0.6911387337542683,
          -0.7105091590508357,
          -0.49428769047226756,
          -0.4115516270252054,
          -0.47832398644601537,
          -0.26625563561838944,
          0.7010453440350909,
          -0.7748665289029049,
          0.6227698412536189,
          -0.28512950297060063,
          -0.8,
          0.49428769047226756,
          0.050232415623450634,
          0.11023223254771038,
          0.11023223254771053,
          -0.18919919761897974,
          -0.7748665289029049,
          -0.7909213957903312,
          0.798989565284814,
          0.478323986446015,
          -0.7361854778926964,
          0.6807955854357535,
          -0.5967529163393456,
          -0.5252686046023652,
          0.7909213957903313,
          -0.13010973215590674,
          0.6472135954999579,
          -0.7010453440350908,
          -0.3765631457322661,
          -0.6227698412536187,
          0.3406234332520581,
          0.5831749019371295,
          0.5402662464968195,
          -0.1499050516685797,
          -0.28512950297060036,
          -0.09028510789878536,
          -0.30382327641744084,
          0.14990505166858012,
          -0.303823276417441,
          0.3941818732386331,
          0.7280847765479965,
          -0.5402662464968195,
          -0.41155162702520515,
          0.22801540997598094,
          -0.11023223254771014,
          0.5967529163393456,
          0.3941818732386333,
          -0.6351923189182683,
          0.7638916357973144,
          -0.4620581627378142,
          -0.7909213957903312,
          -0.16960568793764388,
          0.509939191798952,
          0.6099540088091584,
          0.6911387337542682,
          0.2472135954999578,
          0.7576786439957957,
          -0.7959608135850402,
          -0.20867320503191752,
          -0.07028095724059456,
          0.010052831906682025,
          0.647213595499958,
          0.7010453440350909,
          -0.6472135954999578,
          -0.22801540997598085,
          0.7438211887106012,
          0.6351923189182683,
          -0.5692285417674283,
          0.5967529163393457,
          -0.7576786439957955,
          0.7748665289029049,
          0.5549226446502441,
          -0.7696221372688687,
          -0.6588260781027421,
          0.41155162702520515,
          -0.46205816273781414,
          0.79974735142664,
          -0.6472135954999579,
          0.42866143598319734,
          -0.7195242012530969,
          0.7105091590508357,
          -0.11023223254771047,
          -0.6099540088091584,
          0.09028510789878527,
          0.7509870861230993,
          -0.7876514676233644,
          -0.22801540997598085,
          0.1891991976189798,
          -0.7438211887106012,
          0.7361854778926964,
          0.798989565284814,
          -0.7509870861230993,
          0.09028510789878526,
          0.358706572872026,
          -0.7936917610515823,
          0.44550049319055063,
          -0.39418187323863313,
          0.5099391917989519,
          0.3406234332520581,
          0.6227698412536187,
          -0.34062343325205835,
          0.7796214982292617,
          0.7576786439957955,
          0.26625563561838933,
          0.47832398644601515,
          -0.7280847765479966
         ],
         "xaxis": "x",
         "y": [
          0.5621199758390794,
          0.3496926133207463,
          0.5900104938865391,
          0.4371154773874153,
          -0.43711547738741524,
          -0.6034011045888829,
          0.7474631539652896,
          -0.7999368353630529,
          0.4201397039690365,
          -0.732192938096734,
          0.36766388849719034,
          -0.4538151593014053,
          0.06026144442234618,
          -0.48634423815568406,
          0.040195454543815734,
          -0.10026658685144346,
          0.732192938096734,
          -0.10026658685144303,
          0.5900104938865391,
          0.7608452130361228,
          -0.7969068873145381,
          0.785829800582951,
          0.547637684742951,
          0.020104076354669896,
          -0.6530714005737474,
          0.33150046479462736,
          -0.45381515930140526,
          0.7058329811479627,
          0,
          -0.6164105942206315,
          0.785829800582951,
          0.6290307457092951,
          0.7999368353630529,
          -0.34969261332074647,
          0.6530714005737472,
          -0.3496926133207461,
          -0.23763326526162812,
          0.7994315781124715,
          -0.7150731393210112,
          0.14001844718022086,
          -0.21836154841386018,
          -0.7984213827426173,
          -0.15976798441152584,
          -0.772305311066619,
          0.4371154773874153,
          -0.02010407635466964,
          0.45381515930140526,
          0.7238616419728157,
          -0.2183615484138601,
          -0.6961470037356206,
          0.6860213249549219,
          0.2944996421477424,
          -0.7723053110666193,
          0.7608452130361228,
          0.7969068873145381,
          0.7543924287142916,
          0.29449964214774216,
          -0.3130989334697621,
          -0.31309893346976203,
          0.7400617654675665,
          -0.6754623404016122,
          -0.7321929380967341,
          0.7773053863317392,
          -0.547637684742951,
          -0.04019545454381553,
          0.7723053110666191,
          -0.06026144442234624,
          -0.7893487553662945,
          -0.7948890484160067,
          0.17941660875950483,
          0.7969068873145381,
          0.23763326526162795,
          -0.14001844718022088,
          -0.06026144442234618,
          0.7818144988545548,
          -0.17941660875950496,
          0.6164105942206315,
          -0.5621199758390792,
          -0.7818144988545548,
          -0.3315004647946273,
          0.6644767193566502,
          -0.7058329811479624,
          -0.5621199758390796,
          -0.7058329811479628,
          0.715073139321011,
          0.06026144442234608,
          0.6034011045888831,
          -0.6644767193566502,
          0.08028937188097199,
          0.3676638884971904,
          0.6034011045888831,
          -0.020104076354670056,
          0.3854029392813722,
          0.6644767193566502,
          -0.2757143385396138,
          -0.43711547738741513,
          0.15976798441152565,
          -0.4863442381556844,
          -0.5176447692555554,
          -0.7474631539652896,
          0.7999368353630529,
          -0.7608452130361228,
          -0.2757143385396134,
          -0.6290307457092954,
          0.1002665868514434,
          0.7893487553662945,
          0.5328094939474014,
          -0.1400184471802208,
          -0.5762472199103256,
          -0.15976798441152576,
          -0.42013970396903666,
          0.715073139321011,
          0.6754623404016122,
          0.5476376847429508,
          0.08028937188097192,
          -0.7543924287142918,
          -0.4028985613086087,
          -0.17941660875950458,
          0.7994315781124715,
          -0.7668174312139007,
          -0.12018047129660546,
          0.15976798441152562,
          -0.2567548878457676,
          -0.4201397039690363,
          0.732192938096734,
          -0.5021530890325606,
          -0.7994315781124715,
          0.7893487553662945,
          -0.08028937188097209,
          0.6412535878967014,
          -0.6754623404016121,
          0.5762472199103253,
          -0.7994315781124715,
          -0.23763326526162803,
          0.21836154841386018,
          -0.7773053863317393,
          0.4028985613086087,
          0.7818144988545548,
          -0.7984213827426173,
          -0.5762472199103256,
          -0.1989519097318836,
          0.5176447692555554,
          0.7984213827426173,
          -0.7400617654675664,
          0.40289856130860874,
          -0.3676638884971903,
          0.6290307457092951,
          -0.6860213249549217,
          -0.6412535878967012,
          0.7543924287142916,
          -0.38540293928137226,
          -0.19895190973188404,
          -0.5021530890325602,
          0.7474631539652896,
          9.797174393178826e-17,
          -0.6290307457092951,
          0.7984213827426173,
          0.792369140557321,
          -0.792369140557321,
          0.7773053863317392,
          0.19895190973188384,
          -0.12018047129660586,
          -0.04019545454381547,
          -0.6412535878967014,
          0.3130989334697619,
          0.4201397039690366,
          -0.5328094939474014,
          -0.6034011045888831,
          0.12018047129660565,
          -0.7893487553662946,
          -0.4702282018339786,
          -0.3854029392813723,
          0.7058329811479627,
          0.5021530890325605,
          -0.7238616419728157,
          -0.5476376847429506,
          -0.5900104938865393,
          -0.785829800582951,
          -0.7474631539652897,
          0.7948890484160067,
          -0.7400617654675665,
          -0.7858298005829509,
          0.7400617654675665,
          -0.6961470037356207,
          -0.3315004647946275,
          -0.5900104938865393,
          0.6860213249549219,
          0.7668174312139007,
          -0.7923691405573211,
          -0.5328094939474014,
          0.6961470037356206,
          0.4863442381556842,
          0.23763326526162795,
          0.6530714005737471,
          0.1201804712966057,
          -0.7818144988545548,
          -0.6164105942206313,
          0.5176447692555555,
          -0.40289856130860885,
          -0.760845213036123,
          -0.25675488784576717,
          -0.08028937188097214,
          0.7723053110666191,
          -0.7969068873145381,
          -0.7999368353630529,
          0.4702282018339785,
          0.38540293928137226,
          -0.47022820183397873,
          -0.7668174312139008,
          -0.29449964214774227,
          0.48634423815568434,
          0.5621199758390794,
          0.5328094939474014,
          0.25675488784576744,
          0.19895190973188384,
          0.5762472199103256,
          0.21836154841386002,
          0.45381515930140515,
          -0.6860213249549219,
          -0.6530714005737472,
          0.020104076354669986,
          0.4702282018339786,
          0.6754623404016121,
          0.3496926133207463,
          -0.36766388849719017,
          0.792369140557321,
          -0.5176447692555555,
          0.7948890484160067,
          0.27571433853961363,
          0.1400184471802207,
          0.7668174312139008,
          -0.7773053863317392,
          -0.2944996421477423,
          0.313098933469762,
          0.04019545454381565,
          0.27571433853961363,
          -0.7948890484160067,
          -0.715073139321011,
          0.10026658685144328,
          -0.66447671935665,
          0.6961470037356207,
          0.6164105942206314,
          0.7238616419728157,
          0.5021530890325605,
          -0.7238616419728156,
          0.17941660875950494,
          0.2567548878457676,
          -0.7543924287142916,
          0.6412535878967013,
          0.33150046479462714
         ],
         "yaxis": "y"
        },
        {
         "hovertemplate": "label=A<br>x=%{x}<br>y=%{y}<extra></extra>",
         "legendgroup": "A",
         "marker": {
          "color": "#EF553B",
          "symbol": "circle"
         },
         "mode": "markers",
         "name": "A",
         "orientation": "v",
         "showlegend": true,
         "type": "scatter",
         "x": [
          -0.2608415062898969,
          0.23649899702372473,
          0.012566039883352552,
          0.7939903986478356,
          0.7115356772092853,
          -0.8509944817946917,
          0.18738131458572452,
          0.7784623015670236,
          0.5775727034222673,
          -0.9620276715860859,
          0.9297764858882513,
          -0.47070393216533246,
          -0.4927273415482917,
          -0.9101059706849957,
          -0.938733857653874,
          0.9996841892832999,
          -0.4483832160900321,
          -0.9297764858882515,
          0.2120071099220545,
          -0.8639234171928354,
          0.13779029068463816,
          0.13779029068463797,
          -0.9297764858882515,
          0.8881364488135445,
          -0.08785119655074321,
          0.9202318473658703,
          0.6178596130903344,
          -0.0627905195293134,
          -0.012566039883352897,
          0.5979049830575187,
          0.23649899702372476,
          0.5358267949789967,
          0.4707039321653326,
          -0.693653305812805,
          -0.7459411454241821,
          0.8509944817946921,
          -0.9620276715860859,
          0.3328195445229867,
          -0.9685831611286311,
          0.9987369566060175,
          0.9202318473658704,
          -0.42577929156507277,
          0.40290643571366247,
          -0.18738131458572463,
          0.8639234171928352,
          -0.0627905195293132,
          0.4927273415482913,
          -0.28501926246997605,
          -0.3564118787132508,
          0.5144395337815064,
          0.42577929156507266,
          -0.9685831611286311,
          -0.9745268727865771,
          -0.9470983049947443,
          0.47070393216533296,
          -0.9548645447466428,
          0.8375280400421417,
          -0.8763066800438635,
          0.5979049830575189,
          0.6753328081210244,
          0.08785119655074285,
          0.9987369566060175,
          0.9971589002606139,
          0.03769018266993448,
          0.9886517447379141,
          0.8763066800438636,
          -0.8235325976284276,
          0.9921147013144779,
          -0.8639234171928353,
          -0.9949510169813002,
          0.7289686274214116,
          0.8763066800438636,
          0.9971589002606139,
          0.9745268727865771,
          -0.9949510169813002,
          0.6565857557529569,
          -0.21200710992205463,
          -0.5144395337815064,
          0.03769018266993468,
          0.8994052515663711,
          0.9620276715860859,
          0.9845643345292054,
          0.42577929156507266,
          -0.9845643345292054,
          -0.28501926246997605,
          0.11285638487348158,
          0.8994052515663712,
          -0.8090169943749473,
          0.2850192624699766,
          -0.988651744737914,
          -0.47070393216533263,
          0.35641187871325075,
          -0.7939903986478354,
          0.01256603988335253,
          -0.8994052515663711,
          -0.23649899702372423,
          -0.9971589002606139,
          0.3328195445229867,
          0.9886517447379141,
          -0.30901699437494756,
          0.6178596130903344,
          -0.556875616488188,
          -0.11285638487348193,
          0.8375280400421419,
          -0.8881364488135446,
          0.9798550523842469,
          -0.9971589002606139,
          -0.7115356772092853,
          0.5358267949789967,
          -0.5144395337815068,
          -0.8375280400421417,
          0.7624425110114479,
          -0.6374239897486896,
          -0.9987369566060175,
          0.7784623015670233,
          0.6565857557529565,
          0.18738131458572513,
          -0.16263716519488342,
          -0.5358267949789964,
          -0.3564118787132504,
          0.9387338576538742,
          -0.5979049830575188,
          0.1626371651948835,
          0.06279051952931329,
          0.9745268727865772,
          0.745941145424182,
          -0.7784623015670233,
          -0.9921147013144779,
          0.9387338576538741,
          0.693653305812805,
          -0.5358267949789963,
          0.8090169943749473,
          -0.9745268727865772,
          -0.44838321609003196,
          -0.7624425110114479,
          0.9101059706849957,
          0.8235325976284275,
          -0.4927273415482914,
          -0.762442511011448,
          0.7624425110114479,
          -0.3797790955218012,
          -0.21200710992205485,
          0.11285638487348157,
          -0.954864544746643,
          0.6753328081210245,
          0.37977909552180156,
          0.9470983049947443,
          -0.30901699437494756,
          0.9798550523842469,
          0.954864544746643,
          -0.9845643345292053,
          0.9949510169813002,
          0.9101059706849955,
          -0.6178596130903344,
          -0.0878511965507432,
          0.9297764858882515,
          -0.556875616488188,
          0.5775727034222676,
          -0.26084150628989666,
          -0.40290643571366275,
          -0.3328195445229868,
          -0.7115356772092851,
          -0.13779029068463766,
          -0.617859613090334,
          -0.1128563848734817,
          -0.9202318473658704,
          0.30901699437494745,
          -0.9470983049947443,
          -0.693653305812805,
          -0.6565857557529565,
          0.2608415062898972,
          0.5568756164881883,
          -0.012566039883352653,
          0.556875616488188,
          0.7289686274214119,
          0.3564118787132509,
          0.40290643571366264,
          0.954864544746643,
          -0.6565857557529565,
          -0.5775727034222677,
          -0.899405251566371,
          -0.8235325976284273,
          -0.9798550523842469,
          -0.379779095521801,
          1,
          -0.40290643571366275,
          0.44838321609003223,
          -0.13779029068463808,
          -0.850994481794692,
          0.7939903986478354,
          0.9685831611286311,
          0.260841506289897,
          0.6374239897486897,
          -0.9798550523842469,
          -0.9996841892832999,
          -0.5775727034222676,
          0.9921147013144779,
          0.28501926246997616,
          -0.5979049830575192,
          -0.42577929156507294,
          -0.8881364488135445,
          -0.9996841892832999,
          -0.6374239897486896,
          -0.8763066800438637,
          -0.03769018266993415,
          -0.7784623015670232,
          0.9949510169813002,
          -0.9987369566060175,
          0.30901699437494723,
          -0.8375280400421418,
          -0.9387338576538741,
          0.7459411454241821,
          -0.037690182669934576,
          0.1626371651948839,
          0.7115356772092856,
          -0.988651744737914,
          0.9685831611286312,
          0.8509944817946918,
          -0.3328195445229862,
          0.21200710992205452,
          -0.23649899702372465,
          -0.9202318473658703,
          0.08785119655074308,
          -0.9921147013144779,
          -0.9101059706849958,
          -0.6753328081210244,
          0.693653305812805,
          -0.7289686274214116,
          -0.7289686274214117,
          0.9845643345292053,
          0.5144395337815064,
          -0.8090169943749472,
          0.8235325976284275,
          -0.6753328081210244,
          0.06279051952931372,
          -0.1873813145857246,
          0.9996841892832999,
          0.9620276715860859,
          0.63742398974869,
          -0.7939903986478353,
          0.44838321609003245,
          -0.745941145424182,
          0.8090169943749475,
          0.49272734154829156,
          -1,
          0.9470983049947445,
          0.3797790955218011,
          0.8881364488135446,
          0.8639234171928353,
          -0.16263716519488358
         ],
         "xaxis": "x",
         "y": [
          0.9653816388332739,
          -0.971631732914674,
          0.9999210442038161,
          -0.607930297694605,
          0.7026499697988492,
          -0.5251746299612958,
          0.9822872507286887,
          -0.6276913612907002,
          -0.8163392507171842,
          -0.2729519355173252,
          0.368124552684678,
          -0.8822912264349534,
          -0.8701837546695256,
          -0.4143755809932841,
          -0.3446429231745172,
          -0.02513009544333705,
          0.8938414241512638,
          -0.3681245526846779,
          -0.9772681235681935,
          -0.5036232016357608,
          -0.9904614256966512,
          0.9904614256966512,
          0.3681245526846777,
          0.45957986062148787,
          -0.9961336091431725,
          -0.3913736668372025,
          0.7862884321366188,
          0.9980267284282716,
          -0.9999210442038161,
          -0.8015669848708766,
          0.971631732914674,
          -0.8443279255020151,
          0.8822912264349533,
          0.7203090248879067,
          0.6660118674342517,
          -0.5251746299612954,
          0.272951935517325,
          0.9429905358928644,
          -0.24868988716485502,
          -0.050244318179769334,
          0.3913736668372024,
          0.9048270524660195,
          -0.9152411726209176,
          -0.9822872507286887,
          -0.503623201635761,
          -0.9980267284282716,
          -0.8701837546695258,
          -0.958521789017376,
          0.934328942456612,
          -0.8575266561936523,
          0.9048270524660196,
          0.2486898871648548,
          -0.2242707609493812,
          -0.3209436098072095,
          -0.8822912264349531,
          -0.29704158157703514,
          0.5463943467342691,
          -0.4817536741017154,
          0.8015669848708765,
          -0.737513117358174,
          -0.9961336091431725,
          0.050244318179769556,
          0.07532680552793272,
          0.9992894726405892,
          -0.15022558912075681,
          -0.4817536741017153,
          0.5672689491267564,
          0.12533323356430426,
          0.5036232016357609,
          0.10036171485121498,
          0.6845471059286887,
          0.4817536741017153,
          -0.07532680552793272,
          0.22427076094938117,
          -0.10036171485121517,
          -0.7542513807361035,
          0.9772681235681935,
          0.8575266561936523,
          -0.9992894726405892,
          0.4371157666509329,
          -0.2729519355173251,
          -0.175023058975276,
          -0.9048270524660196,
          0.17502305897527587,
          0.958521789017376,
          0.9936113105200084,
          -0.43711576665093255,
          0.5877852522924732,
          -0.9585217890173757,
          -0.1502255891207573,
          0.8822912264349533,
          0.934328942456612,
          0.6079302976946053,
          -0.9999210442038161,
          0.4371157666509328,
          -0.9716317329146741,
          -0.07532680552793279,
          -0.9429905358928644,
          0.15022558912075706,
          0.9510565162951535,
          -0.7862884321366188,
          -0.8305958991958127,
          -0.9936113105200084,
          -0.5463943467342689,
          -0.4595798606214878,
          -0.1997099805144072,
          0.0753268055279326,
          0.7026499697988492,
          0.8443279255020151,
          -0.8575266561936521,
          0.5463943467342691,
          0.6470559615694443,
          -0.7705132427757894,
          -0.05024431817976941,
          0.6276913612907006,
          0.7542513807361038,
          -0.9822872507286886,
          -0.9866859442078681,
          0.8443279255020152,
          -0.9343289424566121,
          -0.3446429231745167,
          0.8015669848708766,
          0.986685944207868,
          0.9980267284282716,
          -0.2242707609493807,
          -0.6660118674342518,
          0.6276913612907006,
          0.1253332335643041,
          0.34464292317451706,
          -0.7203090248879069,
          -0.8443279255020153,
          -0.5877852522924732,
          0.224270760949381,
          -0.893841424151264,
          -0.6470559615694443,
          0.41437558099328414,
          0.5672689491267565,
          0.8701837546695258,
          0.6470559615694442,
          -0.6470559615694442,
          0.925077206834458,
          -0.9772681235681934,
          -0.9936113105200084,
          0.2970415815770349,
          0.7375131173581739,
          -0.9250772068344579,
          0.3209436098072095,
          -0.9510565162951535,
          0.19970998051440703,
          -0.29704158157703503,
          -0.1750230589752761,
          -0.1003617148512151,
          -0.41437558099328436,
          0.7862884321366188,
          0.9961336091431725,
          -0.3681245526846778,
          0.8305958991958127,
          0.816339250717184,
          -0.965381638833274,
          0.9152411726209175,
          0.9429905358928644,
          -0.7026499697988494,
          -0.9904614256966513,
          -0.7862884321366191,
          0.9936113105200084,
          0.39137366683720237,
          0.9510565162951535,
          0.32094360980720926,
          -0.7203090248879069,
          0.7542513807361038,
          -0.9653816388332738,
          -0.8305958991958124,
          0.9999210442038161,
          0.8305958991958127,
          -0.6845471059286883,
          -0.9343289424566119,
          0.9152411726209175,
          0.2970415815770349,
          -0.7542513807361038,
          0.8163392507171838,
          -0.43711576665093305,
          -0.5672689491267566,
          0.19970998051440705,
          -0.925077206834458,
          0,
          -0.9152411726209175,
          0.8938414241512638,
          0.9904614256966512,
          0.5251746299612956,
          0.6079302976946054,
          0.2486898871648548,
          0.9653816388332739,
          0.7705132427757891,
          -0.19970998051440728,
          -0.02513009544333757,
          -0.8163392507171839,
          -0.1253332335643038,
          0.9585217890173758,
          -0.8015669848708764,
          -0.9048270524660194,
          0.459579860621488,
          0.02513009544333737,
          0.7705132427757893,
          0.4817536741017152,
          -0.9992894726405893,
          -0.6276913612907007,
          0.1003617148512149,
          0.05024431817976966,
          -0.9510565162951536,
          -0.546394346734269,
          0.34464292317451706,
          0.6660118674342517,
          0.9992894726405892,
          -0.986685944207868,
          -0.702649969798849,
          0.15022558912075712,
          -0.2486898871648545,
          0.5251746299612957,
          -0.9429905358928646,
          0.9772681235681935,
          0.971631732914674,
          -0.3913736668372026,
          0.9961336091431725,
          -0.1253332335643043,
          0.41437558099328387,
          -0.737513117358174,
          0.7203090248879069,
          -0.6845471059286887,
          0.6845471059286885,
          0.17502305897527606,
          0.8575266561936523,
          -0.5877852522924734,
          -0.5672689491267565,
          0.7375131173581739,
          -0.9980267284282716,
          0.9822872507286887,
          0.02513009544333748,
          0.2729519355173252,
          -0.770513242775789,
          -0.6079302976946055,
          -0.8938414241512637,
          -0.6660118674342518,
          0.5877852522924731,
          0.8701837546695257,
          1.2246467991473532e-16,
          -0.32094360980720893,
          0.925077206834458,
          -0.4595798606214877,
          0.5036232016357608,
          0.986685944207868
         ],
         "yaxis": "y"
        }
       ],
       "layout": {
        "autosize": true,
        "legend": {
         "title": {
          "text": "label"
         },
         "tracegroupgap": 0
        },
        "margin": {
         "t": 60
        },
        "template": {
         "data": {
          "bar": [
           {
            "error_x": {
             "color": "#2a3f5f"
            },
            "error_y": {
             "color": "#2a3f5f"
            },
            "marker": {
             "line": {
              "color": "#E5ECF6",
              "width": 0.5
             },
             "pattern": {
              "fillmode": "overlay",
              "size": 10,
              "solidity": 0.2
             }
            },
            "type": "bar"
           }
          ],
          "barpolar": [
           {
            "marker": {
             "line": {
              "color": "#E5ECF6",
              "width": 0.5
             },
             "pattern": {
              "fillmode": "overlay",
              "size": 10,
              "solidity": 0.2
             }
            },
            "type": "barpolar"
           }
          ],
          "carpet": [
           {
            "aaxis": {
             "endlinecolor": "#2a3f5f",
             "gridcolor": "white",
             "linecolor": "white",
             "minorgridcolor": "white",
             "startlinecolor": "#2a3f5f"
            },
            "baxis": {
             "endlinecolor": "#2a3f5f",
             "gridcolor": "white",
             "linecolor": "white",
             "minorgridcolor": "white",
             "startlinecolor": "#2a3f5f"
            },
            "type": "carpet"
           }
          ],
          "choropleth": [
           {
            "colorbar": {
             "outlinewidth": 0,
             "ticks": ""
            },
            "type": "choropleth"
           }
          ],
          "contour": [
           {
            "colorbar": {
             "outlinewidth": 0,
             "ticks": ""
            },
            "colorscale": [
             [
              0,
              "#0d0887"
             ],
             [
              0.1111111111111111,
              "#46039f"
             ],
             [
              0.2222222222222222,
              "#7201a8"
             ],
             [
              0.3333333333333333,
              "#9c179e"
             ],
             [
              0.4444444444444444,
              "#bd3786"
             ],
             [
              0.5555555555555556,
              "#d8576b"
             ],
             [
              0.6666666666666666,
              "#ed7953"
             ],
             [
              0.7777777777777778,
              "#fb9f3a"
             ],
             [
              0.8888888888888888,
              "#fdca26"
             ],
             [
              1,
              "#f0f921"
             ]
            ],
            "type": "contour"
           }
          ],
          "contourcarpet": [
           {
            "colorbar": {
             "outlinewidth": 0,
             "ticks": ""
            },
            "type": "contourcarpet"
           }
          ],
          "heatmap": [
           {
            "colorbar": {
             "outlinewidth": 0,
             "ticks": ""
            },
            "colorscale": [
             [
              0,
              "#0d0887"
             ],
             [
              0.1111111111111111,
              "#46039f"
             ],
             [
              0.2222222222222222,
              "#7201a8"
             ],
             [
              0.3333333333333333,
              "#9c179e"
             ],
             [
              0.4444444444444444,
              "#bd3786"
             ],
             [
              0.5555555555555556,
              "#d8576b"
             ],
             [
              0.6666666666666666,
              "#ed7953"
             ],
             [
              0.7777777777777778,
              "#fb9f3a"
             ],
             [
              0.8888888888888888,
              "#fdca26"
             ],
             [
              1,
              "#f0f921"
             ]
            ],
            "type": "heatmap"
           }
          ],
          "heatmapgl": [
           {
            "colorbar": {
             "outlinewidth": 0,
             "ticks": ""
            },
            "colorscale": [
             [
              0,
              "#0d0887"
             ],
             [
              0.1111111111111111,
              "#46039f"
             ],
             [
              0.2222222222222222,
              "#7201a8"
             ],
             [
              0.3333333333333333,
              "#9c179e"
             ],
             [
              0.4444444444444444,
              "#bd3786"
             ],
             [
              0.5555555555555556,
              "#d8576b"
             ],
             [
              0.6666666666666666,
              "#ed7953"
             ],
             [
              0.7777777777777778,
              "#fb9f3a"
             ],
             [
              0.8888888888888888,
              "#fdca26"
             ],
             [
              1,
              "#f0f921"
             ]
            ],
            "type": "heatmapgl"
           }
          ],
          "histogram": [
           {
            "marker": {
             "pattern": {
              "fillmode": "overlay",
              "size": 10,
              "solidity": 0.2
             }
            },
            "type": "histogram"
           }
          ],
          "histogram2d": [
           {
            "colorbar": {
             "outlinewidth": 0,
             "ticks": ""
            },
            "colorscale": [
             [
              0,
              "#0d0887"
             ],
             [
              0.1111111111111111,
              "#46039f"
             ],
             [
              0.2222222222222222,
              "#7201a8"
             ],
             [
              0.3333333333333333,
              "#9c179e"
             ],
             [
              0.4444444444444444,
              "#bd3786"
             ],
             [
              0.5555555555555556,
              "#d8576b"
             ],
             [
              0.6666666666666666,
              "#ed7953"
             ],
             [
              0.7777777777777778,
              "#fb9f3a"
             ],
             [
              0.8888888888888888,
              "#fdca26"
             ],
             [
              1,
              "#f0f921"
             ]
            ],
            "type": "histogram2d"
           }
          ],
          "histogram2dcontour": [
           {
            "colorbar": {
             "outlinewidth": 0,
             "ticks": ""
            },
            "colorscale": [
             [
              0,
              "#0d0887"
             ],
             [
              0.1111111111111111,
              "#46039f"
             ],
             [
              0.2222222222222222,
              "#7201a8"
             ],
             [
              0.3333333333333333,
              "#9c179e"
             ],
             [
              0.4444444444444444,
              "#bd3786"
             ],
             [
              0.5555555555555556,
              "#d8576b"
             ],
             [
              0.6666666666666666,
              "#ed7953"
             ],
             [
              0.7777777777777778,
              "#fb9f3a"
             ],
             [
              0.8888888888888888,
              "#fdca26"
             ],
             [
              1,
              "#f0f921"
             ]
            ],
            "type": "histogram2dcontour"
           }
          ],
          "mesh3d": [
           {
            "colorbar": {
             "outlinewidth": 0,
             "ticks": ""
            },
            "type": "mesh3d"
           }
          ],
          "parcoords": [
           {
            "line": {
             "colorbar": {
              "outlinewidth": 0,
              "ticks": ""
             }
            },
            "type": "parcoords"
           }
          ],
          "pie": [
           {
            "automargin": true,
            "type": "pie"
           }
          ],
          "scatter": [
           {
            "marker": {
             "colorbar": {
              "outlinewidth": 0,
              "ticks": ""
             }
            },
            "type": "scatter"
           }
          ],
          "scatter3d": [
           {
            "line": {
             "colorbar": {
              "outlinewidth": 0,
              "ticks": ""
             }
            },
            "marker": {
             "colorbar": {
              "outlinewidth": 0,
              "ticks": ""
             }
            },
            "type": "scatter3d"
           }
          ],
          "scattercarpet": [
           {
            "marker": {
             "colorbar": {
              "outlinewidth": 0,
              "ticks": ""
             }
            },
            "type": "scattercarpet"
           }
          ],
          "scattergeo": [
           {
            "marker": {
             "colorbar": {
              "outlinewidth": 0,
              "ticks": ""
             }
            },
            "type": "scattergeo"
           }
          ],
          "scattergl": [
           {
            "marker": {
             "colorbar": {
              "outlinewidth": 0,
              "ticks": ""
             }
            },
            "type": "scattergl"
           }
          ],
          "scattermapbox": [
           {
            "marker": {
             "colorbar": {
              "outlinewidth": 0,
              "ticks": ""
             }
            },
            "type": "scattermapbox"
           }
          ],
          "scatterpolar": [
           {
            "marker": {
             "colorbar": {
              "outlinewidth": 0,
              "ticks": ""
             }
            },
            "type": "scatterpolar"
           }
          ],
          "scatterpolargl": [
           {
            "marker": {
             "colorbar": {
              "outlinewidth": 0,
              "ticks": ""
             }
            },
            "type": "scatterpolargl"
           }
          ],
          "scatterternary": [
           {
            "marker": {
             "colorbar": {
              "outlinewidth": 0,
              "ticks": ""
             }
            },
            "type": "scatterternary"
           }
          ],
          "surface": [
           {
            "colorbar": {
             "outlinewidth": 0,
             "ticks": ""
            },
            "colorscale": [
             [
              0,
              "#0d0887"
             ],
             [
              0.1111111111111111,
              "#46039f"
             ],
             [
              0.2222222222222222,
              "#7201a8"
             ],
             [
              0.3333333333333333,
              "#9c179e"
             ],
             [
              0.4444444444444444,
              "#bd3786"
             ],
             [
              0.5555555555555556,
              "#d8576b"
             ],
             [
              0.6666666666666666,
              "#ed7953"
             ],
             [
              0.7777777777777778,
              "#fb9f3a"
             ],
             [
              0.8888888888888888,
              "#fdca26"
             ],
             [
              1,
              "#f0f921"
             ]
            ],
            "type": "surface"
           }
          ],
          "table": [
           {
            "cells": {
             "fill": {
              "color": "#EBF0F8"
             },
             "line": {
              "color": "white"
             }
            },
            "header": {
             "fill": {
              "color": "#C8D4E3"
             },
             "line": {
              "color": "white"
             }
            },
            "type": "table"
           }
          ]
         },
         "layout": {
          "annotationdefaults": {
           "arrowcolor": "#2a3f5f",
           "arrowhead": 0,
           "arrowwidth": 1
          },
          "autotypenumbers": "strict",
          "coloraxis": {
           "colorbar": {
            "outlinewidth": 0,
            "ticks": ""
           }
          },
          "colorscale": {
           "diverging": [
            [
             0,
             "#8e0152"
            ],
            [
             0.1,
             "#c51b7d"
            ],
            [
             0.2,
             "#de77ae"
            ],
            [
             0.3,
             "#f1b6da"
            ],
            [
             0.4,
             "#fde0ef"
            ],
            [
             0.5,
             "#f7f7f7"
            ],
            [
             0.6,
             "#e6f5d0"
            ],
            [
             0.7,
             "#b8e186"
            ],
            [
             0.8,
             "#7fbc41"
            ],
            [
             0.9,
             "#4d9221"
            ],
            [
             1,
             "#276419"
            ]
           ],
           "sequential": [
            [
             0,
             "#0d0887"
            ],
            [
             0.1111111111111111,
             "#46039f"
            ],
            [
             0.2222222222222222,
             "#7201a8"
            ],
            [
             0.3333333333333333,
             "#9c179e"
            ],
            [
             0.4444444444444444,
             "#bd3786"
            ],
            [
             0.5555555555555556,
             "#d8576b"
            ],
            [
             0.6666666666666666,
             "#ed7953"
            ],
            [
             0.7777777777777778,
             "#fb9f3a"
            ],
            [
             0.8888888888888888,
             "#fdca26"
            ],
            [
             1,
             "#f0f921"
            ]
           ],
           "sequentialminus": [
            [
             0,
             "#0d0887"
            ],
            [
             0.1111111111111111,
             "#46039f"
            ],
            [
             0.2222222222222222,
             "#7201a8"
            ],
            [
             0.3333333333333333,
             "#9c179e"
            ],
            [
             0.4444444444444444,
             "#bd3786"
            ],
            [
             0.5555555555555556,
             "#d8576b"
            ],
            [
             0.6666666666666666,
             "#ed7953"
            ],
            [
             0.7777777777777778,
             "#fb9f3a"
            ],
            [
             0.8888888888888888,
             "#fdca26"
            ],
            [
             1,
             "#f0f921"
            ]
           ]
          },
          "colorway": [
           "#636efa",
           "#EF553B",
           "#00cc96",
           "#ab63fa",
           "#FFA15A",
           "#19d3f3",
           "#FF6692",
           "#B6E880",
           "#FF97FF",
           "#FECB52"
          ],
          "font": {
           "color": "#2a3f5f"
          },
          "geo": {
           "bgcolor": "white",
           "lakecolor": "white",
           "landcolor": "#E5ECF6",
           "showlakes": true,
           "showland": true,
           "subunitcolor": "white"
          },
          "hoverlabel": {
           "align": "left"
          },
          "hovermode": "closest",
          "mapbox": {
           "style": "light"
          },
          "paper_bgcolor": "white",
          "plot_bgcolor": "#E5ECF6",
          "polar": {
           "angularaxis": {
            "gridcolor": "white",
            "linecolor": "white",
            "ticks": ""
           },
           "bgcolor": "#E5ECF6",
           "radialaxis": {
            "gridcolor": "white",
            "linecolor": "white",
            "ticks": ""
           }
          },
          "scene": {
           "xaxis": {
            "backgroundcolor": "#E5ECF6",
            "gridcolor": "white",
            "gridwidth": 2,
            "linecolor": "white",
            "showbackground": true,
            "ticks": "",
            "zerolinecolor": "white"
           },
           "yaxis": {
            "backgroundcolor": "#E5ECF6",
            "gridcolor": "white",
            "gridwidth": 2,
            "linecolor": "white",
            "showbackground": true,
            "ticks": "",
            "zerolinecolor": "white"
           },
           "zaxis": {
            "backgroundcolor": "#E5ECF6",
            "gridcolor": "white",
            "gridwidth": 2,
            "linecolor": "white",
            "showbackground": true,
            "ticks": "",
            "zerolinecolor": "white"
           }
          },
          "shapedefaults": {
           "line": {
            "color": "#2a3f5f"
           }
          },
          "ternary": {
           "aaxis": {
            "gridcolor": "white",
            "linecolor": "white",
            "ticks": ""
           },
           "baxis": {
            "gridcolor": "white",
            "linecolor": "white",
            "ticks": ""
           },
           "bgcolor": "#E5ECF6",
           "caxis": {
            "gridcolor": "white",
            "linecolor": "white",
            "ticks": ""
           }
          },
          "title": {
           "x": 0.05
          },
          "xaxis": {
           "automargin": true,
           "gridcolor": "white",
           "linecolor": "white",
           "ticks": "",
           "title": {
            "standoff": 15
           },
           "zerolinecolor": "white",
           "zerolinewidth": 2
          },
          "yaxis": {
           "automargin": true,
           "gridcolor": "white",
           "linecolor": "white",
           "ticks": "",
           "title": {
            "standoff": 15
           },
           "zerolinecolor": "white",
           "zerolinewidth": 2
          }
         }
        },
        "xaxis": {
         "anchor": "y",
         "autorange": true,
         "domain": [
          0,
          1
         ],
         "range": [
          -1.1173142772070865,
          1.1173142772070865
         ],
         "title": {
          "text": "x"
         },
         "type": "linear"
        },
        "yaxis": {
         "anchor": "x",
         "autorange": true,
         "domain": [
          0,
          1
         ],
         "range": [
          -1.1547644604978453,
          1.1547644604978453
         ],
         "title": {
          "text": "y"
         },
         "type": "linear"
        }
       }
      },
      "image/png": "[encoded data removed]",
      "text/html": [
       "<div>                            <div id=\"8d9755dd-e3f8-4c60-ad1b-57a70554ef78\" class=\"plotly-graph-div\" style=\"height:525px; width:100%;\"></div>            <script type=\"text/javascript\">                require([\"plotly\"], function(Plotly) {                    window.PLOTLYENV=window.PLOTLYENV || {};                                    if (document.getElementById(\"8d9755dd-e3f8-4c60-ad1b-57a70554ef78\")) {                    Plotly.newPlot(                        \"8d9755dd-e3f8-4c60-ad1b-57a70554ef78\",                        [{\"hovertemplate\":\"label=B<br>x=%{x}<br>y=%{y}<extra></extra>\",\"legendgroup\":\"B\",\"marker\":{\"color\":\"#636efa\",\"symbol\":\"circle\"},\"mode\":\"markers\",\"name\":\"B\",\"orientation\":\"v\",\"showlegend\":true,\"type\":\"scatter\",\"x\":[0.5692285417674283,0.7195242012530969,-0.5402662464968195,-0.6700224320337134,-0.6700224320337135,0.5252686046023655,0.28512950297060063,-0.010052831906682318,-0.6807955854357536,-0.3223251485709302,0.7105091590508357,-0.658826078102742,0.7977271202084912,0.6351923189182686,-0.798989565284814,-0.7936917610515823,-0.3223251485709302,0.7936917610515823,0.5402662464968196,-0.24721359549995806,0.07028095724059429,-0.14990505166857968,0.5831749019371293,-0.79974735142664,0.46205816273781386,0.7280847765479965,0.658826078102742,0.37656314573226607,0.8,-0.5099391917989518,0.14990505166857962,0.49428769047226756,-0.010052831906682123,-0.7195242012530968,0.46205816273781414,0.719524201253097,-0.7638916357973143,-0.03015214613594766,-0.35870657287202556,0.7876514676233644,-0.7696221372688687,0.05023241562345098,-0.7838840419073976,0.20867320503191777,0.6700224320337134,0.79974735142664,0.658826078102742,-0.34062343325205824,0.7696221372688687,-0.39418187323863335,0.41155162702520515,0.7438211887106011,-0.20867320503191733,0.24721359549995797,0.07028095724059447,0.26625563561838933,-0.7438211887106012,-0.7361854778926963,0.7361854778926963,0.3038232764174409,-0.42866143598319706,0.32232514857093,0.18919919761897983,-0.5831749019371293,-0.798989565284814,0.2086732050319176,-0.7977271202084912,0.13010973215590713,-0.09028510789878555,-0.7796214982292619,-0.07028095724059456,-0.7638916357973144,-0.7876514676233644,0.7977271202084912,0.16960568793764363,-0.7796214982292617,-0.5099391917989518,0.5692285417674284,0.1696056879376436,-0.7280847765479965,-0.4455004931905504,0.3765631457322664,-0.5692285417674281,-0.376563145732266,0.3587065728720258,-0.7977271202084912,0.5252686046023652,-0.4455004931905504,-0.7959608135850402,-0.7105091590508357,-0.5252686046023652,-0.79974735142664,-0.701045344035091,0.4455004931905504,-0.7509870861230992,0.6700224320337136,-0.7838840419073976,-0.6351923189182682,0.6099540088091584,0.28512950297060075,0.010052831906682042,-0.24721359549995806,0.7509870861230994,-0.4942876904722672,0.7936917610515823,0.1301097321559068,-0.5967529163393457,0.7876514676233644,-0.5549226446502441,0.7838840419073976,-0.6807955854357535,-0.35870657287202573,-0.42866143598319717,-0.5831749019371294,0.7959608135850402,-0.26625563561838894,-0.6911387337542684,0.7796214982292619,0.030152146135947584,0.2280154099759813,0.7909213957903313,0.7838840419073976,-0.7576786439957955,0.6807955854357537,0.32232514857093014,-0.6227698412536187,0.030152146135947744,-0.13010973215590688,0.7959608135850402,-0.4783239864460151,0.42866143598319734,-0.5549226446502441,-0.030152146135947324,0.7638916357973144,0.7696221372688687,-0.1891991976189794,0.6911387337542683,-0.16960568793764372,-0.05023241562345056,0.5549226446502441,0.774866528902905,-0.6099540088091584,-0.050232415623450724,0.3038232764174413,-0.6911387337542683,-0.7105091590508357,-0.49428769047226756,-0.4115516270252054,-0.47832398644601537,-0.26625563561838944,0.7010453440350909,-0.7748665289029049,0.6227698412536189,-0.28512950297060063,-0.8,0.49428769047226756,0.050232415623450634,0.11023223254771038,0.11023223254771053,-0.18919919761897974,-0.7748665289029049,-0.7909213957903312,0.798989565284814,0.478323986446015,-0.7361854778926964,0.6807955854357535,-0.5967529163393456,-0.5252686046023652,0.7909213957903313,-0.13010973215590674,0.6472135954999579,-0.7010453440350908,-0.3765631457322661,-0.6227698412536187,0.3406234332520581,0.5831749019371295,0.5402662464968195,-0.1499050516685797,-0.28512950297060036,-0.09028510789878536,-0.30382327641744084,0.14990505166858012,-0.303823276417441,0.3941818732386331,0.7280847765479965,-0.5402662464968195,-0.41155162702520515,0.22801540997598094,-0.11023223254771014,0.5967529163393456,0.3941818732386333,-0.6351923189182683,0.7638916357973144,-0.4620581627378142,-0.7909213957903312,-0.16960568793764388,0.509939191798952,0.6099540088091584,0.6911387337542682,0.2472135954999578,0.7576786439957957,-0.7959608135850402,-0.20867320503191752,-0.07028095724059456,0.010052831906682025,0.647213595499958,0.7010453440350909,-0.6472135954999578,-0.22801540997598085,0.7438211887106012,0.6351923189182683,-0.5692285417674283,0.5967529163393457,-0.7576786439957955,0.7748665289029049,0.5549226446502441,-0.7696221372688687,-0.6588260781027421,0.41155162702520515,-0.46205816273781414,0.79974735142664,-0.6472135954999579,0.42866143598319734,-0.7195242012530969,0.7105091590508357,-0.11023223254771047,-0.6099540088091584,0.09028510789878527,0.7509870861230993,-0.7876514676233644,-0.22801540997598085,0.1891991976189798,-0.7438211887106012,0.7361854778926964,0.798989565284814,-0.7509870861230993,0.09028510789878526,0.358706572872026,-0.7936917610515823,0.44550049319055063,-0.39418187323863313,0.5099391917989519,0.3406234332520581,0.6227698412536187,-0.34062343325205835,0.7796214982292617,0.7576786439957955,0.26625563561838933,0.47832398644601515,-0.7280847765479966],\"xaxis\":\"x\",\"y\":[0.5621199758390794,0.3496926133207463,0.5900104938865391,0.4371154773874153,-0.43711547738741524,-0.6034011045888829,0.7474631539652896,-0.7999368353630529,0.4201397039690365,-0.732192938096734,0.36766388849719034,-0.4538151593014053,0.06026144442234618,-0.48634423815568406,0.040195454543815734,-0.10026658685144346,0.732192938096734,-0.10026658685144303,0.5900104938865391,0.7608452130361228,-0.7969068873145381,0.785829800582951,0.547637684742951,0.020104076354669896,-0.6530714005737474,0.33150046479462736,-0.45381515930140526,0.7058329811479627,0.0,-0.6164105942206315,0.785829800582951,0.6290307457092951,0.7999368353630529,-0.34969261332074647,0.6530714005737472,-0.3496926133207461,-0.23763326526162812,0.7994315781124715,-0.7150731393210112,0.14001844718022086,-0.21836154841386018,-0.7984213827426173,-0.15976798441152584,-0.772305311066619,0.4371154773874153,-0.02010407635466964,0.45381515930140526,0.7238616419728157,-0.2183615484138601,-0.6961470037356206,0.6860213249549219,0.2944996421477424,-0.7723053110666193,0.7608452130361228,0.7969068873145381,0.7543924287142916,0.29449964214774216,-0.3130989334697621,-0.31309893346976203,0.7400617654675665,-0.6754623404016122,-0.7321929380967341,0.7773053863317392,-0.547637684742951,-0.04019545454381553,0.7723053110666191,-0.06026144442234624,-0.7893487553662945,-0.7948890484160067,0.17941660875950483,0.7969068873145381,0.23763326526162795,-0.14001844718022088,-0.06026144442234618,0.7818144988545548,-0.17941660875950496,0.6164105942206315,-0.5621199758390792,-0.7818144988545548,-0.3315004647946273,0.6644767193566502,-0.7058329811479624,-0.5621199758390796,-0.7058329811479628,0.715073139321011,0.06026144442234608,0.6034011045888831,-0.6644767193566502,0.08028937188097199,0.3676638884971904,0.6034011045888831,-0.020104076354670056,0.3854029392813722,0.6644767193566502,-0.2757143385396138,-0.43711547738741513,0.15976798441152565,-0.4863442381556844,-0.5176447692555554,-0.7474631539652896,0.7999368353630529,-0.7608452130361228,-0.2757143385396134,-0.6290307457092954,0.1002665868514434,0.7893487553662945,0.5328094939474014,-0.1400184471802208,-0.5762472199103256,-0.15976798441152576,-0.42013970396903666,0.715073139321011,0.6754623404016122,0.5476376847429508,0.08028937188097192,-0.7543924287142918,-0.4028985613086087,-0.17941660875950458,0.7994315781124715,-0.7668174312139007,-0.12018047129660546,0.15976798441152562,-0.2567548878457676,-0.4201397039690363,0.732192938096734,-0.5021530890325606,-0.7994315781124715,0.7893487553662945,-0.08028937188097209,0.6412535878967014,-0.6754623404016121,0.5762472199103253,-0.7994315781124715,-0.23763326526162803,0.21836154841386018,-0.7773053863317393,0.4028985613086087,0.7818144988545548,-0.7984213827426173,-0.5762472199103256,-0.1989519097318836,0.5176447692555554,0.7984213827426173,-0.7400617654675664,0.40289856130860874,-0.3676638884971903,0.6290307457092951,-0.6860213249549217,-0.6412535878967012,0.7543924287142916,-0.38540293928137226,-0.19895190973188404,-0.5021530890325602,0.7474631539652896,9.797174393178826e-17,-0.6290307457092951,0.7984213827426173,0.792369140557321,-0.792369140557321,0.7773053863317392,0.19895190973188384,-0.12018047129660586,-0.04019545454381547,-0.6412535878967014,0.3130989334697619,0.4201397039690366,-0.5328094939474014,-0.6034011045888831,0.12018047129660565,-0.7893487553662946,-0.4702282018339786,-0.3854029392813723,0.7058329811479627,0.5021530890325605,-0.7238616419728157,-0.5476376847429506,-0.5900104938865393,-0.785829800582951,-0.7474631539652897,0.7948890484160067,-0.7400617654675665,-0.7858298005829509,0.7400617654675665,-0.6961470037356207,-0.3315004647946275,-0.5900104938865393,0.6860213249549219,0.7668174312139007,-0.7923691405573211,-0.5328094939474014,0.6961470037356206,0.4863442381556842,0.23763326526162795,0.6530714005737471,0.1201804712966057,-0.7818144988545548,-0.6164105942206313,0.5176447692555555,-0.40289856130860885,-0.760845213036123,-0.25675488784576717,-0.08028937188097214,0.7723053110666191,-0.7969068873145381,-0.7999368353630529,0.4702282018339785,0.38540293928137226,-0.47022820183397873,-0.7668174312139008,-0.29449964214774227,0.48634423815568434,0.5621199758390794,0.5328094939474014,0.25675488784576744,0.19895190973188384,0.5762472199103256,0.21836154841386002,0.45381515930140515,-0.6860213249549219,-0.6530714005737472,0.020104076354669986,0.4702282018339786,0.6754623404016121,0.3496926133207463,-0.36766388849719017,0.792369140557321,-0.5176447692555555,0.7948890484160067,0.27571433853961363,0.1400184471802207,0.7668174312139008,-0.7773053863317392,-0.2944996421477423,0.313098933469762,0.04019545454381565,0.27571433853961363,-0.7948890484160067,-0.715073139321011,0.10026658685144328,-0.66447671935665,0.6961470037356207,0.6164105942206314,0.7238616419728157,0.5021530890325605,-0.7238616419728156,0.17941660875950494,0.2567548878457676,-0.7543924287142916,0.6412535878967013,0.33150046479462714],\"yaxis\":\"y\"},{\"hovertemplate\":\"label=A<br>x=%{x}<br>y=%{y}<extra></extra>\",\"legendgroup\":\"A\",\"marker\":{\"color\":\"#EF553B\",\"symbol\":\"circle\"},\"mode\":\"markers\",\"name\":\"A\",\"orientation\":\"v\",\"showlegend\":true,\"type\":\"scatter\",\"x\":[-0.2608415062898969,0.23649899702372473,0.012566039883352552,0.7939903986478356,0.7115356772092853,-0.8509944817946917,0.18738131458572452,0.7784623015670236,0.5775727034222673,-0.9620276715860859,0.9297764858882513,-0.47070393216533246,-0.4927273415482917,-0.9101059706849957,-0.938733857653874,0.9996841892832999,-0.4483832160900321,-0.9297764858882515,0.2120071099220545,-0.8639234171928354,0.13779029068463816,0.13779029068463797,-0.9297764858882515,0.8881364488135445,-0.08785119655074321,0.9202318473658703,0.6178596130903344,-0.0627905195293134,-0.012566039883352897,0.5979049830575187,0.23649899702372476,0.5358267949789967,0.4707039321653326,-0.693653305812805,-0.7459411454241821,0.8509944817946921,-0.9620276715860859,0.3328195445229867,-0.9685831611286311,0.9987369566060175,0.9202318473658704,-0.42577929156507277,0.40290643571366247,-0.18738131458572463,0.8639234171928352,-0.0627905195293132,0.4927273415482913,-0.28501926246997605,-0.3564118787132508,0.5144395337815064,0.42577929156507266,-0.9685831611286311,-0.9745268727865771,-0.9470983049947443,0.47070393216533296,-0.9548645447466428,0.8375280400421417,-0.8763066800438635,0.5979049830575189,0.6753328081210244,0.08785119655074285,0.9987369566060175,0.9971589002606139,0.03769018266993448,0.9886517447379141,0.8763066800438636,-0.8235325976284276,0.9921147013144779,-0.8639234171928353,-0.9949510169813002,0.7289686274214116,0.8763066800438636,0.9971589002606139,0.9745268727865771,-0.9949510169813002,0.6565857557529569,-0.21200710992205463,-0.5144395337815064,0.03769018266993468,0.8994052515663711,0.9620276715860859,0.9845643345292054,0.42577929156507266,-0.9845643345292054,-0.28501926246997605,0.11285638487348158,0.8994052515663712,-0.8090169943749473,0.2850192624699766,-0.988651744737914,-0.47070393216533263,0.35641187871325075,-0.7939903986478354,0.01256603988335253,-0.8994052515663711,-0.23649899702372423,-0.9971589002606139,0.3328195445229867,0.9886517447379141,-0.30901699437494756,0.6178596130903344,-0.556875616488188,-0.11285638487348193,0.8375280400421419,-0.8881364488135446,0.9798550523842469,-0.9971589002606139,-0.7115356772092853,0.5358267949789967,-0.5144395337815068,-0.8375280400421417,0.7624425110114479,-0.6374239897486896,-0.9987369566060175,0.7784623015670233,0.6565857557529565,0.18738131458572513,-0.16263716519488342,-0.5358267949789964,-0.3564118787132504,0.9387338576538742,-0.5979049830575188,0.1626371651948835,0.06279051952931329,0.9745268727865772,0.745941145424182,-0.7784623015670233,-0.9921147013144779,0.9387338576538741,0.693653305812805,-0.5358267949789963,0.8090169943749473,-0.9745268727865772,-0.44838321609003196,-0.7624425110114479,0.9101059706849957,0.8235325976284275,-0.4927273415482914,-0.762442511011448,0.7624425110114479,-0.3797790955218012,-0.21200710992205485,0.11285638487348157,-0.954864544746643,0.6753328081210245,0.37977909552180156,0.9470983049947443,-0.30901699437494756,0.9798550523842469,0.954864544746643,-0.9845643345292053,0.9949510169813002,0.9101059706849955,-0.6178596130903344,-0.0878511965507432,0.9297764858882515,-0.556875616488188,0.5775727034222676,-0.26084150628989666,-0.40290643571366275,-0.3328195445229868,-0.7115356772092851,-0.13779029068463766,-0.617859613090334,-0.1128563848734817,-0.9202318473658704,0.30901699437494745,-0.9470983049947443,-0.693653305812805,-0.6565857557529565,0.2608415062898972,0.5568756164881883,-0.012566039883352653,0.556875616488188,0.7289686274214119,0.3564118787132509,0.40290643571366264,0.954864544746643,-0.6565857557529565,-0.5775727034222677,-0.899405251566371,-0.8235325976284273,-0.9798550523842469,-0.379779095521801,1.0,-0.40290643571366275,0.44838321609003223,-0.13779029068463808,-0.850994481794692,0.7939903986478354,0.9685831611286311,0.260841506289897,0.6374239897486897,-0.9798550523842469,-0.9996841892832999,-0.5775727034222676,0.9921147013144779,0.28501926246997616,-0.5979049830575192,-0.42577929156507294,-0.8881364488135445,-0.9996841892832999,-0.6374239897486896,-0.8763066800438637,-0.03769018266993415,-0.7784623015670232,0.9949510169813002,-0.9987369566060175,0.30901699437494723,-0.8375280400421418,-0.9387338576538741,0.7459411454241821,-0.037690182669934576,0.1626371651948839,0.7115356772092856,-0.988651744737914,0.9685831611286312,0.8509944817946918,-0.3328195445229862,0.21200710992205452,-0.23649899702372465,-0.9202318473658703,0.08785119655074308,-0.9921147013144779,-0.9101059706849958,-0.6753328081210244,0.693653305812805,-0.7289686274214116,-0.7289686274214117,0.9845643345292053,0.5144395337815064,-0.8090169943749472,0.8235325976284275,-0.6753328081210244,0.06279051952931372,-0.1873813145857246,0.9996841892832999,0.9620276715860859,0.63742398974869,-0.7939903986478353,0.44838321609003245,-0.745941145424182,0.8090169943749475,0.49272734154829156,-1.0,0.9470983049947445,0.3797790955218011,0.8881364488135446,0.8639234171928353,-0.16263716519488358],\"xaxis\":\"x\",\"y\":[0.9653816388332739,-0.971631732914674,0.9999210442038161,-0.607930297694605,0.7026499697988492,-0.5251746299612958,0.9822872507286887,-0.6276913612907002,-0.8163392507171842,-0.2729519355173252,0.368124552684678,-0.8822912264349534,-0.8701837546695256,-0.4143755809932841,-0.3446429231745172,-0.02513009544333705,0.8938414241512638,-0.3681245526846779,-0.9772681235681935,-0.5036232016357608,-0.9904614256966512,0.9904614256966512,0.3681245526846777,0.45957986062148787,-0.9961336091431725,-0.3913736668372025,0.7862884321366188,0.9980267284282716,-0.9999210442038161,-0.8015669848708766,0.971631732914674,-0.8443279255020151,0.8822912264349533,0.7203090248879067,0.6660118674342517,-0.5251746299612954,0.272951935517325,0.9429905358928644,-0.24868988716485502,-0.050244318179769334,0.3913736668372024,0.9048270524660195,-0.9152411726209176,-0.9822872507286887,-0.503623201635761,-0.9980267284282716,-0.8701837546695258,-0.958521789017376,0.934328942456612,-0.8575266561936523,0.9048270524660196,0.2486898871648548,-0.2242707609493812,-0.3209436098072095,-0.8822912264349531,-0.29704158157703514,0.5463943467342691,-0.4817536741017154,0.8015669848708765,-0.737513117358174,-0.9961336091431725,0.050244318179769556,0.07532680552793272,0.9992894726405892,-0.15022558912075681,-0.4817536741017153,0.5672689491267564,0.12533323356430426,0.5036232016357609,0.10036171485121498,0.6845471059286887,0.4817536741017153,-0.07532680552793272,0.22427076094938117,-0.10036171485121517,-0.7542513807361035,0.9772681235681935,0.8575266561936523,-0.9992894726405892,0.4371157666509329,-0.2729519355173251,-0.175023058975276,-0.9048270524660196,0.17502305897527587,0.958521789017376,0.9936113105200084,-0.43711576665093255,0.5877852522924732,-0.9585217890173757,-0.1502255891207573,0.8822912264349533,0.934328942456612,0.6079302976946053,-0.9999210442038161,0.4371157666509328,-0.9716317329146741,-0.07532680552793279,-0.9429905358928644,0.15022558912075706,0.9510565162951535,-0.7862884321366188,-0.8305958991958127,-0.9936113105200084,-0.5463943467342689,-0.4595798606214878,-0.1997099805144072,0.0753268055279326,0.7026499697988492,0.8443279255020151,-0.8575266561936521,0.5463943467342691,0.6470559615694443,-0.7705132427757894,-0.05024431817976941,0.6276913612907006,0.7542513807361038,-0.9822872507286886,-0.9866859442078681,0.8443279255020152,-0.9343289424566121,-0.3446429231745167,0.8015669848708766,0.986685944207868,0.9980267284282716,-0.2242707609493807,-0.6660118674342518,0.6276913612907006,0.1253332335643041,0.34464292317451706,-0.7203090248879069,-0.8443279255020153,-0.5877852522924732,0.224270760949381,-0.893841424151264,-0.6470559615694443,0.41437558099328414,0.5672689491267565,0.8701837546695258,0.6470559615694442,-0.6470559615694442,0.925077206834458,-0.9772681235681934,-0.9936113105200084,0.2970415815770349,0.7375131173581739,-0.9250772068344579,0.3209436098072095,-0.9510565162951535,0.19970998051440703,-0.29704158157703503,-0.1750230589752761,-0.1003617148512151,-0.41437558099328436,0.7862884321366188,0.9961336091431725,-0.3681245526846778,0.8305958991958127,0.816339250717184,-0.965381638833274,0.9152411726209175,0.9429905358928644,-0.7026499697988494,-0.9904614256966513,-0.7862884321366191,0.9936113105200084,0.39137366683720237,0.9510565162951535,0.32094360980720926,-0.7203090248879069,0.7542513807361038,-0.9653816388332738,-0.8305958991958124,0.9999210442038161,0.8305958991958127,-0.6845471059286883,-0.9343289424566119,0.9152411726209175,0.2970415815770349,-0.7542513807361038,0.8163392507171838,-0.43711576665093305,-0.5672689491267566,0.19970998051440705,-0.925077206834458,0.0,-0.9152411726209175,0.8938414241512638,0.9904614256966512,0.5251746299612956,0.6079302976946054,0.2486898871648548,0.9653816388332739,0.7705132427757891,-0.19970998051440728,-0.02513009544333757,-0.8163392507171839,-0.1253332335643038,0.9585217890173758,-0.8015669848708764,-0.9048270524660194,0.459579860621488,0.02513009544333737,0.7705132427757893,0.4817536741017152,-0.9992894726405893,-0.6276913612907007,0.1003617148512149,0.05024431817976966,-0.9510565162951536,-0.546394346734269,0.34464292317451706,0.6660118674342517,0.9992894726405892,-0.986685944207868,-0.702649969798849,0.15022558912075712,-0.2486898871648545,0.5251746299612957,-0.9429905358928646,0.9772681235681935,0.971631732914674,-0.3913736668372026,0.9961336091431725,-0.1253332335643043,0.41437558099328387,-0.737513117358174,0.7203090248879069,-0.6845471059286887,0.6845471059286885,0.17502305897527606,0.8575266561936523,-0.5877852522924734,-0.5672689491267565,0.7375131173581739,-0.9980267284282716,0.9822872507286887,0.02513009544333748,0.2729519355173252,-0.770513242775789,-0.6079302976946055,-0.8938414241512637,-0.6660118674342518,0.5877852522924731,0.8701837546695257,1.2246467991473532e-16,-0.32094360980720893,0.925077206834458,-0.4595798606214877,0.5036232016357608,0.986685944207868],\"yaxis\":\"y\"}],                        {\"legend\":{\"title\":{\"text\":\"label\"},\"tracegroupgap\":0},\"margin\":{\"t\":60},\"template\":{\"data\":{\"bar\":[{\"error_x\":{\"color\":\"#2a3f5f\"},\"error_y\":{\"color\":\"#2a3f5f\"},\"marker\":{\"line\":{\"color\":\"#E5ECF6\",\"width\":0.5},\"pattern\":{\"fillmode\":\"overlay\",\"size\":10,\"solidity\":0.2}},\"type\":\"bar\"}],\"barpolar\":[{\"marker\":{\"line\":{\"color\":\"#E5ECF6\",\"width\":0.5},\"pattern\":{\"fillmode\":\"overlay\",\"size\":10,\"solidity\":0.2}},\"type\":\"barpolar\"}],\"carpet\":[{\"aaxis\":{\"endlinecolor\":\"#2a3f5f\",\"gridcolor\":\"white\",\"linecolor\":\"white\",\"minorgridcolor\":\"white\",\"startlinecolor\":\"#2a3f5f\"},\"baxis\":{\"endlinecolor\":\"#2a3f5f\",\"gridcolor\":\"white\",\"linecolor\":\"white\",\"minorgridcolor\":\"white\",\"startlinecolor\":\"#2a3f5f\"},\"type\":\"carpet\"}],\"choropleth\":[{\"colorbar\":{\"outlinewidth\":0,\"ticks\":\"\"},\"type\":\"choropleth\"}],\"contour\":[{\"colorbar\":{\"outlinewidth\":0,\"ticks\":\"\"},\"colorscale\":[[0.0,\"#0d0887\"],[0.1111111111111111,\"#46039f\"],[0.2222222222222222,\"#7201a8\"],[0.3333333333333333,\"#9c179e\"],[0.4444444444444444,\"#bd3786\"],[0.5555555555555556,\"#d8576b\"],[0.6666666666666666,\"#ed7953\"],[0.7777777777777778,\"#fb9f3a\"],[0.8888888888888888,\"#fdca26\"],[1.0,\"#f0f921\"]],\"type\":\"contour\"}],\"contourcarpet\":[{\"colorbar\":{\"outlinewidth\":0,\"ticks\":\"\"},\"type\":\"contourcarpet\"}],\"heatmap\":[{\"colorbar\":{\"outlinewidth\":0,\"ticks\":\"\"},\"colorscale\":[[0.0,\"#0d0887\"],[0.1111111111111111,\"#46039f\"],[0.2222222222222222,\"#7201a8\"],[0.3333333333333333,\"#9c179e\"],[0.4444444444444444,\"#bd3786\"],[0.5555555555555556,\"#d8576b\"],[0.6666666666666666,\"#ed7953\"],[0.7777777777777778,\"#fb9f3a\"],[0.8888888888888888,\"#fdca26\"],[1.0,\"#f0f921\"]],\"type\":\"heatmap\"}],\"heatmapgl\":[{\"colorbar\":{\"outlinewidth\":0,\"ticks\":\"\"},\"colorscale\":[[0.0,\"#0d0887\"],[0.1111111111111111,\"#46039f\"],[0.2222222222222222,\"#7201a8\"],[0.3333333333333333,\"#9c179e\"],[0.4444444444444444,\"#bd3786\"],[0.5555555555555556,\"#d8576b\"],[0.6666666666666666,\"#ed7953\"],[0.7777777777777778,\"#fb9f3a\"],[0.8888888888888888,\"#fdca26\"],[1.0,\"#f0f921\"]],\"type\":\"heatmapgl\"}],\"histogram\":[{\"marker\":{\"pattern\":{\"fillmode\":\"overlay\",\"size\":10,\"solidity\":0.2}},\"type\":\"histogram\"}],\"histogram2d\":[{\"colorbar\":{\"outlinewidth\":0,\"ticks\":\"\"},\"colorscale\":[[0.0,\"#0d0887\"],[0.1111111111111111,\"#46039f\"],[0.2222222222222222,\"#7201a8\"],[0.3333333333333333,\"#9c179e\"],[0.4444444444444444,\"#bd3786\"],[0.5555555555555556,\"#d8576b\"],[0.6666666666666666,\"#ed7953\"],[0.7777777777777778,\"#fb9f3a\"],[0.8888888888888888,\"#fdca26\"],[1.0,\"#f0f921\"]],\"type\":\"histogram2d\"}],\"histogram2dcontour\":[{\"colorbar\":{\"outlinewidth\":0,\"ticks\":\"\"},\"colorscale\":[[0.0,\"#0d0887\"],[0.1111111111111111,\"#46039f\"],[0.2222222222222222,\"#7201a8\"],[0.3333333333333333,\"#9c179e\"],[0.4444444444444444,\"#bd3786\"],[0.5555555555555556,\"#d8576b\"],[0.6666666666666666,\"#ed7953\"],[0.7777777777777778,\"#fb9f3a\"],[0.8888888888888888,\"#fdca26\"],[1.0,\"#f0f921\"]],\"type\":\"histogram2dcontour\"}],\"mesh3d\":[{\"colorbar\":{\"outlinewidth\":0,\"ticks\":\"\"},\"type\":\"mesh3d\"}],\"parcoords\":[{\"line\":{\"colorbar\":{\"outlinewidth\":0,\"ticks\":\"\"}},\"type\":\"parcoords\"}],\"pie\":[{\"automargin\":true,\"type\":\"pie\"}],\"scatter\":[{\"marker\":{\"colorbar\":{\"outlinewidth\":0,\"ticks\":\"\"}},\"type\":\"scatter\"}],\"scatter3d\":[{\"line\":{\"colorbar\":{\"outlinewidth\":0,\"ticks\":\"\"}},\"marker\":{\"colorbar\":{\"outlinewidth\":0,\"ticks\":\"\"}},\"type\":\"scatter3d\"}],\"scattercarpet\":[{\"marker\":{\"colorbar\":{\"outlinewidth\":0,\"ticks\":\"\"}},\"type\":\"scattercarpet\"}],\"scattergeo\":[{\"marker\":{\"colorbar\":{\"outlinewidth\":0,\"ticks\":\"\"}},\"type\":\"scattergeo\"}],\"scattergl\":[{\"marker\":{\"colorbar\":{\"outlinewidth\":0,\"ticks\":\"\"}},\"type\":\"scattergl\"}],\"scattermapbox\":[{\"marker\":{\"colorbar\":{\"outlinewidth\":0,\"ticks\":\"\"}},\"type\":\"scattermapbox\"}],\"scatterpolar\":[{\"marker\":{\"colorbar\":{\"outlinewidth\":0,\"ticks\":\"\"}},\"type\":\"scatterpolar\"}],\"scatterpolargl\":[{\"marker\":{\"colorbar\":{\"outlinewidth\":0,\"ticks\":\"\"}},\"type\":\"scatterpolargl\"}],\"scatterternary\":[{\"marker\":{\"colorbar\":{\"outlinewidth\":0,\"ticks\":\"\"}},\"type\":\"scatterternary\"}],\"surface\":[{\"colorbar\":{\"outlinewidth\":0,\"ticks\":\"\"},\"colorscale\":[[0.0,\"#0d0887\"],[0.1111111111111111,\"#46039f\"],[0.2222222222222222,\"#7201a8\"],[0.3333333333333333,\"#9c179e\"],[0.4444444444444444,\"#bd3786\"],[0.5555555555555556,\"#d8576b\"],[0.6666666666666666,\"#ed7953\"],[0.7777777777777778,\"#fb9f3a\"],[0.8888888888888888,\"#fdca26\"],[1.0,\"#f0f921\"]],\"type\":\"surface\"}],\"table\":[{\"cells\":{\"fill\":{\"color\":\"#EBF0F8\"},\"line\":{\"color\":\"white\"}},\"header\":{\"fill\":{\"color\":\"#C8D4E3\"},\"line\":{\"color\":\"white\"}},\"type\":\"table\"}]},\"layout\":{\"annotationdefaults\":{\"arrowcolor\":\"#2a3f5f\",\"arrowhead\":0,\"arrowwidth\":1},\"autotypenumbers\":\"strict\",\"coloraxis\":{\"colorbar\":{\"outlinewidth\":0,\"ticks\":\"\"}},\"colorscale\":{\"diverging\":[[0,\"#8e0152\"],[0.1,\"#c51b7d\"],[0.2,\"#de77ae\"],[0.3,\"#f1b6da\"],[0.4,\"#fde0ef\"],[0.5,\"#f7f7f7\"],[0.6,\"#e6f5d0\"],[0.7,\"#b8e186\"],[0.8,\"#7fbc41\"],[0.9,\"#4d9221\"],[1,\"#276419\"]],\"sequential\":[[0.0,\"#0d0887\"],[0.1111111111111111,\"#46039f\"],[0.2222222222222222,\"#7201a8\"],[0.3333333333333333,\"#9c179e\"],[0.4444444444444444,\"#bd3786\"],[0.5555555555555556,\"#d8576b\"],[0.6666666666666666,\"#ed7953\"],[0.7777777777777778,\"#fb9f3a\"],[0.8888888888888888,\"#fdca26\"],[1.0,\"#f0f921\"]],\"sequentialminus\":[[0.0,\"#0d0887\"],[0.1111111111111111,\"#46039f\"],[0.2222222222222222,\"#7201a8\"],[0.3333333333333333,\"#9c179e\"],[0.4444444444444444,\"#bd3786\"],[0.5555555555555556,\"#d8576b\"],[0.6666666666666666,\"#ed7953\"],[0.7777777777777778,\"#fb9f3a\"],[0.8888888888888888,\"#fdca26\"],[1.0,\"#f0f921\"]]},\"colorway\":[\"#636efa\",\"#EF553B\",\"#00cc96\",\"#ab63fa\",\"#FFA15A\",\"#19d3f3\",\"#FF6692\",\"#B6E880\",\"#FF97FF\",\"#FECB52\"],\"font\":{\"color\":\"#2a3f5f\"},\"geo\":{\"bgcolor\":\"white\",\"lakecolor\":\"white\",\"landcolor\":\"#E5ECF6\",\"showlakes\":true,\"showland\":true,\"subunitcolor\":\"white\"},\"hoverlabel\":{\"align\":\"left\"},\"hovermode\":\"closest\",\"mapbox\":{\"style\":\"light\"},\"paper_bgcolor\":\"white\",\"plot_bgcolor\":\"#E5ECF6\",\"polar\":{\"angularaxis\":{\"gridcolor\":\"white\",\"linecolor\":\"white\",\"ticks\":\"\"},\"bgcolor\":\"#E5ECF6\",\"radialaxis\":{\"gridcolor\":\"white\",\"linecolor\":\"white\",\"ticks\":\"\"}},\"scene\":{\"xaxis\":{\"backgroundcolor\":\"#E5ECF6\",\"gridcolor\":\"white\",\"gridwidth\":2,\"linecolor\":\"white\",\"showbackground\":true,\"ticks\":\"\",\"zerolinecolor\":\"white\"},\"yaxis\":{\"backgroundcolor\":\"#E5ECF6\",\"gridcolor\":\"white\",\"gridwidth\":2,\"linecolor\":\"white\",\"showbackground\":true,\"ticks\":\"\",\"zerolinecolor\":\"white\"},\"zaxis\":{\"backgroundcolor\":\"#E5ECF6\",\"gridcolor\":\"white\",\"gridwidth\":2,\"linecolor\":\"white\",\"showbackground\":true,\"ticks\":\"\",\"zerolinecolor\":\"white\"}},\"shapedefaults\":{\"line\":{\"color\":\"#2a3f5f\"}},\"ternary\":{\"aaxis\":{\"gridcolor\":\"white\",\"linecolor\":\"white\",\"ticks\":\"\"},\"baxis\":{\"gridcolor\":\"white\",\"linecolor\":\"white\",\"ticks\":\"\"},\"bgcolor\":\"#E5ECF6\",\"caxis\":{\"gridcolor\":\"white\",\"linecolor\":\"white\",\"ticks\":\"\"}},\"title\":{\"x\":0.05},\"xaxis\":{\"automargin\":true,\"gridcolor\":\"white\",\"linecolor\":\"white\",\"ticks\":\"\",\"title\":{\"standoff\":15},\"zerolinecolor\":\"white\",\"zerolinewidth\":2},\"yaxis\":{\"automargin\":true,\"gridcolor\":\"white\",\"linecolor\":\"white\",\"ticks\":\"\",\"title\":{\"standoff\":15},\"zerolinecolor\":\"white\",\"zerolinewidth\":2}}},\"xaxis\":{\"anchor\":\"y\",\"domain\":[0.0,1.0],\"title\":{\"text\":\"x\"}},\"yaxis\":{\"anchor\":\"x\",\"domain\":[0.0,1.0],\"title\":{\"text\":\"y\"}}},                        {\"responsive\": true}                    ).then(function(){\n",
       "                            \n",
       "var gd = document.getElementById('8d9755dd-e3f8-4c60-ad1b-57a70554ef78');\n",
       "var x = new MutationObserver(function (mutations, observer) {{\n",
       "        var display = window.getComputedStyle(gd).display;\n",
       "        if (!display || display === 'none') {{\n",
       "            console.log([gd, 'removed!']);\n",
       "            Plotly.purge(gd);\n",
       "            observer.disconnect();\n",
       "        }}\n",
       "}});\n",
       "\n",
       "// Listen for the removal of the full notebook cells\n",
       "var notebookContainer = gd.closest('#notebook-container');\n",
       "if (notebookContainer) {{\n",
       "    x.observe(notebookContainer, {childList: true});\n",
       "}}\n",
       "\n",
       "// Listen for the clearing of the current output cell\n",
       "var outputEl = gd.closest('.output');\n",
       "if (outputEl) {{\n",
       "    x.observe(outputEl, {childList: true});\n",
       "}}\n",
       "\n",
       "                        })                };                });            </script>        </div>"
      ]
     },
     "metadata": {},
     "output_type": "display_data"
    }
   ],
   "source": [
    "px.scatter(circles_df, x='x', y='y', color = 'label')"
   ]
  },
  {
   "cell_type": "code",
   "execution_count": 58,
   "id": "52ef522a-e381-42e1-b321-31b3d2f3b0de",
   "metadata": {},
   "outputs": [
    {
     "data": {
      "application/vnd.jupyter.widget-view+json": {
       "model_id": "ff3f8b16d7d446ae843d1b7d98394d4e",
       "version_major": 2,
       "version_minor": 0
      },
      "text/plain": [
       "interactive(children=(FloatSlider(value=0.0, description='noise_level', max=0.5, step=0.05), Output()), _dom_c…"
      ]
     },
     "metadata": {},
     "output_type": "display_data"
    }
   ],
   "source": [
    "@widgets.interact\n",
    "def plot_noisy_circles(noise_level = widgets.FloatSlider(value=0, min=0, max=0.5, step=0.05)):\n",
    "    df = make_circles_dataframe(1000, noise_level)\n",
    "    return px.scatter(df, x='x', y='y', color = 'label')"
   ]
  }
 ],
 "metadata": {
  "kernelspec": {
   "display_name": "Python 3",
   "language": "python",
   "name": "python3"
  },
  "language_info": {
   "codemirror_mode": {
    "name": "ipython",
    "version": 3
   },
   "file_extension": ".py",
   "mimetype": "text/x-python",
   "name": "python",
   "nbconvert_exporter": "python",
   "pygments_lexer": "ipython3",
   "version": "3.8.8"
  }
 },
 "nbformat": 4,
 "nbformat_minor": 5
}
